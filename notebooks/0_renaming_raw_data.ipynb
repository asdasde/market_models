{
 "cells": [
  {
   "cell_type": "code",
   "id": "initial_id",
   "metadata": {
    "collapsed": true,
    "ExecuteTime": {
     "end_time": "2024-09-11T15:32:47.912207Z",
     "start_time": "2024-09-11T15:32:47.909961Z"
    }
   },
   "source": [
    "import pandas as pd\n",
    "import glob"
   ],
   "outputs": [],
   "execution_count": 99
  },
  {
   "metadata": {
    "ExecuteTime": {
     "end_time": "2024-09-11T15:34:16.673340Z",
     "start_time": "2024-09-11T15:34:13.435863Z"
    }
   },
   "cell_type": "code",
   "source": [
    "data = pd.read_csv('../backup/data/predictions/netrisk_casco_v40_all_predictions.csv', index_col='unique_id')\n",
    "signal_data = pd.read_parquet('../../singal_dataset/input/DATA_preModel_X2024.07.28_2024-08-06.parquet')\n",
    "signal_data = signal_data[signal_data['Product_Casco'] == 1]\n",
    "signal_data = signal_data[['policyNr', 'Deductible_MOD_Factor', 'Deductible_MOD_Abs']].rename(\n",
    "    columns ={'Deductible_MOD_Factor' : 'DeductiblePercentage', 'Deductible_MOD_Abs' : 'DeductibleAmount'})\n",
    "data = data[[col for col in data.columns if col.endswith('_price_model')]].reset_index()\n",
    "data = pd.merge(data.reset_index(), signal_data, left_on='unique_id', right_on = 'policyNr')\n",
    "data['DeductiblePercentage'] = data['DeductiblePercentage'] * 100\n",
    "deductibles = pd.read_excel('../../../Downloads/deductible_effect (1).xlsx')\n",
    "deductibles = deductibles.rename(columns = lambda x : x + '_factor' if x[0] != 'D' else x)\n",
    "data = pd.merge(data, deductibles, on = ['DeductiblePercentage', 'DeductibleAmount'])"
   ],
   "id": "395998d1fd7a13a8",
   "outputs": [],
   "execution_count": 106
  },
  {
   "metadata": {
    "ExecuteTime": {
     "end_time": "2024-09-11T15:34:16.682482Z",
     "start_time": "2024-09-11T15:34:16.676959Z"
    }
   },
   "cell_type": "code",
   "source": [
    "for comp in data.filter(like='factor').columns:\n",
    "    player = comp.split('_')[0]\n",
    "    if 'K&AMP&;' in comp:\n",
    "        price_col = 'netrisk_casco_v36_K&AMP;H_price_model'   \n",
    "    else:\n",
    "        price_col = f'netrisk_casco_v36_{player}_price_model'\n",
    "    if price_col in data.columns:\n",
    "        data[price_col] = data[price_col] * data[comp].fillna(1)"
   ],
   "id": "2179a517afe4cbf1",
   "outputs": [],
   "execution_count": 107
  },
  {
   "metadata": {
    "ExecuteTime": {
     "end_time": "2024-09-11T15:34:16.728098Z",
     "start_time": "2024-09-11T15:34:16.725084Z"
    }
   },
   "cell_type": "code",
   "source": "data = data[['policyNr'] + [col for col in data.columns if col.endswith('_price_model')]]",
   "id": "5661b0efc0d577c5",
   "outputs": [],
   "execution_count": 108
  },
  {
   "metadata": {
    "ExecuteTime": {
     "end_time": "2024-09-11T15:34:21.111451Z",
     "start_time": "2024-09-11T15:34:20.974608Z"
    }
   },
   "cell_type": "code",
   "source": "data.to_csv('signal_casco_netrisk_casco_v36_model_predictions_with_deductibles.csv',)",
   "id": "67f39da35ce3daf9",
   "outputs": [],
   "execution_count": 109
  },
  {
   "metadata": {},
   "cell_type": "code",
   "outputs": [],
   "execution_count": null,
   "source": "",
   "id": "4aaec165d41883b2"
  }
 ],
 "metadata": {
  "kernelspec": {
   "display_name": "Python 3",
   "language": "python",
   "name": "python3"
  },
  "language_info": {
   "codemirror_mode": {
    "name": "ipython",
    "version": 2
   },
   "file_extension": ".py",
   "mimetype": "text/x-python",
   "name": "python",
   "nbconvert_exporter": "python",
   "pygments_lexer": "ipython2",
   "version": "2.7.6"
  }
 },
 "nbformat": 4,
 "nbformat_minor": 5
}
