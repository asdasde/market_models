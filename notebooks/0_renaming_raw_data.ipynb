{
 "cells": [
  {
   "cell_type": "code",
   "id": "initial_id",
   "metadata": {
    "collapsed": true,
    "ExecuteTime": {
     "end_time": "2024-09-04T09:57:30.426093Z",
     "start_time": "2024-09-04T09:57:30.422584Z"
    }
   },
   "source": [
    "import pandas as pd\n",
    "import glob"
   ],
   "outputs": [],
   "execution_count": 2
  },
  {
   "metadata": {
    "ExecuteTime": {
     "end_time": "2024-09-04T10:04:05.843869Z",
     "start_time": "2024-09-04T10:04:03.559311Z"
    }
   },
   "cell_type": "code",
   "source": [
    "for file in glob.glob('../data/raw/*'):\n",
    "    data = pd.read_csv(file)\n",
    "    data.columns = [col.replace('_postal_category', '_price_PostalCode_cut') for col in data.columns]\n",
    "    data.to_csv(file, index=False)"
   ],
   "id": "ceaecbd174814b36",
   "outputs": [],
   "execution_count": 10
  },
  {
   "metadata": {},
   "cell_type": "code",
   "outputs": [],
   "execution_count": null,
   "source": "",
   "id": "395998d1fd7a13a8"
  }
 ],
 "metadata": {
  "kernelspec": {
   "display_name": "Python 3",
   "language": "python",
   "name": "python3"
  },
  "language_info": {
   "codemirror_mode": {
    "name": "ipython",
    "version": 2
   },
   "file_extension": ".py",
   "mimetype": "text/x-python",
   "name": "python",
   "nbconvert_exporter": "python",
   "pygments_lexer": "ipython2",
   "version": "2.7.6"
  }
 },
 "nbformat": 4,
 "nbformat_minor": 5
}
