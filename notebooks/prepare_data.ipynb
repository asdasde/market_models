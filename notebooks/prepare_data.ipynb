{
 "cells": [
  {
   "cell_type": "code",
   "execution_count": 60,
   "id": "initial_id",
   "metadata": {
    "collapsed": true,
    "ExecuteTime": {
     "end_time": "2023-11-14T11:43:06.814661603Z",
     "start_time": "2023-11-14T11:43:05.712242167Z"
    }
   },
   "outputs": [],
   "source": [
    "import pandas as pd\n",
    "import os\n",
    "import csv\n",
    "\n",
    "\n",
    "def prepareDir(dir):\n",
    "    if not os.path.isdir(dir):\n",
    "        os.mkdir(dir)\n",
    "    for file in os.listdir(dir):\n",
    "        os.remove(dir + file)\n",
    "\n",
    "\n",
    "def detect_csv_delimiter(file_path):\n",
    "    \"\"\"\n",
    "    Detects the delimiter used in a CSV file.\n",
    "\n",
    "    Parameters:\n",
    "    - file_path (str): The path to the CSV file.\n",
    "\n",
    "    Returns:\n",
    "    - str: The detected delimiter.\n",
    "    \"\"\"\n",
    "    with open(file_path, 'r', newline='') as file:\n",
    "        dialect = csv.Sniffer().sniff(file.read(1024))\n",
    "        return dialect.delimiter\n",
    "\n",
    "\n",
    "def read_file(file_path):\n",
    "    \"\"\"\n",
    "    Reads a file using the appropriate pandas read function based on the file extension.\n",
    "\n",
    "    Parameters:\n",
    "    - file_path (str): The path to the file.\n",
    "\n",
    "    Returns:\n",
    "    - pd.DataFrame: The DataFrame containing the data from the file.\n",
    "    \"\"\"\n",
    "    file_extension = file_path.split('.')[-1].lower()\n",
    "\n",
    "    if file_extension == 'csv':\n",
    "        return pd.read_csv(file_path, sep=detect_csv_delimiter(file_path))\n",
    "    elif file_extension in ['xls', 'xlsx']:\n",
    "        return pd.read_excel(file_path)\n",
    "    elif file_extension == 'json':\n",
    "        return pd.read_json(file_path)\n",
    "    else:\n",
    "        raise ValueError(f\"Unsupported file format: {file_extension}\")\n",
    "\n",
    "\n",
    "INPUT = '../data/raw/'\n",
    "OUTPUT = '../data/processed/'\n",
    "\n",
    "DATA_NAME = 'newprices.csv'\n",
    "\n",
    "DATA_PATH = f'{INPUT}{DATA_NAME}'\n",
    "data = read_file(DATA_PATH)"
   ]
  },
  {
   "cell_type": "code",
   "execution_count": 61,
   "outputs": [],
   "source": [
    "NAME_MAPPING = {'Policy_Start_Bonus_Malus_Class' : 'BonusMalus', 'Vehicle_age' : 'CarAge', 'Vehicle_weight_empty' : 'CarWeightMin', 'Number_of_seats' : 'NumberOfSeats', 'Driver_Experience' : 'DriverExperience', 'Vehicle_weight_maximum' : 'CarWeightMax', 'Power_range_in_KW' : 'kw', 'Engine_size' : 'engine_size','DriverAge' : 'driver_age', 'PostalCode' : 'PostalCode', 'CarMake' : 'CarMake', 'Model' : 'CarModel', 'Milage' : 'Mileage'}\n",
    "\n",
    "INDEX_COL = 'policyNr'\n",
    "\n",
    "PRICE_ANNOTATIONS = '_newprice'"
   ],
   "metadata": {
    "collapsed": false,
    "ExecuteTime": {
     "end_time": "2023-11-14T11:43:06.862953403Z",
     "start_time": "2023-11-14T11:43:06.862498785Z"
    }
   },
   "id": "8d75224fbb5d60bb"
  },
  {
   "cell_type": "code",
   "execution_count": 62,
   "outputs": [
    {
     "data": {
      "text/plain": "           policyNr  DriverAge  PostalCategory_aegon  PostalCategory_waberer  \\\n0       81002059798         63                     4                       7   \n1       81025491531         27                     2                       4   \n2       81025500513         52                     7                      10   \n3       81021294855         48                     2                       4   \n4       81021337324         28                     7                      10   \n...             ...        ...                   ...                     ...   \n294291  81025258005         47                     5                       9   \n294292  81036181931         42                     6                       7   \n294293  81027121532          0                     2                       6   \n294294  81026476317         46                     6                       8   \n294295  81004690459         49                     1                       4   \n\n        Number_of_seats  Driver_Experience  Latitude  Longitude  \\\n0                     5                 38   46.3667    17.8000   \n1                     5                  8   47.6177    19.1887   \n2                     5                 33   46.8463    16.5548   \n3                     4                 30   47.4984    19.0404   \n4                     5                  6   47.1295    16.8069   \n...                 ...                ...       ...        ...   \n294291                5                 24   47.5905    17.9186   \n294292                5                 20   47.9554    21.7167   \n294293                5                  0   47.3545    19.0982   \n294294                5                  2   47.6092    19.6028   \n294295                7                 27   47.4984    19.0404   \n\n        Vehicle_weight_empty  Power_range_in_KW  ...  \\\n0                       1070                 55  ...   \n1                       1080                 57  ...   \n2                       1310                 77  ...   \n3                       1276                 70  ...   \n4                       1280                 88  ...   \n...                      ...                ...  ...   \n294291                  1054                 60  ...   \n294292                  1765                100  ...   \n294293                  1581                125  ...   \n294294                  1079                 50  ...   \n294295                  1605                130  ...   \n\n        Policy_Start_Bonus_Malus_Class_cut_coefficient  \\\n0                                             1.286456   \n1                                             1.286456   \n2                                             1.286456   \n3                                             1.286456   \n4                                             1.286456   \n...                                                ...   \n294291                                        1.350456   \n294292                                        1.350456   \n294293                                        1.350456   \n294294                                        1.350456   \n294295                                        1.350456   \n\n        CarMake_Model_cut_coefficient  \\\n0                                 1.1   \n1                                 1.1   \n2                                 1.1   \n3                                 1.1   \n4                                 1.1   \n...                               ...   \n294291                            1.0   \n294292                            1.0   \n294293                            1.0   \n294294                            0.9   \n294295                            1.0   \n\n        BasePrice_Ominimo_Group_cut_coefficient  Minimal_Price        Ominimo  \\\n0                                         1.100          24328   59816.419175   \n1                                         1.100          64486  114339.214131   \n2                                         1.100          21487   59353.187247   \n3                                         1.000          32732   76352.368270   \n4                                         1.100          39983   51204.469071   \n...                                         ...            ...            ...   \n294291                                    1.000         169094  169094.000000   \n294292                                    1.000         180886  180886.000000   \n294293                                    1.075         669820  669820.000000   \n294294                                    1.000         152379  152379.000000   \n294295                                    1.000         351161  351161.000000   \n\n       kh_newprice  waberer_newprice  aegon_newprice si_newprice  \\\n0            71644             82740           60180       80779   \n1            76856            120528          119844      166246   \n2            56404             47280           49524       64152   \n3           113016             92796           72408       87227   \n4            41220             55272           49716       75038   \n...            ...               ...             ...         ...   \n294291      389064            174324          178212      289736   \n294292      527484            228132          230412      283179   \n294293     1186096            900300         1465368     1260323   \n294294      342292            209280          157092      181018   \n294295      787700            498168          444276      401939   \n\n       allianz_newprice  \n0                 28200  \n1                 66960  \n2                 34080  \n3                 59520  \n4                 41520  \n...                 ...  \n294291           203160  \n294292           186480  \n294293           801840  \n294294           278640  \n294295           378000  \n\n[294296 rows x 55 columns]",
      "text/html": "<div>\n<style scoped>\n    .dataframe tbody tr th:only-of-type {\n        vertical-align: middle;\n    }\n\n    .dataframe tbody tr th {\n        vertical-align: top;\n    }\n\n    .dataframe thead th {\n        text-align: right;\n    }\n</style>\n<table border=\"1\" class=\"dataframe\">\n  <thead>\n    <tr style=\"text-align: right;\">\n      <th></th>\n      <th>policyNr</th>\n      <th>DriverAge</th>\n      <th>PostalCategory_aegon</th>\n      <th>PostalCategory_waberer</th>\n      <th>Number_of_seats</th>\n      <th>Driver_Experience</th>\n      <th>Latitude</th>\n      <th>Longitude</th>\n      <th>Vehicle_weight_empty</th>\n      <th>Power_range_in_KW</th>\n      <th>...</th>\n      <th>Policy_Start_Bonus_Malus_Class_cut_coefficient</th>\n      <th>CarMake_Model_cut_coefficient</th>\n      <th>BasePrice_Ominimo_Group_cut_coefficient</th>\n      <th>Minimal_Price</th>\n      <th>Ominimo</th>\n      <th>kh_newprice</th>\n      <th>waberer_newprice</th>\n      <th>aegon_newprice</th>\n      <th>si_newprice</th>\n      <th>allianz_newprice</th>\n    </tr>\n  </thead>\n  <tbody>\n    <tr>\n      <th>0</th>\n      <td>81002059798</td>\n      <td>63</td>\n      <td>4</td>\n      <td>7</td>\n      <td>5</td>\n      <td>38</td>\n      <td>46.3667</td>\n      <td>17.8000</td>\n      <td>1070</td>\n      <td>55</td>\n      <td>...</td>\n      <td>1.286456</td>\n      <td>1.1</td>\n      <td>1.100</td>\n      <td>24328</td>\n      <td>59816.419175</td>\n      <td>71644</td>\n      <td>82740</td>\n      <td>60180</td>\n      <td>80779</td>\n      <td>28200</td>\n    </tr>\n    <tr>\n      <th>1</th>\n      <td>81025491531</td>\n      <td>27</td>\n      <td>2</td>\n      <td>4</td>\n      <td>5</td>\n      <td>8</td>\n      <td>47.6177</td>\n      <td>19.1887</td>\n      <td>1080</td>\n      <td>57</td>\n      <td>...</td>\n      <td>1.286456</td>\n      <td>1.1</td>\n      <td>1.100</td>\n      <td>64486</td>\n      <td>114339.214131</td>\n      <td>76856</td>\n      <td>120528</td>\n      <td>119844</td>\n      <td>166246</td>\n      <td>66960</td>\n    </tr>\n    <tr>\n      <th>2</th>\n      <td>81025500513</td>\n      <td>52</td>\n      <td>7</td>\n      <td>10</td>\n      <td>5</td>\n      <td>33</td>\n      <td>46.8463</td>\n      <td>16.5548</td>\n      <td>1310</td>\n      <td>77</td>\n      <td>...</td>\n      <td>1.286456</td>\n      <td>1.1</td>\n      <td>1.100</td>\n      <td>21487</td>\n      <td>59353.187247</td>\n      <td>56404</td>\n      <td>47280</td>\n      <td>49524</td>\n      <td>64152</td>\n      <td>34080</td>\n    </tr>\n    <tr>\n      <th>3</th>\n      <td>81021294855</td>\n      <td>48</td>\n      <td>2</td>\n      <td>4</td>\n      <td>4</td>\n      <td>30</td>\n      <td>47.4984</td>\n      <td>19.0404</td>\n      <td>1276</td>\n      <td>70</td>\n      <td>...</td>\n      <td>1.286456</td>\n      <td>1.1</td>\n      <td>1.000</td>\n      <td>32732</td>\n      <td>76352.368270</td>\n      <td>113016</td>\n      <td>92796</td>\n      <td>72408</td>\n      <td>87227</td>\n      <td>59520</td>\n    </tr>\n    <tr>\n      <th>4</th>\n      <td>81021337324</td>\n      <td>28</td>\n      <td>7</td>\n      <td>10</td>\n      <td>5</td>\n      <td>6</td>\n      <td>47.1295</td>\n      <td>16.8069</td>\n      <td>1280</td>\n      <td>88</td>\n      <td>...</td>\n      <td>1.286456</td>\n      <td>1.1</td>\n      <td>1.100</td>\n      <td>39983</td>\n      <td>51204.469071</td>\n      <td>41220</td>\n      <td>55272</td>\n      <td>49716</td>\n      <td>75038</td>\n      <td>41520</td>\n    </tr>\n    <tr>\n      <th>...</th>\n      <td>...</td>\n      <td>...</td>\n      <td>...</td>\n      <td>...</td>\n      <td>...</td>\n      <td>...</td>\n      <td>...</td>\n      <td>...</td>\n      <td>...</td>\n      <td>...</td>\n      <td>...</td>\n      <td>...</td>\n      <td>...</td>\n      <td>...</td>\n      <td>...</td>\n      <td>...</td>\n      <td>...</td>\n      <td>...</td>\n      <td>...</td>\n      <td>...</td>\n      <td>...</td>\n    </tr>\n    <tr>\n      <th>294291</th>\n      <td>81025258005</td>\n      <td>47</td>\n      <td>5</td>\n      <td>9</td>\n      <td>5</td>\n      <td>24</td>\n      <td>47.5905</td>\n      <td>17.9186</td>\n      <td>1054</td>\n      <td>60</td>\n      <td>...</td>\n      <td>1.350456</td>\n      <td>1.0</td>\n      <td>1.000</td>\n      <td>169094</td>\n      <td>169094.000000</td>\n      <td>389064</td>\n      <td>174324</td>\n      <td>178212</td>\n      <td>289736</td>\n      <td>203160</td>\n    </tr>\n    <tr>\n      <th>294292</th>\n      <td>81036181931</td>\n      <td>42</td>\n      <td>6</td>\n      <td>7</td>\n      <td>5</td>\n      <td>20</td>\n      <td>47.9554</td>\n      <td>21.7167</td>\n      <td>1765</td>\n      <td>100</td>\n      <td>...</td>\n      <td>1.350456</td>\n      <td>1.0</td>\n      <td>1.000</td>\n      <td>180886</td>\n      <td>180886.000000</td>\n      <td>527484</td>\n      <td>228132</td>\n      <td>230412</td>\n      <td>283179</td>\n      <td>186480</td>\n    </tr>\n    <tr>\n      <th>294293</th>\n      <td>81027121532</td>\n      <td>0</td>\n      <td>2</td>\n      <td>6</td>\n      <td>5</td>\n      <td>0</td>\n      <td>47.3545</td>\n      <td>19.0982</td>\n      <td>1581</td>\n      <td>125</td>\n      <td>...</td>\n      <td>1.350456</td>\n      <td>1.0</td>\n      <td>1.075</td>\n      <td>669820</td>\n      <td>669820.000000</td>\n      <td>1186096</td>\n      <td>900300</td>\n      <td>1465368</td>\n      <td>1260323</td>\n      <td>801840</td>\n    </tr>\n    <tr>\n      <th>294294</th>\n      <td>81026476317</td>\n      <td>46</td>\n      <td>6</td>\n      <td>8</td>\n      <td>5</td>\n      <td>2</td>\n      <td>47.6092</td>\n      <td>19.6028</td>\n      <td>1079</td>\n      <td>50</td>\n      <td>...</td>\n      <td>1.350456</td>\n      <td>0.9</td>\n      <td>1.000</td>\n      <td>152379</td>\n      <td>152379.000000</td>\n      <td>342292</td>\n      <td>209280</td>\n      <td>157092</td>\n      <td>181018</td>\n      <td>278640</td>\n    </tr>\n    <tr>\n      <th>294295</th>\n      <td>81004690459</td>\n      <td>49</td>\n      <td>1</td>\n      <td>4</td>\n      <td>7</td>\n      <td>27</td>\n      <td>47.4984</td>\n      <td>19.0404</td>\n      <td>1605</td>\n      <td>130</td>\n      <td>...</td>\n      <td>1.350456</td>\n      <td>1.0</td>\n      <td>1.000</td>\n      <td>351161</td>\n      <td>351161.000000</td>\n      <td>787700</td>\n      <td>498168</td>\n      <td>444276</td>\n      <td>401939</td>\n      <td>378000</td>\n    </tr>\n  </tbody>\n</table>\n<p>294296 rows × 55 columns</p>\n</div>"
     },
     "execution_count": 62,
     "metadata": {},
     "output_type": "execute_result"
    }
   ],
   "source": [
    "data"
   ],
   "metadata": {
    "collapsed": false,
    "ExecuteTime": {
     "end_time": "2023-11-14T11:43:07.787455967Z",
     "start_time": "2023-11-14T11:43:07.752148628Z"
    }
   },
   "id": "57a70b29086e7923"
  },
  {
   "cell_type": "code",
   "execution_count": 63,
   "outputs": [],
   "source": [
    "price_columns = data.filter(regex = PRICE_ANNOTATIONS, axis = 1).columns.tolist()\n",
    "price_columns_mapping = {x : x.replace(PRICE_ANNOTATIONS, '_price') for x in price_columns}\n",
    "\n",
    "NAME_MAPPING.update(price_columns_mapping)"
   ],
   "metadata": {
    "collapsed": false,
    "ExecuteTime": {
     "end_time": "2023-11-14T11:43:26.089459502Z",
     "start_time": "2023-11-14T11:43:26.077755115Z"
    }
   },
   "id": "a7172472c56c3ed5"
  },
  {
   "cell_type": "code",
   "execution_count": 64,
   "outputs": [],
   "source": [
    "data = data.rename(NAME_MAPPING, axis = 1)\n",
    "data = data.set_index(INDEX_COL)"
   ],
   "metadata": {
    "collapsed": false,
    "ExecuteTime": {
     "end_time": "2023-11-14T11:43:28.237276145Z",
     "start_time": "2023-11-14T11:43:28.202814712Z"
    }
   },
   "id": "3a6e46fa46ced418"
  },
  {
   "cell_type": "code",
   "execution_count": 65,
   "outputs": [],
   "source": [
    "data = data[list(NAME_MAPPING.values())]"
   ],
   "metadata": {
    "collapsed": false,
    "ExecuteTime": {
     "end_time": "2023-11-14T11:43:29.019982060Z",
     "start_time": "2023-11-14T11:43:29.009800795Z"
    }
   },
   "id": "984f3f4abe6b36ba"
  },
  {
   "cell_type": "code",
   "execution_count": 70,
   "outputs": [],
   "source": [
    "data.to_csv(f'{OUTPUT}{DATA_NAME.split(\".\")[0]}_processed.csv')"
   ],
   "metadata": {
    "collapsed": false,
    "ExecuteTime": {
     "end_time": "2023-11-14T11:45:50.646592643Z",
     "start_time": "2023-11-14T11:45:49.967248405Z"
    }
   },
   "id": "22de180fe412a40c"
  },
  {
   "cell_type": "code",
   "execution_count": 71,
   "outputs": [],
   "source": [
    "file = open(f'{OUTPUT}{DATA_NAME.split(\".\")[0]}' + '_features.txt','w')\n",
    "feature_cols = [col for col in data.columns if '_price' not in col]\n",
    "for feature in feature_cols:\n",
    "    file.write(feature+ \",\" + str(data[feature].dtype) + \"\\n\")\n",
    "file.close()"
   ],
   "metadata": {
    "collapsed": false,
    "ExecuteTime": {
     "end_time": "2023-11-14T11:45:51.592107087Z",
     "start_time": "2023-11-14T11:45:51.580865783Z"
    }
   },
   "id": "994288953990c7de"
  },
  {
   "cell_type": "code",
   "execution_count": null,
   "outputs": [],
   "source": [],
   "metadata": {
    "collapsed": false
   },
   "id": "456303f8b2854d44"
  }
 ],
 "metadata": {
  "kernelspec": {
   "display_name": "Python 3",
   "language": "python",
   "name": "python3"
  },
  "language_info": {
   "codemirror_mode": {
    "name": "ipython",
    "version": 2
   },
   "file_extension": ".py",
   "mimetype": "text/x-python",
   "name": "python",
   "nbconvert_exporter": "python",
   "pygments_lexer": "ipython2",
   "version": "2.7.6"
  }
 },
 "nbformat": 4,
 "nbformat_minor": 5
}
