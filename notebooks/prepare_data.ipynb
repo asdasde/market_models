{
 "cells": [
  {
   "cell_type": "code",
   "execution_count": 18,
   "id": "initial_id",
   "metadata": {
    "collapsed": true,
    "ExecuteTime": {
     "end_time": "2023-11-15T06:58:47.722688099Z",
     "start_time": "2023-11-15T06:58:46.471652562Z"
    }
   },
   "outputs": [],
   "source": [
    "import pandas as pd\n",
    "import os\n",
    "import csv\n",
    "\n",
    "\n",
    "def prepareDir(dir):\n",
    "    if not os.path.isdir(dir):\n",
    "        os.mkdir(dir)\n",
    "    for file in os.listdir(dir):\n",
    "        os.remove(dir + file)\n",
    "\n",
    "\n",
    "def detect_csv_delimiter(file_path):\n",
    "    \"\"\"\n",
    "    Detects the delimiter used in a CSV file.\n",
    "\n",
    "    Parameters:\n",
    "    - file_path (str): The path to the CSV file.\n",
    "\n",
    "    Returns:\n",
    "    - str: The detected delimiter.\n",
    "    \"\"\"\n",
    "    with open(file_path, 'r', newline='') as file:\n",
    "        dialect = csv.Sniffer().sniff(file.read(1024))\n",
    "        return dialect.delimiter\n",
    "\n",
    "\n",
    "def read_file(file_path):\n",
    "    \"\"\"\n",
    "    Reads a file using the appropriate pandas read function based on the file extension.\n",
    "\n",
    "    Parameters:\n",
    "    - file_path (str): The path to the file.\n",
    "\n",
    "    Returns:\n",
    "    - pd.DataFrame: The DataFrame containing the data from the file.\n",
    "    \"\"\"\n",
    "    file_extension = file_path.split('.')[-1].lower()\n",
    "\n",
    "    if file_extension == 'csv':\n",
    "        return pd.read_csv(file_path, sep=detect_csv_delimiter(file_path))\n",
    "    elif file_extension in ['xls', 'xlsx']:\n",
    "        return pd.read_excel(file_path)\n",
    "    elif file_extension == 'json':\n",
    "        return pd.read_json(file_path)\n",
    "    else:\n",
    "        raise ValueError(f\"Unsupported file format: {file_extension}\")\n",
    "\n",
    "\n",
    "INPUT = '../data/raw/'\n",
    "OUTPUT = '../data/processed/'\n",
    "\n",
    "DATA_NAME = 'newprices.csv'\n",
    "\n",
    "DATA_PATH = f'{INPUT}{DATA_NAME}'\n",
    "data = read_file(DATA_PATH)"
   ]
  },
  {
   "cell_type": "code",
   "execution_count": 19,
   "outputs": [],
   "source": [
    "NAME_MAPPING = {'Policy_Start_Bonus_Malus_Class' : 'BonusMalus', 'Vehicle_age' : 'CarAge', 'Vehicle_weight_empty' : 'CarWeightMin', 'Number_of_seats' : 'NumberOfSeats', 'Driver_Experience' : 'DriverExperience', 'Vehicle_weight_maximum' : 'CarWeightMax', 'Power_range_in_KW' : 'kw', 'Engine_size' : 'engine_size','DriverAge' : 'driver_age', 'PostalCode' : 'PostalCode', 'CarMake' : 'CarMake', 'Milage' : 'Mileage'}\n",
    "\n",
    "INDEX_COL = 'policyNr'\n",
    "\n",
    "PRICE_ANNOTATIONS = '_newprice'"
   ],
   "metadata": {
    "collapsed": false,
    "ExecuteTime": {
     "end_time": "2023-11-15T06:58:47.724816993Z",
     "start_time": "2023-11-15T06:58:47.722570037Z"
    }
   },
   "id": "8d75224fbb5d60bb"
  },
  {
   "cell_type": "code",
   "execution_count": 20,
   "outputs": [
    {
     "data": {
      "text/plain": "           policyNr  DriverAge  PostalCategory_aegon  PostalCategory_waberer  \\\n0       81002059798         63                     4                       7   \n1       81025491531         27                     2                       4   \n2       81025500513         52                     7                      10   \n3       81021294855         48                     2                       4   \n4       81021337324         28                     7                      10   \n...             ...        ...                   ...                     ...   \n294291  81025258005         47                     5                       9   \n294292  81036181931         42                     6                       7   \n294293  81027121532          0                     2                       6   \n294294  81026476317         46                     6                       8   \n294295  81004690459         49                     1                       4   \n\n        Number_of_seats  Driver_Experience  Latitude  Longitude  \\\n0                     5                 38   46.3667    17.8000   \n1                     5                  8   47.6177    19.1887   \n2                     5                 33   46.8463    16.5548   \n3                     4                 30   47.4984    19.0404   \n4                     5                  6   47.1295    16.8069   \n...                 ...                ...       ...        ...   \n294291                5                 24   47.5905    17.9186   \n294292                5                 20   47.9554    21.7167   \n294293                5                  0   47.3545    19.0982   \n294294                5                  2   47.6092    19.6028   \n294295                7                 27   47.4984    19.0404   \n\n        Vehicle_weight_empty  Power_range_in_KW  ...  \\\n0                       1070                 55  ...   \n1                       1080                 57  ...   \n2                       1310                 77  ...   \n3                       1276                 70  ...   \n4                       1280                 88  ...   \n...                      ...                ...  ...   \n294291                  1054                 60  ...   \n294292                  1765                100  ...   \n294293                  1581                125  ...   \n294294                  1079                 50  ...   \n294295                  1605                130  ...   \n\n        Policy_Start_Bonus_Malus_Class_cut_coefficient  \\\n0                                             1.286456   \n1                                             1.286456   \n2                                             1.286456   \n3                                             1.286456   \n4                                             1.286456   \n...                                                ...   \n294291                                        1.350456   \n294292                                        1.350456   \n294293                                        1.350456   \n294294                                        1.350456   \n294295                                        1.350456   \n\n        CarMake_Model_cut_coefficient  \\\n0                                 1.1   \n1                                 1.1   \n2                                 1.1   \n3                                 1.1   \n4                                 1.1   \n...                               ...   \n294291                            1.0   \n294292                            1.0   \n294293                            1.0   \n294294                            0.9   \n294295                            1.0   \n\n        BasePrice_Ominimo_Group_cut_coefficient  Minimal_Price        Ominimo  \\\n0                                         1.100          24328   59816.419175   \n1                                         1.100          64486  114339.214131   \n2                                         1.100          21487   59353.187247   \n3                                         1.000          32732   76352.368270   \n4                                         1.100          39983   51204.469071   \n...                                         ...            ...            ...   \n294291                                    1.000         169094  169094.000000   \n294292                                    1.000         180886  180886.000000   \n294293                                    1.075         669820  669820.000000   \n294294                                    1.000         152379  152379.000000   \n294295                                    1.000         351161  351161.000000   \n\n       kh_newprice  waberer_newprice  aegon_newprice si_newprice  \\\n0            71644             82740           60180       80779   \n1            76856            120528          119844      166246   \n2            56404             47280           49524       64152   \n3           113016             92796           72408       87227   \n4            41220             55272           49716       75038   \n...            ...               ...             ...         ...   \n294291      389064            174324          178212      289736   \n294292      527484            228132          230412      283179   \n294293     1186096            900300         1465368     1260323   \n294294      342292            209280          157092      181018   \n294295      787700            498168          444276      401939   \n\n       allianz_newprice  \n0                 28200  \n1                 66960  \n2                 34080  \n3                 59520  \n4                 41520  \n...                 ...  \n294291           203160  \n294292           186480  \n294293           801840  \n294294           278640  \n294295           378000  \n\n[294296 rows x 55 columns]",
      "text/html": "<div>\n<style scoped>\n    .dataframe tbody tr th:only-of-type {\n        vertical-align: middle;\n    }\n\n    .dataframe tbody tr th {\n        vertical-align: top;\n    }\n\n    .dataframe thead th {\n        text-align: right;\n    }\n</style>\n<table border=\"1\" class=\"dataframe\">\n  <thead>\n    <tr style=\"text-align: right;\">\n      <th></th>\n      <th>policyNr</th>\n      <th>DriverAge</th>\n      <th>PostalCategory_aegon</th>\n      <th>PostalCategory_waberer</th>\n      <th>Number_of_seats</th>\n      <th>Driver_Experience</th>\n      <th>Latitude</th>\n      <th>Longitude</th>\n      <th>Vehicle_weight_empty</th>\n      <th>Power_range_in_KW</th>\n      <th>...</th>\n      <th>Policy_Start_Bonus_Malus_Class_cut_coefficient</th>\n      <th>CarMake_Model_cut_coefficient</th>\n      <th>BasePrice_Ominimo_Group_cut_coefficient</th>\n      <th>Minimal_Price</th>\n      <th>Ominimo</th>\n      <th>kh_newprice</th>\n      <th>waberer_newprice</th>\n      <th>aegon_newprice</th>\n      <th>si_newprice</th>\n      <th>allianz_newprice</th>\n    </tr>\n  </thead>\n  <tbody>\n    <tr>\n      <th>0</th>\n      <td>81002059798</td>\n      <td>63</td>\n      <td>4</td>\n      <td>7</td>\n      <td>5</td>\n      <td>38</td>\n      <td>46.3667</td>\n      <td>17.8000</td>\n      <td>1070</td>\n      <td>55</td>\n      <td>...</td>\n      <td>1.286456</td>\n      <td>1.1</td>\n      <td>1.100</td>\n      <td>24328</td>\n      <td>59816.419175</td>\n      <td>71644</td>\n      <td>82740</td>\n      <td>60180</td>\n      <td>80779</td>\n      <td>28200</td>\n    </tr>\n    <tr>\n      <th>1</th>\n      <td>81025491531</td>\n      <td>27</td>\n      <td>2</td>\n      <td>4</td>\n      <td>5</td>\n      <td>8</td>\n      <td>47.6177</td>\n      <td>19.1887</td>\n      <td>1080</td>\n      <td>57</td>\n      <td>...</td>\n      <td>1.286456</td>\n      <td>1.1</td>\n      <td>1.100</td>\n      <td>64486</td>\n      <td>114339.214131</td>\n      <td>76856</td>\n      <td>120528</td>\n      <td>119844</td>\n      <td>166246</td>\n      <td>66960</td>\n    </tr>\n    <tr>\n      <th>2</th>\n      <td>81025500513</td>\n      <td>52</td>\n      <td>7</td>\n      <td>10</td>\n      <td>5</td>\n      <td>33</td>\n      <td>46.8463</td>\n      <td>16.5548</td>\n      <td>1310</td>\n      <td>77</td>\n      <td>...</td>\n      <td>1.286456</td>\n      <td>1.1</td>\n      <td>1.100</td>\n      <td>21487</td>\n      <td>59353.187247</td>\n      <td>56404</td>\n      <td>47280</td>\n      <td>49524</td>\n      <td>64152</td>\n      <td>34080</td>\n    </tr>\n    <tr>\n      <th>3</th>\n      <td>81021294855</td>\n      <td>48</td>\n      <td>2</td>\n      <td>4</td>\n      <td>4</td>\n      <td>30</td>\n      <td>47.4984</td>\n      <td>19.0404</td>\n      <td>1276</td>\n      <td>70</td>\n      <td>...</td>\n      <td>1.286456</td>\n      <td>1.1</td>\n      <td>1.000</td>\n      <td>32732</td>\n      <td>76352.368270</td>\n      <td>113016</td>\n      <td>92796</td>\n      <td>72408</td>\n      <td>87227</td>\n      <td>59520</td>\n    </tr>\n    <tr>\n      <th>4</th>\n      <td>81021337324</td>\n      <td>28</td>\n      <td>7</td>\n      <td>10</td>\n      <td>5</td>\n      <td>6</td>\n      <td>47.1295</td>\n      <td>16.8069</td>\n      <td>1280</td>\n      <td>88</td>\n      <td>...</td>\n      <td>1.286456</td>\n      <td>1.1</td>\n      <td>1.100</td>\n      <td>39983</td>\n      <td>51204.469071</td>\n      <td>41220</td>\n      <td>55272</td>\n      <td>49716</td>\n      <td>75038</td>\n      <td>41520</td>\n    </tr>\n    <tr>\n      <th>...</th>\n      <td>...</td>\n      <td>...</td>\n      <td>...</td>\n      <td>...</td>\n      <td>...</td>\n      <td>...</td>\n      <td>...</td>\n      <td>...</td>\n      <td>...</td>\n      <td>...</td>\n      <td>...</td>\n      <td>...</td>\n      <td>...</td>\n      <td>...</td>\n      <td>...</td>\n      <td>...</td>\n      <td>...</td>\n      <td>...</td>\n      <td>...</td>\n      <td>...</td>\n      <td>...</td>\n    </tr>\n    <tr>\n      <th>294291</th>\n      <td>81025258005</td>\n      <td>47</td>\n      <td>5</td>\n      <td>9</td>\n      <td>5</td>\n      <td>24</td>\n      <td>47.5905</td>\n      <td>17.9186</td>\n      <td>1054</td>\n      <td>60</td>\n      <td>...</td>\n      <td>1.350456</td>\n      <td>1.0</td>\n      <td>1.000</td>\n      <td>169094</td>\n      <td>169094.000000</td>\n      <td>389064</td>\n      <td>174324</td>\n      <td>178212</td>\n      <td>289736</td>\n      <td>203160</td>\n    </tr>\n    <tr>\n      <th>294292</th>\n      <td>81036181931</td>\n      <td>42</td>\n      <td>6</td>\n      <td>7</td>\n      <td>5</td>\n      <td>20</td>\n      <td>47.9554</td>\n      <td>21.7167</td>\n      <td>1765</td>\n      <td>100</td>\n      <td>...</td>\n      <td>1.350456</td>\n      <td>1.0</td>\n      <td>1.000</td>\n      <td>180886</td>\n      <td>180886.000000</td>\n      <td>527484</td>\n      <td>228132</td>\n      <td>230412</td>\n      <td>283179</td>\n      <td>186480</td>\n    </tr>\n    <tr>\n      <th>294293</th>\n      <td>81027121532</td>\n      <td>0</td>\n      <td>2</td>\n      <td>6</td>\n      <td>5</td>\n      <td>0</td>\n      <td>47.3545</td>\n      <td>19.0982</td>\n      <td>1581</td>\n      <td>125</td>\n      <td>...</td>\n      <td>1.350456</td>\n      <td>1.0</td>\n      <td>1.075</td>\n      <td>669820</td>\n      <td>669820.000000</td>\n      <td>1186096</td>\n      <td>900300</td>\n      <td>1465368</td>\n      <td>1260323</td>\n      <td>801840</td>\n    </tr>\n    <tr>\n      <th>294294</th>\n      <td>81026476317</td>\n      <td>46</td>\n      <td>6</td>\n      <td>8</td>\n      <td>5</td>\n      <td>2</td>\n      <td>47.6092</td>\n      <td>19.6028</td>\n      <td>1079</td>\n      <td>50</td>\n      <td>...</td>\n      <td>1.350456</td>\n      <td>0.9</td>\n      <td>1.000</td>\n      <td>152379</td>\n      <td>152379.000000</td>\n      <td>342292</td>\n      <td>209280</td>\n      <td>157092</td>\n      <td>181018</td>\n      <td>278640</td>\n    </tr>\n    <tr>\n      <th>294295</th>\n      <td>81004690459</td>\n      <td>49</td>\n      <td>1</td>\n      <td>4</td>\n      <td>7</td>\n      <td>27</td>\n      <td>47.4984</td>\n      <td>19.0404</td>\n      <td>1605</td>\n      <td>130</td>\n      <td>...</td>\n      <td>1.350456</td>\n      <td>1.0</td>\n      <td>1.000</td>\n      <td>351161</td>\n      <td>351161.000000</td>\n      <td>787700</td>\n      <td>498168</td>\n      <td>444276</td>\n      <td>401939</td>\n      <td>378000</td>\n    </tr>\n  </tbody>\n</table>\n<p>294296 rows × 55 columns</p>\n</div>"
     },
     "execution_count": 20,
     "metadata": {},
     "output_type": "execute_result"
    }
   ],
   "source": [
    "data"
   ],
   "metadata": {
    "collapsed": false,
    "ExecuteTime": {
     "end_time": "2023-11-15T06:58:47.770836700Z",
     "start_time": "2023-11-15T06:58:47.725416861Z"
    }
   },
   "id": "57a70b29086e7923"
  },
  {
   "cell_type": "code",
   "execution_count": 21,
   "outputs": [],
   "source": [
    "price_columns = data.filter(regex = PRICE_ANNOTATIONS, axis = 1).columns.tolist()\n",
    "price_columns_mapping = {x : x.replace(PRICE_ANNOTATIONS, '_price') for x in price_columns}\n",
    "\n",
    "NAME_MAPPING.update(price_columns_mapping)"
   ],
   "metadata": {
    "collapsed": false,
    "ExecuteTime": {
     "end_time": "2023-11-15T06:58:47.771425477Z",
     "start_time": "2023-11-15T06:58:47.769443430Z"
    }
   },
   "id": "a7172472c56c3ed5"
  },
  {
   "cell_type": "code",
   "execution_count": 22,
   "outputs": [],
   "source": [
    "data = data.rename(NAME_MAPPING, axis = 1)\n",
    "data = data.set_index(INDEX_COL)"
   ],
   "metadata": {
    "collapsed": false,
    "ExecuteTime": {
     "end_time": "2023-11-15T06:58:48.803782700Z",
     "start_time": "2023-11-15T06:58:48.766117784Z"
    }
   },
   "id": "3a6e46fa46ced418"
  },
  {
   "cell_type": "code",
   "execution_count": 23,
   "outputs": [],
   "source": [
    "data = data[list(NAME_MAPPING.values())]\n",
    "data['BonusMalus'] = data['BonusMalus'].astype('category')\n",
    "data['CarMake'] = data['CarMake'].astype('category')"
   ],
   "metadata": {
    "collapsed": false,
    "ExecuteTime": {
     "end_time": "2023-11-15T06:58:48.983319098Z",
     "start_time": "2023-11-15T06:58:48.955098474Z"
    }
   },
   "id": "984f3f4abe6b36ba"
  },
  {
   "cell_type": "code",
   "execution_count": 24,
   "outputs": [
    {
     "data": {
      "text/plain": "Index(['A0', 'B1', 'B10', 'B2', 'B3', 'B4', 'B5', 'B6', 'B7', 'B8', 'B9', 'M1',\n       'M2', 'M3', 'M4'],\n      dtype='object')"
     },
     "execution_count": 24,
     "metadata": {},
     "output_type": "execute_result"
    }
   ],
   "source": [
    "data['BonusMalus'].cat.categories"
   ],
   "metadata": {
    "collapsed": false,
    "ExecuteTime": {
     "end_time": "2023-11-15T06:58:49.148482204Z",
     "start_time": "2023-11-15T06:58:49.137998147Z"
    }
   },
   "id": "cc8091fff16565bb"
  },
  {
   "cell_type": "code",
   "execution_count": 25,
   "outputs": [],
   "source": [
    "data.to_csv(f'{OUTPUT}{DATA_NAME.split(\".\")[0]}_processed.csv')"
   ],
   "metadata": {
    "collapsed": false,
    "ExecuteTime": {
     "end_time": "2023-11-15T06:58:51.049539977Z",
     "start_time": "2023-11-15T06:58:50.097846120Z"
    }
   },
   "id": "22de180fe412a40c"
  },
  {
   "cell_type": "code",
   "execution_count": 26,
   "outputs": [],
   "source": [
    "file = open(f'{OUTPUT}{DATA_NAME.split(\".\")[0]}' + '_features.txt','w')\n",
    "feature_cols = [col for col in data.columns if '_price' not in col]\n",
    "for feature in feature_cols:\n",
    "    file.write(feature+ \",\" + str(data[feature].dtype) + \"\\n\")\n",
    "file.close()"
   ],
   "metadata": {
    "collapsed": false,
    "ExecuteTime": {
     "end_time": "2023-11-15T06:58:51.049835793Z",
     "start_time": "2023-11-15T06:58:51.034382951Z"
    }
   },
   "id": "994288953990c7de"
  },
  {
   "cell_type": "code",
   "execution_count": 27,
   "outputs": [
    {
     "data": {
      "text/plain": "            BonusMalus  CarAge  CarWeightMin  NumberOfSeats  DriverExperience  \\\npolicyNr                                                                        \n81002059798         A0      25          1070              5                38   \n81025491531         A0      10          1080              5                 8   \n81025500513         A0      10          1310              5                33   \n81021294855         A0      12          1276              4                30   \n81021337324         A0      12          1280              5                 6   \n...                ...     ...           ...            ...               ...   \n81025258005         M4       7          1054              5                24   \n81036181931         M4       3          1765              5                20   \n81027121532         M4       8          1581              5                 0   \n81026476317         M4      15          1079              5                 2   \n81004690459         M4      12          1605              7                27   \n\n             CarWeightMax   kw  engine_size  driver_age  PostalCode  \\\npolicyNr                                                              \n81002059798          1470   55         1570          63        7400   \n81025491531          1640   57         1368          27        2151   \n81025500513          1815   77         1598          52        9934   \n81021294855          1630   70         1248          48        1213   \n81021337324          1785   88         1368          28        9766   \n...                   ...  ...          ...         ...         ...   \n81025258005          1495   60         1242          47        9082   \n81036181931          2140  100         1995          42        4400   \n81027121532          2219  125         1968           0        2330   \n81026476317          1580   50         1397          46        2194   \n81004690459          2165  130         2231          49        1148   \n\n                CarMake  Mileage  kh_price  waberer_price  aegon_price  \\\npolicyNr                                                                 \n81002059798       ALEKO    10002     71644          82740        60180   \n81025491531  ALFA_ROMEO    10002     76856         120528       119844   \n81025500513  ALFA_ROMEO    10002     56404          47280        49524   \n81021294855  ALFA_ROMEO    10002    113016          92796        72408   \n81021337324  ALFA_ROMEO    10002     41220          55272        49716   \n...                 ...      ...       ...            ...          ...   \n81025258005        FORD    10002    389064         174324       178212   \n81036181931     HYUNDAI    10002    527484         228132       230412   \n81027121532       SKODA    10002   1186096         900300      1465368   \n81026476317       SKODA    10002    342292         209280       157092   \n81004690459      TOYOTA    10002    787700         498168       444276   \n\n             si_price  allianz_price  \npolicyNr                              \n81002059798     80779          28200  \n81025491531    166246          66960  \n81025500513     64152          34080  \n81021294855     87227          59520  \n81021337324     75038          41520  \n...               ...            ...  \n81025258005    289736         203160  \n81036181931    283179         186480  \n81027121532   1260323         801840  \n81026476317    181018         278640  \n81004690459    401939         378000  \n\n[294296 rows x 17 columns]",
      "text/html": "<div>\n<style scoped>\n    .dataframe tbody tr th:only-of-type {\n        vertical-align: middle;\n    }\n\n    .dataframe tbody tr th {\n        vertical-align: top;\n    }\n\n    .dataframe thead th {\n        text-align: right;\n    }\n</style>\n<table border=\"1\" class=\"dataframe\">\n  <thead>\n    <tr style=\"text-align: right;\">\n      <th></th>\n      <th>BonusMalus</th>\n      <th>CarAge</th>\n      <th>CarWeightMin</th>\n      <th>NumberOfSeats</th>\n      <th>DriverExperience</th>\n      <th>CarWeightMax</th>\n      <th>kw</th>\n      <th>engine_size</th>\n      <th>driver_age</th>\n      <th>PostalCode</th>\n      <th>CarMake</th>\n      <th>Mileage</th>\n      <th>kh_price</th>\n      <th>waberer_price</th>\n      <th>aegon_price</th>\n      <th>si_price</th>\n      <th>allianz_price</th>\n    </tr>\n    <tr>\n      <th>policyNr</th>\n      <th></th>\n      <th></th>\n      <th></th>\n      <th></th>\n      <th></th>\n      <th></th>\n      <th></th>\n      <th></th>\n      <th></th>\n      <th></th>\n      <th></th>\n      <th></th>\n      <th></th>\n      <th></th>\n      <th></th>\n      <th></th>\n      <th></th>\n    </tr>\n  </thead>\n  <tbody>\n    <tr>\n      <th>81002059798</th>\n      <td>A0</td>\n      <td>25</td>\n      <td>1070</td>\n      <td>5</td>\n      <td>38</td>\n      <td>1470</td>\n      <td>55</td>\n      <td>1570</td>\n      <td>63</td>\n      <td>7400</td>\n      <td>ALEKO</td>\n      <td>10002</td>\n      <td>71644</td>\n      <td>82740</td>\n      <td>60180</td>\n      <td>80779</td>\n      <td>28200</td>\n    </tr>\n    <tr>\n      <th>81025491531</th>\n      <td>A0</td>\n      <td>10</td>\n      <td>1080</td>\n      <td>5</td>\n      <td>8</td>\n      <td>1640</td>\n      <td>57</td>\n      <td>1368</td>\n      <td>27</td>\n      <td>2151</td>\n      <td>ALFA_ROMEO</td>\n      <td>10002</td>\n      <td>76856</td>\n      <td>120528</td>\n      <td>119844</td>\n      <td>166246</td>\n      <td>66960</td>\n    </tr>\n    <tr>\n      <th>81025500513</th>\n      <td>A0</td>\n      <td>10</td>\n      <td>1310</td>\n      <td>5</td>\n      <td>33</td>\n      <td>1815</td>\n      <td>77</td>\n      <td>1598</td>\n      <td>52</td>\n      <td>9934</td>\n      <td>ALFA_ROMEO</td>\n      <td>10002</td>\n      <td>56404</td>\n      <td>47280</td>\n      <td>49524</td>\n      <td>64152</td>\n      <td>34080</td>\n    </tr>\n    <tr>\n      <th>81021294855</th>\n      <td>A0</td>\n      <td>12</td>\n      <td>1276</td>\n      <td>4</td>\n      <td>30</td>\n      <td>1630</td>\n      <td>70</td>\n      <td>1248</td>\n      <td>48</td>\n      <td>1213</td>\n      <td>ALFA_ROMEO</td>\n      <td>10002</td>\n      <td>113016</td>\n      <td>92796</td>\n      <td>72408</td>\n      <td>87227</td>\n      <td>59520</td>\n    </tr>\n    <tr>\n      <th>81021337324</th>\n      <td>A0</td>\n      <td>12</td>\n      <td>1280</td>\n      <td>5</td>\n      <td>6</td>\n      <td>1785</td>\n      <td>88</td>\n      <td>1368</td>\n      <td>28</td>\n      <td>9766</td>\n      <td>ALFA_ROMEO</td>\n      <td>10002</td>\n      <td>41220</td>\n      <td>55272</td>\n      <td>49716</td>\n      <td>75038</td>\n      <td>41520</td>\n    </tr>\n    <tr>\n      <th>...</th>\n      <td>...</td>\n      <td>...</td>\n      <td>...</td>\n      <td>...</td>\n      <td>...</td>\n      <td>...</td>\n      <td>...</td>\n      <td>...</td>\n      <td>...</td>\n      <td>...</td>\n      <td>...</td>\n      <td>...</td>\n      <td>...</td>\n      <td>...</td>\n      <td>...</td>\n      <td>...</td>\n      <td>...</td>\n    </tr>\n    <tr>\n      <th>81025258005</th>\n      <td>M4</td>\n      <td>7</td>\n      <td>1054</td>\n      <td>5</td>\n      <td>24</td>\n      <td>1495</td>\n      <td>60</td>\n      <td>1242</td>\n      <td>47</td>\n      <td>9082</td>\n      <td>FORD</td>\n      <td>10002</td>\n      <td>389064</td>\n      <td>174324</td>\n      <td>178212</td>\n      <td>289736</td>\n      <td>203160</td>\n    </tr>\n    <tr>\n      <th>81036181931</th>\n      <td>M4</td>\n      <td>3</td>\n      <td>1765</td>\n      <td>5</td>\n      <td>20</td>\n      <td>2140</td>\n      <td>100</td>\n      <td>1995</td>\n      <td>42</td>\n      <td>4400</td>\n      <td>HYUNDAI</td>\n      <td>10002</td>\n      <td>527484</td>\n      <td>228132</td>\n      <td>230412</td>\n      <td>283179</td>\n      <td>186480</td>\n    </tr>\n    <tr>\n      <th>81027121532</th>\n      <td>M4</td>\n      <td>8</td>\n      <td>1581</td>\n      <td>5</td>\n      <td>0</td>\n      <td>2219</td>\n      <td>125</td>\n      <td>1968</td>\n      <td>0</td>\n      <td>2330</td>\n      <td>SKODA</td>\n      <td>10002</td>\n      <td>1186096</td>\n      <td>900300</td>\n      <td>1465368</td>\n      <td>1260323</td>\n      <td>801840</td>\n    </tr>\n    <tr>\n      <th>81026476317</th>\n      <td>M4</td>\n      <td>15</td>\n      <td>1079</td>\n      <td>5</td>\n      <td>2</td>\n      <td>1580</td>\n      <td>50</td>\n      <td>1397</td>\n      <td>46</td>\n      <td>2194</td>\n      <td>SKODA</td>\n      <td>10002</td>\n      <td>342292</td>\n      <td>209280</td>\n      <td>157092</td>\n      <td>181018</td>\n      <td>278640</td>\n    </tr>\n    <tr>\n      <th>81004690459</th>\n      <td>M4</td>\n      <td>12</td>\n      <td>1605</td>\n      <td>7</td>\n      <td>27</td>\n      <td>2165</td>\n      <td>130</td>\n      <td>2231</td>\n      <td>49</td>\n      <td>1148</td>\n      <td>TOYOTA</td>\n      <td>10002</td>\n      <td>787700</td>\n      <td>498168</td>\n      <td>444276</td>\n      <td>401939</td>\n      <td>378000</td>\n    </tr>\n  </tbody>\n</table>\n<p>294296 rows × 17 columns</p>\n</div>"
     },
     "execution_count": 27,
     "metadata": {},
     "output_type": "execute_result"
    }
   ],
   "source": [
    "data"
   ],
   "metadata": {
    "collapsed": false,
    "ExecuteTime": {
     "end_time": "2023-11-15T07:07:18.641998037Z",
     "start_time": "2023-11-15T07:07:18.597707673Z"
    }
   },
   "id": "456303f8b2854d44"
  },
  {
   "cell_type": "code",
   "execution_count": null,
   "outputs": [],
   "source": [],
   "metadata": {
    "collapsed": false
   },
   "id": "547fc4f85a84995b"
  }
 ],
 "metadata": {
  "kernelspec": {
   "display_name": "Python 3",
   "language": "python",
   "name": "python3"
  },
  "language_info": {
   "codemirror_mode": {
    "name": "ipython",
    "version": 2
   },
   "file_extension": ".py",
   "mimetype": "text/x-python",
   "name": "python",
   "nbconvert_exporter": "python",
   "pygments_lexer": "ipython2",
   "version": "2.7.6"
  }
 },
 "nbformat": 4,
 "nbformat_minor": 5
}
