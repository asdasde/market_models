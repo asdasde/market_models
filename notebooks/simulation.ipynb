{
 "cells": [
  {
   "metadata": {
    "ExecuteTime": {
     "end_time": "2025-03-03T10:11:15.548209Z",
     "start_time": "2025-03-03T10:11:15.541286Z"
    }
   },
   "cell_type": "code",
   "source": [
    "from pprint import pprint\n",
    "%load_ext autoreload\n",
    "%autoreload 2"
   ],
   "id": "8fd779c54f4d7023",
   "outputs": [],
   "execution_count": 1
  },
  {
   "cell_type": "code",
   "id": "initial_id",
   "metadata": {
    "collapsed": true,
    "ExecuteTime": {
     "end_time": "2025-03-03T10:12:08.815111Z",
     "start_time": "2025-03-03T10:12:08.617259Z"
    }
   },
   "source": [
    "import gc\n",
    "import os\n",
    "import sys\n",
    "import polars as pl\n",
    "\n",
    "sys.path.append(os.path.dirname(os.path.dirname(os.path.abspath(''))))\n",
    "\n",
    "from utilities.load_utils import *\n",
    "from utilities.model_utils import *\n",
    "\n",
    "import analysis_utilities_polars as apl\n",
    "import export_analysis as ea\n",
    "import pricing.pricing_logic as prl\n",
    "import api.config as ac\n",
    "import api.main as api"
   ],
   "outputs": [],
   "execution_count": 5
  },
  {
   "metadata": {
    "ExecuteTime": {
     "end_time": "2025-03-03T10:12:08.931600Z",
     "start_time": "2025-03-03T10:12:08.912202Z"
    }
   },
   "cell_type": "code",
   "source": [
    "path_manager = PathManager('mubi')\n",
    "load_manager = LoadManager(path_manager)"
   ],
   "id": "3706a97fafdeecb9",
   "outputs": [],
   "execution_count": 6
  },
  {
   "metadata": {
    "ExecuteTime": {
     "end_time": "2025-03-03T10:15:20.520052Z",
     "start_time": "2025-03-03T10:15:17.079732Z"
    }
   },
   "cell_type": "code",
   "source": [
    "api_config = ac.ApiConfig.load_from_json('mubi')\n",
    "pricing_config = api_config.pricing_config['OMINIMO-(OC)-price']"
   ],
   "id": "8e4f5a00eb0d058b",
   "outputs": [],
   "execution_count": 16
  },
  {
   "metadata": {
    "ExecuteTime": {
     "end_time": "2025-03-03T10:15:56.292163Z",
     "start_time": "2025-03-03T10:15:52.980427Z"
    }
   },
   "cell_type": "code",
   "source": [
    "on_top = load_manager.load_on_top_file()\n",
    "models = load_manager.load_pricing_config_models(api_config.train_data_name, pricing_config)"
   ],
   "id": "f0153b7f58cc0849",
   "outputs": [],
   "execution_count": 19
  },
  {
   "metadata": {
    "ExecuteTime": {
     "end_time": "2025-03-03T10:15:57.338352Z",
     "start_time": "2025-03-03T10:15:56.867247Z"
    }
   },
   "cell_type": "code",
   "source": [
    "data_hu, fi, fo, fm = load_manager.load_data('mubi_v24') \n",
    "data_hu = data_hu[fi + fo + fm]"
   ],
   "id": "e506456897d2f21d",
   "outputs": [
    {
     "name": "stderr",
     "output_type": "stream",
     "text": [
      "2025-03-03 11:15:57,227 - INFO - Imported data...\n",
      "2025-03-03 11:15:57,228 - INFO - Imported feature data...\n"
     ]
    }
   ],
   "execution_count": 20
  },
  {
   "metadata": {
    "ExecuteTime": {
     "end_time": "2025-03-03T10:15:58.489773Z",
     "start_time": "2025-03-03T10:15:58.098894Z"
    }
   },
   "cell_type": "code",
   "source": [
    "addition_on_exp_drivers = data_hu[data_hu['driver_experience'].between(0, 1)].sample(500)\n",
    "addition_young_cars = data_hu[data_hu['vehicle_age'] < 2].sample(500)\n",
    "addition_young_people = data_hu[data_hu['contractor_age'].between(17, 18)].sample(500)\n",
    "addition_old_people = data_hu[data_hu['contractor_age'].between(70, 90)].sample(500)\n",
    "addition_warsawa = data_hu[data_hu['county'].astype(str).str.contains('Warszawa')].sample(500)\n",
    "addition_random = data_hu[data_hu['licence_at_age'] == 18].sample(50000)\n",
    "\n",
    "addition = pd.concat(\n",
    "    [\n",
    "     addition_on_exp_drivers,\n",
    "     addition_young_cars,\n",
    "     addition_young_people,\n",
    "     addition_old_people,\n",
    "     addition_warsawa,\n",
    "     addition_random\n",
    "    ]).drop_duplicates()\n",
    "addition['crawling_date'] = '2025.01.01'\n",
    "addition['policy_start_date'] = None\n",
    "addition['contractor_birth_date'] = None\n",
    "addition['contractor_driver_licence_date'] = None"
   ],
   "id": "db87b19e3734bc2e",
   "outputs": [],
   "execution_count": 21
  },
  {
   "metadata": {
    "ExecuteTime": {
     "end_time": "2025-03-03T10:16:42.811831Z",
     "start_time": "2025-03-03T10:16:39.013496Z"
    }
   },
   "cell_type": "code",
   "source": [
    "addition = predict_multiple_models(addition, models, on_top, inplace=True)\n",
    "\n",
    "for target_variable in models.keys():\n",
    "    addition[target_variable] = addition[target_variable + \"_model_prediction\"]\n",
    "    \n",
    "addition['data_source'] = 'hungary_quotes'"
   ],
   "id": "35ad8694b44ab45e",
   "outputs": [],
   "execution_count": 22
  },
  {
   "metadata": {
    "ExecuteTime": {
     "end_time": "2025-03-03T10:17:04.227731Z",
     "start_time": "2025-03-03T10:17:04.159554Z"
    }
   },
   "cell_type": "code",
   "source": [
    "data_pl, fi, fo, fm = load_manager.load_data('mubi_v23') \n",
    "data_pl = data_pl[fi + fo + fm + list(pricing_config.target_variables_and_model_config.keys())]\n",
    "data_pl = data_pl[~((data_pl['vehicle_maker'] == 'FORD') & (data_pl['vehicle_model'] == 'Fiesta') & (data_pl['vehicle_infoexpert_version'].isna()) & (data_pl['contractor_birth_date'].astype(str) == '1984.01.01'))]\n",
    "data_pl = data_pl[~data_pl['UNIQA-(OC),(NNW),(Assistance=75 km PL,After breakdown,Replacement vehicle)-price'].isnull()]"
   ],
   "id": "f98268df84473c3c",
   "outputs": [
    {
     "name": "stderr",
     "output_type": "stream",
     "text": [
      "2025-03-03 11:17:04,210 - INFO - Imported data...\n",
      "2025-03-03 11:17:04,211 - INFO - Imported feature data...\n"
     ]
    }
   ],
   "execution_count": 24
  },
  {
   "metadata": {
    "ExecuteTime": {
     "end_time": "2025-03-03T10:17:20.057361Z",
     "start_time": "2025-03-03T10:17:18.752072Z"
    }
   },
   "cell_type": "code",
   "source": [
    "data_pl = predict_multiple_models(data_pl, models, on_top, inplace=True)\n",
    "data_pl['data_source'] = 'crawled_data'"
   ],
   "id": "ee561eddafb51cc",
   "outputs": [],
   "execution_count": 25
  },
  {
   "metadata": {
    "ExecuteTime": {
     "end_time": "2025-03-03T10:17:22.480506Z",
     "start_time": "2025-03-03T10:17:22.385677Z"
    }
   },
   "cell_type": "code",
   "source": [
    "data_dtypes = dict(zip(data_pl.columns, data_pl.dtypes))\n",
    "sim_data = pd.concat([data_pl, addition])\n",
    "sim_data = sim_data.astype(data_dtypes)"
   ],
   "id": "18e86d7d39694fd7",
   "outputs": [],
   "execution_count": 26
  },
  {
   "metadata": {
    "ExecuteTime": {
     "end_time": "2025-03-03T10:17:24.304848Z",
     "start_time": "2025-03-03T10:17:24.282969Z"
    }
   },
   "cell_type": "code",
   "source": "sim_data[sim_data['data_source'] == 'crawled_data'].filter(like = 'MTU')",
   "id": "806e481e09361b5",
   "outputs": [
    {
     "data": {
      "text/plain": [
       "       MTU24-(OC)-price  MTU24-(OC)-price_model_prediction\n",
       "0                 928.0                         925.534082\n",
       "2                1349.0                        1349.016598\n",
       "3                1339.0                        1358.041608\n",
       "4                 873.0                         860.729625\n",
       "5                1215.0                        1255.552385\n",
       "...                 ...                                ...\n",
       "15401             842.0                         870.132627\n",
       "15402            1325.0                        1326.706183\n",
       "15403            1614.0                        1611.147115\n",
       "15404            1190.0                        1188.245796\n",
       "15405               NaN                        1036.841728\n",
       "\n",
       "[12282 rows x 2 columns]"
      ],
      "text/html": [
       "<div>\n",
       "<style scoped>\n",
       "    .dataframe tbody tr th:only-of-type {\n",
       "        vertical-align: middle;\n",
       "    }\n",
       "\n",
       "    .dataframe tbody tr th {\n",
       "        vertical-align: top;\n",
       "    }\n",
       "\n",
       "    .dataframe thead th {\n",
       "        text-align: right;\n",
       "    }\n",
       "</style>\n",
       "<table border=\"1\" class=\"dataframe\">\n",
       "  <thead>\n",
       "    <tr style=\"text-align: right;\">\n",
       "      <th></th>\n",
       "      <th>MTU24-(OC)-price</th>\n",
       "      <th>MTU24-(OC)-price_model_prediction</th>\n",
       "    </tr>\n",
       "  </thead>\n",
       "  <tbody>\n",
       "    <tr>\n",
       "      <th>0</th>\n",
       "      <td>928.0</td>\n",
       "      <td>925.534082</td>\n",
       "    </tr>\n",
       "    <tr>\n",
       "      <th>2</th>\n",
       "      <td>1349.0</td>\n",
       "      <td>1349.016598</td>\n",
       "    </tr>\n",
       "    <tr>\n",
       "      <th>3</th>\n",
       "      <td>1339.0</td>\n",
       "      <td>1358.041608</td>\n",
       "    </tr>\n",
       "    <tr>\n",
       "      <th>4</th>\n",
       "      <td>873.0</td>\n",
       "      <td>860.729625</td>\n",
       "    </tr>\n",
       "    <tr>\n",
       "      <th>5</th>\n",
       "      <td>1215.0</td>\n",
       "      <td>1255.552385</td>\n",
       "    </tr>\n",
       "    <tr>\n",
       "      <th>...</th>\n",
       "      <td>...</td>\n",
       "      <td>...</td>\n",
       "    </tr>\n",
       "    <tr>\n",
       "      <th>15401</th>\n",
       "      <td>842.0</td>\n",
       "      <td>870.132627</td>\n",
       "    </tr>\n",
       "    <tr>\n",
       "      <th>15402</th>\n",
       "      <td>1325.0</td>\n",
       "      <td>1326.706183</td>\n",
       "    </tr>\n",
       "    <tr>\n",
       "      <th>15403</th>\n",
       "      <td>1614.0</td>\n",
       "      <td>1611.147115</td>\n",
       "    </tr>\n",
       "    <tr>\n",
       "      <th>15404</th>\n",
       "      <td>1190.0</td>\n",
       "      <td>1188.245796</td>\n",
       "    </tr>\n",
       "    <tr>\n",
       "      <th>15405</th>\n",
       "      <td>NaN</td>\n",
       "      <td>1036.841728</td>\n",
       "    </tr>\n",
       "  </tbody>\n",
       "</table>\n",
       "<p>12282 rows × 2 columns</p>\n",
       "</div>"
      ]
     },
     "execution_count": 27,
     "metadata": {},
     "output_type": "execute_result"
    }
   ],
   "execution_count": 27
  },
  {
   "metadata": {
    "ExecuteTime": {
     "end_time": "2025-03-03T10:17:26.150650Z",
     "start_time": "2025-03-03T10:17:26.048185Z"
    }
   },
   "cell_type": "code",
   "source": "gc.collect()",
   "id": "e08cd286aaba8550",
   "outputs": [
    {
     "data": {
      "text/plain": [
       "150"
      ]
     },
     "execution_count": 28,
     "metadata": {},
     "output_type": "execute_result"
    }
   ],
   "execution_count": 28
  },
  {
   "metadata": {
    "ExecuteTime": {
     "end_time": "2025-03-03T10:18:55.774350Z",
     "start_time": "2025-03-03T10:18:55.760404Z"
    }
   },
   "cell_type": "code",
   "source": [
    "api_configs = {\n",
    "    'base_config' : pricing_config\n",
    "}\n",
    "\n",
    "for uniqa_weight in [0.76]:\n",
    "    for top_k in [3]:\n",
    "        for undercut_factor in [0.93, 0.95, 0.99]:\n",
    "            current_pricing_config = pricing_config.model_copy(deep=True)\n",
    "            pricing_config.tp_kernel[0]['weight'] = uniqa_weight\n",
    "            sum_rest = sum([x['weight'] for x in current_pricing_config.tp_kernel[1:]])\n",
    "            for i in range(1, len(current_pricing_config.tp_kernel)):\n",
    "                current_pricing_config.tp_kernel[i]['weight'] = round((current_pricing_config.tp_kernel[i]['weight'] / sum_rest) * (1 - uniqa_weight), 3)\n",
    "            current_pricing_config.rank1_undercut_factor = undercut_factor\n",
    "            current_pricing_config.tp_take_top_k = top_k\n",
    "            api_configs[f'Uniqa weight={uniqa_weight},Undercut Factor={undercut_factor},Take TP top {top_k}'] = current_pricing_config"
   ],
   "id": "5f2b9214106f7216",
   "outputs": [],
   "execution_count": 30
  },
  {
   "metadata": {
    "ExecuteTime": {
     "end_time": "2025-03-03T10:18:57.052673Z",
     "start_time": "2025-03-03T10:18:57.033200Z"
    }
   },
   "cell_type": "code",
   "source": "api_configs[f'Uniqa weight=0.76,Undercut Factor=0.93,Take TP top 3'].tp_kernel",
   "id": "2a6411ef36f98005",
   "outputs": [
    {
     "data": {
      "text/plain": [
       "[{'target_variable': 'UNIQA-(OC),(NNW),(Assistance=75 km PL,After breakdown,Replacement vehicle)-price',\n",
       "  'cost_estimate': 0.93,\n",
       "  'weight': 0.76},\n",
       " {'target_variable': 'MTU24-(OC)-price',\n",
       "  'cost_estimate': 0.89,\n",
       "  'weight': 0.16},\n",
       " {'target_variable': 'ALLIANZ-(OC)-price',\n",
       "  'cost_estimate': 0.89,\n",
       "  'weight': 0.04},\n",
       " {'target_variable': 'LINK4-(OC),(Assistance=100 km PL,Replacement vehicle)-price',\n",
       "  'cost_estimate': 0.87,\n",
       "  'weight': 0.04}]"
      ]
     },
     "execution_count": 31,
     "metadata": {},
     "output_type": "execute_result"
    }
   ],
   "execution_count": 31
  },
  {
   "metadata": {
    "ExecuteTime": {
     "end_time": "2025-03-03T10:19:29.262484Z",
     "start_time": "2025-03-03T10:19:29.242673Z"
    }
   },
   "cell_type": "code",
   "source": "base_pricing_config = ac.ApiConfig.load_from_json('mubi').pricing_config['OMINIMO-(OC)-price']",
   "id": "70646f7fa27fb5b9",
   "outputs": [],
   "execution_count": 32
  },
  {
   "metadata": {
    "ExecuteTime": {
     "end_time": "2025-03-03T10:19:34.302023Z",
     "start_time": "2025-03-03T10:19:34.289063Z"
    }
   },
   "cell_type": "code",
   "source": [
    "price_cols_wo_ominimo = sorted([col for col in data_pl if col.endswith('-price')])\n",
    "insurers_wo_ominimo = sorted([col.split('-')[0] for col in price_cols_wo_ominimo])"
   ],
   "id": "aab1e09e937eb5c0",
   "outputs": [],
   "execution_count": 33
  },
  {
   "metadata": {
    "ExecuteTime": {
     "end_time": "2025-03-03T10:22:06.941166Z",
     "start_time": "2025-03-03T10:21:47.878419Z"
    }
   },
   "cell_type": "code",
   "source": [
    "bas = {\n",
    "    'Without Ominimo' : apl.create_basic_analysis(pl.from_pandas(sim_data), insurers_wo_ominimo, price_cols_wo_ominimo, has_conversion_data=False, country='pl').to_pandas()\n",
    "}\n",
    "\n",
    "for name, current_api_config in list(api_configs.items())[:]:\n",
    "    \n",
    "    calculated_prices = prl.calculate_price(sim_data.copy(), current_pricing_config)\n",
    "\n",
    "    price_cols = sorted([col for col in calculated_prices if col.endswith('-price')])\n",
    "    insurers = sorted([col.split('-')[0] for col in price_cols]) \n",
    "    \n",
    "    ba = apl.create_basic_analysis(pl.from_pandas(calculated_prices), insurers, price_cols, has_conversion_data = False, country = 'pl')\n",
    "    ba_crawled = apl.create_basic_analysis(pl.from_pandas(calculated_prices).filter(pl.col('data_source') == 'crawled_data'), insurers, price_cols, has_conversion_data = False, country = 'pl')\n",
    "    \n",
    "    bas[name] = ba.to_pandas()\n",
    "    \n",
    "    bas[name + \", crawled_data_only\"] = ba_crawled.to_pandas()\n",
    "    \n",
    "    gc.collect()\n",
    "    "
   ],
   "id": "5289cec4a169d9fd",
   "outputs": [],
   "execution_count": 38
  },
  {
   "metadata": {
    "ExecuteTime": {
     "end_time": "2025-03-03T10:22:17.067519Z",
     "start_time": "2025-03-03T10:22:16.224625Z"
    }
   },
   "cell_type": "code",
   "source": [
    "\n",
    "reversed_dict = {\n",
    "    \"Contractor Age : Under 18\" : True,\n",
    "    \"Contractor Age : 18-24\" : True,\n",
    "    \"Contractor Age : Over 75\" : True,\n",
    "    \"Number of Damages : 1 damage\" : True,\n",
    "    \"Number of Damages : 2 damages\" : True,\n",
    "    \"Number of Damages : 3 damages\" : True,\n",
    "    \"Driver Experience : 0\" : True,\n",
    "    \"Driver Experience : 1\" : True,\n",
    "    \"Vehicle Power : 201+\" : True,\n",
    "    \"Postal Code Population Density : Dense\" : True\n",
    "}\n",
    "ea.export_workbook(bas, \"sim_data.xlsx\", reversed_dict)"
   ],
   "id": "df820b9302fdd858",
   "outputs": [
    {
     "name": "stderr",
     "output_type": "stream",
     "text": [
      "/home/luka-erceg/luka_posao/market_models/venv/lib/python3.12/site-packages/openpyxl/workbook/child.py:99: UserWarning: Title is more than 31 characters. Some applications may not be able to read the file\n",
      "  warnings.warn(\"Title is more than 31 characters. Some applications may not be able to read the file\")\n",
      "/home/luka-erceg/luka_posao/market_models/venv/lib/python3.12/site-packages/openpyxl/workbook/child.py:99: UserWarning: Title is more than 31 characters. Some applications may not be able to read the file\n",
      "  warnings.warn(\"Title is more than 31 characters. Some applications may not be able to read the file\")\n",
      "/home/luka-erceg/luka_posao/market_models/venv/lib/python3.12/site-packages/openpyxl/workbook/child.py:99: UserWarning: Title is more than 31 characters. Some applications may not be able to read the file\n",
      "  warnings.warn(\"Title is more than 31 characters. Some applications may not be able to read the file\")\n",
      "/home/luka-erceg/luka_posao/market_models/venv/lib/python3.12/site-packages/openpyxl/workbook/child.py:99: UserWarning: Title is more than 31 characters. Some applications may not be able to read the file\n",
      "  warnings.warn(\"Title is more than 31 characters. Some applications may not be able to read the file\")\n",
      "/home/luka-erceg/luka_posao/market_models/venv/lib/python3.12/site-packages/openpyxl/workbook/child.py:99: UserWarning: Title is more than 31 characters. Some applications may not be able to read the file\n",
      "  warnings.warn(\"Title is more than 31 characters. Some applications may not be able to read the file\")\n",
      "/home/luka-erceg/luka_posao/market_models/venv/lib/python3.12/site-packages/openpyxl/workbook/child.py:99: UserWarning: Title is more than 31 characters. Some applications may not be able to read the file\n",
      "  warnings.warn(\"Title is more than 31 characters. Some applications may not be able to read the file\")\n"
     ]
    }
   ],
   "execution_count": 39
  }
 ],
 "metadata": {
  "kernelspec": {
   "display_name": "Python 3",
   "language": "python",
   "name": "python3"
  },
  "language_info": {
   "codemirror_mode": {
    "name": "ipython",
    "version": 2
   },
   "file_extension": ".py",
   "mimetype": "text/x-python",
   "name": "python",
   "nbconvert_exporter": "python",
   "pygments_lexer": "ipython2",
   "version": "2.7.6"
  }
 },
 "nbformat": 4,
 "nbformat_minor": 5
}
