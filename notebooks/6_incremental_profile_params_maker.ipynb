{
 "cells": [
  {
   "cell_type": "code",
   "execution_count": 9,
   "outputs": [
    {
     "name": "stdout",
     "output_type": "stream",
     "text": [
      "The autoreload extension is already loaded. To reload it, use:\n",
      "  %reload_ext autoreload\n"
     ]
    }
   ],
   "source": [
    "import datetime\n",
    "import os\n",
    "import sys\n",
    "import pandas as pd\n",
    "import numpy as np\n",
    "import xgboost\n",
    "from sklearn.model_selection import train_test_split\n",
    "import dataframe_image as dfi\n",
    "import seaborn as sns\n",
    "import matplotlib.pyplot as plt\n",
    "from matplotlib.ticker import PercentFormatter\n",
    "\n",
    "\n",
    "notebook_dir = os.path.abspath(os.getcwd())\n",
    "src_path = os.path.join('/home/lerceg/LukaPosao/market_models/', 'src')\n",
    "sys.path.append(src_path)\n",
    "\n",
    "import market_models.src.models.train_model as tm\n",
    "import market_models.src.models.predict_model as pm\n",
    "import market_models.src.utils as utils\n",
    "\n",
    "%load_ext autoreload\n",
    "%autoreload \n",
    "import market_models.src.features.build_features as build_features\n"
   ],
   "metadata": {
    "collapsed": false,
    "ExecuteTime": {
     "end_time": "2024-01-04T11:21:23.739744583Z",
     "start_time": "2024-01-04T11:21:23.692132607Z"
    }
   },
   "id": "137496533ae42198"
  },
  {
   "cell_type": "code",
   "execution_count": 10,
   "id": "ff32b5c31f5b4530",
   "metadata": {
    "collapsed": false,
    "ExecuteTime": {
     "end_time": "2024-01-04T11:21:24.582709315Z",
     "start_time": "2024-01-04T11:21:23.894546353Z"
    }
   },
   "outputs": [],
   "source": [
    "other_path = utils.get_others_path(\"netrisk_casco\")\n",
    "eurotax = pd.read_csv(f\"{other_path}full_trim_list.csv\", low_memory=False)\n",
    "prices = pd.read_csv(f\"{other_path}price.csv\", low_memory=False)[['eurotax_code', 'new_price_1_gross']]"
   ]
  },
  {
   "cell_type": "code",
   "execution_count": 11,
   "outputs": [],
   "source": [
    "\n",
    "eurotax = pd.merge(eurotax, prices, on='eurotax_code')\n",
    "eurotax['new_price_1_gross'] *= utils.FORINT_TO_EUR\n",
    "eurotax = eurotax[eurotax['vehicle_type'] == 10]\n",
    "netrisk_cars = pd.read_csv(f\"{other_path}netrisk_cars.csv\", low_memory=False)"
   ],
   "metadata": {
    "collapsed": false,
    "ExecuteTime": {
     "end_time": "2024-01-04T11:21:24.764932962Z",
     "start_time": "2024-01-04T11:21:24.584274162Z"
    }
   },
   "id": "e0fe31ee0c93f8a0"
  },
  {
   "cell_type": "code",
   "execution_count": 12,
   "outputs": [],
   "source": [
    "netrisk_cars = netrisk_cars.drop_duplicates('eurotax_code')\n",
    "netrisk_cars = netrisk_cars[(netrisk_cars['car_trim_id'] == 1) & (netrisk_cars['car_make_year'] >= 2014)]"
   ],
   "metadata": {
    "collapsed": false,
    "ExecuteTime": {
     "end_time": "2024-01-04T11:21:24.812681672Z",
     "start_time": "2024-01-04T11:21:24.769797952Z"
    }
   },
   "id": "a0cc4587bcb9eb86"
  },
  {
   "cell_type": "code",
   "execution_count": 13,
   "outputs": [],
   "source": [
    "postal_codes = pd.read_csv(f'{utils.get_others_path(\"netrisk_casco\")}hungary_postal_codes.csv')['postal_code']\n",
    "population = pd.read_csv(f'{utils.get_others_path(\"netrisk_casco\")}hungary_postal_codes_population.csv').rename(\n",
    "    columns={'PostalCode': 'postal_code',\n",
    "             'Population': 'population'})[['postal_code', 'population']]\n",
    "\n",
    "\n",
    "def to_int(x):\n",
    "    try:\n",
    "        return int(str(x).replace(',', ''))\n",
    "    except Exception as e:\n",
    "        return None\n",
    "\n",
    "\n",
    "population['population'] = population['population'].apply(to_int)\n",
    "population = population.dropna()\n"
   ],
   "metadata": {
    "collapsed": false,
    "ExecuteTime": {
     "end_time": "2024-01-04T11:21:29.100301236Z",
     "start_time": "2024-01-04T11:21:29.076541034Z"
    }
   },
   "id": "17ac0e34f55a923e"
  },
  {
   "cell_type": "code",
   "execution_count": null,
   "outputs": [],
   "source": [
    "\n",
    "base_profile = utils.read_file(utils.get_profiles_for_crawling_transposed(\"netrisk_casco_sampled_data\"))\n",
    "base_profile[(base_profile['CarModel'] == 'Corolla')]\n",
    "base_profile = base_profile.iloc[78]\n",
    "base_profile"
   ],
   "metadata": {
    "collapsed": false
   },
   "id": "b5a90829cb91c4b3"
  },
  {
   "cell_type": "code",
   "execution_count": null,
   "outputs": [],
   "source": [
    "\n",
    "base_profile['Age'] = 35\n",
    "base_profile['CarAge'] = 1\n",
    "base_profile['BonusMalus'] = 'B10'\n",
    "base_profile['BonusMalusCode'] = 1\n",
    "base_profile['PostalCode'] = 1011\n",
    "base_profile['CarModelSpecific'] = 1\n",
    "base_profile.to_csv(utils.get_incremental_base_profile_path(\"netrisk_casco\", \"v1\"))"
   ],
   "metadata": {
    "collapsed": false
   },
   "id": "4fcd78f6a544416e"
  },
  {
   "cell_type": "code",
   "execution_count": 18,
   "outputs": [],
   "source": [
    "\n",
    "population = population[population['population'].between(2000, 1000000)]\n",
    "\n",
    "postal_codes = population['postal_code'].values.tolist()\n",
    "values = pd.DataFrame(columns=['feature', 'min', 'max', 'step', 'values'])\n",
    "#features_to_vary = pd.Series(['PostalCode', 'Age', 'CarAge', 'BonusMalus', ('CarAge', 'CarMake', 'CarModel', 'CarModelSpecific')])\n",
    "features_to_vary = pd.Series(['PostalCode', 'Age', 'CarAge', 'BonusMalus'])\n",
    "#features_to_vary = pd.Series(['PostalCode'])\n",
    "car_values = netrisk_cars[['car_make_year', 'car_make', 'car_model', 'car_trim_id']].values\n",
    "car_values[:, 0] = datetime.datetime.today().year - car_values[:, 0]\n",
    "car_values = list(map(tuple, car_values))\n",
    "#feature_values = pd.Series([postal_codes, None, None, utils.BONUS_MALUS_CLASSES_GOOD, car_values])\n",
    "feature_values = pd.Series([postal_codes, None, None, utils.BONUS_MALUS_CLASSES_GOOD])\n",
    "#feature_values = pd.Series([postal_codes])\n",
    "values['values'] = feature_values\n",
    "values['feature'] = features_to_vary\n",
    "values['min'] = pd.Series([None, 19, 0, None])\n",
    "values['max'] = pd.Series([None, 79, 10, None])\n",
    "values['step'] = pd.Series([None, 2, 1, None])\n",
    "values.to_csv(utils.get_incremental_values_path(\"netrisk_casco\", \"v5\"))"
   ],
   "metadata": {
    "collapsed": true,
    "ExecuteTime": {
     "end_time": "2024-01-04T11:25:56.261393522Z",
     "start_time": "2024-01-04T11:25:56.227331182Z"
    }
   },
   "id": "initial_id"
  },
  {
   "cell_type": "code",
   "execution_count": 19,
   "outputs": [
    {
     "data": {
      "text/plain": "966"
     },
     "execution_count": 19,
     "metadata": {},
     "output_type": "execute_result"
    }
   ],
   "source": [
    "len(postal_codes)"
   ],
   "metadata": {
    "collapsed": false,
    "ExecuteTime": {
     "end_time": "2024-01-04T11:25:56.724051678Z",
     "start_time": "2024-01-04T11:25:56.719627179Z"
    }
   },
   "id": "a0a4ee96e638b221"
  },
  {
   "cell_type": "code",
   "execution_count": null,
   "outputs": [],
   "source": [],
   "metadata": {
    "collapsed": false
   },
   "id": "12977cff07f19136"
  }
 ],
 "metadata": {
  "kernelspec": {
   "display_name": "Python 3",
   "language": "python",
   "name": "python3"
  },
  "language_info": {
   "codemirror_mode": {
    "name": "ipython",
    "version": 2
   },
   "file_extension": ".py",
   "mimetype": "text/x-python",
   "name": "python",
   "nbconvert_exporter": "python",
   "pygments_lexer": "ipython2",
   "version": "2.7.6"
  }
 },
 "nbformat": 4,
 "nbformat_minor": 5
}
