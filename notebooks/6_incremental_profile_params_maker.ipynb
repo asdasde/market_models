{
 "cells": [
  {
   "cell_type": "code",
   "source": [
    "import datetime\n",
    "import os\n",
    "import sys\n",
    "import pandas as pd\n",
    "import market_models.src.models.train_model as tm\n",
    "import market_models.src.models.predict_model as pm\n",
    "import market_models.src.features.build_features as build_features\n",
    "from utilities.path_utils import *\n",
    "from utilities.load_utils import *\n",
    "from market_models.src.data.make_dataset import sample_profiles\n",
    "from market_models.src.data.make_dataset import export_profile"
   ],
   "metadata": {
    "collapsed": false,
    "ExecuteTime": {
     "end_time": "2024-07-05T07:06:18.922064Z",
     "start_time": "2024-07-05T07:06:18.918818Z"
    }
   },
   "id": "137496533ae42198",
   "outputs": [],
   "execution_count": 14
  },
  {
   "cell_type": "code",
   "id": "ff32b5c31f5b4530",
   "metadata": {
    "collapsed": false,
    "ExecuteTime": {
     "end_time": "2024-07-05T06:57:26.775434Z",
     "start_time": "2024-07-05T06:57:26.607550Z"
    }
   },
   "source": [
    "other_path = get_others_path(\"netrisk_casco\")\n",
    "eurotax = pd.read_csv(f\"{other_path}full_trim_list.csv\", low_memory=False)\n",
    "prices = pd.read_csv(f\"{other_path}price.csv\", low_memory=False)[['eurotax_code', 'new_price_1_gross']]"
   ],
   "outputs": [
    {
     "ename": "AttributeError",
     "evalue": "module 'market_models.src.utilities' has no attribute 'get_others_path'",
     "output_type": "error",
     "traceback": [
      "\u001B[0;31m---------------------------------------------------------------------------\u001B[0m",
      "\u001B[0;31mAttributeError\u001B[0m                            Traceback (most recent call last)",
      "Cell \u001B[0;32mIn[2], line 1\u001B[0m\n\u001B[0;32m----> 1\u001B[0m other_path \u001B[38;5;241m=\u001B[39m \u001B[43mutils\u001B[49m\u001B[38;5;241;43m.\u001B[39;49m\u001B[43mget_others_path\u001B[49m(\u001B[38;5;124m\"\u001B[39m\u001B[38;5;124mnetrisk_casco\u001B[39m\u001B[38;5;124m\"\u001B[39m)\n\u001B[1;32m      2\u001B[0m eurotax \u001B[38;5;241m=\u001B[39m pd\u001B[38;5;241m.\u001B[39mread_csv(\u001B[38;5;124mf\u001B[39m\u001B[38;5;124m\"\u001B[39m\u001B[38;5;132;01m{\u001B[39;00mother_path\u001B[38;5;132;01m}\u001B[39;00m\u001B[38;5;124mfull_trim_list.csv\u001B[39m\u001B[38;5;124m\"\u001B[39m, low_memory\u001B[38;5;241m=\u001B[39m\u001B[38;5;28;01mFalse\u001B[39;00m)\n\u001B[1;32m      3\u001B[0m prices \u001B[38;5;241m=\u001B[39m pd\u001B[38;5;241m.\u001B[39mread_csv(\u001B[38;5;124mf\u001B[39m\u001B[38;5;124m\"\u001B[39m\u001B[38;5;132;01m{\u001B[39;00mother_path\u001B[38;5;132;01m}\u001B[39;00m\u001B[38;5;124mprice.csv\u001B[39m\u001B[38;5;124m\"\u001B[39m, low_memory\u001B[38;5;241m=\u001B[39m\u001B[38;5;28;01mFalse\u001B[39;00m)[[\u001B[38;5;124m'\u001B[39m\u001B[38;5;124meurotax_code\u001B[39m\u001B[38;5;124m'\u001B[39m, \u001B[38;5;124m'\u001B[39m\u001B[38;5;124mnew_price_1_gross\u001B[39m\u001B[38;5;124m'\u001B[39m]]\n",
      "\u001B[0;31mAttributeError\u001B[0m: module 'market_models.src.utilities' has no attribute 'get_others_path'"
     ]
    }
   ],
   "execution_count": 2
  },
  {
   "cell_type": "code",
   "execution_count": 14,
   "outputs": [],
   "source": [
    "\n",
    "eurotax = pd.merge(eurotax, prices, on='eurotax_code')\n",
    "eurotax['new_price_1_gross'] *= utils.FORINT_TO_EUR\n",
    "eurotax = eurotax[eurotax['vehicle_type'] == 10]\n",
    "netrisk_cars = pd.read_csv(f\"{other_path}netrisk_cars.csv\", low_memory=False)"
   ],
   "metadata": {
    "collapsed": false,
    "ExecuteTime": {
     "end_time": "2024-03-10T17:18:39.224346534Z",
     "start_time": "2024-03-10T17:18:39.106166472Z"
    }
   },
   "id": "e0fe31ee0c93f8a0"
  },
  {
   "cell_type": "code",
   "source": [
    "template = pd.read_excel(get_template_path('netrisk_casco', '2023_11_02'))\n",
    "params, others = load_distribution('netrisk_casco', 'v2')\n",
    "profiles = sample_profiles(1, params, others, '2024_07_28', error_model=None)\n",
    "row_values_path = get_row_values_path('netrisk_casco', '2023_11_02')\n",
    "with open(row_values_path, 'r') as row_values:\n",
    "    row_values = eval(' '.join(row_values.readlines()))\n",
    "\n",
    "indices = dict(zip(template['name'], template['id']))"
   ],
   "metadata": {
    "collapsed": false,
    "ExecuteTime": {
     "end_time": "2024-07-05T07:08:32.714559Z",
     "start_time": "2024-07-05T07:08:32.225300Z"
    }
   },
   "id": "73de409f8d388ef2",
   "outputs": [
    {
     "name": "stderr",
     "output_type": "stream",
     "text": [
      "/home/lerceg/luka_posao/market_models/src/utilities/load_utils.py:160: DtypeWarning: Columns (8) have mixed types. Specify dtype option on import or set low_memory=False.\n",
      "  others[other] = pd.read_csv(other_file)\n"
     ]
    }
   ],
   "execution_count": 16
  },
  {
   "metadata": {
    "ExecuteTime": {
     "end_time": "2024-07-05T07:18:37.019943Z",
     "start_time": "2024-07-05T07:18:36.925884Z"
    }
   },
   "cell_type": "code",
   "source": [
    "export_profile(profiles.iloc[0], template, indices, row_values, [], '../../crawler/netrisk_casco_test/queue/')\n",
    "profs = []\n",
    "for i in range(48, 61):\n",
    "    tmp = template.copy()\n",
    "    tmp.at[i, 'Use'] = True\n",
    "    prof = profiles.iloc[0]\n",
    "    prof.name = i\n",
    "    profs.append(export_profile(prof, tmp, indices, row_values, [], '../../crawler/netrisk_casco_test/queue/'))"
   ],
   "id": "e1c1c1c6f96b3066",
   "outputs": [
    {
     "name": "stdout",
     "output_type": "stream",
     "text": [
      "name 'CURRENT_YEAR' is not defined PolicyStartDate\n",
      "name 'CURRENT_YEAR' is not defined PolicyStartDate\n",
      "name 'CURRENT_YEAR' is not defined PolicyStartDate\n",
      "name 'CURRENT_YEAR' is not defined PolicyStartDate\n",
      "name 'CURRENT_YEAR' is not defined PolicyStartDate\n",
      "name 'CURRENT_YEAR' is not defined PolicyStartDate\n",
      "name 'CURRENT_YEAR' is not defined PolicyStartDate\n",
      "name 'CURRENT_YEAR' is not defined PolicyStartDate\n",
      "name 'CURRENT_YEAR' is not defined PolicyStartDate\n",
      "name 'CURRENT_YEAR' is not defined PolicyStartDate\n",
      "name 'CURRENT_YEAR' is not defined PolicyStartDate\n",
      "name 'CURRENT_YEAR' is not defined PolicyStartDate\n",
      "name 'CURRENT_YEAR' is not defined PolicyStartDate\n",
      "name 'CURRENT_YEAR' is not defined PolicyStartDate\n"
     ]
    }
   ],
   "execution_count": 27
  },
  {
   "metadata": {
    "ExecuteTime": {
     "end_time": "2024-07-05T07:15:54.134271Z",
     "start_time": "2024-07-05T07:15:54.123657Z"
    }
   },
   "cell_type": "code",
   "source": "profs[2]",
   "id": "73f7126ffdaedb6e",
   "outputs": [
    {
     "data": {
      "text/plain": [
       "    id                name                                                tag  \\\n",
       "0    0                Page  https://www.netrisk.hu/biztositas_dijszamitas/...   \n",
       "1    1               Close                                             #close   \n",
       "2    2  ownder_driver_same  #Uzembentarto_Tulajdonos_azonos > option:nth-c...   \n",
       "3    3       policy_reason  tr.sor:nth-child(24) > td:nth-child(3) > label...   \n",
       "4    4            km_0_car             #Gj_Ujgepjarmu > option:nth-child(iii)   \n",
       "..  ..                 ...                                                ...   \n",
       "91  91              Name10  #urlap_12 > td > div.process-saver-content > d...   \n",
       "92  92             Price11  #urlap_12 > td > div.process-saver-content > d...   \n",
       "93  93              Name11  #urlap_12 > td > div.process-saver-content > d...   \n",
       "94  94             Price12  #urlap_12 > td > div.process-saver-content > d...   \n",
       "95  95              Name12  #urlap_12 > td > div.process-saver-content > d...   \n",
       "\n",
       "   type    action  getText value  sleep_after   Use  ReadValue  id_case  \\\n",
       "0   NaN  navigate    False   0.0          3.0  True        NaN        2   \n",
       "1   css     click    False   0.0          0.5  True        NaN        2   \n",
       "2   css     click     True   2.0          0.5  True        NaN        2   \n",
       "3   css     click     True   2.0          0.5  True        NaN        2   \n",
       "4   css     click     True   3.0          0.5  True        NaN        2   \n",
       "..  ...       ...      ...   ...          ...   ...        ...      ...   \n",
       "91  css      read     True  10.0          0.5  True        NaN        2   \n",
       "92  css      read     True  11.0          0.5  True        NaN        2   \n",
       "93  css      read     True  11.0          0.5  True        NaN        2   \n",
       "94  css      read     True  12.0          0.5  True        NaN        2   \n",
       "95  css      read     True  12.0          0.5  True        NaN        2   \n",
       "\n",
       "    Conditional  \n",
       "0             0  \n",
       "1             0  \n",
       "2             0  \n",
       "3             0  \n",
       "4             0  \n",
       "..          ...  \n",
       "91            1  \n",
       "92            1  \n",
       "93            1  \n",
       "94            1  \n",
       "95            1  \n",
       "\n",
       "[96 rows x 12 columns]"
      ],
      "text/html": [
       "<div>\n",
       "<style scoped>\n",
       "    .dataframe tbody tr th:only-of-type {\n",
       "        vertical-align: middle;\n",
       "    }\n",
       "\n",
       "    .dataframe tbody tr th {\n",
       "        vertical-align: top;\n",
       "    }\n",
       "\n",
       "    .dataframe thead th {\n",
       "        text-align: right;\n",
       "    }\n",
       "</style>\n",
       "<table border=\"1\" class=\"dataframe\">\n",
       "  <thead>\n",
       "    <tr style=\"text-align: right;\">\n",
       "      <th></th>\n",
       "      <th>id</th>\n",
       "      <th>name</th>\n",
       "      <th>tag</th>\n",
       "      <th>type</th>\n",
       "      <th>action</th>\n",
       "      <th>getText</th>\n",
       "      <th>value</th>\n",
       "      <th>sleep_after</th>\n",
       "      <th>Use</th>\n",
       "      <th>ReadValue</th>\n",
       "      <th>id_case</th>\n",
       "      <th>Conditional</th>\n",
       "    </tr>\n",
       "  </thead>\n",
       "  <tbody>\n",
       "    <tr>\n",
       "      <th>0</th>\n",
       "      <td>0</td>\n",
       "      <td>Page</td>\n",
       "      <td>https://www.netrisk.hu/biztositas_dijszamitas/...</td>\n",
       "      <td>NaN</td>\n",
       "      <td>navigate</td>\n",
       "      <td>False</td>\n",
       "      <td>0.0</td>\n",
       "      <td>3.0</td>\n",
       "      <td>True</td>\n",
       "      <td>NaN</td>\n",
       "      <td>2</td>\n",
       "      <td>0</td>\n",
       "    </tr>\n",
       "    <tr>\n",
       "      <th>1</th>\n",
       "      <td>1</td>\n",
       "      <td>Close</td>\n",
       "      <td>#close</td>\n",
       "      <td>css</td>\n",
       "      <td>click</td>\n",
       "      <td>False</td>\n",
       "      <td>0.0</td>\n",
       "      <td>0.5</td>\n",
       "      <td>True</td>\n",
       "      <td>NaN</td>\n",
       "      <td>2</td>\n",
       "      <td>0</td>\n",
       "    </tr>\n",
       "    <tr>\n",
       "      <th>2</th>\n",
       "      <td>2</td>\n",
       "      <td>ownder_driver_same</td>\n",
       "      <td>#Uzembentarto_Tulajdonos_azonos &gt; option:nth-c...</td>\n",
       "      <td>css</td>\n",
       "      <td>click</td>\n",
       "      <td>True</td>\n",
       "      <td>2.0</td>\n",
       "      <td>0.5</td>\n",
       "      <td>True</td>\n",
       "      <td>NaN</td>\n",
       "      <td>2</td>\n",
       "      <td>0</td>\n",
       "    </tr>\n",
       "    <tr>\n",
       "      <th>3</th>\n",
       "      <td>3</td>\n",
       "      <td>policy_reason</td>\n",
       "      <td>tr.sor:nth-child(24) &gt; td:nth-child(3) &gt; label...</td>\n",
       "      <td>css</td>\n",
       "      <td>click</td>\n",
       "      <td>True</td>\n",
       "      <td>2.0</td>\n",
       "      <td>0.5</td>\n",
       "      <td>True</td>\n",
       "      <td>NaN</td>\n",
       "      <td>2</td>\n",
       "      <td>0</td>\n",
       "    </tr>\n",
       "    <tr>\n",
       "      <th>4</th>\n",
       "      <td>4</td>\n",
       "      <td>km_0_car</td>\n",
       "      <td>#Gj_Ujgepjarmu &gt; option:nth-child(iii)</td>\n",
       "      <td>css</td>\n",
       "      <td>click</td>\n",
       "      <td>True</td>\n",
       "      <td>3.0</td>\n",
       "      <td>0.5</td>\n",
       "      <td>True</td>\n",
       "      <td>NaN</td>\n",
       "      <td>2</td>\n",
       "      <td>0</td>\n",
       "    </tr>\n",
       "    <tr>\n",
       "      <th>...</th>\n",
       "      <td>...</td>\n",
       "      <td>...</td>\n",
       "      <td>...</td>\n",
       "      <td>...</td>\n",
       "      <td>...</td>\n",
       "      <td>...</td>\n",
       "      <td>...</td>\n",
       "      <td>...</td>\n",
       "      <td>...</td>\n",
       "      <td>...</td>\n",
       "      <td>...</td>\n",
       "      <td>...</td>\n",
       "    </tr>\n",
       "    <tr>\n",
       "      <th>91</th>\n",
       "      <td>91</td>\n",
       "      <td>Name10</td>\n",
       "      <td>#urlap_12 &gt; td &gt; div.process-saver-content &gt; d...</td>\n",
       "      <td>css</td>\n",
       "      <td>read</td>\n",
       "      <td>True</td>\n",
       "      <td>10.0</td>\n",
       "      <td>0.5</td>\n",
       "      <td>True</td>\n",
       "      <td>NaN</td>\n",
       "      <td>2</td>\n",
       "      <td>1</td>\n",
       "    </tr>\n",
       "    <tr>\n",
       "      <th>92</th>\n",
       "      <td>92</td>\n",
       "      <td>Price11</td>\n",
       "      <td>#urlap_12 &gt; td &gt; div.process-saver-content &gt; d...</td>\n",
       "      <td>css</td>\n",
       "      <td>read</td>\n",
       "      <td>True</td>\n",
       "      <td>11.0</td>\n",
       "      <td>0.5</td>\n",
       "      <td>True</td>\n",
       "      <td>NaN</td>\n",
       "      <td>2</td>\n",
       "      <td>1</td>\n",
       "    </tr>\n",
       "    <tr>\n",
       "      <th>93</th>\n",
       "      <td>93</td>\n",
       "      <td>Name11</td>\n",
       "      <td>#urlap_12 &gt; td &gt; div.process-saver-content &gt; d...</td>\n",
       "      <td>css</td>\n",
       "      <td>read</td>\n",
       "      <td>True</td>\n",
       "      <td>11.0</td>\n",
       "      <td>0.5</td>\n",
       "      <td>True</td>\n",
       "      <td>NaN</td>\n",
       "      <td>2</td>\n",
       "      <td>1</td>\n",
       "    </tr>\n",
       "    <tr>\n",
       "      <th>94</th>\n",
       "      <td>94</td>\n",
       "      <td>Price12</td>\n",
       "      <td>#urlap_12 &gt; td &gt; div.process-saver-content &gt; d...</td>\n",
       "      <td>css</td>\n",
       "      <td>read</td>\n",
       "      <td>True</td>\n",
       "      <td>12.0</td>\n",
       "      <td>0.5</td>\n",
       "      <td>True</td>\n",
       "      <td>NaN</td>\n",
       "      <td>2</td>\n",
       "      <td>1</td>\n",
       "    </tr>\n",
       "    <tr>\n",
       "      <th>95</th>\n",
       "      <td>95</td>\n",
       "      <td>Name12</td>\n",
       "      <td>#urlap_12 &gt; td &gt; div.process-saver-content &gt; d...</td>\n",
       "      <td>css</td>\n",
       "      <td>read</td>\n",
       "      <td>True</td>\n",
       "      <td>12.0</td>\n",
       "      <td>0.5</td>\n",
       "      <td>True</td>\n",
       "      <td>NaN</td>\n",
       "      <td>2</td>\n",
       "      <td>1</td>\n",
       "    </tr>\n",
       "  </tbody>\n",
       "</table>\n",
       "<p>96 rows × 12 columns</p>\n",
       "</div>"
      ]
     },
     "execution_count": 23,
     "metadata": {},
     "output_type": "execute_result"
    }
   ],
   "execution_count": 23
  },
  {
   "cell_type": "code",
   "execution_count": 15,
   "outputs": [],
   "source": [
    "netrisk_cars = netrisk_cars.drop_duplicates('eurotax_code')\n",
    "netrisk_cars = netrisk_cars[(netrisk_cars['car_trim_id'] == 4) & (netrisk_cars['car_make_year'] >= 2014)]"
   ],
   "metadata": {
    "collapsed": false,
    "ExecuteTime": {
     "end_time": "2024-03-10T17:18:39.875869286Z",
     "start_time": "2024-03-10T17:18:39.864699367Z"
    }
   },
   "id": "a0cc4587bcb9eb86"
  },
  {
   "cell_type": "code",
   "execution_count": 16,
   "outputs": [
    {
     "data": {
      "text/plain": "       Unnamed: 0 eurotax_code  car_make_year  car_make_year_code    car_make  \\\n12             12     0279B005           2022                   2  ALFA ROMEO   \n82             82     0207B010           2019                   5  ALFA ROMEO   \n97             97     0279B006           2018                   6  ALFA ROMEO   \n99             99     0209B007           2018                   6  ALFA ROMEO   \n115           115     0207B007           2018                   6  ALFA ROMEO   \n...           ...          ...            ...                 ...         ...   \n40740       40740     9059B012           2014                  10  VOLKSWAGEN   \n40771       40771     9008B023           2014                  10  VOLKSWAGEN   \n40805       40805     9015B004           2014                  10  VOLKSWAGEN   \n40861       40861     9006B004           2014                  10  VOLKSWAGEN   \n40890       40890     9079B013           2014                  10  VOLKSWAGEN   \n\n       car_make_code   car_model  car_model_code  car_trim_id  \\\n12                 3      Giulia               2            4   \n82                 3        MiTo               5            4   \n97                 3      Giulia               3            4   \n99                 3   Giulietta               4            4   \n115                3        MiTo               5            4   \n...              ...         ...             ...          ...   \n40740            132          CC               2            4   \n40771            132   Golf Plus               4            4   \n40805            132  New Beetle               7            4   \n40861            132    Scirocco              11            4   \n40890            132      Sharan              12            4   \n\n                                  car_trim_name  \\\n12                   Giulia  2.0 Veloce Q4 Aut.   \n82     MiTo  1.4 TB Multiair Veloce TCT (5 sz.)   \n97                    Giulia  2.0 Elegante Aut.   \n99             Giulietta  1.4 TB MultiAir Sport   \n115                MiTo  1.4 MPI MiTo (5 szem.)   \n...                                         ...   \n40740                   CC  1.4 TSI [5 személy]   \n40771        Golf VI Plus  1.2 TSI Highline DSG   \n40805                Beetle  1.2 TSI Design DSG   \n40861                        Scirocco  2.0 TFSI   \n40890     Sharan  1.4 TSI Comfortline DSG [7sz]   \n\n                                           car_full_name   kw   ccm    kg  \\\n12                  ALFA ROMEO_Giulia_2.0 Veloce Q4 Aut.  206  1995  1530   \n82     ALFA ROMEO_MiTo_1.4 TB Multiair Veloce TCT (5 ...  125  1368  1245   \n97                   ALFA ROMEO_Giulia_2.0 Elegante Aut.  147  1995  1504   \n99            ALFA ROMEO_Giulietta_1.4 TB MultiAir Sport  110  1368  1290   \n115               ALFA ROMEO_MiTo_1.4 MPI MiTo (5 szem.)   57  1368  1155   \n...                                                  ...  ...   ...   ...   \n40740                  VOLKSWAGEN_CC_1.4 TSI [5 személy]  118  1390  1430   \n40771       VOLKSWAGEN_Golf VI Plus_1.2 TSI Highline DSG   77  1197  1325   \n40805               VOLKSWAGEN_Beetle_1.2 TSI Design DSG   77  1197  1222   \n40861                       VOLKSWAGEN_Scirocco_2.0 TFSI  155  1984  1298   \n40890    VOLKSWAGEN_Sharan_1.4 TSI Comfortline DSG [7sz]  110  1390  1667   \n\n        car_value  \n12     14397000.0  \n82      7094000.0  \n97      9990000.0  \n99      7555000.0  \n115     4740000.0  \n...           ...  \n40740   9710650.0  \n40771   6381980.0  \n40805   5778730.0  \n40861   8733000.0  \n40890  10292310.0  \n\n[583 rows x 15 columns]",
      "text/html": "<div>\n<style scoped>\n    .dataframe tbody tr th:only-of-type {\n        vertical-align: middle;\n    }\n\n    .dataframe tbody tr th {\n        vertical-align: top;\n    }\n\n    .dataframe thead th {\n        text-align: right;\n    }\n</style>\n<table border=\"1\" class=\"dataframe\">\n  <thead>\n    <tr style=\"text-align: right;\">\n      <th></th>\n      <th>Unnamed: 0</th>\n      <th>eurotax_code</th>\n      <th>car_make_year</th>\n      <th>car_make_year_code</th>\n      <th>car_make</th>\n      <th>car_make_code</th>\n      <th>car_model</th>\n      <th>car_model_code</th>\n      <th>car_trim_id</th>\n      <th>car_trim_name</th>\n      <th>car_full_name</th>\n      <th>kw</th>\n      <th>ccm</th>\n      <th>kg</th>\n      <th>car_value</th>\n    </tr>\n  </thead>\n  <tbody>\n    <tr>\n      <th>12</th>\n      <td>12</td>\n      <td>0279B005</td>\n      <td>2022</td>\n      <td>2</td>\n      <td>ALFA ROMEO</td>\n      <td>3</td>\n      <td>Giulia</td>\n      <td>2</td>\n      <td>4</td>\n      <td>Giulia  2.0 Veloce Q4 Aut.</td>\n      <td>ALFA ROMEO_Giulia_2.0 Veloce Q4 Aut.</td>\n      <td>206</td>\n      <td>1995</td>\n      <td>1530</td>\n      <td>14397000.0</td>\n    </tr>\n    <tr>\n      <th>82</th>\n      <td>82</td>\n      <td>0207B010</td>\n      <td>2019</td>\n      <td>5</td>\n      <td>ALFA ROMEO</td>\n      <td>3</td>\n      <td>MiTo</td>\n      <td>5</td>\n      <td>4</td>\n      <td>MiTo  1.4 TB Multiair Veloce TCT (5 sz.)</td>\n      <td>ALFA ROMEO_MiTo_1.4 TB Multiair Veloce TCT (5 ...</td>\n      <td>125</td>\n      <td>1368</td>\n      <td>1245</td>\n      <td>7094000.0</td>\n    </tr>\n    <tr>\n      <th>97</th>\n      <td>97</td>\n      <td>0279B006</td>\n      <td>2018</td>\n      <td>6</td>\n      <td>ALFA ROMEO</td>\n      <td>3</td>\n      <td>Giulia</td>\n      <td>3</td>\n      <td>4</td>\n      <td>Giulia  2.0 Elegante Aut.</td>\n      <td>ALFA ROMEO_Giulia_2.0 Elegante Aut.</td>\n      <td>147</td>\n      <td>1995</td>\n      <td>1504</td>\n      <td>9990000.0</td>\n    </tr>\n    <tr>\n      <th>99</th>\n      <td>99</td>\n      <td>0209B007</td>\n      <td>2018</td>\n      <td>6</td>\n      <td>ALFA ROMEO</td>\n      <td>3</td>\n      <td>Giulietta</td>\n      <td>4</td>\n      <td>4</td>\n      <td>Giulietta  1.4 TB MultiAir Sport</td>\n      <td>ALFA ROMEO_Giulietta_1.4 TB MultiAir Sport</td>\n      <td>110</td>\n      <td>1368</td>\n      <td>1290</td>\n      <td>7555000.0</td>\n    </tr>\n    <tr>\n      <th>115</th>\n      <td>115</td>\n      <td>0207B007</td>\n      <td>2018</td>\n      <td>6</td>\n      <td>ALFA ROMEO</td>\n      <td>3</td>\n      <td>MiTo</td>\n      <td>5</td>\n      <td>4</td>\n      <td>MiTo  1.4 MPI MiTo (5 szem.)</td>\n      <td>ALFA ROMEO_MiTo_1.4 MPI MiTo (5 szem.)</td>\n      <td>57</td>\n      <td>1368</td>\n      <td>1155</td>\n      <td>4740000.0</td>\n    </tr>\n    <tr>\n      <th>...</th>\n      <td>...</td>\n      <td>...</td>\n      <td>...</td>\n      <td>...</td>\n      <td>...</td>\n      <td>...</td>\n      <td>...</td>\n      <td>...</td>\n      <td>...</td>\n      <td>...</td>\n      <td>...</td>\n      <td>...</td>\n      <td>...</td>\n      <td>...</td>\n      <td>...</td>\n    </tr>\n    <tr>\n      <th>40740</th>\n      <td>40740</td>\n      <td>9059B012</td>\n      <td>2014</td>\n      <td>10</td>\n      <td>VOLKSWAGEN</td>\n      <td>132</td>\n      <td>CC</td>\n      <td>2</td>\n      <td>4</td>\n      <td>CC  1.4 TSI [5 személy]</td>\n      <td>VOLKSWAGEN_CC_1.4 TSI [5 személy]</td>\n      <td>118</td>\n      <td>1390</td>\n      <td>1430</td>\n      <td>9710650.0</td>\n    </tr>\n    <tr>\n      <th>40771</th>\n      <td>40771</td>\n      <td>9008B023</td>\n      <td>2014</td>\n      <td>10</td>\n      <td>VOLKSWAGEN</td>\n      <td>132</td>\n      <td>Golf Plus</td>\n      <td>4</td>\n      <td>4</td>\n      <td>Golf VI Plus  1.2 TSI Highline DSG</td>\n      <td>VOLKSWAGEN_Golf VI Plus_1.2 TSI Highline DSG</td>\n      <td>77</td>\n      <td>1197</td>\n      <td>1325</td>\n      <td>6381980.0</td>\n    </tr>\n    <tr>\n      <th>40805</th>\n      <td>40805</td>\n      <td>9015B004</td>\n      <td>2014</td>\n      <td>10</td>\n      <td>VOLKSWAGEN</td>\n      <td>132</td>\n      <td>New Beetle</td>\n      <td>7</td>\n      <td>4</td>\n      <td>Beetle  1.2 TSI Design DSG</td>\n      <td>VOLKSWAGEN_Beetle_1.2 TSI Design DSG</td>\n      <td>77</td>\n      <td>1197</td>\n      <td>1222</td>\n      <td>5778730.0</td>\n    </tr>\n    <tr>\n      <th>40861</th>\n      <td>40861</td>\n      <td>9006B004</td>\n      <td>2014</td>\n      <td>10</td>\n      <td>VOLKSWAGEN</td>\n      <td>132</td>\n      <td>Scirocco</td>\n      <td>11</td>\n      <td>4</td>\n      <td>Scirocco  2.0 TFSI</td>\n      <td>VOLKSWAGEN_Scirocco_2.0 TFSI</td>\n      <td>155</td>\n      <td>1984</td>\n      <td>1298</td>\n      <td>8733000.0</td>\n    </tr>\n    <tr>\n      <th>40890</th>\n      <td>40890</td>\n      <td>9079B013</td>\n      <td>2014</td>\n      <td>10</td>\n      <td>VOLKSWAGEN</td>\n      <td>132</td>\n      <td>Sharan</td>\n      <td>12</td>\n      <td>4</td>\n      <td>Sharan  1.4 TSI Comfortline DSG [7sz]</td>\n      <td>VOLKSWAGEN_Sharan_1.4 TSI Comfortline DSG [7sz]</td>\n      <td>110</td>\n      <td>1390</td>\n      <td>1667</td>\n      <td>10292310.0</td>\n    </tr>\n  </tbody>\n</table>\n<p>583 rows × 15 columns</p>\n</div>"
     },
     "execution_count": 16,
     "metadata": {},
     "output_type": "execute_result"
    }
   ],
   "source": [
    "netrisk_cars"
   ],
   "metadata": {
    "collapsed": false,
    "ExecuteTime": {
     "end_time": "2024-03-10T17:18:40.291640392Z",
     "start_time": "2024-03-10T17:18:40.288348327Z"
    }
   },
   "id": "fcfbc23dfdae04e2"
  },
  {
   "cell_type": "code",
   "execution_count": 17,
   "outputs": [],
   "source": [
    "postal_codes = pd.read_csv(f'{utils.get_others_path(\"netrisk_casco\")}hungary_postal_codes.csv')['postal_code']\n",
    "population = pd.read_csv(f'{utils.get_others_path(\"netrisk_casco\")}hungary_postal_codes_population.csv').rename(\n",
    "    columns={'PostalCode': 'postal_code',\n",
    "             'Population': 'population'})[['postal_code', 'population']]\n",
    "\n",
    "\n",
    "def to_int(x):\n",
    "    try:\n",
    "        return int(str(x).replace(',', ''))\n",
    "    except Exception as e:\n",
    "        return None\n",
    "\n",
    "\n",
    "population['population'] = population['population'].apply(to_int)\n",
    "population = population.dropna()\n"
   ],
   "metadata": {
    "collapsed": false,
    "ExecuteTime": {
     "end_time": "2024-03-10T17:18:40.531630668Z",
     "start_time": "2024-03-10T17:18:40.519996098Z"
    }
   },
   "id": "17ac0e34f55a923e"
  },
  {
   "cell_type": "code",
   "execution_count": 18,
   "outputs": [],
   "source": [
    "signal_casco_postal_codes = pd.read_excel('../../signal_casco_tariff/input/signal_casco_postal_codes.xlsx')"
   ],
   "metadata": {
    "collapsed": false,
    "ExecuteTime": {
     "end_time": "2024-03-10T17:18:41.002618369Z",
     "start_time": "2024-03-10T17:18:40.901806066Z"
    }
   },
   "id": "b06cb6660c9a5125"
  },
  {
   "cell_type": "code",
   "source": "template = pd.read_excel(get_template_path('netrisk_casco', '2023_11_02'))",
   "metadata": {
    "collapsed": false,
    "ExecuteTime": {
     "end_time": "2024-07-05T06:59:22.996812Z",
     "start_time": "2024-07-05T06:59:22.970302Z"
    }
   },
   "id": "775402a026b2bc7e",
   "outputs": [],
   "execution_count": 5
  },
  {
   "metadata": {},
   "cell_type": "code",
   "outputs": [],
   "execution_count": null,
   "source": "",
   "id": "d40e0c19dc42096d"
  },
  {
   "cell_type": "code",
   "execution_count": 19,
   "outputs": [
    {
     "data": {
      "text/plain": "Unnamed: 0                  78\nAge                         77\nisRecent                  True\nLicenseAge                  18\nPostalCode                1039\nBonusMalus                 B10\nBonusMalusCode               1\nkw                          73\nCarMake                 TOYOTA\nCarAge                       7\nCarModel               Corolla\nCarModelSpecific             5\nccm                       1329\nkg                        1225\ncar_value              12558.0\npostal_code               1039\nLatitude               47.4984\nLongitude              19.0404\nCategory                   1.0\nPostalCode2                 10\nPostalCode3                103\nCarMakerCategory             1\nPolicyStartDate     2023_01_01\nName: 78, dtype: object"
     },
     "execution_count": 19,
     "metadata": {},
     "output_type": "execute_result"
    }
   ],
   "source": [
    "\n",
    "base_profile = utils.read_file(utils.get_profiles_for_crawling_transposed(\"netrisk_casco_sampled_data\"))\n",
    "base_profile[(base_profile['CarModel'] == 'Corolla')]\n",
    "base_profile = base_profile.iloc[78]\n",
    "base_profile"
   ],
   "metadata": {
    "collapsed": false,
    "ExecuteTime": {
     "end_time": "2024-03-10T17:18:41.373996703Z",
     "start_time": "2024-03-10T17:18:41.366715803Z"
    }
   },
   "id": "b5a90829cb91c4b3"
  },
  {
   "cell_type": "code",
   "execution_count": 20,
   "outputs": [],
   "source": [
    "\n",
    "base_profile['Age'] = 35\n",
    "base_profile['CarAge'] = 1\n",
    "base_profile['BonusMalus'] = 'B10'\n",
    "base_profile['BonusMalusCode'] = 1\n",
    "base_profile['PostalCode'] = 1011\n",
    "base_profile['CarModelSpecific'] = 1\n",
    "base_profile.to_csv(utils.get_incremental_base_profile_path(\"netrisk_casco\", \"v1\"))"
   ],
   "metadata": {
    "collapsed": false,
    "ExecuteTime": {
     "end_time": "2024-03-10T17:18:42.448924208Z",
     "start_time": "2024-03-10T17:18:42.442980083Z"
    }
   },
   "id": "4fcd78f6a544416e"
  },
  {
   "cell_type": "code",
   "execution_count": 21,
   "outputs": [],
   "source": [
    "\n",
    "population = population[population['population'].between(0, 1000000)]\n",
    "\n",
    "postal_codes = list(set(signal_casco_postal_codes.iloc[ : , 0]).difference(population['postal_code'].astype(int)))\n",
    "values = pd.DataFrame(columns=['feature', 'min', 'max', 'step', 'values'])\n",
    "features_to_vary = pd.Series([('CarAge', 'CarMake', 'CarModel', 'CarModelSpecific')])\n",
    "#features_to_vary = pd.Series(['PostalCode', 'Age', 'CarAge', 'BonusMalus'])\n",
    "#features_to_vary = pd.Series(['PostalCode'])\n",
    "car_values = netrisk_cars[['car_make_year', 'car_make', 'car_model', 'car_trim_id']].values\n",
    "car_values[:, 0] = datetime.datetime.today().year - car_values[:, 0]\n",
    "car_values = list(map(tuple, car_values))\n",
    "#feature_values = pd.Series([postal_codes, None, None, utils.BONUS_MALUS_CLASSES_GOOD, car_values])\n",
    "#feature_values = pd.Series([postal_codes, None, None, utils.BONUS_MALUS_CLASSES_GOOD])\n",
    "feature_values = pd.Series([car_values])\n",
    "#feature_values = pd.Series([postal_codes])\n",
    "values['values'] = feature_values\n",
    "values['feature'] = features_to_vary\n",
    "values['min'] = pd.Series([None, 19, 0, None])\n",
    "values['min'] = pd.Series([None])\n",
    "values['max'] = pd.Series([None, 79, 10, None])\n",
    "values['max'] = pd.Series([None])\n",
    "values['step'] = pd.Series([None, 2, 1, None])\n",
    "values['step'] = pd.Series([None])\n",
    "values.to_csv(utils.get_incremental_values_path(\"netrisk_casco\", \"v12\"))"
   ],
   "metadata": {
    "collapsed": true,
    "ExecuteTime": {
     "end_time": "2024-03-10T17:18:43.345931586Z",
     "start_time": "2024-03-10T17:18:43.334380418Z"
    }
   },
   "id": "initial_id"
  },
  {
   "cell_type": "code",
   "execution_count": 22,
   "outputs": [
    {
     "data": {
      "text/plain": "                                         feature   min   max  step  \\\n0  (CarAge, CarMake, CarModel, CarModelSpecific)  None  None  None   \n\n                                              values  \n0  [(2, ALFA ROMEO, Giulia, 4), (5, ALFA ROMEO, M...  ",
      "text/html": "<div>\n<style scoped>\n    .dataframe tbody tr th:only-of-type {\n        vertical-align: middle;\n    }\n\n    .dataframe tbody tr th {\n        vertical-align: top;\n    }\n\n    .dataframe thead th {\n        text-align: right;\n    }\n</style>\n<table border=\"1\" class=\"dataframe\">\n  <thead>\n    <tr style=\"text-align: right;\">\n      <th></th>\n      <th>feature</th>\n      <th>min</th>\n      <th>max</th>\n      <th>step</th>\n      <th>values</th>\n    </tr>\n  </thead>\n  <tbody>\n    <tr>\n      <th>0</th>\n      <td>(CarAge, CarMake, CarModel, CarModelSpecific)</td>\n      <td>None</td>\n      <td>None</td>\n      <td>None</td>\n      <td>[(2, ALFA ROMEO, Giulia, 4), (5, ALFA ROMEO, M...</td>\n    </tr>\n  </tbody>\n</table>\n</div>"
     },
     "execution_count": 22,
     "metadata": {},
     "output_type": "execute_result"
    }
   ],
   "source": [
    "values"
   ],
   "metadata": {
    "collapsed": false,
    "ExecuteTime": {
     "end_time": "2024-03-10T17:18:44.324591907Z",
     "start_time": "2024-03-10T17:18:44.310058517Z"
    }
   },
   "id": "fac1d7dd6329f885"
  },
  {
   "cell_type": "code",
   "execution_count": 15,
   "outputs": [
    {
     "data": {
      "text/plain": "922"
     },
     "execution_count": 15,
     "metadata": {},
     "output_type": "execute_result"
    }
   ],
   "source": [
    "len(postal_codes)"
   ],
   "metadata": {
    "collapsed": false,
    "ExecuteTime": {
     "end_time": "2024-02-12T10:09:39.545063259Z",
     "start_time": "2024-02-12T10:09:39.498932070Z"
    }
   },
   "id": "a0a4ee96e638b221"
  },
  {
   "cell_type": "code",
   "execution_count": null,
   "outputs": [],
   "source": [
    " "
   ],
   "metadata": {
    "collapsed": false
   },
   "id": "675da30523ff0a0a"
  }
 ],
 "metadata": {
  "kernelspec": {
   "display_name": "Python 3",
   "language": "python",
   "name": "python3"
  },
  "language_info": {
   "codemirror_mode": {
    "name": "ipython",
    "version": 2
   },
   "file_extension": ".py",
   "mimetype": "text/x-python",
   "name": "python",
   "nbconvert_exporter": "python",
   "pygments_lexer": "ipython2",
   "version": "2.7.6"
  }
 },
 "nbformat": 4,
 "nbformat_minor": 5
}
