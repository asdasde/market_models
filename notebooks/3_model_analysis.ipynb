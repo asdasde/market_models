{
 "cells": [
  {
   "cell_type": "code",
   "execution_count": 45,
   "id": "initial_id",
   "metadata": {
    "collapsed": true,
    "ExecuteTime": {
     "end_time": "2024-01-03T11:04:12.518720712Z",
     "start_time": "2024-01-03T11:04:12.476372287Z"
    }
   },
   "outputs": [],
   "source": [
    "# Make a better system naming things, with doucmentation\n",
    "import pandas as pd\n",
    "import numpy as np\n",
    "import os\n",
    "import sys\n",
    "import matplotlib.pyplot as plt\n",
    "from sklearn.metrics import mean_absolute_error\n",
    "notebook_dir = os.path.abspath(os.getcwd())\n",
    "src_path = os.path.join('/home/lerceg/LukaPosao/market_models/', 'src')\n",
    "sys.path.append(src_path)\n",
    "\n",
    "import market_models.src.models.predict_model as pm\n",
    "import market_models.src.models.train_model as tm\n",
    "import market_models.src.utils as utils"
   ]
  },
  {
   "cell_type": "code",
   "execution_count": 46,
   "outputs": [],
   "source": [
    "service = 'netrisk_casco'\n",
    "dates = '2023_11_14__2023_11_20__2023_12_12__2023_12_22__2023_12_28__2023_12_29__2024_01_02'.split('__')\n",
    "cur = ''\n",
    "dates_pref = []\n",
    "\n",
    "for i in range(1, len(dates)):\n",
    "    dates_pref.append(\"__\".join(dates[ : i + 1]))\n"
   ],
   "metadata": {
    "collapsed": false,
    "ExecuteTime": {
     "end_time": "2024-01-03T11:04:12.788792306Z",
     "start_time": "2024-01-03T11:04:12.785672796Z"
    }
   },
   "id": "669bd6cdab691b0d"
  },
  {
   "cell_type": "code",
   "execution_count": 47,
   "outputs": [
    {
     "data": {
      "text/plain": "['2023_11_14__2023_11_20',\n '2023_11_14__2023_11_20__2023_12_12',\n '2023_11_14__2023_11_20__2023_12_12__2023_12_22',\n '2023_11_14__2023_11_20__2023_12_12__2023_12_22__2023_12_28',\n '2023_11_14__2023_11_20__2023_12_12__2023_12_22__2023_12_28__2023_12_29',\n '2023_11_14__2023_11_20__2023_12_12__2023_12_22__2023_12_28__2023_12_29__2024_01_02']"
     },
     "execution_count": 47,
     "metadata": {},
     "output_type": "execute_result"
    }
   ],
   "source": [
    "dates_pref"
   ],
   "metadata": {
    "collapsed": false,
    "ExecuteTime": {
     "end_time": "2024-01-03T11:04:13.288310392Z",
     "start_time": "2024-01-03T11:04:13.284423272Z"
    }
   },
   "id": "94d4d09f32bd9e79"
  },
  {
   "cell_type": "code",
   "execution_count": 42,
   "outputs": [
    {
     "name": "stdout",
     "output_type": "stream",
     "text": [
      "  DateCrawled  isRecent  CarMake  CarAge  ccm  kw    kg  car_value  \\\n",
      "0  2023_12_31      True       20       2  998  70  1160    13572.0   \n",
      "1  2023_12_31      True       20       2  998  70  1160    13572.0   \n",
      "2  2023_12_31      True       20       2  998  70  1160    13572.0   \n",
      "3  2023_12_31      True       23       4  998  49   999    12477.4   \n",
      "4  2023_12_31      True       23       4  998  49   999    12477.4   \n",
      "\n",
      "   CarMakerCategory  PostalCode  PostalCode2  PostalCode3  Category  \\\n",
      "0              1.00        7391           73          739         2   \n",
      "1              1.00        7391           73          739         2   \n",
      "2              1.00        7391           73          739         2   \n",
      "3              0.97        7391           73          739         2   \n",
      "4              0.97        7391           73          739         2   \n",
      "\n",
      "   Longitude  Latitude  Age  LicenseAge  BonusMalus  BonusMalusCode  \\\n",
      "0    18.0809   46.1993   52          18         0.0               1   \n",
      "1    18.0623   46.2246   52          18         0.0               1   \n",
      "2    18.0347   46.2054   52          18         0.0               1   \n",
      "3    18.0809   46.1993   53          18         0.0               1   \n",
      "4    18.0623   46.2246   53          18         0.0               1   \n",
      "\n",
      "   KÖBE_price  \n",
      "0     68808.0  \n",
      "1     68808.0  \n",
      "2     68808.0  \n",
      "3     59658.0  \n",
      "4     59658.0  \n"
     ]
    }
   ],
   "source": [
    "service = 'netrisk_casco'\n",
    "data_name_benchmark = 'netrisk_casco_benchmark'\n",
    "target_variable = 'KÖBE_price'\n",
    "\n",
    "\n",
    "data_names = [f'{service}_{date}' for date in dates_pref]\n",
    "model_names = [utils.get_model_name(data_name, target_variable) for data_name in data_names]\n",
    "\n",
    "data_path_benchmark = utils.get_processed_data_path(data_name_benchmark)\n",
    "features_path_benchmark = utils.get_features_path(data_name_benchmark)\n",
    "model_paths = [utils.get_model_path(model_name) for model_name in model_names]\n",
    "\n",
    "\n",
    "data_benchmark, features = utils.load_data(data_path_benchmark, features_path_benchmark, target_variable)\n",
    "\n",
    "models = [None] * len(model_paths)\n",
    "for i in range(len(model_paths)):\n",
    "    model = None\n",
    "    try:\n",
    "        model = utils.load_model(model_paths[i])\n",
    "    except Exception as e:\n",
    "        data, features = utils.load_data(utils.get_processed_data_path(data_names[i]), utils.get_features_path(data_names[i]), target_variable)\n",
    "        tm.train_model_util(data, features, target_variable, is_classification = False)\n",
    "        model = utils.load_model(model_paths[i])\n",
    "    models[i] = model\n",
    "        \n",
    "models = [utils.load_model(model_path) for model_path in model_paths]\n",
    "\n",
    "predictions = [utils.predict(model, data_benchmark[features]) for model in models]\n",
    "\n",
    "errors = [mean_absolute_error(prediction, data_benchmark[target_variable]) for prediction in predictions]\n",
    "\n",
    "target_error = data_benchmark[target_variable].mean() * 0.03"
   ],
   "metadata": {
    "collapsed": false,
    "ExecuteTime": {
     "end_time": "2024-01-03T10:59:19.982137546Z",
     "start_time": "2024-01-03T10:59:18.365608998Z"
    }
   },
   "id": "fd36bbd82fb74b08"
  },
  {
   "cell_type": "code",
   "execution_count": 44,
   "outputs": [
    {
     "data": {
      "text/plain": "     DateCrawled  isRecent  CarMake  CarAge   ccm  kw    kg  car_value  \\\n0     2023_11_14      True       28       2   998  49   899  15337.400   \n1     2023_11_14      True       20       1   999  92  1280  24388.000   \n2     2023_11_14      True       12       2   999  54   974   6757.400   \n3     2023_11_14      True       23       2   998  49   996   8447.400   \n4     2023_11_14      True       58       2   999  59  1270  11568.336   \n...          ...       ...      ...     ...   ...  ..   ...        ...   \n2054  2023_11_20      True       28       6  1591  99  1444  16533.400   \n2057  2023_11_20      True        5       7  1499  80  1300  14339.000   \n2058  2023_11_20      True       21       3  1318  75  1073  11619.400   \n2059  2023_11_20      True       56       4   999  59  1100  11545.222   \n2060  2023_11_20      True       47       3  1199  61  1174  16393.000   \n\n      CarMakerCategory  PostalCode  PostalCode2  PostalCode3  Category  \\\n0                 1.00        1016           10          101         2   \n1                 1.00        1016           10          101         2   \n2                 0.97        1016           10          101         2   \n3                 0.97        1016           10          101         2   \n4                 1.00        1016           10          101         2   \n...                ...         ...          ...          ...       ...   \n2054              1.00        2524           25          252         4   \n2057              1.00        2363           23          236         2   \n2058              1.00        3646           36          364         7   \n2059              1.00        6724           67          672         7   \n2060              1.00        4338           43          433         7   \n\n      Longitude  Latitude  Age  LicenseAge  BonusMalus  BonusMalusCode  \\\n0       19.0404   47.4984   39          18         1.0               2   \n1       19.0404   47.4984   48          18         0.0               1   \n2       19.0404   47.4984   26          18         0.0               1   \n3       19.0404   47.4984   56          18         7.0               8   \n4       19.0404   47.4984   42          18         7.0               8   \n...         ...       ...  ...         ...         ...             ...   \n2054    18.5984   47.6851   38          18        10.0              11   \n2057    19.2370   47.3433   24          18         0.0               1   \n2058    20.4333   48.1667   36          18         0.0               1   \n2059    20.1482   46.2530   43          18         0.0               1   \n2060    22.2500   47.9833   76          18        10.0              11   \n\n      GROUPAMA_price  \n0           102780.0  \n1           142080.0  \n2           109356.0  \n3           178620.0  \n4           134844.0  \n...              ...  \n2054        245808.0  \n2057        208704.0  \n2058        158736.0  \n2059        105864.0  \n2060        265260.0  \n\n[1999 rows x 20 columns]",
      "text/html": "<div>\n<style scoped>\n    .dataframe tbody tr th:only-of-type {\n        vertical-align: middle;\n    }\n\n    .dataframe tbody tr th {\n        vertical-align: top;\n    }\n\n    .dataframe thead th {\n        text-align: right;\n    }\n</style>\n<table border=\"1\" class=\"dataframe\">\n  <thead>\n    <tr style=\"text-align: right;\">\n      <th></th>\n      <th>DateCrawled</th>\n      <th>isRecent</th>\n      <th>CarMake</th>\n      <th>CarAge</th>\n      <th>ccm</th>\n      <th>kw</th>\n      <th>kg</th>\n      <th>car_value</th>\n      <th>CarMakerCategory</th>\n      <th>PostalCode</th>\n      <th>PostalCode2</th>\n      <th>PostalCode3</th>\n      <th>Category</th>\n      <th>Longitude</th>\n      <th>Latitude</th>\n      <th>Age</th>\n      <th>LicenseAge</th>\n      <th>BonusMalus</th>\n      <th>BonusMalusCode</th>\n      <th>GROUPAMA_price</th>\n    </tr>\n  </thead>\n  <tbody>\n    <tr>\n      <th>0</th>\n      <td>2023_11_14</td>\n      <td>True</td>\n      <td>28</td>\n      <td>2</td>\n      <td>998</td>\n      <td>49</td>\n      <td>899</td>\n      <td>15337.400</td>\n      <td>1.00</td>\n      <td>1016</td>\n      <td>10</td>\n      <td>101</td>\n      <td>2</td>\n      <td>19.0404</td>\n      <td>47.4984</td>\n      <td>39</td>\n      <td>18</td>\n      <td>1.0</td>\n      <td>2</td>\n      <td>102780.0</td>\n    </tr>\n    <tr>\n      <th>1</th>\n      <td>2023_11_14</td>\n      <td>True</td>\n      <td>20</td>\n      <td>1</td>\n      <td>999</td>\n      <td>92</td>\n      <td>1280</td>\n      <td>24388.000</td>\n      <td>1.00</td>\n      <td>1016</td>\n      <td>10</td>\n      <td>101</td>\n      <td>2</td>\n      <td>19.0404</td>\n      <td>47.4984</td>\n      <td>48</td>\n      <td>18</td>\n      <td>0.0</td>\n      <td>1</td>\n      <td>142080.0</td>\n    </tr>\n    <tr>\n      <th>2</th>\n      <td>2023_11_14</td>\n      <td>True</td>\n      <td>12</td>\n      <td>2</td>\n      <td>999</td>\n      <td>54</td>\n      <td>974</td>\n      <td>6757.400</td>\n      <td>0.97</td>\n      <td>1016</td>\n      <td>10</td>\n      <td>101</td>\n      <td>2</td>\n      <td>19.0404</td>\n      <td>47.4984</td>\n      <td>26</td>\n      <td>18</td>\n      <td>0.0</td>\n      <td>1</td>\n      <td>109356.0</td>\n    </tr>\n    <tr>\n      <th>3</th>\n      <td>2023_11_14</td>\n      <td>True</td>\n      <td>23</td>\n      <td>2</td>\n      <td>998</td>\n      <td>49</td>\n      <td>996</td>\n      <td>8447.400</td>\n      <td>0.97</td>\n      <td>1016</td>\n      <td>10</td>\n      <td>101</td>\n      <td>2</td>\n      <td>19.0404</td>\n      <td>47.4984</td>\n      <td>56</td>\n      <td>18</td>\n      <td>7.0</td>\n      <td>8</td>\n      <td>178620.0</td>\n    </tr>\n    <tr>\n      <th>4</th>\n      <td>2023_11_14</td>\n      <td>True</td>\n      <td>58</td>\n      <td>2</td>\n      <td>999</td>\n      <td>59</td>\n      <td>1270</td>\n      <td>11568.336</td>\n      <td>1.00</td>\n      <td>1016</td>\n      <td>10</td>\n      <td>101</td>\n      <td>2</td>\n      <td>19.0404</td>\n      <td>47.4984</td>\n      <td>42</td>\n      <td>18</td>\n      <td>7.0</td>\n      <td>8</td>\n      <td>134844.0</td>\n    </tr>\n    <tr>\n      <th>...</th>\n      <td>...</td>\n      <td>...</td>\n      <td>...</td>\n      <td>...</td>\n      <td>...</td>\n      <td>...</td>\n      <td>...</td>\n      <td>...</td>\n      <td>...</td>\n      <td>...</td>\n      <td>...</td>\n      <td>...</td>\n      <td>...</td>\n      <td>...</td>\n      <td>...</td>\n      <td>...</td>\n      <td>...</td>\n      <td>...</td>\n      <td>...</td>\n      <td>...</td>\n    </tr>\n    <tr>\n      <th>2054</th>\n      <td>2023_11_20</td>\n      <td>True</td>\n      <td>28</td>\n      <td>6</td>\n      <td>1591</td>\n      <td>99</td>\n      <td>1444</td>\n      <td>16533.400</td>\n      <td>1.00</td>\n      <td>2524</td>\n      <td>25</td>\n      <td>252</td>\n      <td>4</td>\n      <td>18.5984</td>\n      <td>47.6851</td>\n      <td>38</td>\n      <td>18</td>\n      <td>10.0</td>\n      <td>11</td>\n      <td>245808.0</td>\n    </tr>\n    <tr>\n      <th>2057</th>\n      <td>2023_11_20</td>\n      <td>True</td>\n      <td>5</td>\n      <td>7</td>\n      <td>1499</td>\n      <td>80</td>\n      <td>1300</td>\n      <td>14339.000</td>\n      <td>1.00</td>\n      <td>2363</td>\n      <td>23</td>\n      <td>236</td>\n      <td>2</td>\n      <td>19.2370</td>\n      <td>47.3433</td>\n      <td>24</td>\n      <td>18</td>\n      <td>0.0</td>\n      <td>1</td>\n      <td>208704.0</td>\n    </tr>\n    <tr>\n      <th>2058</th>\n      <td>2023_11_20</td>\n      <td>True</td>\n      <td>21</td>\n      <td>3</td>\n      <td>1318</td>\n      <td>75</td>\n      <td>1073</td>\n      <td>11619.400</td>\n      <td>1.00</td>\n      <td>3646</td>\n      <td>36</td>\n      <td>364</td>\n      <td>7</td>\n      <td>20.4333</td>\n      <td>48.1667</td>\n      <td>36</td>\n      <td>18</td>\n      <td>0.0</td>\n      <td>1</td>\n      <td>158736.0</td>\n    </tr>\n    <tr>\n      <th>2059</th>\n      <td>2023_11_20</td>\n      <td>True</td>\n      <td>56</td>\n      <td>4</td>\n      <td>999</td>\n      <td>59</td>\n      <td>1100</td>\n      <td>11545.222</td>\n      <td>1.00</td>\n      <td>6724</td>\n      <td>67</td>\n      <td>672</td>\n      <td>7</td>\n      <td>20.1482</td>\n      <td>46.2530</td>\n      <td>43</td>\n      <td>18</td>\n      <td>0.0</td>\n      <td>1</td>\n      <td>105864.0</td>\n    </tr>\n    <tr>\n      <th>2060</th>\n      <td>2023_11_20</td>\n      <td>True</td>\n      <td>47</td>\n      <td>3</td>\n      <td>1199</td>\n      <td>61</td>\n      <td>1174</td>\n      <td>16393.000</td>\n      <td>1.00</td>\n      <td>4338</td>\n      <td>43</td>\n      <td>433</td>\n      <td>7</td>\n      <td>22.2500</td>\n      <td>47.9833</td>\n      <td>76</td>\n      <td>18</td>\n      <td>10.0</td>\n      <td>11</td>\n      <td>265260.0</td>\n    </tr>\n  </tbody>\n</table>\n<p>1999 rows × 20 columns</p>\n</div>"
     },
     "execution_count": 44,
     "metadata": {},
     "output_type": "execute_result"
    }
   ],
   "source": [
    "data"
   ],
   "metadata": {
    "collapsed": false,
    "ExecuteTime": {
     "end_time": "2024-01-03T11:00:57.612718898Z",
     "start_time": "2024-01-03T11:00:57.602871935Z"
    }
   },
   "id": "c9f3d05da99d3249"
  },
  {
   "cell_type": "code",
   "execution_count": 43,
   "outputs": [
    {
     "data": {
      "text/plain": "<Figure size 1200x700 with 1 Axes>",
      "image/png": "[encoded data removed]"
     },
     "metadata": {},
     "output_type": "display_data"
    }
   ],
   "source": [
    "plt.figure(figsize = (12, 7))\n",
    "plt.scatter(dates[1 :], errors, label = target_variable)\n",
    "top = max(target_error, max(errors))  * 1.05\n",
    "plt.ylim(bottom = 0, top = top)\n",
    "plt.hlines(y = data_benchmark[target_variable].mean() * 0.03, xmin = dates[1], xmax = dates[-1], label = 'target_error')\n",
    "plt.legend()\n",
    "plt.show()"
   ],
   "metadata": {
    "collapsed": false,
    "ExecuteTime": {
     "end_time": "2024-01-03T10:59:20.234042813Z",
     "start_time": "2024-01-03T10:59:20.009236401Z"
    }
   },
   "id": "e5f8b8cc8e5cf872"
  },
  {
   "cell_type": "code",
   "execution_count": 45,
   "outputs": [
    {
     "data": {
      "text/plain": "2629.2011123227917"
     },
     "execution_count": 45,
     "metadata": {},
     "output_type": "execute_result"
    }
   ],
   "source": [
    "ata_benchmark[target_variable].mean() * 0.03"
   ],
   "metadata": {
    "collapsed": false,
    "ExecuteTime": {
     "end_time": "2023-12-31T16:40:13.015750119Z",
     "start_time": "2023-12-31T16:40:12.971817828Z"
    }
   },
   "id": "ff3bcdb58f24ec72"
  },
  {
   "cell_type": "code",
   "execution_count": 37,
   "outputs": [],
   "source": [
    "c = np.mean(errors_2)"
   ],
   "metadata": {
    "collapsed": false,
    "ExecuteTime": {
     "end_time": "2023-12-31T08:25:17.425460761Z",
     "start_time": "2023-12-31T08:25:17.380992341Z"
    }
   },
   "id": "eb11c511595540b9"
  },
  {
   "cell_type": "code",
   "execution_count": null,
   "outputs": [],
   "source": [
    "def plotHistErrorPercenage(error : np.array) -> None:\n",
    "    plt.hist(error, range = [error.min() - 1, error.max() + 1], bins=40,\n",
    "             weights=np.ones(len(error)) / len(error))\n",
    "    plt.xlabel('Error percentage')\n",
    "    plt.ylabel('Percent of errors')\n",
    "    plt.show()\n"
   ],
   "metadata": {
    "collapsed": false
   },
   "id": "9223ff89e216c0b3"
  },
  {
   "cell_type": "code",
   "execution_count": null,
   "outputs": [],
   "source": [
    "plotHistErrorPercenage(percentage_error)"
   ],
   "metadata": {
    "collapsed": false
   },
   "id": "ac58c7a3c0a269c3"
  },
  {
   "cell_type": "code",
   "execution_count": null,
   "outputs": [],
   "source": [
    "percentage_error.quantile([0, 0.1, 0.2, 0.3, 0.4, 0.5, 0.6, 0.7, 0.8, 0.9, 0.99, 1])"
   ],
   "metadata": {
    "collapsed": false
   },
   "id": "3cb76a728e9a5728"
  },
  {
   "cell_type": "code",
   "execution_count": null,
   "outputs": [],
   "source": [
    "data[target_variable]"
   ],
   "metadata": {
    "collapsed": false
   },
   "id": "2457d18033edb243"
  },
  {
   "cell_type": "code",
   "execution_count": null,
   "outputs": [],
   "source": [
    "data[data[target_variable] == 54900]"
   ],
   "metadata": {
    "collapsed": false
   },
   "id": "a10b4d1ed2dada03"
  },
  {
   "cell_type": "code",
   "execution_count": null,
   "outputs": [],
   "source": [],
   "metadata": {
    "collapsed": false
   },
   "id": "926329ff4ec07cdc"
  },
  {
   "cell_type": "code",
   "execution_count": null,
   "outputs": [],
   "source": [
    "data[(data['BonusMalus'] == 0) & (data['Age'].between(30, 40)) & (data['PostalCode'] < 2000)][['car_value', target_variable]].plot(kind = 'scatter', x = 'car_value', y = target_variable)"
   ],
   "metadata": {
    "collapsed": false
   },
   "id": "af707d500573bb65"
  },
  {
   "cell_type": "code",
   "execution_count": null,
   "outputs": [],
   "source": [
    "data.plot(kind = 'scatter', x = 'car_value', y = target_variable)"
   ],
   "metadata": {
    "collapsed": false
   },
   "id": "fbcf02f73cb54a88"
  },
  {
   "cell_type": "code",
   "execution_count": null,
   "outputs": [],
   "source": [
    "data.groupby(['car_value', 'Category', 'Age'])[target_variable].agg([('range', np.ptp), ('count', 'count'), ('min', 'min'), ('max', 'max'), ('minidx', 'idxmin'), ('maxidx', 'idxmax')])"
   ],
   "metadata": {
    "collapsed": false
   },
   "id": "a63a62bcb084a814"
  },
  {
   "cell_type": "code",
   "execution_count": null,
   "outputs": [],
   "source": [
    "data.loc[[2923,2469]]"
   ],
   "metadata": {
    "collapsed": false
   },
   "id": "d9cb151c526d94e3"
  },
  {
   "cell_type": "code",
   "execution_count": null,
   "outputs": [],
   "source": [
    "1141680.0 / 574200.0\n"
   ],
   "metadata": {
    "collapsed": false
   },
   "id": "5c88781f7ff89bdd"
  },
  {
   "cell_type": "code",
   "execution_count": null,
   "outputs": [],
   "source": [
    "gb_res = data.groupby(['Category', 'Age', 'kw', 'ccm', 'BonusMalus'])['car_value'].agg([('car_value_range', np.ptp), ('count', 'count'), ('idxmin', 'idxmin'), ('idxmax', 'idxmax')])"
   ],
   "metadata": {
    "collapsed": false
   },
   "id": "a24f55f2d0b5b159"
  },
  {
   "cell_type": "code",
   "execution_count": null,
   "outputs": [],
   "source": [
    "def check(row):\n",
    "    if row['idxmin'] == row['idxmax']:\n",
    "        return 10\n",
    "    try:\n",
    "        min_row = data.loc[row['idxmin']]\n",
    "        max_row = data.loc[row['idxmax']]\n",
    "    \n",
    "        price_ratio = max_row[target_variable] / min_row[target_variable]\n",
    "        car_value_ratio = max_row['car_value'] / min_row['car_value']\n",
    "        return abs(price_ratio - car_value_ratio)\n",
    "    except Exception as e:\n",
    "        return 100"
   ],
   "metadata": {
    "collapsed": false
   },
   "id": "ead4fb23a5574cb0"
  },
  {
   "cell_type": "code",
   "execution_count": null,
   "outputs": [],
   "source": [
    "gb_res.apply(lambda x : check(x), axis = 1)"
   ],
   "metadata": {
    "collapsed": false
   },
   "id": "1346ef5ec758a406"
  },
  {
   "cell_type": "code",
   "execution_count": 69,
   "outputs": [
    {
     "ename": "KeyError",
     "evalue": "'Catgory'",
     "output_type": "error",
     "traceback": [
      "\u001B[0;31m---------------------------------------------------------------------------\u001B[0m",
      "\u001B[0;31mKeyError\u001B[0m                                  Traceback (most recent call last)",
      "File \u001B[0;32m~/LukaPosao/venv/lib/python3.11/site-packages/pandas/core/indexes/base.py:3802\u001B[0m, in \u001B[0;36mIndex.get_loc\u001B[0;34m(self, key, method, tolerance)\u001B[0m\n\u001B[1;32m   3801\u001B[0m \u001B[38;5;28;01mtry\u001B[39;00m:\n\u001B[0;32m-> 3802\u001B[0m     \u001B[38;5;28;01mreturn\u001B[39;00m \u001B[38;5;28;43mself\u001B[39;49m\u001B[38;5;241;43m.\u001B[39;49m\u001B[43m_engine\u001B[49m\u001B[38;5;241;43m.\u001B[39;49m\u001B[43mget_loc\u001B[49m\u001B[43m(\u001B[49m\u001B[43mcasted_key\u001B[49m\u001B[43m)\u001B[49m\n\u001B[1;32m   3803\u001B[0m \u001B[38;5;28;01mexcept\u001B[39;00m \u001B[38;5;167;01mKeyError\u001B[39;00m \u001B[38;5;28;01mas\u001B[39;00m err:\n",
      "File \u001B[0;32m~/LukaPosao/venv/lib/python3.11/site-packages/pandas/_libs/index.pyx:138\u001B[0m, in \u001B[0;36mpandas._libs.index.IndexEngine.get_loc\u001B[0;34m()\u001B[0m\n",
      "File \u001B[0;32m~/LukaPosao/venv/lib/python3.11/site-packages/pandas/_libs/index.pyx:165\u001B[0m, in \u001B[0;36mpandas._libs.index.IndexEngine.get_loc\u001B[0;34m()\u001B[0m\n",
      "File \u001B[0;32mpandas/_libs/hashtable_class_helper.pxi:5745\u001B[0m, in \u001B[0;36mpandas._libs.hashtable.PyObjectHashTable.get_item\u001B[0;34m()\u001B[0m\n",
      "File \u001B[0;32mpandas/_libs/hashtable_class_helper.pxi:5753\u001B[0m, in \u001B[0;36mpandas._libs.hashtable.PyObjectHashTable.get_item\u001B[0;34m()\u001B[0m\n",
      "\u001B[0;31mKeyError\u001B[0m: 'Catgory'",
      "\nThe above exception was the direct cause of the following exception:\n",
      "\u001B[0;31mKeyError\u001B[0m                                  Traceback (most recent call last)",
      "Cell \u001B[0;32mIn[69], line 1\u001B[0m\n\u001B[0;32m----> 1\u001B[0m gb_res[\u001B[43mgb_res\u001B[49m\u001B[43m[\u001B[49m\u001B[38;5;124;43m'\u001B[39;49m\u001B[38;5;124;43mCatgory\u001B[39;49m\u001B[38;5;124;43m'\u001B[39;49m\u001B[43m]\u001B[49m \u001B[38;5;241m==\u001B[39m \u001B[38;5;241m2\u001B[39m]\n",
      "File \u001B[0;32m~/LukaPosao/venv/lib/python3.11/site-packages/pandas/core/frame.py:3807\u001B[0m, in \u001B[0;36mDataFrame.__getitem__\u001B[0;34m(self, key)\u001B[0m\n\u001B[1;32m   3805\u001B[0m \u001B[38;5;28;01mif\u001B[39;00m \u001B[38;5;28mself\u001B[39m\u001B[38;5;241m.\u001B[39mcolumns\u001B[38;5;241m.\u001B[39mnlevels \u001B[38;5;241m>\u001B[39m \u001B[38;5;241m1\u001B[39m:\n\u001B[1;32m   3806\u001B[0m     \u001B[38;5;28;01mreturn\u001B[39;00m \u001B[38;5;28mself\u001B[39m\u001B[38;5;241m.\u001B[39m_getitem_multilevel(key)\n\u001B[0;32m-> 3807\u001B[0m indexer \u001B[38;5;241m=\u001B[39m \u001B[38;5;28;43mself\u001B[39;49m\u001B[38;5;241;43m.\u001B[39;49m\u001B[43mcolumns\u001B[49m\u001B[38;5;241;43m.\u001B[39;49m\u001B[43mget_loc\u001B[49m\u001B[43m(\u001B[49m\u001B[43mkey\u001B[49m\u001B[43m)\u001B[49m\n\u001B[1;32m   3808\u001B[0m \u001B[38;5;28;01mif\u001B[39;00m is_integer(indexer):\n\u001B[1;32m   3809\u001B[0m     indexer \u001B[38;5;241m=\u001B[39m [indexer]\n",
      "File \u001B[0;32m~/LukaPosao/venv/lib/python3.11/site-packages/pandas/core/indexes/base.py:3804\u001B[0m, in \u001B[0;36mIndex.get_loc\u001B[0;34m(self, key, method, tolerance)\u001B[0m\n\u001B[1;32m   3802\u001B[0m     \u001B[38;5;28;01mreturn\u001B[39;00m \u001B[38;5;28mself\u001B[39m\u001B[38;5;241m.\u001B[39m_engine\u001B[38;5;241m.\u001B[39mget_loc(casted_key)\n\u001B[1;32m   3803\u001B[0m \u001B[38;5;28;01mexcept\u001B[39;00m \u001B[38;5;167;01mKeyError\u001B[39;00m \u001B[38;5;28;01mas\u001B[39;00m err:\n\u001B[0;32m-> 3804\u001B[0m     \u001B[38;5;28;01mraise\u001B[39;00m \u001B[38;5;167;01mKeyError\u001B[39;00m(key) \u001B[38;5;28;01mfrom\u001B[39;00m \u001B[38;5;21;01merr\u001B[39;00m\n\u001B[1;32m   3805\u001B[0m \u001B[38;5;28;01mexcept\u001B[39;00m \u001B[38;5;167;01mTypeError\u001B[39;00m:\n\u001B[1;32m   3806\u001B[0m     \u001B[38;5;66;03m# If we have a listlike key, _check_indexing_error will raise\u001B[39;00m\n\u001B[1;32m   3807\u001B[0m     \u001B[38;5;66;03m#  InvalidIndexError. Otherwise we fall through and re-raise\u001B[39;00m\n\u001B[1;32m   3808\u001B[0m     \u001B[38;5;66;03m#  the TypeError.\u001B[39;00m\n\u001B[1;32m   3809\u001B[0m     \u001B[38;5;28mself\u001B[39m\u001B[38;5;241m.\u001B[39m_check_indexing_error(key)\n",
      "\u001B[0;31mKeyError\u001B[0m: 'Catgory'"
     ]
    }
   ],
   "source": [
    "gb_res[gb_res['Catgory'] == 2]"
   ],
   "metadata": {
    "collapsed": false,
    "ExecuteTime": {
     "end_time": "2023-12-23T13:41:57.778752226Z",
     "start_time": "2023-12-23T13:41:57.762865407Z"
    }
   },
   "id": "22b081be4f2b0a3b"
  },
  {
   "cell_type": "code",
   "execution_count": null,
   "outputs": [],
   "source": [],
   "metadata": {
    "collapsed": false
   },
   "id": "414c320f780e9507"
  }
 ],
 "metadata": {
  "kernelspec": {
   "display_name": "Python 3",
   "language": "python",
   "name": "python3"
  },
  "language_info": {
   "codemirror_mode": {
    "name": "ipython",
    "version": 2
   },
   "file_extension": ".py",
   "mimetype": "text/x-python",
   "name": "python",
   "nbconvert_exporter": "python",
   "pygments_lexer": "ipython2",
   "version": "2.7.6"
  }
 },
 "nbformat": 4,
 "nbformat_minor": 5
}
