{
 "cells": [
  {
   "cell_type": "code",
   "execution_count": 28,
   "id": "initial_id",
   "metadata": {
    "collapsed": true,
    "ExecuteTime": {
     "end_time": "2023-12-20T14:58:22.867612585Z",
     "start_time": "2023-12-20T14:58:22.821704614Z"
    }
   },
   "outputs": [],
   "source": [
    "# Make a better system naming things, with doucmentation\n",
    "import pandas as pd\n",
    "import numpy as np\n",
    "import os\n",
    "import sys\n",
    "import matplotlib.pyplot as plt\n",
    "notebook_dir = os.path.abspath(os.getcwd())\n",
    "src_path = os.path.join('/home/lerceg/LukaPosao/market_models/', 'src')\n",
    "sys.path.append(src_path)\n",
    "\n",
    "import market_models.src.models.predict_model as pm\n",
    "import market_models.src.utils as utils"
   ]
  },
  {
   "cell_type": "code",
   "execution_count": 43,
   "outputs": [],
   "source": [
    "data_name = 'netrisk_casco_2023_11_14__2023_11_20__2023_12_12'\n",
    "target_variable = 'KÖBE_price'\n",
    "model_name = utils.get_model_name(data_name, target_variable)\n",
    "\n",
    "\n",
    "data_path = utils.get_processed_data_path(data_name)\n",
    "features_path = utils.get_features_path(data_name)\n",
    "model_path = utils.get_model_path(model_name)\n",
    "\n",
    "\n",
    "data, features = utils.load_data(data_path, features_path, target_variable = target_variable)\n",
    "model = utils.load_model(model_path)\n",
    "\n",
    "predictions = utils.predict(model, data[features])\n",
    "errors = data[target_variable] - predictions\n",
    "percentage_error = errors / data[target_variable] * 100"
   ],
   "metadata": {
    "collapsed": false,
    "ExecuteTime": {
     "end_time": "2023-12-20T15:39:49.866466030Z",
     "start_time": "2023-12-20T15:39:49.773053776Z"
    }
   },
   "id": "fd36bbd82fb74b08"
  },
  {
   "cell_type": "code",
   "execution_count": 54,
   "outputs": [],
   "source": [
    "def plotHistErrorPercenage(error : np.array) -> None:\n",
    "    plt.hist(error, range = [error.min() - 1, error.max() + 1], bins=40,\n",
    "             weights=np.ones(len(error)) / len(error))\n",
    "    plt.xlabel('Error percentage')\n",
    "    plt.ylabel('Percent of errors')\n",
    "    plt.show()\n"
   ],
   "metadata": {
    "collapsed": false,
    "ExecuteTime": {
     "end_time": "2023-12-20T19:22:23.131482964Z",
     "start_time": "2023-12-20T19:22:23.130122970Z"
    }
   },
   "id": "9223ff89e216c0b3"
  },
  {
   "cell_type": "code",
   "execution_count": 55,
   "outputs": [
    {
     "data": {
      "text/plain": "<Figure size 640x480 with 1 Axes>",
      "image/png": "[encoded data removed]"
     },
     "metadata": {},
     "output_type": "display_data"
    }
   ],
   "source": [
    "plotHistErrorPercenage(percentage_error)"
   ],
   "metadata": {
    "collapsed": false,
    "ExecuteTime": {
     "end_time": "2023-12-20T19:22:23.635576414Z",
     "start_time": "2023-12-20T19:22:23.556466113Z"
    }
   },
   "id": "ac58c7a3c0a269c3"
  },
  {
   "cell_type": "code",
   "execution_count": 56,
   "outputs": [
    {
     "data": {
      "text/plain": "0.00   -5.785437\n0.10   -0.914830\n0.20   -0.549545\n0.30   -0.338017\n0.40   -0.191355\n0.50   -0.078500\n0.60    0.013594\n0.70    0.133988\n0.80    0.291711\n0.90    0.551575\n0.99    1.902067\n1.00    4.383624\nName: KÖBE_price, dtype: float64"
     },
     "execution_count": 56,
     "metadata": {},
     "output_type": "execute_result"
    }
   ],
   "source": [
    "percentage_error.quantile([0, 0.1, 0.2, 0.3, 0.4, 0.5, 0.6, 0.7, 0.8, 0.9, 0.99, 1])"
   ],
   "metadata": {
    "collapsed": false,
    "ExecuteTime": {
     "end_time": "2023-12-20T19:22:26.611586420Z",
     "start_time": "2023-12-20T19:22:26.604417854Z"
    }
   },
   "id": "3cb76a728e9a5728"
  },
  {
   "cell_type": "code",
   "execution_count": 41,
   "outputs": [
    {
     "data": {
      "text/plain": "0       156948.0\n1       232728.0\n2       133356.0\n3       165864.0\n4       176712.0\n          ...   \n3101    119208.0\n3102     80772.0\n3103     64932.0\n3104     75780.0\n3105     75780.0\nName: ALFA_price, Length: 2982, dtype: float64"
     },
     "execution_count": 41,
     "metadata": {},
     "output_type": "execute_result"
    }
   ],
   "source": [
    "data[target_variable]"
   ],
   "metadata": {
    "collapsed": false,
    "ExecuteTime": {
     "end_time": "2023-12-20T15:37:31.410198637Z",
     "start_time": "2023-12-20T15:37:31.403375819Z"
    }
   },
   "id": "2457d18033edb243"
  },
  {
   "cell_type": "code",
   "execution_count": null,
   "outputs": [],
   "source": [],
   "metadata": {
    "collapsed": false
   },
   "id": "a10b4d1ed2dada03"
  }
 ],
 "metadata": {
  "kernelspec": {
   "display_name": "Python 3",
   "language": "python",
   "name": "python3"
  },
  "language_info": {
   "codemirror_mode": {
    "name": "ipython",
    "version": 2
   },
   "file_extension": ".py",
   "mimetype": "text/x-python",
   "name": "python",
   "nbconvert_exporter": "python",
   "pygments_lexer": "ipython2",
   "version": "2.7.6"
  }
 },
 "nbformat": 4,
 "nbformat_minor": 5
}
