{
 "cells": [
  {
   "cell_type": "code",
   "execution_count": 1,
   "id": "initial_id",
   "metadata": {
    "collapsed": true,
    "ExecuteTime": {
     "end_time": "2024-01-08T12:50:25.807636287Z",
     "start_time": "2024-01-08T12:50:25.269235231Z"
    }
   },
   "outputs": [],
   "source": [
    "# Make a better system naming things, with doucmentation\n",
    "import pandas as pd\n",
    "import numpy as np\n",
    "import os\n",
    "import sys\n",
    "import matplotlib.pyplot as plt\n",
    "from sklearn.metrics import mean_absolute_error\n",
    "notebook_dir = os.path.abspath(os.getcwd())\n",
    "src_path = os.path.join('/home/lerceg/LukaPosao/market_models/', 'src')\n",
    "sys.path.append(src_path)\n",
    "\n",
    "import market_models.src.models.predict_model as pmx\n",
    "import market_models.src.models.train_model as tm\n",
    "import market_models.src.utils as utils"
   ]
  },
  {
   "cell_type": "code",
   "execution_count": 2,
   "outputs": [],
   "source": [
    "service = 'netrisk_casco'\n",
    "dates = '2023_11_14__2023_11_20__2023_12_12__2023_12_22__2023_12_28__2023_12_29__2024_01_02'.split('__')\n",
    "cur = ''\n",
    "dates_pref = []\n",
    "\n",
    "for i in range(1, len(dates)):\n",
    "    dates_pref.append(\"__\".join(dates[ : i + 1]))\n"
   ],
   "metadata": {
    "collapsed": false,
    "ExecuteTime": {
     "end_time": "2024-01-08T12:50:25.811453612Z",
     "start_time": "2024-01-08T12:50:25.808877617Z"
    }
   },
   "id": "669bd6cdab691b0d"
  },
  {
   "cell_type": "code",
   "execution_count": 3,
   "outputs": [
    {
     "data": {
      "text/plain": "['2023_11_14__2023_11_20',\n '2023_11_14__2023_11_20__2023_12_12',\n '2023_11_14__2023_11_20__2023_12_12__2023_12_22',\n '2023_11_14__2023_11_20__2023_12_12__2023_12_22__2023_12_28',\n '2023_11_14__2023_11_20__2023_12_12__2023_12_22__2023_12_28__2023_12_29',\n '2023_11_14__2023_11_20__2023_12_12__2023_12_22__2023_12_28__2023_12_29__2024_01_02']"
     },
     "execution_count": 3,
     "metadata": {},
     "output_type": "execute_result"
    }
   ],
   "source": [
    "dates_pref"
   ],
   "metadata": {
    "collapsed": false,
    "ExecuteTime": {
     "end_time": "2024-01-08T12:50:25.955789160Z",
     "start_time": "2024-01-08T12:50:25.953635264Z"
    }
   },
   "id": "94d4d09f32bd9e79"
  },
  {
   "cell_type": "code",
   "execution_count": 14,
   "outputs": [
    {
     "name": "stdout",
     "output_type": "stream",
     "text": [
      "780\n",
      "  DateCrawled  isRecent  CarMake  CarAge   ccm  kw    kg  car_value  \\\n",
      "0  2024_01_04      True       20       2   999  74  1180    14534.0   \n",
      "1  2024_01_04      True       20       4   999  92  1322    22295.0   \n",
      "2  2024_01_04      True       28       1   998  49   899    14687.4   \n",
      "3  2024_01_04      True       21       4  1318  75  1093    11541.4   \n",
      "4  2024_01_04      True       52       5   898  66  1082     9747.4   \n",
      "\n",
      "   CarMakerCategory  PostalCode  PostalCode2  PostalCode3  Category  \\\n",
      "0               1.0        7391           73          739         2   \n",
      "1               1.0        1038           10          103         2   \n",
      "2               1.0        7762           77          776         3   \n",
      "3               1.0        5630           56          563         1   \n",
      "4               1.0        8447           84          844         7   \n",
      "\n",
      "   Longitude  Latitude  Age  LicenseAge  BonusMalus  BonusMalusCode  \\\n",
      "0    18.0809   46.1993   52          18         0.0               1   \n",
      "1    19.0404   47.4984   58          18         0.0               1   \n",
      "2    18.2734   46.0111   49          18         0.0               1   \n",
      "3    21.1333   46.7667   34          18         0.0               1   \n",
      "4    17.5589   47.1020   61          18         1.0               2   \n",
      "\n",
      "   KÖBE_price  \n",
      "0     74664.0  \n",
      "1    110166.0  \n",
      "2     63318.0  \n",
      "3     90036.0  \n",
      "4     68808.0  \n"
     ]
    }
   ],
   "source": [
    "service = 'netrisk_casco'\n",
    "data_name_benchmark = 'netrisk_casco_benchmark_v1'\n",
    "target_variable = 'KÖBE_price'\n",
    "\n",
    "dates_pref = []\n",
    "data_names = [f'{service}_{date}' for date in dates_pref]\n",
    "data_names += ['netrisk_casco_v2', 'netrisk_casco_v5' ,'netrisk_casco_v6']\n",
    "data_names += ['netrisk_casco_v10']\n",
    "model_names = [utils.get_model_name(data_name, target_variable) for data_name in data_names]\n",
    "\n",
    "data_path_benchmark = utils.get_processed_data_path(data_name_benchmark)\n",
    "features_path_benchmark = utils.get_features_path(data_name_benchmark)\n",
    "model_paths = [utils.get_model_path(model_name) for model_name in model_names]\n",
    "\n",
    "\n",
    "data_benchmark, features = utils.load_data(data_path_benchmark, features_path_benchmark, target_variable)\n",
    "\n",
    "print(data_benchmark.head())\n",
    "\n",
    "models = [None] * len(model_paths)\n",
    "for i in range(len(model_paths)):\n",
    "    model = None\n",
    "    try:\n",
    "        model = utils.load_model(model_paths[i])\n",
    "    except Exception as e:\n",
    "        print(model_paths[i])\n",
    "        data, features = utils.load_data(utils.get_processed_data_path(data_names[i]), utils.get_features_path(data_names[i]), target_variable)\n",
    "        tm.train_model_util(data, features, target_variable, is_classification = False)\n",
    "        model = utils.load_model(model_paths[i])\n",
    "    models[i] = model\n",
    "        \n",
    "models = [utils.load_model(model_path) for model_path in model_paths]\n",
    "\n",
    "predictions = [utils.predict(model, data_benchmark[features]) for model in models]\n",
    "\n",
    "errors = [mean_absolute_error(prediction, data_benchmark[target_variable]) for prediction in predictions]\n",
    "\n",
    "target_error = data_benchmark[target_variable].mean() * 0.03"
   ],
   "metadata": {
    "collapsed": false,
    "ExecuteTime": {
     "end_time": "2024-01-08T12:56:42.072003658Z",
     "start_time": "2024-01-08T12:56:41.319342042Z"
    }
   },
   "id": "fd36bbd82fb74b08"
  },
  {
   "cell_type": "code",
   "execution_count": 15,
   "outputs": [
    {
     "data": {
      "text/plain": "    DateCrawled  isRecent  CarMake  CarAge   ccm  kw    kg  car_value  \\\n0    2024_01_04      True       20       2   999  74  1180  14534.000   \n1    2024_01_04      True       20       4   999  92  1322  22295.000   \n2    2024_01_04      True       28       1   998  49   899  14687.400   \n3    2024_01_04      True       21       4  1318  75  1093  11541.400   \n4    2024_01_04      True       52       5   898  66  1082   9747.400   \n..          ...       ...      ...     ...   ...  ..   ...        ...   \n788  2024_01_04      True       47      10   999  85  1081  13195.000   \n789  2024_01_04      True       56       5   999  70  1165  19770.504   \n790  2024_01_04      True       23       3   998  49   996   8447.400   \n791  2024_01_04      True       28       4   998  49   899  13777.400   \n792  2024_01_04      True       28       1  1197  62  1045  17027.400   \n\n     CarMakerCategory  PostalCode  PostalCode2  PostalCode3  Category  \\\n0                1.00        7391           73          739         2   \n1                1.00        1038           10          103         2   \n2                1.00        7762           77          776         3   \n3                1.00        5630           56          563         1   \n4                1.00        8447           84          844         7   \n..                ...         ...          ...          ...       ...   \n788              1.00        8137           81          813         7   \n789              1.00        2740           27          274         6   \n790              0.97        8735           87          873         5   \n791              1.00        7471           74          747         4   \n792              1.00        7082           70          708         7   \n\n     Longitude  Latitude  Age  LicenseAge  BonusMalus  BonusMalusCode  \\\n0      18.0809   46.1993   52          18         0.0               1   \n1      19.0404   47.4984   58          18         0.0               1   \n2      18.2734   46.0111   49          18         0.0               1   \n3      21.1333   46.7667   34          18         0.0               1   \n4      17.5589   47.1020   61          18         1.0               2   \n..         ...       ...  ...         ...         ...             ...   \n788    18.2935   46.8259   85          18         0.0               1   \n789    20.0048   47.1899   56          18         0.0               1   \n790    17.2723   46.5387   49          18         0.0               1   \n791    17.9091   46.4245   32          18         2.0               3   \n792    18.5392   46.6793   48          18         8.0               9   \n\n     KÖBE_price  \n0       74664.0  \n1      110166.0  \n2       63318.0  \n3       90036.0  \n4       68808.0  \n..          ...  \n788     67344.0  \n789     72102.0  \n790     63318.0  \n791     72102.0  \n792     81252.0  \n\n[780 rows x 20 columns]",
      "text/html": "<div>\n<style scoped>\n    .dataframe tbody tr th:only-of-type {\n        vertical-align: middle;\n    }\n\n    .dataframe tbody tr th {\n        vertical-align: top;\n    }\n\n    .dataframe thead th {\n        text-align: right;\n    }\n</style>\n<table border=\"1\" class=\"dataframe\">\n  <thead>\n    <tr style=\"text-align: right;\">\n      <th></th>\n      <th>DateCrawled</th>\n      <th>isRecent</th>\n      <th>CarMake</th>\n      <th>CarAge</th>\n      <th>ccm</th>\n      <th>kw</th>\n      <th>kg</th>\n      <th>car_value</th>\n      <th>CarMakerCategory</th>\n      <th>PostalCode</th>\n      <th>PostalCode2</th>\n      <th>PostalCode3</th>\n      <th>Category</th>\n      <th>Longitude</th>\n      <th>Latitude</th>\n      <th>Age</th>\n      <th>LicenseAge</th>\n      <th>BonusMalus</th>\n      <th>BonusMalusCode</th>\n      <th>KÖBE_price</th>\n    </tr>\n  </thead>\n  <tbody>\n    <tr>\n      <th>0</th>\n      <td>2024_01_04</td>\n      <td>True</td>\n      <td>20</td>\n      <td>2</td>\n      <td>999</td>\n      <td>74</td>\n      <td>1180</td>\n      <td>14534.000</td>\n      <td>1.00</td>\n      <td>7391</td>\n      <td>73</td>\n      <td>739</td>\n      <td>2</td>\n      <td>18.0809</td>\n      <td>46.1993</td>\n      <td>52</td>\n      <td>18</td>\n      <td>0.0</td>\n      <td>1</td>\n      <td>74664.0</td>\n    </tr>\n    <tr>\n      <th>1</th>\n      <td>2024_01_04</td>\n      <td>True</td>\n      <td>20</td>\n      <td>4</td>\n      <td>999</td>\n      <td>92</td>\n      <td>1322</td>\n      <td>22295.000</td>\n      <td>1.00</td>\n      <td>1038</td>\n      <td>10</td>\n      <td>103</td>\n      <td>2</td>\n      <td>19.0404</td>\n      <td>47.4984</td>\n      <td>58</td>\n      <td>18</td>\n      <td>0.0</td>\n      <td>1</td>\n      <td>110166.0</td>\n    </tr>\n    <tr>\n      <th>2</th>\n      <td>2024_01_04</td>\n      <td>True</td>\n      <td>28</td>\n      <td>1</td>\n      <td>998</td>\n      <td>49</td>\n      <td>899</td>\n      <td>14687.400</td>\n      <td>1.00</td>\n      <td>7762</td>\n      <td>77</td>\n      <td>776</td>\n      <td>3</td>\n      <td>18.2734</td>\n      <td>46.0111</td>\n      <td>49</td>\n      <td>18</td>\n      <td>0.0</td>\n      <td>1</td>\n      <td>63318.0</td>\n    </tr>\n    <tr>\n      <th>3</th>\n      <td>2024_01_04</td>\n      <td>True</td>\n      <td>21</td>\n      <td>4</td>\n      <td>1318</td>\n      <td>75</td>\n      <td>1093</td>\n      <td>11541.400</td>\n      <td>1.00</td>\n      <td>5630</td>\n      <td>56</td>\n      <td>563</td>\n      <td>1</td>\n      <td>21.1333</td>\n      <td>46.7667</td>\n      <td>34</td>\n      <td>18</td>\n      <td>0.0</td>\n      <td>1</td>\n      <td>90036.0</td>\n    </tr>\n    <tr>\n      <th>4</th>\n      <td>2024_01_04</td>\n      <td>True</td>\n      <td>52</td>\n      <td>5</td>\n      <td>898</td>\n      <td>66</td>\n      <td>1082</td>\n      <td>9747.400</td>\n      <td>1.00</td>\n      <td>8447</td>\n      <td>84</td>\n      <td>844</td>\n      <td>7</td>\n      <td>17.5589</td>\n      <td>47.1020</td>\n      <td>61</td>\n      <td>18</td>\n      <td>1.0</td>\n      <td>2</td>\n      <td>68808.0</td>\n    </tr>\n    <tr>\n      <th>...</th>\n      <td>...</td>\n      <td>...</td>\n      <td>...</td>\n      <td>...</td>\n      <td>...</td>\n      <td>...</td>\n      <td>...</td>\n      <td>...</td>\n      <td>...</td>\n      <td>...</td>\n      <td>...</td>\n      <td>...</td>\n      <td>...</td>\n      <td>...</td>\n      <td>...</td>\n      <td>...</td>\n      <td>...</td>\n      <td>...</td>\n      <td>...</td>\n      <td>...</td>\n    </tr>\n    <tr>\n      <th>788</th>\n      <td>2024_01_04</td>\n      <td>True</td>\n      <td>47</td>\n      <td>10</td>\n      <td>999</td>\n      <td>85</td>\n      <td>1081</td>\n      <td>13195.000</td>\n      <td>1.00</td>\n      <td>8137</td>\n      <td>81</td>\n      <td>813</td>\n      <td>7</td>\n      <td>18.2935</td>\n      <td>46.8259</td>\n      <td>85</td>\n      <td>18</td>\n      <td>0.0</td>\n      <td>1</td>\n      <td>67344.0</td>\n    </tr>\n    <tr>\n      <th>789</th>\n      <td>2024_01_04</td>\n      <td>True</td>\n      <td>56</td>\n      <td>5</td>\n      <td>999</td>\n      <td>70</td>\n      <td>1165</td>\n      <td>19770.504</td>\n      <td>1.00</td>\n      <td>2740</td>\n      <td>27</td>\n      <td>274</td>\n      <td>6</td>\n      <td>20.0048</td>\n      <td>47.1899</td>\n      <td>56</td>\n      <td>18</td>\n      <td>0.0</td>\n      <td>1</td>\n      <td>72102.0</td>\n    </tr>\n    <tr>\n      <th>790</th>\n      <td>2024_01_04</td>\n      <td>True</td>\n      <td>23</td>\n      <td>3</td>\n      <td>998</td>\n      <td>49</td>\n      <td>996</td>\n      <td>8447.400</td>\n      <td>0.97</td>\n      <td>8735</td>\n      <td>87</td>\n      <td>873</td>\n      <td>5</td>\n      <td>17.2723</td>\n      <td>46.5387</td>\n      <td>49</td>\n      <td>18</td>\n      <td>0.0</td>\n      <td>1</td>\n      <td>63318.0</td>\n    </tr>\n    <tr>\n      <th>791</th>\n      <td>2024_01_04</td>\n      <td>True</td>\n      <td>28</td>\n      <td>4</td>\n      <td>998</td>\n      <td>49</td>\n      <td>899</td>\n      <td>13777.400</td>\n      <td>1.00</td>\n      <td>7471</td>\n      <td>74</td>\n      <td>747</td>\n      <td>4</td>\n      <td>17.9091</td>\n      <td>46.4245</td>\n      <td>32</td>\n      <td>18</td>\n      <td>2.0</td>\n      <td>3</td>\n      <td>72102.0</td>\n    </tr>\n    <tr>\n      <th>792</th>\n      <td>2024_01_04</td>\n      <td>True</td>\n      <td>28</td>\n      <td>1</td>\n      <td>1197</td>\n      <td>62</td>\n      <td>1045</td>\n      <td>17027.400</td>\n      <td>1.00</td>\n      <td>7082</td>\n      <td>70</td>\n      <td>708</td>\n      <td>7</td>\n      <td>18.5392</td>\n      <td>46.6793</td>\n      <td>48</td>\n      <td>18</td>\n      <td>8.0</td>\n      <td>9</td>\n      <td>81252.0</td>\n    </tr>\n  </tbody>\n</table>\n<p>780 rows × 20 columns</p>\n</div>"
     },
     "execution_count": 15,
     "metadata": {},
     "output_type": "execute_result"
    }
   ],
   "source": [
    "data_benchmark"
   ],
   "metadata": {
    "collapsed": false,
    "ExecuteTime": {
     "end_time": "2024-01-08T12:56:43.575049075Z",
     "start_time": "2024-01-08T12:56:43.568561106Z"
    }
   },
   "id": "587b45b551cbc486"
  },
  {
   "cell_type": "code",
   "execution_count": 16,
   "outputs": [
    {
     "data": {
      "text/plain": "<Figure size 1200x700 with 1 Axes>",
      "image/png": "[encoded data removed]"
     },
     "metadata": {},
     "output_type": "display_data"
    }
   ],
   "source": [
    "plt.figure(figsize = (12, 7))\n",
    "x_labels = [c.replace(service, '').split('__')[-1] for c in data_names]\n",
    "plt.scatter(x_labels, errors, label = target_variable)\n",
    "top = max(target_error, max(errors))  * 1.05\n",
    "plt.ylim(bottom = 0, top = top)\n",
    "plt.hlines(y = data_benchmark[target_variable].mean() * 0.03, xmin = x_labels[0], xmax = x_labels[-1], label = 'target_error')\n",
    "plt.legend()\n",
    "plt.show()"
   ],
   "metadata": {
    "collapsed": false,
    "ExecuteTime": {
     "end_time": "2024-01-08T12:56:44.214936362Z",
     "start_time": "2024-01-08T12:56:44.122861806Z"
    }
   },
   "id": "e5f8b8cc8e5cf872"
  },
  {
   "cell_type": "code",
   "execution_count": 8,
   "outputs": [
    {
     "data": {
      "text/plain": "array([6.94998462])"
     },
     "execution_count": 8,
     "metadata": {},
     "output_type": "execute_result"
    }
   ],
   "source": [
    "np.array(errors) / data_benchmark[target_variable].mean() * 100"
   ],
   "metadata": {
    "collapsed": false,
    "ExecuteTime": {
     "end_time": "2024-01-08T12:51:46.711724874Z",
     "start_time": "2024-01-08T12:51:46.709347510Z"
    }
   },
   "id": "beb0dae8d383c913"
  },
  {
   "cell_type": "code",
   "execution_count": 30,
   "outputs": [
    {
     "data": {
      "text/plain": "4199.426121372031"
     },
     "execution_count": 30,
     "metadata": {},
     "output_type": "execute_result"
    }
   ],
   "source": [
    "data_benchmark[target_variable].mean() * 0.03"
   ],
   "metadata": {
    "collapsed": false,
    "ExecuteTime": {
     "end_time": "2024-01-04T09:17:27.569717731Z",
     "start_time": "2024-01-04T09:17:27.522190114Z"
    }
   },
   "id": "ff3bcdb58f24ec72"
  },
  {
   "cell_type": "code",
   "execution_count": 32,
   "outputs": [],
   "source": [
    "data, features = utils.load_data(utils.get_processed_data_path(\"netrisk_casco_v3\"), utils.get_features_path(\"netrisk_casco_v3\"), target_variable = target_variable)"
   ],
   "metadata": {
    "collapsed": false,
    "ExecuteTime": {
     "end_time": "2024-01-04T09:27:42.776684197Z",
     "start_time": "2024-01-04T09:27:42.732505582Z"
    }
   },
   "id": "926555b4aa798f13"
  },
  {
   "cell_type": "code",
   "execution_count": 38,
   "outputs": [
    {
     "data": {
      "text/plain": "379"
     },
     "execution_count": 38,
     "metadata": {},
     "output_type": "execute_result"
    }
   ],
   "source": [
    "data[target_variable].nunique()"
   ],
   "metadata": {
    "collapsed": false,
    "ExecuteTime": {
     "end_time": "2024-01-04T09:28:42.226993998Z",
     "start_time": "2024-01-04T09:28:42.222146264Z"
    }
   },
   "id": "eb11c511595540b9"
  },
  {
   "cell_type": "code",
   "execution_count": 16,
   "outputs": [],
   "source": [
    "def plotHistErrorPercenage(error : np.array) -> None:\n",
    "    plt.hist(error, range = [error.min() - 1, error.max() + 1], bins=40,\n",
    "             weights=np.ones(len(error)) / len(error))\n",
    "    plt.xlabel('Error percentage')\n",
    "    plt.ylabel('Percent of errors')\n",
    "    plt.show()\n"
   ],
   "metadata": {
    "collapsed": false,
    "ExecuteTime": {
     "end_time": "2024-01-06T07:52:10.084020475Z",
     "start_time": "2024-01-06T07:52:10.029941101Z"
    }
   },
   "id": "9223ff89e216c0b3"
  },
  {
   "cell_type": "code",
   "execution_count": 18,
   "outputs": [
    {
     "data": {
      "text/plain": "<Figure size 640x480 with 1 Axes>",
      "image/png": "[encoded data removed]"
     },
     "metadata": {},
     "output_type": "display_data"
    }
   ],
   "source": [
    "plotHistErrorPercenage(data_benchmark[target_variable] - predictions[-1])"
   ],
   "metadata": {
    "collapsed": false,
    "ExecuteTime": {
     "end_time": "2024-01-06T07:52:39.937806807Z",
     "start_time": "2024-01-06T07:52:39.735709138Z"
    }
   },
   "id": "ac58c7a3c0a269c3"
  },
  {
   "cell_type": "code",
   "execution_count": null,
   "outputs": [],
   "source": [
    "percentage_error.quantile([0, 0.1, 0.2, 0.3, 0.4, 0.5, 0.6, 0.7, 0.8, 0.9, 0.99, 1])"
   ],
   "metadata": {
    "collapsed": false
   },
   "id": "3cb76a728e9a5728"
  },
  {
   "cell_type": "code",
   "execution_count": null,
   "outputs": [],
   "source": [
    "data[target_variable]"
   ],
   "metadata": {
    "collapsed": false
   },
   "id": "2457d18033edb243"
  },
  {
   "cell_type": "code",
   "execution_count": null,
   "outputs": [],
   "source": [
    "data[data[target_variable] == 54900]"
   ],
   "metadata": {
    "collapsed": false
   },
   "id": "a10b4d1ed2dada03"
  },
  {
   "cell_type": "code",
   "execution_count": null,
   "outputs": [],
   "source": [],
   "metadata": {
    "collapsed": false
   },
   "id": "926329ff4ec07cdc"
  },
  {
   "cell_type": "code",
   "execution_count": null,
   "outputs": [],
   "source": [
    "data[(data['BonusMalus'] == 0) & (data['Age'].between(30, 40)) & (data['PostalCode'] < 2000)][['car_value', target_variable]].plot(kind = 'scatter', x = 'car_value', y = target_variable)"
   ],
   "metadata": {
    "collapsed": false
   },
   "id": "af707d500573bb65"
  },
  {
   "cell_type": "code",
   "execution_count": null,
   "outputs": [],
   "source": [
    "data.plot(kind = 'scatter', x = 'car_value', y = target_variable)"
   ],
   "metadata": {
    "collapsed": false
   },
   "id": "fbcf02f73cb54a88"
  },
  {
   "cell_type": "code",
   "execution_count": null,
   "outputs": [],
   "source": [
    "data.groupby(['car_value', 'Category', 'Age'])[target_variable].agg([('range', np.ptp), ('count', 'count'), ('min', 'min'), ('max', 'max'), ('minidx', 'idxmin'), ('maxidx', 'idxmax')])"
   ],
   "metadata": {
    "collapsed": false
   },
   "id": "a63a62bcb084a814"
  },
  {
   "cell_type": "code",
   "execution_count": null,
   "outputs": [],
   "source": [
    "data.loc[[2923,2469]]"
   ],
   "metadata": {
    "collapsed": false
   },
   "id": "d9cb151c526d94e3"
  },
  {
   "cell_type": "code",
   "execution_count": null,
   "outputs": [],
   "source": [
    "1141680.0 / 574200.0\n"
   ],
   "metadata": {
    "collapsed": false
   },
   "id": "5c88781f7ff89bdd"
  },
  {
   "cell_type": "code",
   "execution_count": null,
   "outputs": [],
   "source": [
    "gb_res = data.groupby(['Category', 'Age', 'kw', 'ccm', 'BonusMalus'])['car_value'].agg([('car_value_range', np.ptp), ('count', 'count'), ('idxmin', 'idxmin'), ('idxmax', 'idxmax')])"
   ],
   "metadata": {
    "collapsed": false
   },
   "id": "a24f55f2d0b5b159"
  },
  {
   "cell_type": "code",
   "execution_count": null,
   "outputs": [],
   "source": [
    "def check(row):\n",
    "    if row['idxmin'] == row['idxmax']:\n",
    "        return 10\n",
    "    try:\n",
    "        min_row = data.loc[row['idxmin']]\n",
    "        max_row = data.loc[row['idxmax']]\n",
    "    \n",
    "        price_ratio = max_row[target_variable] / min_row[target_variable]\n",
    "        car_value_ratio = max_row['car_value'] / min_row['car_value']\n",
    "        return abs(price_ratio - car_value_ratio)\n",
    "    except Exception as e:\n",
    "        return 100"
   ],
   "metadata": {
    "collapsed": false
   },
   "id": "ead4fb23a5574cb0"
  },
  {
   "cell_type": "code",
   "execution_count": null,
   "outputs": [],
   "source": [
    "gb_res.apply(lambda x : check(x), axis = 1)"
   ],
   "metadata": {
    "collapsed": false
   },
   "id": "1346ef5ec758a406"
  },
  {
   "cell_type": "code",
   "execution_count": 69,
   "outputs": [
    {
     "ename": "KeyError",
     "evalue": "'Catgory'",
     "output_type": "error",
     "traceback": [
      "\u001B[0;31m---------------------------------------------------------------------------\u001B[0m",
      "\u001B[0;31mKeyError\u001B[0m                                  Traceback (most recent call last)",
      "File \u001B[0;32m~/LukaPosao/venv/lib/python3.11/site-packages/pandas/core/indexes/base.py:3802\u001B[0m, in \u001B[0;36mIndex.get_loc\u001B[0;34m(self, key, method, tolerance)\u001B[0m\n\u001B[1;32m   3801\u001B[0m \u001B[38;5;28;01mtry\u001B[39;00m:\n\u001B[0;32m-> 3802\u001B[0m     \u001B[38;5;28;01mreturn\u001B[39;00m \u001B[38;5;28;43mself\u001B[39;49m\u001B[38;5;241;43m.\u001B[39;49m\u001B[43m_engine\u001B[49m\u001B[38;5;241;43m.\u001B[39;49m\u001B[43mget_loc\u001B[49m\u001B[43m(\u001B[49m\u001B[43mcasted_key\u001B[49m\u001B[43m)\u001B[49m\n\u001B[1;32m   3803\u001B[0m \u001B[38;5;28;01mexcept\u001B[39;00m \u001B[38;5;167;01mKeyError\u001B[39;00m \u001B[38;5;28;01mas\u001B[39;00m err:\n",
      "File \u001B[0;32m~/LukaPosao/venv/lib/python3.11/site-packages/pandas/_libs/index.pyx:138\u001B[0m, in \u001B[0;36mpandas._libs.index.IndexEngine.get_loc\u001B[0;34m()\u001B[0m\n",
      "File \u001B[0;32m~/LukaPosao/venv/lib/python3.11/site-packages/pandas/_libs/index.pyx:165\u001B[0m, in \u001B[0;36mpandas._libs.index.IndexEngine.get_loc\u001B[0;34m()\u001B[0m\n",
      "File \u001B[0;32mpandas/_libs/hashtable_class_helper.pxi:5745\u001B[0m, in \u001B[0;36mpandas._libs.hashtable.PyObjectHashTable.get_item\u001B[0;34m()\u001B[0m\n",
      "File \u001B[0;32mpandas/_libs/hashtable_class_helper.pxi:5753\u001B[0m, in \u001B[0;36mpandas._libs.hashtable.PyObjectHashTable.get_item\u001B[0;34m()\u001B[0m\n",
      "\u001B[0;31mKeyError\u001B[0m: 'Catgory'",
      "\nThe above exception was the direct cause of the following exception:\n",
      "\u001B[0;31mKeyError\u001B[0m                                  Traceback (most recent call last)",
      "Cell \u001B[0;32mIn[69], line 1\u001B[0m\n\u001B[0;32m----> 1\u001B[0m gb_res[\u001B[43mgb_res\u001B[49m\u001B[43m[\u001B[49m\u001B[38;5;124;43m'\u001B[39;49m\u001B[38;5;124;43mCatgory\u001B[39;49m\u001B[38;5;124;43m'\u001B[39;49m\u001B[43m]\u001B[49m \u001B[38;5;241m==\u001B[39m \u001B[38;5;241m2\u001B[39m]\n",
      "File \u001B[0;32m~/LukaPosao/venv/lib/python3.11/site-packages/pandas/core/frame.py:3807\u001B[0m, in \u001B[0;36mDataFrame.__getitem__\u001B[0;34m(self, key)\u001B[0m\n\u001B[1;32m   3805\u001B[0m \u001B[38;5;28;01mif\u001B[39;00m \u001B[38;5;28mself\u001B[39m\u001B[38;5;241m.\u001B[39mcolumns\u001B[38;5;241m.\u001B[39mnlevels \u001B[38;5;241m>\u001B[39m \u001B[38;5;241m1\u001B[39m:\n\u001B[1;32m   3806\u001B[0m     \u001B[38;5;28;01mreturn\u001B[39;00m \u001B[38;5;28mself\u001B[39m\u001B[38;5;241m.\u001B[39m_getitem_multilevel(key)\n\u001B[0;32m-> 3807\u001B[0m indexer \u001B[38;5;241m=\u001B[39m \u001B[38;5;28;43mself\u001B[39;49m\u001B[38;5;241;43m.\u001B[39;49m\u001B[43mcolumns\u001B[49m\u001B[38;5;241;43m.\u001B[39;49m\u001B[43mget_loc\u001B[49m\u001B[43m(\u001B[49m\u001B[43mkey\u001B[49m\u001B[43m)\u001B[49m\n\u001B[1;32m   3808\u001B[0m \u001B[38;5;28;01mif\u001B[39;00m is_integer(indexer):\n\u001B[1;32m   3809\u001B[0m     indexer \u001B[38;5;241m=\u001B[39m [indexer]\n",
      "File \u001B[0;32m~/LukaPosao/venv/lib/python3.11/site-packages/pandas/core/indexes/base.py:3804\u001B[0m, in \u001B[0;36mIndex.get_loc\u001B[0;34m(self, key, method, tolerance)\u001B[0m\n\u001B[1;32m   3802\u001B[0m     \u001B[38;5;28;01mreturn\u001B[39;00m \u001B[38;5;28mself\u001B[39m\u001B[38;5;241m.\u001B[39m_engine\u001B[38;5;241m.\u001B[39mget_loc(casted_key)\n\u001B[1;32m   3803\u001B[0m \u001B[38;5;28;01mexcept\u001B[39;00m \u001B[38;5;167;01mKeyError\u001B[39;00m \u001B[38;5;28;01mas\u001B[39;00m err:\n\u001B[0;32m-> 3804\u001B[0m     \u001B[38;5;28;01mraise\u001B[39;00m \u001B[38;5;167;01mKeyError\u001B[39;00m(key) \u001B[38;5;28;01mfrom\u001B[39;00m \u001B[38;5;21;01merr\u001B[39;00m\n\u001B[1;32m   3805\u001B[0m \u001B[38;5;28;01mexcept\u001B[39;00m \u001B[38;5;167;01mTypeError\u001B[39;00m:\n\u001B[1;32m   3806\u001B[0m     \u001B[38;5;66;03m# If we have a listlike key, _check_indexing_error will raise\u001B[39;00m\n\u001B[1;32m   3807\u001B[0m     \u001B[38;5;66;03m#  InvalidIndexError. Otherwise we fall through and re-raise\u001B[39;00m\n\u001B[1;32m   3808\u001B[0m     \u001B[38;5;66;03m#  the TypeError.\u001B[39;00m\n\u001B[1;32m   3809\u001B[0m     \u001B[38;5;28mself\u001B[39m\u001B[38;5;241m.\u001B[39m_check_indexing_error(key)\n",
      "\u001B[0;31mKeyError\u001B[0m: 'Catgory'"
     ]
    }
   ],
   "source": [
    "gb_res[gb_res['Catgory'] == 2]"
   ],
   "metadata": {
    "collapsed": false,
    "ExecuteTime": {
     "end_time": "2023-12-23T13:41:57.778752226Z",
     "start_time": "2023-12-23T13:41:57.762865407Z"
    }
   },
   "id": "22b081be4f2b0a3b"
  },
  {
   "cell_type": "code",
   "execution_count": null,
   "outputs": [],
   "source": [],
   "metadata": {
    "collapsed": false
   },
   "id": "414c320f780e9507"
  }
 ],
 "metadata": {
  "kernelspec": {
   "display_name": "Python 3",
   "language": "python",
   "name": "python3"
  },
  "language_info": {
   "codemirror_mode": {
    "name": "ipython",
    "version": 2
   },
   "file_extension": ".py",
   "mimetype": "text/x-python",
   "name": "python",
   "nbconvert_exporter": "python",
   "pygments_lexer": "ipython2",
   "version": "2.7.6"
  }
 },
 "nbformat": 4,
 "nbformat_minor": 5
}
