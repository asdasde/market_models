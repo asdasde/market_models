{
 "cells": [
  {
   "cell_type": "code",
   "execution_count": 1,
   "id": "initial_id",
   "metadata": {
    "collapsed": true,
    "ExecuteTime": {
     "end_time": "2024-01-08T12:49:15.944550643Z",
     "start_time": "2024-01-08T12:49:15.415580414Z"
    }
   },
   "outputs": [],
   "source": [
    "import datetime\n",
    "import os\n",
    "import sys\n",
    "import pandas as pd\n",
    "import numpy as np\n",
    "import xgboost\n",
    "from sklearn.model_selection import train_test_split\n",
    "import dataframe_image as dfi\n",
    "import seaborn as sns\n",
    "import matplotlib.pyplot as plt\n",
    "from matplotlib.ticker import PercentFormatter\n",
    "\n",
    "notebook_dir = os.path.abspath(os.getcwd())\n",
    "src_path = os.path.join('/home/lerceg/LukaPosao/market_models/', 'src')\n",
    "sys.path.append(src_path)\n",
    "\n",
    "import market_models.src.models.train_model as tm\n",
    "import market_models.src.models.predict_model as pm\n",
    "import market_models.src.utils as utils\n",
    "\n",
    "%load_ext autoreload\n",
    "%autoreload \n",
    "import market_models.src.features.build_features as build_features\n"
   ]
  },
  {
   "cell_type": "code",
   "execution_count": 2,
   "outputs": [],
   "source": [
    "data_name = 'netrisk_casco_v7'\n",
    "#target_variable = 'ALFA_price'\n",
    "target_variable = 'GROUPAMA_price'\n",
    "\n",
    "\n",
    "data_path = utils.get_processed_data_path(data_name)\n",
    "features_path = utils.get_features_path(data_name)\n",
    "\n"
   ],
   "metadata": {
    "collapsed": false,
    "ExecuteTime": {
     "end_time": "2024-01-08T12:49:17.339326252Z",
     "start_time": "2024-01-08T12:49:17.335148054Z"
    }
   },
   "id": "6e6cd1d9fe88a157"
  },
  {
   "cell_type": "code",
   "execution_count": 3,
   "outputs": [
    {
     "name": "stdout",
     "output_type": "stream",
     "text": [
      "   Unnamed: 0 DateCrawled  isRecent  CarMake  CarAge   ccm   kw    kg  \\\n",
      "0           0  2024_01_02      True       27       7  3604  209  1828   \n",
      "1           1  2024_01_02      True       28       2   998   49   899   \n",
      "2           2  2024_01_02      True       66       1  1197   85  1390   \n",
      "3           3  2024_01_02      True       26       2  1997  184  1611   \n",
      "4           4  2024_01_02      True        5       2  1499   90  1545   \n",
      "\n",
      "   car_value  CarMakerCategory  ...  GENERALI_price  GENERTEL_price  \\\n",
      "0    38922.0              1.10  ...        331409.0             NaN   \n",
      "1    15337.4              1.00  ...        120684.0             NaN   \n",
      "2    25532.0              0.97  ...        299714.0             NaN   \n",
      "3    44005.0              1.10  ...        719447.0             NaN   \n",
      "4    30498.0              1.00  ...        329262.0             NaN   \n",
      "\n",
      "   GROUPAMA_price  K&AMP;H_price  KÖBE_price  MAGYAR_price  SIGNAL_price  \\\n",
      "0             NaN       532519.0         NaN           NaN           NaN   \n",
      "1         94584.0       296601.0    114558.0           NaN           NaN   \n",
      "2        165900.0       310053.0     90036.0      109156.0      156193.0   \n",
      "3        381000.0      1026221.0         NaN           NaN           NaN   \n",
      "4        236808.0       524229.0    132492.0           NaN           NaN   \n",
      "\n",
      "   UNION_price  UNIQA_price  WÁBERER_price  \n",
      "0          NaN    1841453.0            NaN  \n",
      "1          NaN     108743.0       192024.0  \n",
      "2          NaN     119990.0            NaN  \n",
      "3          NaN          NaN            NaN  \n",
      "4          NaN     223359.0            NaN  \n",
      "\n",
      "[5 rows x 44 columns]\n"
     ]
    }
   ],
   "source": [
    "feature = 'PostalCode'\n",
    "data, features = utils.load_data(data_path, features_path, target_variable)\n",
    "brackets = data.drop_duplicates([feature], keep='last')[[feature, target_variable]].sort_values(by = feature)\n",
    "brackets = brackets.groupby(target_variable)[feature].agg(list)\n",
    "brackets = brackets.reset_index(drop=True).reset_index()\n",
    "brackets = brackets.rename(columns = {'index' : f'{target_variable}_{feature}_bracket'})\n",
    "brackets = brackets.explode(feature)\n",
    "    "
   ],
   "metadata": {
    "collapsed": false,
    "ExecuteTime": {
     "end_time": "2024-01-08T12:49:17.885307989Z",
     "start_time": "2024-01-08T12:49:17.836826573Z"
    }
   },
   "id": "a3b8e273fcfcef08"
  },
  {
   "cell_type": "code",
   "execution_count": 24,
   "outputs": [
    {
     "data": {
      "text/plain": "    GROUPAMA_price_PostalCode_bracket PostalCode\n0                                   0       3170\n0                                   0       5400\n1                                   1       5122\n2                                   2       3599\n3                                   3       9154\n..                                ...        ...\n19                                 19       1212\n19                                 19       1213\n19                                 19       1214\n19                                 19       1215\n19                                 19       2030\n\n[953 rows x 2 columns]",
      "text/html": "<div>\n<style scoped>\n    .dataframe tbody tr th:only-of-type {\n        vertical-align: middle;\n    }\n\n    .dataframe tbody tr th {\n        vertical-align: top;\n    }\n\n    .dataframe thead th {\n        text-align: right;\n    }\n</style>\n<table border=\"1\" class=\"dataframe\">\n  <thead>\n    <tr style=\"text-align: right;\">\n      <th></th>\n      <th>GROUPAMA_price_PostalCode_bracket</th>\n      <th>PostalCode</th>\n    </tr>\n  </thead>\n  <tbody>\n    <tr>\n      <th>0</th>\n      <td>0</td>\n      <td>3170</td>\n    </tr>\n    <tr>\n      <th>0</th>\n      <td>0</td>\n      <td>5400</td>\n    </tr>\n    <tr>\n      <th>1</th>\n      <td>1</td>\n      <td>5122</td>\n    </tr>\n    <tr>\n      <th>2</th>\n      <td>2</td>\n      <td>3599</td>\n    </tr>\n    <tr>\n      <th>3</th>\n      <td>3</td>\n      <td>9154</td>\n    </tr>\n    <tr>\n      <th>...</th>\n      <td>...</td>\n      <td>...</td>\n    </tr>\n    <tr>\n      <th>19</th>\n      <td>19</td>\n      <td>1212</td>\n    </tr>\n    <tr>\n      <th>19</th>\n      <td>19</td>\n      <td>1213</td>\n    </tr>\n    <tr>\n      <th>19</th>\n      <td>19</td>\n      <td>1214</td>\n    </tr>\n    <tr>\n      <th>19</th>\n      <td>19</td>\n      <td>1215</td>\n    </tr>\n    <tr>\n      <th>19</th>\n      <td>19</td>\n      <td>2030</td>\n    </tr>\n  </tbody>\n</table>\n<p>953 rows × 2 columns</p>\n</div>"
     },
     "execution_count": 24,
     "metadata": {},
     "output_type": "execute_result"
    }
   ],
   "source": [
    "brackets"
   ],
   "metadata": {
    "collapsed": false,
    "ExecuteTime": {
     "end_time": "2024-01-06T16:53:01.880518549Z",
     "start_time": "2024-01-06T16:53:01.876080520Z"
    }
   },
   "id": "35081b6ecbe0935a"
  },
  {
   "cell_type": "code",
   "execution_count": 3,
   "outputs": [],
   "source": [
    "\n",
    "\n",
    "def make_brackets(data, feature, target_variable):\n",
    "    brackets = data.drop_duplicates([feature], keep='last')[[feature, target_variable]].sort_values(feature)\n",
    "    brackets = brackets.groupby(target_variable)[feature].agg(list)\n",
    "    brackets = brackets.reset_index(drop=True).reset_index()\n",
    "    brackets = brackets.rename(columns = {'index' : f'{target_variable}_{feature}_bracket'})\n",
    "    brackets = brackets.explode(feature)\n",
    "    return brackets\n",
    "\n",
    "def collapse_list(lst):\n",
    "    return (min(lst), max(lst))\n",
    "\n",
    "def merge_overlapping_tuples(tuple1, tuple2):\n",
    "    start1, end1 = tuple1\n",
    "    start2, end2 = tuple2\n",
    "\n",
    "    # Check for overlap\n",
    "    if start1 <= end2 and start2 <= end1:\n",
    "        # Merge overlapping ranges\n",
    "        merged_start = min(start1, start2)\n",
    "        merged_end = max(end1, end2)\n",
    "        return merged_start, merged_end\n",
    "    else:\n",
    "        # No overlap\n",
    "        return None\n",
    "\n",
    "    "
   ],
   "metadata": {
    "collapsed": false,
    "ExecuteTime": {
     "end_time": "2024-01-06T16:47:04.412891615Z",
     "start_time": "2024-01-06T16:47:04.409446955Z"
    }
   },
   "id": "384b02a9e2ad67"
  },
  {
   "cell_type": "code",
   "execution_count": 25,
   "outputs": [
    {
     "name": "stdout",
     "output_type": "stream",
     "text": [
      "../data/external/feature_brackets/ALFA_price_brackets/ALFA_price_Age_brackets.csv\n",
      "../data/external/feature_brackets/ALFA_price_brackets/ALFA_price_PostalCode_brackets.csv\n",
      "../data/external/feature_brackets/ALLIANZ_price_brackets/ALLIANZ_price_Age_brackets.csv\n",
      "../data/external/feature_brackets/ALLIANZ_price_brackets/ALLIANZ_price_PostalCode_brackets.csv\n",
      "../data/external/feature_brackets/GENERALI_price_brackets/GENERALI_price_Age_brackets.csv\n",
      "../data/external/feature_brackets/GENERALI_price_brackets/GENERALI_price_PostalCode_brackets.csv\n",
      "../data/external/feature_brackets/GENERTEL_price_brackets/GENERTEL_price_Age_brackets.csv\n",
      "../data/external/feature_brackets/GENERTEL_price_brackets/GENERTEL_price_PostalCode_brackets.csv\n",
      "../data/external/feature_brackets/GROUPAMA_price_brackets/GROUPAMA_price_Age_brackets.csv\n",
      "../data/external/feature_brackets/GROUPAMA_price_brackets/GROUPAMA_price_PostalCode_brackets.csv\n",
      "../data/external/feature_brackets/K&AMP;H_price_brackets/K&AMP;H_price_Age_brackets.csv\n",
      "../data/external/feature_brackets/K&AMP;H_price_brackets/K&AMP;H_price_PostalCode_brackets.csv\n",
      "../data/external/feature_brackets/KÖBE_price_brackets/KÖBE_price_Age_brackets.csv\n",
      "../data/external/feature_brackets/KÖBE_price_brackets/KÖBE_price_PostalCode_brackets.csv\n",
      "../data/external/feature_brackets/MAGYAR_price_brackets/MAGYAR_price_Age_brackets.csv\n",
      "../data/external/feature_brackets/MAGYAR_price_brackets/MAGYAR_price_PostalCode_brackets.csv\n",
      "../data/external/feature_brackets/SIGNAL_price_brackets/SIGNAL_price_Age_brackets.csv\n",
      "../data/external/feature_brackets/SIGNAL_price_brackets/SIGNAL_price_PostalCode_brackets.csv\n",
      "../data/external/feature_brackets/UNION_price_brackets/UNION_price_Age_brackets.csv\n",
      "../data/external/feature_brackets/UNION_price_brackets/UNION_price_PostalCode_brackets.csv\n",
      "../data/external/feature_brackets/UNIQA_price_brackets/UNIQA_price_Age_brackets.csv\n",
      "../data/external/feature_brackets/UNIQA_price_brackets/UNIQA_price_PostalCode_brackets.csv\n",
      "../data/external/feature_brackets/WÁBERER_price_brackets/WÁBERER_price_Age_brackets.csv\n",
      "../data/external/feature_brackets/WÁBERER_price_brackets/WÁBERER_price_PostalCode_brackets.csv\n"
     ]
    }
   ],
   "source": [
    "target_variables = ['ALFA_price', 'ALLIANZ_price', 'GENERALI_price', 'GENERTEL_price', 'GROUPAMA_price', 'K&AMP;H_price', 'KÖBE_price', 'MAGYAR_price', 'SIGNAL_price', 'UNION_price', 'UNIQA_price', 'WÁBERER_price']\n",
    "for target_variable in target_variables:\n",
    "    \n",
    "    data, features = utils.load_data(data_path, features_path, target_variable)\n",
    "    data_old = data[data['DateCrawled'] != '2024_01_05']\n",
    "    \n",
    "    for feature in ['Age', 'PostalCode']:\n",
    "        brackets = make_brackets(data_old, target_variable, feature)\n",
    "        brackets_dir = utils.get_feature_brackets_dir(target_variable)\n",
    "        bracket_path = utils.get_brackets_path(target_variable, feature)\n",
    "        print(bracket_path)\n",
    "\n",
    "        brackets.to_csv(bracket_path, index = False)"
   ],
   "metadata": {
    "collapsed": false,
    "ExecuteTime": {
     "end_time": "2024-01-06T16:53:15.775764687Z",
     "start_time": "2024-01-06T16:53:15.451308078Z"
    }
   },
   "id": "73e7c2d020ac36ab"
  },
  {
   "cell_type": "code",
   "execution_count": 21,
   "outputs": [],
   "source": [
    "brackets = make_brackets(data_new, 'CarAge', target_variable)"
   ],
   "metadata": {
    "collapsed": false,
    "ExecuteTime": {
     "end_time": "2024-01-06T16:31:31.737940501Z",
     "start_time": "2024-01-06T16:31:31.691633289Z"
    }
   },
   "id": "cf668a8c7743454c"
  },
  {
   "cell_type": "code",
   "execution_count": 22,
   "outputs": [
    {
     "data": {
      "text/plain": "   GROUPAMA_price_CarAge_bracket CarAge\n0                              0      9\n1                              1      7\n1                              1      8\n2                              2      6\n3                              3      5\n4                              4      4\n5                              5      2\n5                              5      3\n6                              6      1",
      "text/html": "<div>\n<style scoped>\n    .dataframe tbody tr th:only-of-type {\n        vertical-align: middle;\n    }\n\n    .dataframe tbody tr th {\n        vertical-align: top;\n    }\n\n    .dataframe thead th {\n        text-align: right;\n    }\n</style>\n<table border=\"1\" class=\"dataframe\">\n  <thead>\n    <tr style=\"text-align: right;\">\n      <th></th>\n      <th>GROUPAMA_price_CarAge_bracket</th>\n      <th>CarAge</th>\n    </tr>\n  </thead>\n  <tbody>\n    <tr>\n      <th>0</th>\n      <td>0</td>\n      <td>9</td>\n    </tr>\n    <tr>\n      <th>1</th>\n      <td>1</td>\n      <td>7</td>\n    </tr>\n    <tr>\n      <th>1</th>\n      <td>1</td>\n      <td>8</td>\n    </tr>\n    <tr>\n      <th>2</th>\n      <td>2</td>\n      <td>6</td>\n    </tr>\n    <tr>\n      <th>3</th>\n      <td>3</td>\n      <td>5</td>\n    </tr>\n    <tr>\n      <th>4</th>\n      <td>4</td>\n      <td>4</td>\n    </tr>\n    <tr>\n      <th>5</th>\n      <td>5</td>\n      <td>2</td>\n    </tr>\n    <tr>\n      <th>5</th>\n      <td>5</td>\n      <td>3</td>\n    </tr>\n    <tr>\n      <th>6</th>\n      <td>6</td>\n      <td>1</td>\n    </tr>\n  </tbody>\n</table>\n</div>"
     },
     "execution_count": 22,
     "metadata": {},
     "output_type": "execute_result"
    }
   ],
   "source": [
    "brackets"
   ],
   "metadata": {
    "collapsed": false,
    "ExecuteTime": {
     "end_time": "2024-01-06T16:31:33.435403229Z",
     "start_time": "2024-01-06T16:31:33.431504832Z"
    }
   },
   "id": "ad2ddf699c7f5228"
  },
  {
   "cell_type": "code",
   "execution_count": 9,
   "outputs": [
    {
     "data": {
      "text/plain": "UNION_price\n63136.0    [2016, 2021, 2023, 2038, 2045, 2060, 2065, 206...\n66850.0    [3400, 3418, 3432, 3433, 3434, 3450, 3458, 350...\n74277.0    [1011, 1012, 1013, 1014, 1015, 1016, 1021, 102...\nName: PostalCode, dtype: object"
     },
     "execution_count": 9,
     "metadata": {},
     "output_type": "execute_result"
    }
   ],
   "source": [
    "make_brackets(data_new, 'PostalCode', target_variable)"
   ],
   "metadata": {
    "collapsed": false,
    "ExecuteTime": {
     "end_time": "2024-01-06T15:53:03.347236057Z",
     "start_time": "2024-01-06T15:53:03.334760814Z"
    }
   },
   "id": "1adafbd59e777353"
  },
  {
   "cell_type": "code",
   "execution_count": 31,
   "outputs": [
    {
     "data": {
      "text/plain": "UNION_price\n63136.0     (35, 69)\n69449.0     (31, 33)\n72606.0     (71, 77)\n94704.0     (23, 29)\n157840.0    (19, 21)\nName: Age, dtype: object"
     },
     "execution_count": 31,
     "metadata": {},
     "output_type": "execute_result"
    }
   ],
   "source": [
    "make_brackets(data_new, 'Age', target_variable).apply(collapse_list)"
   ],
   "metadata": {
    "collapsed": false,
    "ExecuteTime": {
     "end_time": "2024-01-05T13:17:13.375907661Z",
     "start_time": "2024-01-05T13:17:13.356423588Z"
    }
   },
   "id": "1fe6c3e411ca0779"
  },
  {
   "cell_type": "code",
   "execution_count": 32,
   "outputs": [
    {
     "data": {
      "text/plain": "Series([], Name: Age, dtype: int64)"
     },
     "execution_count": 32,
     "metadata": {},
     "output_type": "execute_result"
    }
   ],
   "source": [
    "make_brackets(data_old, 'Age', target_variable).apply(collapse_list)"
   ],
   "metadata": {
    "collapsed": false,
    "ExecuteTime": {
     "end_time": "2024-01-05T13:17:14.550292073Z",
     "start_time": "2024-01-05T13:17:14.544191972Z"
    }
   },
   "id": "be02844e54840375"
  },
  {
   "cell_type": "code",
   "execution_count": 33,
   "outputs": [
    {
     "name": "stdout",
     "output_type": "stream",
     "text": [
      "0    (19, 21)\n",
      "1    (23, 29)\n",
      "2    (31, 33)\n",
      "3    (35, 69)\n",
      "4    (71, 77)\n",
      "Name: merged_ranges, dtype: object\n"
     ]
    },
    {
     "name": "stderr",
     "output_type": "stream",
     "text": [
      "/tmp/ipykernel_6017/484454066.py:15: FutureWarning: iteritems is deprecated and will be removed in a future version. Use .items instead.\n",
      "  for index, value in sorted_data.iteritems():\n"
     ]
    }
   ],
   "source": [
    "import pandas as pd\n",
    "\n",
    "# Sample data as a pandas Series\n",
    "ranges = pd.concat([make_brackets(data_old, 'Age', target_variable), make_brackets(data_new, 'Age', target_variable)]).apply(collapse_list)\n",
    "\n",
    "# Sort the series by the start value of each tuple\n",
    "sorted_data = ranges.sort_values()\n",
    "\n",
    "# Initialize variables to store merged ranges\n",
    "merged_ranges = []\n",
    "\n",
    "# Iterate through the tuples and merge overlapping ranges\n",
    "current_start, current_end = sorted_data.iloc[0]\n",
    "\n",
    "for index, value in sorted_data.iteritems():\n",
    "    if value[0] <= current_end:\n",
    "        # Merge overlapping ranges\n",
    "        current_end = max(current_end, value[1])\n",
    "    else:\n",
    "        # Save the merged range and update current start and end\n",
    "        merged_ranges.append((current_start, current_end))\n",
    "        current_start, current_end = value\n",
    "\n",
    "# Save the last merged range\n",
    "merged_ranges.append((current_start, current_end))\n",
    "\n",
    "# Create a new Series with merged ranges\n",
    "result_series = pd.Series(merged_ranges, name='merged_ranges')\n",
    "\n",
    "print(result_series)\n"
   ],
   "metadata": {
    "collapsed": false,
    "ExecuteTime": {
     "end_time": "2024-01-05T13:17:22.907887311Z",
     "start_time": "2024-01-05T13:17:22.903774065Z"
    }
   },
   "id": "b9c3a36316322545"
  },
  {
   "cell_type": "code",
   "execution_count": 121,
   "outputs": [
    {
     "data": {
      "text/plain": "pandas.core.series.Series"
     },
     "execution_count": 121,
     "metadata": {},
     "output_type": "execute_result"
    }
   ],
   "source": [],
   "metadata": {
    "collapsed": false,
    "ExecuteTime": {
     "end_time": "2024-01-05T10:45:26.483618135Z",
     "start_time": "2024-01-05T10:45:26.477149864Z"
    }
   },
   "id": "26e8e967da12f170"
  },
  {
   "cell_type": "code",
   "execution_count": 43,
   "outputs": [],
   "source": [
    "data = pd.read_csv(utils.get_processed_data_path('netrisk_casco_v1'))"
   ],
   "metadata": {
    "collapsed": false,
    "ExecuteTime": {
     "end_time": "2024-01-05T10:02:52.078294818Z",
     "start_time": "2024-01-05T10:02:52.051260699Z"
    }
   },
   "id": "70256ba23dd3c2b"
  },
  {
   "cell_type": "code",
   "execution_count": 46,
   "outputs": [],
   "source": [
    "price_cols = data.filter(like = '_price').columns.to_list()\n",
    "insurers = [x.replace('_price', '') for x in price_cols]\n",
    "\n",
    "def add_rank(row):\n",
    "    prices = list(zip(insurers, row[price_cols]))\n",
    "    prices = sorted(prices, key=lambda x: float('inf') if str(x[1]) == 'nan' else x[1])\n",
    "    ranks = []\n",
    "    for i, (ins, pr) in enumerate(prices):\n",
    "        if str(pr) != 'nan':\n",
    "            ranks.append((ins, i + 1))\n",
    "        else:\n",
    "            ranks.append((ins, None))\n",
    "    ranks = sorted(ranks, key=lambda x: x[0])\n",
    "    return pd.Series([x[1] for x in ranks])\n",
    "\n",
    "rank_cols = [ins + '_rank' for ins in insurers]\n",
    "data[rank_cols] = data.apply(lambda x: add_rank(x), axis=1)\n"
   ],
   "metadata": {
    "collapsed": false,
    "ExecuteTime": {
     "end_time": "2024-01-05T10:04:35.639969477Z",
     "start_time": "2024-01-05T10:04:33.786065164Z"
    }
   },
   "id": "2582d69b697910e5"
  },
  {
   "cell_type": "code",
   "execution_count": 47,
   "outputs": [
    {
     "data": {
      "text/plain": "      ALFA_rank  ALLIANZ_rank  GENERALI_rank  GENERTEL_rank  GROUPAMA_rank  \\\n0           6.0           9.0            5.0            NaN            3.0   \n1           3.0           8.0           10.0            NaN            2.0   \n2           7.0           9.0           10.0            NaN            6.0   \n3           6.0           9.0            4.0            NaN           11.0   \n4           6.0          10.0            7.0            NaN            3.0   \n...         ...           ...            ...            ...            ...   \n5190        7.0           4.0            5.0            NaN            3.0   \n5191        3.0           8.0           10.0            NaN           11.0   \n5192        3.0           9.0            5.0            NaN            7.0   \n5193        6.0           3.0            9.0            NaN            4.0   \n5194        6.0          11.0            4.0            NaN           10.0   \n\n      K&AMP;H_rank  KÖBE_rank  MAGYAR_rank  SIGNAL_rank  UNION_rank  \\\n0              8.0        2.0          NaN          NaN         1.0   \n1              4.0        5.0          6.0         11.0         1.0   \n2              8.0        3.0          2.0         11.0         5.0   \n3              8.0        3.0          2.0         10.0         1.0   \n4              9.0        1.0          2.0          8.0         5.0   \n...            ...        ...          ...          ...         ...   \n5190           9.0        1.0          NaN          NaN         2.0   \n5191           6.0        2.0          9.0          4.0         1.0   \n5192           8.0        1.0          4.0          NaN         2.0   \n5193           8.0        1.0          NaN          5.0         2.0   \n5194           7.0        3.0          8.0          5.0         2.0   \n\n      UNIQA_rank  WÁBERER_rank  \n0            4.0           7.0  \n1            9.0           7.0  \n2            1.0           4.0  \n3            7.0           5.0  \n4           11.0           4.0  \n...          ...           ...  \n5190         6.0           8.0  \n5191         7.0           5.0  \n5192         6.0           NaN  \n5193         7.0           NaN  \n5194         9.0           1.0  \n\n[5195 rows x 12 columns]",
      "text/html": "<div>\n<style scoped>\n    .dataframe tbody tr th:only-of-type {\n        vertical-align: middle;\n    }\n\n    .dataframe tbody tr th {\n        vertical-align: top;\n    }\n\n    .dataframe thead th {\n        text-align: right;\n    }\n</style>\n<table border=\"1\" class=\"dataframe\">\n  <thead>\n    <tr style=\"text-align: right;\">\n      <th></th>\n      <th>ALFA_rank</th>\n      <th>ALLIANZ_rank</th>\n      <th>GENERALI_rank</th>\n      <th>GENERTEL_rank</th>\n      <th>GROUPAMA_rank</th>\n      <th>K&amp;AMP;H_rank</th>\n      <th>KÖBE_rank</th>\n      <th>MAGYAR_rank</th>\n      <th>SIGNAL_rank</th>\n      <th>UNION_rank</th>\n      <th>UNIQA_rank</th>\n      <th>WÁBERER_rank</th>\n    </tr>\n  </thead>\n  <tbody>\n    <tr>\n      <th>0</th>\n      <td>6.0</td>\n      <td>9.0</td>\n      <td>5.0</td>\n      <td>NaN</td>\n      <td>3.0</td>\n      <td>8.0</td>\n      <td>2.0</td>\n      <td>NaN</td>\n      <td>NaN</td>\n      <td>1.0</td>\n      <td>4.0</td>\n      <td>7.0</td>\n    </tr>\n    <tr>\n      <th>1</th>\n      <td>3.0</td>\n      <td>8.0</td>\n      <td>10.0</td>\n      <td>NaN</td>\n      <td>2.0</td>\n      <td>4.0</td>\n      <td>5.0</td>\n      <td>6.0</td>\n      <td>11.0</td>\n      <td>1.0</td>\n      <td>9.0</td>\n      <td>7.0</td>\n    </tr>\n    <tr>\n      <th>2</th>\n      <td>7.0</td>\n      <td>9.0</td>\n      <td>10.0</td>\n      <td>NaN</td>\n      <td>6.0</td>\n      <td>8.0</td>\n      <td>3.0</td>\n      <td>2.0</td>\n      <td>11.0</td>\n      <td>5.0</td>\n      <td>1.0</td>\n      <td>4.0</td>\n    </tr>\n    <tr>\n      <th>3</th>\n      <td>6.0</td>\n      <td>9.0</td>\n      <td>4.0</td>\n      <td>NaN</td>\n      <td>11.0</td>\n      <td>8.0</td>\n      <td>3.0</td>\n      <td>2.0</td>\n      <td>10.0</td>\n      <td>1.0</td>\n      <td>7.0</td>\n      <td>5.0</td>\n    </tr>\n    <tr>\n      <th>4</th>\n      <td>6.0</td>\n      <td>10.0</td>\n      <td>7.0</td>\n      <td>NaN</td>\n      <td>3.0</td>\n      <td>9.0</td>\n      <td>1.0</td>\n      <td>2.0</td>\n      <td>8.0</td>\n      <td>5.0</td>\n      <td>11.0</td>\n      <td>4.0</td>\n    </tr>\n    <tr>\n      <th>...</th>\n      <td>...</td>\n      <td>...</td>\n      <td>...</td>\n      <td>...</td>\n      <td>...</td>\n      <td>...</td>\n      <td>...</td>\n      <td>...</td>\n      <td>...</td>\n      <td>...</td>\n      <td>...</td>\n      <td>...</td>\n    </tr>\n    <tr>\n      <th>5190</th>\n      <td>7.0</td>\n      <td>4.0</td>\n      <td>5.0</td>\n      <td>NaN</td>\n      <td>3.0</td>\n      <td>9.0</td>\n      <td>1.0</td>\n      <td>NaN</td>\n      <td>NaN</td>\n      <td>2.0</td>\n      <td>6.0</td>\n      <td>8.0</td>\n    </tr>\n    <tr>\n      <th>5191</th>\n      <td>3.0</td>\n      <td>8.0</td>\n      <td>10.0</td>\n      <td>NaN</td>\n      <td>11.0</td>\n      <td>6.0</td>\n      <td>2.0</td>\n      <td>9.0</td>\n      <td>4.0</td>\n      <td>1.0</td>\n      <td>7.0</td>\n      <td>5.0</td>\n    </tr>\n    <tr>\n      <th>5192</th>\n      <td>3.0</td>\n      <td>9.0</td>\n      <td>5.0</td>\n      <td>NaN</td>\n      <td>7.0</td>\n      <td>8.0</td>\n      <td>1.0</td>\n      <td>4.0</td>\n      <td>NaN</td>\n      <td>2.0</td>\n      <td>6.0</td>\n      <td>NaN</td>\n    </tr>\n    <tr>\n      <th>5193</th>\n      <td>6.0</td>\n      <td>3.0</td>\n      <td>9.0</td>\n      <td>NaN</td>\n      <td>4.0</td>\n      <td>8.0</td>\n      <td>1.0</td>\n      <td>NaN</td>\n      <td>5.0</td>\n      <td>2.0</td>\n      <td>7.0</td>\n      <td>NaN</td>\n    </tr>\n    <tr>\n      <th>5194</th>\n      <td>6.0</td>\n      <td>11.0</td>\n      <td>4.0</td>\n      <td>NaN</td>\n      <td>10.0</td>\n      <td>7.0</td>\n      <td>3.0</td>\n      <td>8.0</td>\n      <td>5.0</td>\n      <td>2.0</td>\n      <td>9.0</td>\n      <td>1.0</td>\n    </tr>\n  </tbody>\n</table>\n<p>5195 rows × 12 columns</p>\n</div>"
     },
     "execution_count": 47,
     "metadata": {},
     "output_type": "execute_result"
    }
   ],
   "source": [
    "data[rank_cols]"
   ],
   "metadata": {
    "collapsed": false,
    "ExecuteTime": {
     "end_time": "2024-01-05T10:04:39.173673074Z",
     "start_time": "2024-01-05T10:04:39.152694893Z"
    }
   },
   "id": "924dc42f9bcdffe5"
  },
  {
   "cell_type": "code",
   "execution_count": 48,
   "outputs": [],
   "source": [
    "def rank_analysis(profiles):\n",
    "    rank_value_counts = profiles[rank_cols].apply(pd.Series.value_counts)\n",
    "    rank_percentage = rank_value_counts.apply(lambda x : x / x.sum(), axis = 1) * 100\n",
    "    return rank_value_counts, rank_percentage"
   ],
   "metadata": {
    "collapsed": false,
    "ExecuteTime": {
     "end_time": "2024-01-05T10:05:44.205350194Z",
     "start_time": "2024-01-05T10:05:44.192377810Z"
    }
   },
   "id": "8e053e8ad9cf3d82"
  },
  {
   "cell_type": "code",
   "execution_count": 49,
   "outputs": [],
   "source": [
    "rank_value_counts, rank_percentage = rank_analysis(data)"
   ],
   "metadata": {
    "collapsed": false,
    "ExecuteTime": {
     "end_time": "2024-01-05T10:05:48.143773311Z",
     "start_time": "2024-01-05T10:05:48.134430683Z"
    }
   },
   "id": "398aafa3b335e11e"
  },
  {
   "cell_type": "code",
   "execution_count": 63,
   "outputs": [
    {
     "data": {
      "text/plain": "     ALFA_rank  ALLIANZ_rank  GENERALI_rank  GENERTEL_rank  GROUPAMA_rank  \\\n1.0   5.928778      0.404235       1.732435            NaN      11.241578   \n\n     K&AMP;H_rank  KÖBE_rank  MAGYAR_rank  SIGNAL_rank  UNION_rank  \\\n1.0      0.250241  47.661213      6.12127      0.26949   16.053898   \n\n     UNIQA_rank  WÁBERER_rank  \n1.0    3.291627      7.045236  ",
      "text/html": "<div>\n<style scoped>\n    .dataframe tbody tr th:only-of-type {\n        vertical-align: middle;\n    }\n\n    .dataframe tbody tr th {\n        vertical-align: top;\n    }\n\n    .dataframe thead th {\n        text-align: right;\n    }\n</style>\n<table border=\"1\" class=\"dataframe\">\n  <thead>\n    <tr style=\"text-align: right;\">\n      <th></th>\n      <th>ALFA_rank</th>\n      <th>ALLIANZ_rank</th>\n      <th>GENERALI_rank</th>\n      <th>GENERTEL_rank</th>\n      <th>GROUPAMA_rank</th>\n      <th>K&amp;AMP;H_rank</th>\n      <th>KÖBE_rank</th>\n      <th>MAGYAR_rank</th>\n      <th>SIGNAL_rank</th>\n      <th>UNION_rank</th>\n      <th>UNIQA_rank</th>\n      <th>WÁBERER_rank</th>\n    </tr>\n  </thead>\n  <tbody>\n    <tr>\n      <th>1.0</th>\n      <td>5.928778</td>\n      <td>0.404235</td>\n      <td>1.732435</td>\n      <td>NaN</td>\n      <td>11.241578</td>\n      <td>0.250241</td>\n      <td>47.661213</td>\n      <td>6.12127</td>\n      <td>0.26949</td>\n      <td>16.053898</td>\n      <td>3.291627</td>\n      <td>7.045236</td>\n    </tr>\n  </tbody>\n</table>\n</div>"
     },
     "execution_count": 63,
     "metadata": {},
     "output_type": "execute_result"
    }
   ],
   "source": [
    "rank_percentage.iloc[0 : 1]"
   ],
   "metadata": {
    "collapsed": false,
    "ExecuteTime": {
     "end_time": "2024-01-05T10:12:45.972035335Z",
     "start_time": "2024-01-05T10:12:45.952261033Z"
    }
   },
   "id": "7d6f0fcd2d9dc3fb"
  },
  {
   "cell_type": "code",
   "execution_count": 55,
   "outputs": [
    {
     "data": {
      "text/plain": "6.075722384836013"
     },
     "execution_count": 55,
     "metadata": {},
     "output_type": "execute_result"
    }
   ],
   "source": [
    "8000 / data['UNION_price'].mean() * 100"
   ],
   "metadata": {
    "collapsed": false,
    "ExecuteTime": {
     "end_time": "2024-01-05T10:08:33.270622034Z",
     "start_time": "2024-01-05T10:08:33.220030210Z"
    }
   },
   "id": "8ecacc3797e1f1e0"
  },
  {
   "cell_type": "code",
   "execution_count": null,
   "outputs": [],
   "source": [],
   "metadata": {
    "collapsed": false
   },
   "id": "38b9396ebe5fc077"
  }
 ],
 "metadata": {
  "kernelspec": {
   "display_name": "Python 3",
   "language": "python",
   "name": "python3"
  },
  "language_info": {
   "codemirror_mode": {
    "name": "ipython",
    "version": 2
   },
   "file_extension": ".py",
   "mimetype": "text/x-python",
   "name": "python",
   "nbconvert_exporter": "python",
   "pygments_lexer": "ipython2",
   "version": "2.7.6"
  }
 },
 "nbformat": 4,
 "nbformat_minor": 5
}
