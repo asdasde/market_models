{
 "cells": [
  {
   "cell_type": "code",
   "id": "initial_id",
   "metadata": {
    "collapsed": true,
    "ExecuteTime": {
     "end_time": "2024-06-22T07:12:47.110535Z",
     "start_time": "2024-06-22T07:12:46.329896Z"
    }
   },
   "source": [
    "import datetime\n",
    "import json\n",
    "import os\n",
    "import sys\n",
    "import pandas as pd\n",
    "import numpy as np\n",
    "import xgboost\n",
    "from sklearn.model_selection import train_test_split    \n",
    "import dataframe_image as dfi\n",
    "import seaborn as sns\n",
    "import matplotlib.pyplot as plt\n",
    "from matplotlib.ticker import PercentFormatter\n",
    "\n",
    "notebook_dir = os.path.abspath(os.getcwd())\n",
    "src_path = os.path.join('/home/lerceg/LukaPosao/market_models/', 'src')\n",
    "sys.path.append(src_path)\n",
    "\n",
    "import market_models.src.models.train_model as tm\n",
    "import market_models.src.models.predict_model as pm\n",
    "import market_models.src.utils as utils\n",
    "\n",
    "%load_ext autoreload\n",
    "%autoreload \n",
    "import market_models.src.features.build_features as build_features\n"
   ],
   "outputs": [],
   "execution_count": 1
  },
  {
   "cell_type": "code",
   "source": [
    "data_name = 'netrisk_casco_v18'\n",
    "data_path = utils.get_processed_data_path(data_name)\n",
    "features_path = utils.get_features_path(data_name)\n",
    "\n",
    "data, features = utils.load_data(data_path, features_path, target_variable = 'ALFA_price')"
   ],
   "metadata": {
    "collapsed": false,
    "ExecuteTime": {
     "end_time": "2024-06-22T07:12:47.406879Z",
     "start_time": "2024-06-22T07:12:47.111660Z"
    }
   },
   "id": "1293def08b6309c",
   "outputs": [
    {
     "name": "stdout",
     "output_type": "stream",
     "text": [
      "isRecent bool\n",
      "CarMake category\n",
      "CarAge int64\n",
      "ccm int64\n",
      "kw int64\n",
      "kg int64\n",
      "car_value float64\n",
      "CarMakerCategory float64\n",
      "PostalCode int64\n",
      "PostalCode2 int64\n",
      "PostalCode3 int64\n",
      "Category float64\n",
      "Longitude float64\n",
      "Latitude float64\n",
      "Age int64\n",
      "LicenseAge int64\n",
      "BonusMalus category\n",
      "BonusMalusCode int64\n",
      "ALFA_postal_category int64\n",
      "ALLIANZ_postal_category int64\n",
      "GENERALI_postal_category int64\n",
      "GENERTEL_postal_category int64\n",
      "GROUPAMA_postal_category int64\n",
      "K&AMP;H_postal_category int64\n",
      "KÖBE_postal_category int64\n",
      "MAGYAR_postal_category int64\n",
      "SIGNAL_postal_category int64\n",
      "UNION_postal_category int64\n",
      "UNIQA_postal_category int64\n",
      "WÁBERER_postal_category int64\n",
      "ALFA_price_Age_cut category\n",
      "ALLIANZ_price_Age_cut category\n",
      "GENERALI_price_Age_cut category\n",
      "GROUPAMA_price_Age_cut category\n",
      "K&AMP;H_price_Age_cut category\n",
      "KÖBE_price_Age_cut category\n",
      "MAGYAR_price_Age_cut category\n",
      "SIGNAL_price_Age_cut category\n",
      "UNIQA_price_Age_cut category\n",
      "Laoding data\n",
      "['isRecent', 'CarMake', 'CarAge', 'ccm', 'kw', 'kg', 'car_value', 'CarMakerCategory', 'PostalCode', 'PostalCode2', 'PostalCode3', 'Category', 'Longitude', 'Latitude', 'Age', 'LicenseAge', 'BonusMalus', 'BonusMalusCode', 'ALFA_postal_category', 'ALLIANZ_postal_category', 'GENERALI_postal_category', 'GENERTEL_postal_category', 'GROUPAMA_postal_category', 'K&AMP;H_postal_category', 'KÖBE_postal_category', 'MAGYAR_postal_category', 'SIGNAL_postal_category', 'UNION_postal_category', 'UNIQA_postal_category', 'WÁBERER_postal_category', 'ALFA_price_Age_cut', 'ALLIANZ_price_Age_cut', 'GENERALI_price_Age_cut', 'GROUPAMA_price_Age_cut', 'K&AMP;H_price_Age_cut', 'KÖBE_price_Age_cut', 'MAGYAR_price_Age_cut', 'SIGNAL_price_Age_cut', 'UNIQA_price_Age_cut']\n",
      "isRecent bool bool\n",
      "CarMake category category\n",
      "CarMake Encoding feaeture  CarMake\n",
      "<class 'sklearn.preprocessing._label.LabelEncoder'>\n",
      "category\n",
      "CarAge int64 int64\n",
      "ccm int64 int64\n",
      "kw int64 int64\n",
      "kg int64 int64\n",
      "car_value float64 float64\n",
      "CarMakerCategory float64 float64\n",
      "PostalCode int64 int64\n",
      "PostalCode2 int64 int64\n",
      "PostalCode3 int64 int64\n",
      "Category float64 float64\n",
      "Longitude float64 float64\n",
      "Latitude float64 float64\n",
      "Age int64 int64\n",
      "LicenseAge int64 int64\n",
      "BonusMalus category category\n",
      "BonusMalus Encoding feaeture  BonusMalus\n",
      "<class 'sklearn.preprocessing._encoders.OrdinalEncoder'>\n",
      "float64\n",
      "BonusMalusCode int64 int64\n",
      "ALFA_postal_category int64 int64\n",
      "ALLIANZ_postal_category int64 int64\n",
      "GENERALI_postal_category int64 int64\n",
      "GENERTEL_postal_category int64 int64\n",
      "GROUPAMA_postal_category int64 int64\n",
      "K&AMP;H_postal_category int64 int64\n",
      "KÖBE_postal_category int64 int64\n",
      "MAGYAR_postal_category int64 int64\n",
      "SIGNAL_postal_category int64 int64\n",
      "UNION_postal_category int64 int64\n",
      "UNIQA_postal_category int64 int64\n",
      "WÁBERER_postal_category int64 int64\n",
      "ALFA_price_Age_cut category category\n",
      "ALFA_price_Age_cut Encoding feaeture  ALFA_price_Age_cut\n",
      "<class 'sklearn.preprocessing._encoders.OrdinalEncoder'>\n",
      "float64\n",
      "ALLIANZ_price_Age_cut category category\n",
      "ALLIANZ_price_Age_cut Encoding feaeture  ALLIANZ_price_Age_cut\n",
      "<class 'sklearn.preprocessing._encoders.OrdinalEncoder'>\n",
      "float64\n",
      "GENERALI_price_Age_cut category category\n",
      "GENERALI_price_Age_cut Encoding feaeture  GENERALI_price_Age_cut\n",
      "<class 'sklearn.preprocessing._encoders.OrdinalEncoder'>\n",
      "float64\n",
      "GROUPAMA_price_Age_cut category category\n",
      "GROUPAMA_price_Age_cut Encoding feaeture  GROUPAMA_price_Age_cut\n",
      "<class 'sklearn.preprocessing._encoders.OrdinalEncoder'>\n",
      "float64\n",
      "K&AMP;H_price_Age_cut category category\n",
      "K&AMP;H_price_Age_cut Encoding feaeture  K&AMP;H_price_Age_cut\n",
      "<class 'sklearn.preprocessing._encoders.OrdinalEncoder'>\n",
      "float64\n",
      "KÖBE_price_Age_cut category category\n",
      "KÖBE_price_Age_cut Encoding feaeture  KÖBE_price_Age_cut\n",
      "<class 'sklearn.preprocessing._encoders.OrdinalEncoder'>\n",
      "float64\n",
      "MAGYAR_price_Age_cut category category\n",
      "MAGYAR_price_Age_cut Encoding feaeture  MAGYAR_price_Age_cut\n",
      "<class 'sklearn.preprocessing._encoders.OrdinalEncoder'>\n",
      "float64\n",
      "SIGNAL_price_Age_cut category category\n",
      "SIGNAL_price_Age_cut Encoding feaeture  SIGNAL_price_Age_cut\n",
      "<class 'sklearn.preprocessing._encoders.OrdinalEncoder'>\n",
      "float64\n",
      "UNIQA_price_Age_cut category category\n",
      "UNIQA_price_Age_cut Encoding feaeture  UNIQA_price_Age_cut\n",
      "<class 'sklearn.preprocessing._encoders.OrdinalEncoder'>\n",
      "float64\n"
     ]
    }
   ],
   "execution_count": 2
  },
  {
   "cell_type": "code",
   "source": [
    "data"
   ],
   "metadata": {
    "collapsed": false,
    "ExecuteTime": {
     "end_time": "2024-06-22T07:12:47.433595Z",
     "start_time": "2024-06-22T07:12:47.408323Z"
    }
   },
   "id": "421115ac598230ee",
   "outputs": [
    {
     "data": {
      "text/plain": [
       "     DateCrawled  isRecent CarMake  CarAge   ccm  kw    kg  car_value  \\\n",
       "1     2024_01_02      True      28       2   998  49   899  15337.400   \n",
       "2     2024_01_02      True      66       1  1197  85  1390  25532.000   \n",
       "4     2024_01_02      True       5       2  1499  90  1545  30498.000   \n",
       "5     2024_01_02      True      66       1  1197  85  1390  25532.000   \n",
       "6     2024_01_02      True      66       1  1197  85  1390  25532.000   \n",
       "...          ...       ...     ...     ...   ...  ..   ...        ...   \n",
       "9047  2024_01_23      True      56       4   999  59  1100  13945.776   \n",
       "9049  2024_01_23      True      66       5   998  53  1040  11791.000   \n",
       "9050  2024_01_23      True      28       4   998  88  1160  14817.400   \n",
       "9051  2024_01_23      True      58       5   999  44  1086  12697.620   \n",
       "9052  2024_01_23      True      62       4   998  82   865  12012.000   \n",
       "\n",
       "      CarMakerCategory  PostalCode  ...  PostalCode3  Category  Longitude  \\\n",
       "1                 1.00        1011  ...          101         2    19.0404   \n",
       "2                 0.97        5200  ...          520         6    20.4167   \n",
       "4                 1.00        1011  ...          101         2    19.0404   \n",
       "5                 0.97        3770  ...          377         6    20.7167   \n",
       "6                 0.97        6791  ...          679         7    20.1482   \n",
       "...                ...         ...  ...          ...       ...        ...   \n",
       "9047              1.00        8435  ...          843         5    17.7525   \n",
       "9049              0.97        4287  ...          428         4    21.9000   \n",
       "9050              1.00        4331  ...          433         7    22.1754   \n",
       "9051              1.00        9364  ...          936         7    17.0288   \n",
       "9052              1.00        2118  ...          211         4    19.5440   \n",
       "\n",
       "      Latitude  Age  LicenseAge  BonusMalus  BonusMalusCode  \\\n",
       "1      47.4984   35          18         0.0               1   \n",
       "2      47.1833   35          18         0.0               1   \n",
       "4      47.4984   35          18         0.0               1   \n",
       "5      48.2167   35          18         0.0               1   \n",
       "6      46.2530   35          18         0.0               1   \n",
       "...        ...  ...         ...         ...             ...   \n",
       "9047   47.4334   39          18         0.0               1   \n",
       "9049   47.5333   38          18         0.0               1   \n",
       "9050   47.8657   69          18         0.0               1   \n",
       "9051   47.4782   56          18         2.0               3   \n",
       "9052   47.5200   70          18         0.0               1   \n",
       "\n",
       "      ALFA_price_Age_cut  ALFA_price  \n",
       "1                    3.0    175200.0  \n",
       "2                    3.0    167184.0  \n",
       "4                    3.0    400380.0  \n",
       "5                    3.0    167184.0  \n",
       "6                    3.0    203016.0  \n",
       "...                  ...         ...  \n",
       "9047                 3.0     96744.0  \n",
       "9049                 3.0     77448.0  \n",
       "9050                 3.0     98496.0  \n",
       "9051                 3.0     77904.0  \n",
       "9052                 3.0    106188.0  \n",
       "\n",
       "[8718 rows x 21 columns]"
      ],
      "text/html": [
       "<div>\n",
       "<style scoped>\n",
       "    .dataframe tbody tr th:only-of-type {\n",
       "        vertical-align: middle;\n",
       "    }\n",
       "\n",
       "    .dataframe tbody tr th {\n",
       "        vertical-align: top;\n",
       "    }\n",
       "\n",
       "    .dataframe thead th {\n",
       "        text-align: right;\n",
       "    }\n",
       "</style>\n",
       "<table border=\"1\" class=\"dataframe\">\n",
       "  <thead>\n",
       "    <tr style=\"text-align: right;\">\n",
       "      <th></th>\n",
       "      <th>DateCrawled</th>\n",
       "      <th>isRecent</th>\n",
       "      <th>CarMake</th>\n",
       "      <th>CarAge</th>\n",
       "      <th>ccm</th>\n",
       "      <th>kw</th>\n",
       "      <th>kg</th>\n",
       "      <th>car_value</th>\n",
       "      <th>CarMakerCategory</th>\n",
       "      <th>PostalCode</th>\n",
       "      <th>...</th>\n",
       "      <th>PostalCode3</th>\n",
       "      <th>Category</th>\n",
       "      <th>Longitude</th>\n",
       "      <th>Latitude</th>\n",
       "      <th>Age</th>\n",
       "      <th>LicenseAge</th>\n",
       "      <th>BonusMalus</th>\n",
       "      <th>BonusMalusCode</th>\n",
       "      <th>ALFA_price_Age_cut</th>\n",
       "      <th>ALFA_price</th>\n",
       "    </tr>\n",
       "  </thead>\n",
       "  <tbody>\n",
       "    <tr>\n",
       "      <th>1</th>\n",
       "      <td>2024_01_02</td>\n",
       "      <td>True</td>\n",
       "      <td>28</td>\n",
       "      <td>2</td>\n",
       "      <td>998</td>\n",
       "      <td>49</td>\n",
       "      <td>899</td>\n",
       "      <td>15337.400</td>\n",
       "      <td>1.00</td>\n",
       "      <td>1011</td>\n",
       "      <td>...</td>\n",
       "      <td>101</td>\n",
       "      <td>2</td>\n",
       "      <td>19.0404</td>\n",
       "      <td>47.4984</td>\n",
       "      <td>35</td>\n",
       "      <td>18</td>\n",
       "      <td>0.0</td>\n",
       "      <td>1</td>\n",
       "      <td>3.0</td>\n",
       "      <td>175200.0</td>\n",
       "    </tr>\n",
       "    <tr>\n",
       "      <th>2</th>\n",
       "      <td>2024_01_02</td>\n",
       "      <td>True</td>\n",
       "      <td>66</td>\n",
       "      <td>1</td>\n",
       "      <td>1197</td>\n",
       "      <td>85</td>\n",
       "      <td>1390</td>\n",
       "      <td>25532.000</td>\n",
       "      <td>0.97</td>\n",
       "      <td>5200</td>\n",
       "      <td>...</td>\n",
       "      <td>520</td>\n",
       "      <td>6</td>\n",
       "      <td>20.4167</td>\n",
       "      <td>47.1833</td>\n",
       "      <td>35</td>\n",
       "      <td>18</td>\n",
       "      <td>0.0</td>\n",
       "      <td>1</td>\n",
       "      <td>3.0</td>\n",
       "      <td>167184.0</td>\n",
       "    </tr>\n",
       "    <tr>\n",
       "      <th>4</th>\n",
       "      <td>2024_01_02</td>\n",
       "      <td>True</td>\n",
       "      <td>5</td>\n",
       "      <td>2</td>\n",
       "      <td>1499</td>\n",
       "      <td>90</td>\n",
       "      <td>1545</td>\n",
       "      <td>30498.000</td>\n",
       "      <td>1.00</td>\n",
       "      <td>1011</td>\n",
       "      <td>...</td>\n",
       "      <td>101</td>\n",
       "      <td>2</td>\n",
       "      <td>19.0404</td>\n",
       "      <td>47.4984</td>\n",
       "      <td>35</td>\n",
       "      <td>18</td>\n",
       "      <td>0.0</td>\n",
       "      <td>1</td>\n",
       "      <td>3.0</td>\n",
       "      <td>400380.0</td>\n",
       "    </tr>\n",
       "    <tr>\n",
       "      <th>5</th>\n",
       "      <td>2024_01_02</td>\n",
       "      <td>True</td>\n",
       "      <td>66</td>\n",
       "      <td>1</td>\n",
       "      <td>1197</td>\n",
       "      <td>85</td>\n",
       "      <td>1390</td>\n",
       "      <td>25532.000</td>\n",
       "      <td>0.97</td>\n",
       "      <td>3770</td>\n",
       "      <td>...</td>\n",
       "      <td>377</td>\n",
       "      <td>6</td>\n",
       "      <td>20.7167</td>\n",
       "      <td>48.2167</td>\n",
       "      <td>35</td>\n",
       "      <td>18</td>\n",
       "      <td>0.0</td>\n",
       "      <td>1</td>\n",
       "      <td>3.0</td>\n",
       "      <td>167184.0</td>\n",
       "    </tr>\n",
       "    <tr>\n",
       "      <th>6</th>\n",
       "      <td>2024_01_02</td>\n",
       "      <td>True</td>\n",
       "      <td>66</td>\n",
       "      <td>1</td>\n",
       "      <td>1197</td>\n",
       "      <td>85</td>\n",
       "      <td>1390</td>\n",
       "      <td>25532.000</td>\n",
       "      <td>0.97</td>\n",
       "      <td>6791</td>\n",
       "      <td>...</td>\n",
       "      <td>679</td>\n",
       "      <td>7</td>\n",
       "      <td>20.1482</td>\n",
       "      <td>46.2530</td>\n",
       "      <td>35</td>\n",
       "      <td>18</td>\n",
       "      <td>0.0</td>\n",
       "      <td>1</td>\n",
       "      <td>3.0</td>\n",
       "      <td>203016.0</td>\n",
       "    </tr>\n",
       "    <tr>\n",
       "      <th>...</th>\n",
       "      <td>...</td>\n",
       "      <td>...</td>\n",
       "      <td>...</td>\n",
       "      <td>...</td>\n",
       "      <td>...</td>\n",
       "      <td>...</td>\n",
       "      <td>...</td>\n",
       "      <td>...</td>\n",
       "      <td>...</td>\n",
       "      <td>...</td>\n",
       "      <td>...</td>\n",
       "      <td>...</td>\n",
       "      <td>...</td>\n",
       "      <td>...</td>\n",
       "      <td>...</td>\n",
       "      <td>...</td>\n",
       "      <td>...</td>\n",
       "      <td>...</td>\n",
       "      <td>...</td>\n",
       "      <td>...</td>\n",
       "      <td>...</td>\n",
       "    </tr>\n",
       "    <tr>\n",
       "      <th>9047</th>\n",
       "      <td>2024_01_23</td>\n",
       "      <td>True</td>\n",
       "      <td>56</td>\n",
       "      <td>4</td>\n",
       "      <td>999</td>\n",
       "      <td>59</td>\n",
       "      <td>1100</td>\n",
       "      <td>13945.776</td>\n",
       "      <td>1.00</td>\n",
       "      <td>8435</td>\n",
       "      <td>...</td>\n",
       "      <td>843</td>\n",
       "      <td>5</td>\n",
       "      <td>17.7525</td>\n",
       "      <td>47.4334</td>\n",
       "      <td>39</td>\n",
       "      <td>18</td>\n",
       "      <td>0.0</td>\n",
       "      <td>1</td>\n",
       "      <td>3.0</td>\n",
       "      <td>96744.0</td>\n",
       "    </tr>\n",
       "    <tr>\n",
       "      <th>9049</th>\n",
       "      <td>2024_01_23</td>\n",
       "      <td>True</td>\n",
       "      <td>66</td>\n",
       "      <td>5</td>\n",
       "      <td>998</td>\n",
       "      <td>53</td>\n",
       "      <td>1040</td>\n",
       "      <td>11791.000</td>\n",
       "      <td>0.97</td>\n",
       "      <td>4287</td>\n",
       "      <td>...</td>\n",
       "      <td>428</td>\n",
       "      <td>4</td>\n",
       "      <td>21.9000</td>\n",
       "      <td>47.5333</td>\n",
       "      <td>38</td>\n",
       "      <td>18</td>\n",
       "      <td>0.0</td>\n",
       "      <td>1</td>\n",
       "      <td>3.0</td>\n",
       "      <td>77448.0</td>\n",
       "    </tr>\n",
       "    <tr>\n",
       "      <th>9050</th>\n",
       "      <td>2024_01_23</td>\n",
       "      <td>True</td>\n",
       "      <td>28</td>\n",
       "      <td>4</td>\n",
       "      <td>998</td>\n",
       "      <td>88</td>\n",
       "      <td>1160</td>\n",
       "      <td>14817.400</td>\n",
       "      <td>1.00</td>\n",
       "      <td>4331</td>\n",
       "      <td>...</td>\n",
       "      <td>433</td>\n",
       "      <td>7</td>\n",
       "      <td>22.1754</td>\n",
       "      <td>47.8657</td>\n",
       "      <td>69</td>\n",
       "      <td>18</td>\n",
       "      <td>0.0</td>\n",
       "      <td>1</td>\n",
       "      <td>3.0</td>\n",
       "      <td>98496.0</td>\n",
       "    </tr>\n",
       "    <tr>\n",
       "      <th>9051</th>\n",
       "      <td>2024_01_23</td>\n",
       "      <td>True</td>\n",
       "      <td>58</td>\n",
       "      <td>5</td>\n",
       "      <td>999</td>\n",
       "      <td>44</td>\n",
       "      <td>1086</td>\n",
       "      <td>12697.620</td>\n",
       "      <td>1.00</td>\n",
       "      <td>9364</td>\n",
       "      <td>...</td>\n",
       "      <td>936</td>\n",
       "      <td>7</td>\n",
       "      <td>17.0288</td>\n",
       "      <td>47.4782</td>\n",
       "      <td>56</td>\n",
       "      <td>18</td>\n",
       "      <td>2.0</td>\n",
       "      <td>3</td>\n",
       "      <td>3.0</td>\n",
       "      <td>77904.0</td>\n",
       "    </tr>\n",
       "    <tr>\n",
       "      <th>9052</th>\n",
       "      <td>2024_01_23</td>\n",
       "      <td>True</td>\n",
       "      <td>62</td>\n",
       "      <td>4</td>\n",
       "      <td>998</td>\n",
       "      <td>82</td>\n",
       "      <td>865</td>\n",
       "      <td>12012.000</td>\n",
       "      <td>1.00</td>\n",
       "      <td>2118</td>\n",
       "      <td>...</td>\n",
       "      <td>211</td>\n",
       "      <td>4</td>\n",
       "      <td>19.5440</td>\n",
       "      <td>47.5200</td>\n",
       "      <td>70</td>\n",
       "      <td>18</td>\n",
       "      <td>0.0</td>\n",
       "      <td>1</td>\n",
       "      <td>3.0</td>\n",
       "      <td>106188.0</td>\n",
       "    </tr>\n",
       "  </tbody>\n",
       "</table>\n",
       "<p>8718 rows × 21 columns</p>\n",
       "</div>"
      ]
     },
     "execution_count": 3,
     "metadata": {},
     "output_type": "execute_result"
    }
   ],
   "execution_count": 3
  },
  {
   "cell_type": "code",
   "execution_count": 111,
   "outputs": [
    {
     "ename": "TypeError",
     "evalue": "__init__() takes at least 2 positional arguments (1 given)",
     "output_type": "error",
     "traceback": [
      "\u001B[0;31m---------------------------------------------------------------------------\u001B[0m",
      "\u001B[0;31mTypeError\u001B[0m                                 Traceback (most recent call last)",
      "Cell \u001B[0;32mIn[111], line 1\u001B[0m\n\u001B[0;32m----> 1\u001B[0m \u001B[43mpd\u001B[49m\u001B[38;5;241;43m.\u001B[39;49m\u001B[43mInterval\u001B[49m\u001B[43m(\u001B[49m\u001B[38;5;124;43m'\u001B[39;49m\u001B[38;5;124;43m(17, 20]\u001B[39;49m\u001B[38;5;124;43m'\u001B[39;49m\u001B[43m)\u001B[49m\n",
      "File \u001B[0;32m~/LukaPosao/venv/lib/python3.11/site-packages/pandas/_libs/interval.pyx:325\u001B[0m, in \u001B[0;36mpandas._libs.interval.Interval.__init__\u001B[0;34m()\u001B[0m\n",
      "\u001B[0;31mTypeError\u001B[0m: __init__() takes at least 2 positional arguments (1 given)"
     ]
    }
   ],
   "source": [
    "pd.Interval('(17, 20]')"
   ],
   "metadata": {
    "collapsed": false,
    "ExecuteTime": {
     "end_time": "2024-01-28T21:44:59.031152756Z",
     "start_time": "2024-01-28T21:44:59.013197462Z"
    }
   },
   "id": "b9d38c21ac16965a"
  },
  {
   "cell_type": "code",
   "source": [
    "data_name = 'netrisk_casco_v7'\n",
    "target_variable = 'ALFA_price'\n",
    "target_variable = 'GROUPAMA_price'\n",
    "#target_variable = 'K&AMP;H_price'\n",
    "target_variable = 'KÖBE_price'\n",
    "\n",
    "\n",
    "data_path = utils.get_processed_data_path(data_name)\n",
    "features_path = utils.get_features_path(data_name)\n",
    "\n"
   ],
   "metadata": {
    "collapsed": false,
    "ExecuteTime": {
     "end_time": "2024-06-22T07:12:50.529813Z",
     "start_time": "2024-06-22T07:12:50.526360Z"
    }
   },
   "id": "6e6cd1d9fe88a157",
   "outputs": [],
   "execution_count": 4
  },
  {
   "cell_type": "code",
   "source": [
    "feature = ('BonusMalus')\n",
    "data, features = utils.load_data(data_path, features_path, target_variable)\n",
    "brackets = data.drop_duplicates([feature], keep='last')[[feature, target_variable]].sort_values(by = feature)\n",
    "brackets = brackets.groupby(target_variable)[feature].agg(list)\n",
    "brackets = brackets.reset_index(drop=True).reset_index()\n",
    "brackets = brackets.rename(columns = {'index' : f'{target_variable}_{feature}_bracket'})\n",
    "#brackets = brackets.explode(feature)\n",
    "brackets"
   ],
   "metadata": {
    "collapsed": false,
    "ExecuteTime": {
     "end_time": "2024-06-22T07:12:59.859608Z",
     "start_time": "2024-06-22T07:12:59.778064Z"
    }
   },
   "id": "a3b8e273fcfcef08",
   "outputs": [
    {
     "name": "stdout",
     "output_type": "stream",
     "text": [
      "isRecent bool\n",
      "CarMake category\n",
      "CarAge int64\n",
      "ccm int64\n",
      "kw int64\n",
      "kg int64\n",
      "car_value float64\n",
      "CarMakerCategory float64\n",
      "PostalCode int64\n",
      "PostalCode2 int64\n",
      "PostalCode3 int64\n",
      "Category float64\n",
      "Longitude float64\n",
      "Latitude float64\n",
      "Age int64\n",
      "LicenseAge int64\n",
      "BonusMalus category\n",
      "BonusMalusCode int64\n",
      "ALFA_postal_category int64\n",
      "ALLIANZ_postal_category int64\n",
      "GENERALI_postal_category int64\n",
      "GENERTEL_postal_category int64\n",
      "GROUPAMA_postal_category int64\n",
      "K&AMP;H_postal_category int64\n",
      "KÖBE_postal_category int64\n",
      "MAGYAR_postal_category int64\n",
      "SIGNAL_postal_category int64\n",
      "UNION_postal_category int64\n",
      "UNIQA_postal_category int64\n",
      "WÁBERER_postal_category int64\n",
      "Laoding data\n",
      "['isRecent', 'CarMake', 'CarAge', 'ccm', 'kw', 'kg', 'car_value', 'CarMakerCategory', 'PostalCode', 'PostalCode2', 'PostalCode3', 'Category', 'Longitude', 'Latitude', 'Age', 'LicenseAge', 'BonusMalus', 'BonusMalusCode', 'ALFA_postal_category', 'ALLIANZ_postal_category', 'GENERALI_postal_category', 'GENERTEL_postal_category', 'GROUPAMA_postal_category', 'K&AMP;H_postal_category', 'KÖBE_postal_category', 'MAGYAR_postal_category', 'SIGNAL_postal_category', 'UNION_postal_category', 'UNIQA_postal_category', 'WÁBERER_postal_category']\n",
      "isRecent bool bool\n",
      "CarMake category category\n",
      "CarMake Encoding feaeture  CarMake\n",
      "<class 'sklearn.preprocessing._label.LabelEncoder'>\n",
      "category\n",
      "CarAge int64 int64\n",
      "ccm int64 int64\n",
      "kw int64 int64\n",
      "kg int64 int64\n",
      "car_value float64 float64\n",
      "CarMakerCategory float64 float64\n",
      "PostalCode int64 int64\n",
      "PostalCode2 int64 int64\n",
      "PostalCode3 int64 int64\n",
      "Category float64 float64\n",
      "Longitude float64 float64\n",
      "Latitude float64 float64\n",
      "Age int64 int64\n",
      "LicenseAge int64 int64\n",
      "BonusMalus category category\n",
      "BonusMalus Encoding feaeture  BonusMalus\n",
      "<class 'sklearn.preprocessing._encoders.OrdinalEncoder'>\n",
      "float64\n",
      "BonusMalusCode int64 int64\n",
      "ALFA_postal_category int64 int64\n",
      "ALLIANZ_postal_category int64 int64\n",
      "GENERALI_postal_category int64 int64\n",
      "GENERTEL_postal_category int64 int64\n",
      "GROUPAMA_postal_category int64 int64\n",
      "K&AMP;H_postal_category int64 int64\n",
      "KÖBE_postal_category int64 int64\n",
      "MAGYAR_postal_category int64 int64\n",
      "SIGNAL_postal_category int64 int64\n",
      "UNION_postal_category int64 int64\n",
      "UNIQA_postal_category int64 int64\n",
      "WÁBERER_postal_category int64 int64\n"
     ]
    },
    {
     "data": {
      "text/plain": [
       "   KÖBE_price_BonusMalus_bracket                 BonusMalus\n",
       "0                              0  [1.0, 2.0, 3.0, 4.0, 5.0]\n",
       "1                              1                      [7.0]\n",
       "2                              2                      [8.0]\n",
       "3                              3                      [0.0]\n",
       "4                              4                      [9.0]\n",
       "5                              5                      [6.0]\n",
       "6                              6                     [10.0]"
      ],
      "text/html": [
       "<div>\n",
       "<style scoped>\n",
       "    .dataframe tbody tr th:only-of-type {\n",
       "        vertical-align: middle;\n",
       "    }\n",
       "\n",
       "    .dataframe tbody tr th {\n",
       "        vertical-align: top;\n",
       "    }\n",
       "\n",
       "    .dataframe thead th {\n",
       "        text-align: right;\n",
       "    }\n",
       "</style>\n",
       "<table border=\"1\" class=\"dataframe\">\n",
       "  <thead>\n",
       "    <tr style=\"text-align: right;\">\n",
       "      <th></th>\n",
       "      <th>KÖBE_price_BonusMalus_bracket</th>\n",
       "      <th>BonusMalus</th>\n",
       "    </tr>\n",
       "  </thead>\n",
       "  <tbody>\n",
       "    <tr>\n",
       "      <th>0</th>\n",
       "      <td>0</td>\n",
       "      <td>[1.0, 2.0, 3.0, 4.0, 5.0]</td>\n",
       "    </tr>\n",
       "    <tr>\n",
       "      <th>1</th>\n",
       "      <td>1</td>\n",
       "      <td>[7.0]</td>\n",
       "    </tr>\n",
       "    <tr>\n",
       "      <th>2</th>\n",
       "      <td>2</td>\n",
       "      <td>[8.0]</td>\n",
       "    </tr>\n",
       "    <tr>\n",
       "      <th>3</th>\n",
       "      <td>3</td>\n",
       "      <td>[0.0]</td>\n",
       "    </tr>\n",
       "    <tr>\n",
       "      <th>4</th>\n",
       "      <td>4</td>\n",
       "      <td>[9.0]</td>\n",
       "    </tr>\n",
       "    <tr>\n",
       "      <th>5</th>\n",
       "      <td>5</td>\n",
       "      <td>[6.0]</td>\n",
       "    </tr>\n",
       "    <tr>\n",
       "      <th>6</th>\n",
       "      <td>6</td>\n",
       "      <td>[10.0]</td>\n",
       "    </tr>\n",
       "  </tbody>\n",
       "</table>\n",
       "</div>"
      ]
     },
     "execution_count": 5,
     "metadata": {},
     "output_type": "execute_result"
    }
   ],
   "execution_count": 5
  },
  {
   "cell_type": "code",
   "source": [
    "data['DateCrawled'].value_counts()"
   ],
   "metadata": {
    "collapsed": false,
    "ExecuteTime": {
     "end_time": "2024-06-22T07:13:07.426070Z",
     "start_time": "2024-06-22T07:13:07.418258Z"
    }
   },
   "id": "d59dd0a419e65d18",
   "outputs": [
    {
     "data": {
      "text/plain": [
       "2024_01_06    988\n",
       "2024_01_05    976\n",
       "2024_01_03    706\n",
       "2024_01_02    674\n",
       "Name: DateCrawled, dtype: int64"
      ]
     },
     "execution_count": 6,
     "metadata": {},
     "output_type": "execute_result"
    }
   ],
   "execution_count": 6
  },
  {
   "cell_type": "code",
   "source": [
    "data[data['DateCrawled'] == '2024_01_02']['kw'].value_counts()"
   ],
   "metadata": {
    "collapsed": false,
    "ExecuteTime": {
     "end_time": "2024-06-22T07:13:09.018853Z",
     "start_time": "2024-06-22T07:13:09.012392Z"
    }
   },
   "id": "3037120a376fffe3",
   "outputs": [
    {
     "data": {
      "text/plain": [
       "85     288\n",
       "96      31\n",
       "110     30\n",
       "81      26\n",
       "66      23\n",
       "      ... \n",
       "126      1\n",
       "108      1\n",
       "130      1\n",
       "134      1\n",
       "127      1\n",
       "Name: kw, Length: 68, dtype: int64"
      ]
     },
     "execution_count": 7,
     "metadata": {},
     "output_type": "execute_result"
    }
   ],
   "execution_count": 7
  },
  {
   "cell_type": "code",
   "source": [
    "x = brackets.sort_values('Age').values[ : , 1].tolist()"
   ],
   "metadata": {
    "collapsed": false,
    "ExecuteTime": {
     "end_time": "2024-06-22T07:13:09.775940Z",
     "start_time": "2024-06-22T07:13:09.740714Z"
    }
   },
   "id": "35081b6ecbe0935a",
   "outputs": [
    {
     "ename": "KeyError",
     "evalue": "'Age'",
     "output_type": "error",
     "traceback": [
      "\u001B[0;31m---------------------------------------------------------------------------\u001B[0m",
      "\u001B[0;31mKeyError\u001B[0m                                  Traceback (most recent call last)",
      "\u001B[0;32m/tmp/ipykernel_248285/3592291305.py\u001B[0m in \u001B[0;36m?\u001B[0;34m()\u001B[0m\n\u001B[0;32m----> 1\u001B[0;31m \u001B[0mx\u001B[0m \u001B[0;34m=\u001B[0m \u001B[0mbrackets\u001B[0m\u001B[0;34m.\u001B[0m\u001B[0msort_values\u001B[0m\u001B[0;34m(\u001B[0m\u001B[0;34m'Age'\u001B[0m\u001B[0;34m)\u001B[0m\u001B[0;34m.\u001B[0m\u001B[0mvalues\u001B[0m\u001B[0;34m[\u001B[0m \u001B[0;34m:\u001B[0m \u001B[0;34m,\u001B[0m \u001B[0;36m1\u001B[0m\u001B[0;34m]\u001B[0m\u001B[0;34m.\u001B[0m\u001B[0mtolist\u001B[0m\u001B[0;34m(\u001B[0m\u001B[0;34m)\u001B[0m\u001B[0;34m\u001B[0m\u001B[0;34m\u001B[0m\u001B[0m\n\u001B[0m",
      "\u001B[0;32m~/luka_posao/.venv/lib/python3.11/site-packages/pandas/util/_decorators.py\u001B[0m in \u001B[0;36m?\u001B[0;34m(*args, **kwargs)\u001B[0m\n\u001B[1;32m    327\u001B[0m                     \u001B[0mmsg\u001B[0m\u001B[0;34m.\u001B[0m\u001B[0mformat\u001B[0m\u001B[0;34m(\u001B[0m\u001B[0marguments\u001B[0m\u001B[0;34m=\u001B[0m\u001B[0m_format_argument_list\u001B[0m\u001B[0;34m(\u001B[0m\u001B[0mallow_args\u001B[0m\u001B[0;34m)\u001B[0m\u001B[0;34m)\u001B[0m\u001B[0;34m,\u001B[0m\u001B[0;34m\u001B[0m\u001B[0;34m\u001B[0m\u001B[0m\n\u001B[1;32m    328\u001B[0m                     \u001B[0mFutureWarning\u001B[0m\u001B[0;34m,\u001B[0m\u001B[0;34m\u001B[0m\u001B[0;34m\u001B[0m\u001B[0m\n\u001B[1;32m    329\u001B[0m                     \u001B[0mstacklevel\u001B[0m\u001B[0;34m=\u001B[0m\u001B[0mfind_stack_level\u001B[0m\u001B[0;34m(\u001B[0m\u001B[0;34m)\u001B[0m\u001B[0;34m,\u001B[0m\u001B[0;34m\u001B[0m\u001B[0;34m\u001B[0m\u001B[0m\n\u001B[1;32m    330\u001B[0m                 )\n\u001B[0;32m--> 331\u001B[0;31m             \u001B[0;32mreturn\u001B[0m \u001B[0mfunc\u001B[0m\u001B[0;34m(\u001B[0m\u001B[0;34m*\u001B[0m\u001B[0margs\u001B[0m\u001B[0;34m,\u001B[0m \u001B[0;34m**\u001B[0m\u001B[0mkwargs\u001B[0m\u001B[0;34m)\u001B[0m\u001B[0;34m\u001B[0m\u001B[0;34m\u001B[0m\u001B[0m\n\u001B[0m",
      "\u001B[0;32m~/luka_posao/.venv/lib/python3.11/site-packages/pandas/core/frame.py\u001B[0m in \u001B[0;36m?\u001B[0;34m(self, by, axis, ascending, inplace, kind, na_position, ignore_index, key)\u001B[0m\n\u001B[1;32m   6908\u001B[0m         \u001B[0;32melif\u001B[0m \u001B[0mlen\u001B[0m\u001B[0;34m(\u001B[0m\u001B[0mby\u001B[0m\u001B[0;34m)\u001B[0m\u001B[0;34m:\u001B[0m\u001B[0;34m\u001B[0m\u001B[0;34m\u001B[0m\u001B[0m\n\u001B[1;32m   6909\u001B[0m             \u001B[0;31m# len(by) == 1\u001B[0m\u001B[0;34m\u001B[0m\u001B[0;34m\u001B[0m\u001B[0m\n\u001B[1;32m   6910\u001B[0m \u001B[0;34m\u001B[0m\u001B[0m\n\u001B[1;32m   6911\u001B[0m             \u001B[0mby\u001B[0m \u001B[0;34m=\u001B[0m \u001B[0mby\u001B[0m\u001B[0;34m[\u001B[0m\u001B[0;36m0\u001B[0m\u001B[0;34m]\u001B[0m\u001B[0;34m\u001B[0m\u001B[0;34m\u001B[0m\u001B[0m\n\u001B[0;32m-> 6912\u001B[0;31m             \u001B[0mk\u001B[0m \u001B[0;34m=\u001B[0m \u001B[0mself\u001B[0m\u001B[0;34m.\u001B[0m\u001B[0m_get_label_or_level_values\u001B[0m\u001B[0;34m(\u001B[0m\u001B[0mby\u001B[0m\u001B[0;34m,\u001B[0m \u001B[0maxis\u001B[0m\u001B[0;34m=\u001B[0m\u001B[0maxis\u001B[0m\u001B[0;34m)\u001B[0m\u001B[0;34m\u001B[0m\u001B[0;34m\u001B[0m\u001B[0m\n\u001B[0m\u001B[1;32m   6913\u001B[0m \u001B[0;34m\u001B[0m\u001B[0m\n\u001B[1;32m   6914\u001B[0m             \u001B[0;31m# need to rewrap column in Series to apply key function\u001B[0m\u001B[0;34m\u001B[0m\u001B[0;34m\u001B[0m\u001B[0m\n\u001B[1;32m   6915\u001B[0m             \u001B[0;32mif\u001B[0m \u001B[0mkey\u001B[0m \u001B[0;32mis\u001B[0m \u001B[0;32mnot\u001B[0m \u001B[0;32mNone\u001B[0m\u001B[0;34m:\u001B[0m\u001B[0;34m\u001B[0m\u001B[0;34m\u001B[0m\u001B[0m\n",
      "\u001B[0;32m~/luka_posao/.venv/lib/python3.11/site-packages/pandas/core/generic.py\u001B[0m in \u001B[0;36m?\u001B[0;34m(self, key, axis)\u001B[0m\n\u001B[1;32m   1846\u001B[0m                 \u001B[0;34m.\u001B[0m\u001B[0mget_level_values\u001B[0m\u001B[0;34m(\u001B[0m\u001B[0mkey\u001B[0m\u001B[0;34m)\u001B[0m  \u001B[0;31m# type: ignore[assignment]\u001B[0m\u001B[0;34m\u001B[0m\u001B[0;34m\u001B[0m\u001B[0m\n\u001B[1;32m   1847\u001B[0m                 \u001B[0;34m.\u001B[0m\u001B[0m_values\u001B[0m\u001B[0;34m\u001B[0m\u001B[0;34m\u001B[0m\u001B[0m\n\u001B[1;32m   1848\u001B[0m             )\n\u001B[1;32m   1849\u001B[0m         \u001B[0;32melse\u001B[0m\u001B[0;34m:\u001B[0m\u001B[0;34m\u001B[0m\u001B[0;34m\u001B[0m\u001B[0m\n\u001B[0;32m-> 1850\u001B[0;31m             \u001B[0;32mraise\u001B[0m \u001B[0mKeyError\u001B[0m\u001B[0;34m(\u001B[0m\u001B[0mkey\u001B[0m\u001B[0;34m)\u001B[0m\u001B[0;34m\u001B[0m\u001B[0;34m\u001B[0m\u001B[0m\n\u001B[0m\u001B[1;32m   1851\u001B[0m \u001B[0;34m\u001B[0m\u001B[0m\n\u001B[1;32m   1852\u001B[0m         \u001B[0;31m# Check for duplicates\u001B[0m\u001B[0;34m\u001B[0m\u001B[0;34m\u001B[0m\u001B[0m\n\u001B[1;32m   1853\u001B[0m         \u001B[0;32mif\u001B[0m \u001B[0mvalues\u001B[0m\u001B[0;34m.\u001B[0m\u001B[0mndim\u001B[0m \u001B[0;34m>\u001B[0m \u001B[0;36m1\u001B[0m\u001B[0;34m:\u001B[0m\u001B[0;34m\u001B[0m\u001B[0;34m\u001B[0m\u001B[0m\n",
      "\u001B[0;31mKeyError\u001B[0m: 'Age'"
     ]
    }
   ],
   "execution_count": 8
  },
  {
   "cell_type": "code",
   "source": [
    "x"
   ],
   "metadata": {
    "collapsed": false,
    "ExecuteTime": {
     "end_time": "2024-06-22T07:13:10.400762Z",
     "start_time": "2024-06-22T07:13:10.374285Z"
    }
   },
   "id": "71b47ebaf2a16f2c",
   "outputs": [
    {
     "ename": "NameError",
     "evalue": "name 'x' is not defined",
     "output_type": "error",
     "traceback": [
      "\u001B[0;31m---------------------------------------------------------------------------\u001B[0m",
      "\u001B[0;31mNameError\u001B[0m                                 Traceback (most recent call last)",
      "Cell \u001B[0;32mIn[9], line 1\u001B[0m\n\u001B[0;32m----> 1\u001B[0m \u001B[43mx\u001B[49m\n",
      "\u001B[0;31mNameError\u001B[0m: name 'x' is not defined"
     ]
    }
   ],
   "execution_count": 9
  },
  {
   "cell_type": "code",
   "source": [
    "i = 0\n",
    "cats = []\n",
    "while i < len(x) - 1:\n",
    "    if x[i] == [40] or x[i + 1] == [40]:\n",
    "        i += 1\n",
    "        continue\n",
    "    cats.append(sorted(x[i] + x[i + 1]))\n",
    "    i += 2"
   ],
   "metadata": {
    "collapsed": false,
    "ExecuteTime": {
     "end_time": "2024-06-22T07:13:11.006422Z",
     "start_time": "2024-06-22T07:13:10.984743Z"
    }
   },
   "id": "bd8d0987847b9ff5",
   "outputs": [
    {
     "ename": "NameError",
     "evalue": "name 'x' is not defined",
     "output_type": "error",
     "traceback": [
      "\u001B[0;31m---------------------------------------------------------------------------\u001B[0m",
      "\u001B[0;31mNameError\u001B[0m                                 Traceback (most recent call last)",
      "Cell \u001B[0;32mIn[10], line 3\u001B[0m\n\u001B[1;32m      1\u001B[0m i \u001B[38;5;241m=\u001B[39m \u001B[38;5;241m0\u001B[39m\n\u001B[1;32m      2\u001B[0m cats \u001B[38;5;241m=\u001B[39m []\n\u001B[0;32m----> 3\u001B[0m \u001B[38;5;28;01mwhile\u001B[39;00m i \u001B[38;5;241m<\u001B[39m \u001B[38;5;28mlen\u001B[39m(\u001B[43mx\u001B[49m) \u001B[38;5;241m-\u001B[39m \u001B[38;5;241m1\u001B[39m:\n\u001B[1;32m      4\u001B[0m     \u001B[38;5;28;01mif\u001B[39;00m x[i] \u001B[38;5;241m==\u001B[39m [\u001B[38;5;241m40\u001B[39m] \u001B[38;5;129;01mor\u001B[39;00m x[i \u001B[38;5;241m+\u001B[39m \u001B[38;5;241m1\u001B[39m] \u001B[38;5;241m==\u001B[39m [\u001B[38;5;241m40\u001B[39m]:\n\u001B[1;32m      5\u001B[0m         i \u001B[38;5;241m+\u001B[39m\u001B[38;5;241m=\u001B[39m \u001B[38;5;241m1\u001B[39m\n",
      "\u001B[0;31mNameError\u001B[0m: name 'x' is not defined"
     ]
    }
   ],
   "execution_count": 10
  },
  {
   "cell_type": "code",
   "source": [
    "cats = [(min(x), max(x)) for x in cats]"
   ],
   "metadata": {
    "collapsed": false,
    "ExecuteTime": {
     "end_time": "2024-06-22T07:13:11.649208Z",
     "start_time": "2024-06-22T07:13:11.644999Z"
    }
   },
   "id": "3c6f09716862f1b5",
   "outputs": [],
   "execution_count": 11
  },
  {
   "cell_type": "code",
   "source": [
    "cats"
   ],
   "metadata": {
    "collapsed": false,
    "ExecuteTime": {
     "end_time": "2024-06-22T07:13:12.217393Z",
     "start_time": "2024-06-22T07:13:12.213745Z"
    }
   },
   "id": "49f9f1a8dbd3c016",
   "outputs": [
    {
     "data": {
      "text/plain": [
       "[]"
      ]
     },
     "execution_count": 12,
     "metadata": {},
     "output_type": "execute_result"
    }
   ],
   "execution_count": 12
  },
  {
   "cell_type": "code",
   "source": [
    "\n",
    "def make_brackets(data, feature, target_variable):\n",
    "    brackets = data.drop_duplicates([feature], keep='last')[[feature, target_variable]].sort_values(feature)\n",
    "    brackets = brackets.groupby(target_variable)[feature].agg(list)\n",
    "    brackets = brackets.reset_index(drop=True).reset_index()\n",
    "    brackets = brackets.rename(columns = {'index' : f'{target_variable}_{feature}_bracket'})\n",
    "    brackets = brackets.explode(feature)\n",
    "    return brackets\n",
    "\n",
    "def collapse_list(lst):\n",
    "    return (min(lst), max(lst))\n",
    "\n",
    "def merge_overlapping_tuples(tuple1, tuple2):\n",
    "    start1, end1 = tuple1\n",
    "    start2, end2 = tuple2\n",
    "\n",
    "    # Check for overlap\n",
    "    if start1 <= end2 and start2 <= end1:\n",
    "        # Merge overlapping ranges\n",
    "        merged_start = min(start1, start2)\n",
    "        merged_end = max(end1, end2)\n",
    "        return merged_start, merged_end\n",
    "    else:\n",
    "        # No overlap\n",
    "        return None\n",
    "\n",
    "    "
   ],
   "metadata": {
    "collapsed": false,
    "ExecuteTime": {
     "end_time": "2024-06-22T07:13:13.169618Z",
     "start_time": "2024-06-22T07:13:13.165187Z"
    }
   },
   "id": "384b02a9e2ad67",
   "outputs": [],
   "execution_count": 13
  },
  {
   "cell_type": "code",
   "execution_count": 12,
   "outputs": [
    {
     "data": {
      "text/plain": "   Age_KÖBE_price_bracket KÖBE_price\n0                       0   126270.0\n0                       0   132492.0\n1                       1   212280.0\n2                       2    79056.0\n3                       3    69906.0\n3                       3    82716.0\n3                       3    86376.0\n3                       3    87108.0\n3                       3    87474.0\n3                       3    88206.0\n3                       3    90036.0\n3                       3    92232.0\n3                       3    95526.0\n3                       3   101382.0\n3                       3   106872.0\n3                       3   109434.0\n3                       3   110532.0\n3                       3   114558.0\n3                       3   129564.0\n3                       3   138714.0\n3                       3   140178.0\n3                       3   147498.0\n3                       3   157380.0\n3                       3   162504.0\n3                       3   171288.0\n3                       3   174948.0\n3                       3   254004.0\n3                       3   304512.0\n4                       4    61122.0\n4                       4    61488.0\n4                       4    69540.0\n4                       4    72834.0\n4                       4    73200.0\n4                       4    77226.0\n4                       4    77592.0\n4                       4    79422.0\n4                       4    84180.0\n4                       4    84912.0\n4                       4    89670.0\n4                       4    97356.0\n4                       4   116754.0\n5                       5    65514.0\n5                       5    68808.0\n6                       6   110166.0",
      "text/html": "<div>\n<style scoped>\n    .dataframe tbody tr th:only-of-type {\n        vertical-align: middle;\n    }\n\n    .dataframe tbody tr th {\n        vertical-align: top;\n    }\n\n    .dataframe thead th {\n        text-align: right;\n    }\n</style>\n<table border=\"1\" class=\"dataframe\">\n  <thead>\n    <tr style=\"text-align: right;\">\n      <th></th>\n      <th>Age_KÖBE_price_bracket</th>\n      <th>KÖBE_price</th>\n    </tr>\n  </thead>\n  <tbody>\n    <tr>\n      <th>0</th>\n      <td>0</td>\n      <td>126270.0</td>\n    </tr>\n    <tr>\n      <th>0</th>\n      <td>0</td>\n      <td>132492.0</td>\n    </tr>\n    <tr>\n      <th>1</th>\n      <td>1</td>\n      <td>212280.0</td>\n    </tr>\n    <tr>\n      <th>2</th>\n      <td>2</td>\n      <td>79056.0</td>\n    </tr>\n    <tr>\n      <th>3</th>\n      <td>3</td>\n      <td>69906.0</td>\n    </tr>\n    <tr>\n      <th>3</th>\n      <td>3</td>\n      <td>82716.0</td>\n    </tr>\n    <tr>\n      <th>3</th>\n      <td>3</td>\n      <td>86376.0</td>\n    </tr>\n    <tr>\n      <th>3</th>\n      <td>3</td>\n      <td>87108.0</td>\n    </tr>\n    <tr>\n      <th>3</th>\n      <td>3</td>\n      <td>87474.0</td>\n    </tr>\n    <tr>\n      <th>3</th>\n      <td>3</td>\n      <td>88206.0</td>\n    </tr>\n    <tr>\n      <th>3</th>\n      <td>3</td>\n      <td>90036.0</td>\n    </tr>\n    <tr>\n      <th>3</th>\n      <td>3</td>\n      <td>92232.0</td>\n    </tr>\n    <tr>\n      <th>3</th>\n      <td>3</td>\n      <td>95526.0</td>\n    </tr>\n    <tr>\n      <th>3</th>\n      <td>3</td>\n      <td>101382.0</td>\n    </tr>\n    <tr>\n      <th>3</th>\n      <td>3</td>\n      <td>106872.0</td>\n    </tr>\n    <tr>\n      <th>3</th>\n      <td>3</td>\n      <td>109434.0</td>\n    </tr>\n    <tr>\n      <th>3</th>\n      <td>3</td>\n      <td>110532.0</td>\n    </tr>\n    <tr>\n      <th>3</th>\n      <td>3</td>\n      <td>114558.0</td>\n    </tr>\n    <tr>\n      <th>3</th>\n      <td>3</td>\n      <td>129564.0</td>\n    </tr>\n    <tr>\n      <th>3</th>\n      <td>3</td>\n      <td>138714.0</td>\n    </tr>\n    <tr>\n      <th>3</th>\n      <td>3</td>\n      <td>140178.0</td>\n    </tr>\n    <tr>\n      <th>3</th>\n      <td>3</td>\n      <td>147498.0</td>\n    </tr>\n    <tr>\n      <th>3</th>\n      <td>3</td>\n      <td>157380.0</td>\n    </tr>\n    <tr>\n      <th>3</th>\n      <td>3</td>\n      <td>162504.0</td>\n    </tr>\n    <tr>\n      <th>3</th>\n      <td>3</td>\n      <td>171288.0</td>\n    </tr>\n    <tr>\n      <th>3</th>\n      <td>3</td>\n      <td>174948.0</td>\n    </tr>\n    <tr>\n      <th>3</th>\n      <td>3</td>\n      <td>254004.0</td>\n    </tr>\n    <tr>\n      <th>3</th>\n      <td>3</td>\n      <td>304512.0</td>\n    </tr>\n    <tr>\n      <th>4</th>\n      <td>4</td>\n      <td>61122.0</td>\n    </tr>\n    <tr>\n      <th>4</th>\n      <td>4</td>\n      <td>61488.0</td>\n    </tr>\n    <tr>\n      <th>4</th>\n      <td>4</td>\n      <td>69540.0</td>\n    </tr>\n    <tr>\n      <th>4</th>\n      <td>4</td>\n      <td>72834.0</td>\n    </tr>\n    <tr>\n      <th>4</th>\n      <td>4</td>\n      <td>73200.0</td>\n    </tr>\n    <tr>\n      <th>4</th>\n      <td>4</td>\n      <td>77226.0</td>\n    </tr>\n    <tr>\n      <th>4</th>\n      <td>4</td>\n      <td>77592.0</td>\n    </tr>\n    <tr>\n      <th>4</th>\n      <td>4</td>\n      <td>79422.0</td>\n    </tr>\n    <tr>\n      <th>4</th>\n      <td>4</td>\n      <td>84180.0</td>\n    </tr>\n    <tr>\n      <th>4</th>\n      <td>4</td>\n      <td>84912.0</td>\n    </tr>\n    <tr>\n      <th>4</th>\n      <td>4</td>\n      <td>89670.0</td>\n    </tr>\n    <tr>\n      <th>4</th>\n      <td>4</td>\n      <td>97356.0</td>\n    </tr>\n    <tr>\n      <th>4</th>\n      <td>4</td>\n      <td>116754.0</td>\n    </tr>\n    <tr>\n      <th>5</th>\n      <td>5</td>\n      <td>65514.0</td>\n    </tr>\n    <tr>\n      <th>5</th>\n      <td>5</td>\n      <td>68808.0</td>\n    </tr>\n    <tr>\n      <th>6</th>\n      <td>6</td>\n      <td>110166.0</td>\n    </tr>\n  </tbody>\n</table>\n</div>"
     },
     "execution_count": 12,
     "metadata": {},
     "output_type": "execute_result"
    }
   ],
   "source": [
    "brackets = make_brackets(data, target_variable, 'BonusMalus')\n",
    "brackets"
   ],
   "metadata": {
    "collapsed": false,
    "ExecuteTime": {
     "end_time": "2024-01-28T20:19:33.560710287Z",
     "start_time": "2024-01-28T20:19:33.410164222Z"
    }
   },
   "id": "7624bea2c57f1f83"
  },
  {
   "cell_type": "code",
   "execution_count": 13,
   "outputs": [
    {
     "name": "stdout",
     "output_type": "stream",
     "text": [
      "../data/external/feature_brackets/ALFA_price_brackets/ALFA_price_Age_brackets.csv\n",
      "../data/external/feature_brackets/ALFA_price_brackets/ALFA_price_PostalCode_brackets.csv\n",
      "../data/external/feature_brackets/ALLIANZ_price_brackets/ALLIANZ_price_Age_brackets.csv\n",
      "../data/external/feature_brackets/ALLIANZ_price_brackets/ALLIANZ_price_PostalCode_brackets.csv\n",
      "../data/external/feature_brackets/GENERALI_price_brackets/GENERALI_price_Age_brackets.csv\n",
      "../data/external/feature_brackets/GENERALI_price_brackets/GENERALI_price_PostalCode_brackets.csv\n",
      "../data/external/feature_brackets/GENERTEL_price_brackets/GENERTEL_price_Age_brackets.csv\n",
      "../data/external/feature_brackets/GENERTEL_price_brackets/GENERTEL_price_PostalCode_brackets.csv\n",
      "../data/external/feature_brackets/GROUPAMA_price_brackets/GROUPAMA_price_Age_brackets.csv\n",
      "../data/external/feature_brackets/GROUPAMA_price_brackets/GROUPAMA_price_PostalCode_brackets.csv\n",
      "../data/external/feature_brackets/K&AMP;H_price_brackets/K&AMP;H_price_Age_brackets.csv\n",
      "../data/external/feature_brackets/K&AMP;H_price_brackets/K&AMP;H_price_PostalCode_brackets.csv\n",
      "../data/external/feature_brackets/KÖBE_price_brackets/KÖBE_price_Age_brackets.csv\n",
      "../data/external/feature_brackets/KÖBE_price_brackets/KÖBE_price_PostalCode_brackets.csv\n",
      "../data/external/feature_brackets/MAGYAR_price_brackets/MAGYAR_price_Age_brackets.csv\n",
      "../data/external/feature_brackets/MAGYAR_price_brackets/MAGYAR_price_PostalCode_brackets.csv\n",
      "../data/external/feature_brackets/SIGNAL_price_brackets/SIGNAL_price_Age_brackets.csv\n",
      "../data/external/feature_brackets/SIGNAL_price_brackets/SIGNAL_price_PostalCode_brackets.csv\n",
      "../data/external/feature_brackets/UNION_price_brackets/UNION_price_Age_brackets.csv\n",
      "../data/external/feature_brackets/UNION_price_brackets/UNION_price_PostalCode_brackets.csv\n",
      "../data/external/feature_brackets/UNIQA_price_brackets/UNIQA_price_Age_brackets.csv\n",
      "../data/external/feature_brackets/UNIQA_price_brackets/UNIQA_price_PostalCode_brackets.csv\n",
      "../data/external/feature_brackets/WÁBERER_price_brackets/WÁBERER_price_Age_brackets.csv\n",
      "../data/external/feature_brackets/WÁBERER_price_brackets/WÁBERER_price_PostalCode_brackets.csv\n"
     ]
    }
   ],
   "source": [
    "target_variables = ['ALFA_price', 'ALLIANZ_price', 'GENERALI_price', 'GENERTEL_price', 'GROUPAMA_price', 'K&AMP;H_price', 'KÖBE_price', 'MAGYAR_price', 'SIGNAL_price', 'UNION_price', 'UNIQA_price', 'WÁBERER_price']\n",
    "for target_variable in target_variables:\n",
    "    \n",
    "    data, features = utils.load_data(data_path, features_path, target_variable)\n",
    "    data_old = data[data['DateCrawled'] != '2024_01_05']\n",
    "    \n",
    "    for feature in ['Age', 'PostalCode']:\n",
    "        brackets = make_brackets(data_old, target_variable, feature)\n",
    "        brackets_dir = utils.get_feature_brackets_dir(target_variable)\n",
    "        bracket_path = utils.get_brackets_path(target_variable, feature)\n",
    "        print(bracket_path)\n",
    "\n",
    "        brackets.to_csv(bracket_path, index = False)"
   ],
   "metadata": {
    "collapsed": false,
    "ExecuteTime": {
     "end_time": "2024-01-28T20:19:33.993496209Z",
     "start_time": "2024-01-28T20:19:33.455560524Z"
    }
   },
   "id": "73e7c2d020ac36ab"
  },
  {
   "cell_type": "code",
   "execution_count": 14,
   "outputs": [
    {
     "ename": "NameError",
     "evalue": "name 'data_new' is not defined",
     "output_type": "error",
     "traceback": [
      "\u001B[0;31m---------------------------------------------------------------------------\u001B[0m",
      "\u001B[0;31mNameError\u001B[0m                                 Traceback (most recent call last)",
      "Cell \u001B[0;32mIn[14], line 1\u001B[0m\n\u001B[0;32m----> 1\u001B[0m brackets \u001B[38;5;241m=\u001B[39m make_brackets(\u001B[43mdata_new\u001B[49m, \u001B[38;5;124m'\u001B[39m\u001B[38;5;124mCarAge\u001B[39m\u001B[38;5;124m'\u001B[39m, target_variable)\n",
      "\u001B[0;31mNameError\u001B[0m: name 'data_new' is not defined"
     ]
    }
   ],
   "source": [
    "brackets = make_brackets(data_new, 'CarAge', target_variable)"
   ],
   "metadata": {
    "collapsed": false,
    "ExecuteTime": {
     "end_time": "2024-01-28T20:19:34.173281150Z",
     "start_time": "2024-01-28T20:19:33.966252434Z"
    }
   },
   "id": "cf668a8c7743454c"
  },
  {
   "cell_type": "code",
   "execution_count": null,
   "outputs": [],
   "source": [
    "brackets"
   ],
   "metadata": {
    "collapsed": false,
    "ExecuteTime": {
     "end_time": "2024-01-28T20:19:34.223224057Z",
     "start_time": "2024-01-28T20:19:34.218744689Z"
    }
   },
   "id": "ad2ddf699c7f5228"
  },
  {
   "cell_type": "code",
   "execution_count": 15,
   "outputs": [
    {
     "ename": "NameError",
     "evalue": "name 'data_new' is not defined",
     "output_type": "error",
     "traceback": [
      "\u001B[0;31m---------------------------------------------------------------------------\u001B[0m",
      "\u001B[0;31mNameError\u001B[0m                                 Traceback (most recent call last)",
      "Cell \u001B[0;32mIn[15], line 1\u001B[0m\n\u001B[0;32m----> 1\u001B[0m make_brackets(\u001B[43mdata_new\u001B[49m, \u001B[38;5;124m'\u001B[39m\u001B[38;5;124mPostalCode\u001B[39m\u001B[38;5;124m'\u001B[39m, target_variable)\n",
      "\u001B[0;31mNameError\u001B[0m: name 'data_new' is not defined"
     ]
    }
   ],
   "source": [
    "make_brackets(data_new, 'PostalCode', target_variable)"
   ],
   "metadata": {
    "collapsed": false,
    "ExecuteTime": {
     "end_time": "2024-01-28T20:19:34.548838724Z",
     "start_time": "2024-01-28T20:19:34.472337148Z"
    }
   },
   "id": "1adafbd59e777353"
  },
  {
   "cell_type": "code",
   "execution_count": 16,
   "outputs": [
    {
     "ename": "NameError",
     "evalue": "name 'data_new' is not defined",
     "output_type": "error",
     "traceback": [
      "\u001B[0;31m---------------------------------------------------------------------------\u001B[0m",
      "\u001B[0;31mNameError\u001B[0m                                 Traceback (most recent call last)",
      "Cell \u001B[0;32mIn[16], line 1\u001B[0m\n\u001B[0;32m----> 1\u001B[0m make_brackets(\u001B[43mdata_new\u001B[49m, \u001B[38;5;124m'\u001B[39m\u001B[38;5;124mAge\u001B[39m\u001B[38;5;124m'\u001B[39m, target_variable)\u001B[38;5;241m.\u001B[39mapply(collapse_list)\n",
      "\u001B[0;31mNameError\u001B[0m: name 'data_new' is not defined"
     ]
    }
   ],
   "source": [
    "make_brackets(data_new, 'Age', target_variable).apply(collapse_list)"
   ],
   "metadata": {
    "collapsed": false,
    "ExecuteTime": {
     "end_time": "2024-01-28T20:19:34.755869604Z",
     "start_time": "2024-01-28T20:19:34.709519687Z"
    }
   },
   "id": "1fe6c3e411ca0779"
  },
  {
   "cell_type": "code",
   "execution_count": 17,
   "outputs": [
    {
     "data": {
      "text/plain": "   WÁBERER_price_Age_bracket  Age\n0                          0   35\n1                          1   40",
      "text/html": "<div>\n<style scoped>\n    .dataframe tbody tr th:only-of-type {\n        vertical-align: middle;\n    }\n\n    .dataframe tbody tr th {\n        vertical-align: top;\n    }\n\n    .dataframe thead th {\n        text-align: right;\n    }\n</style>\n<table border=\"1\" class=\"dataframe\">\n  <thead>\n    <tr style=\"text-align: right;\">\n      <th></th>\n      <th>WÁBERER_price_Age_bracket</th>\n      <th>Age</th>\n    </tr>\n  </thead>\n  <tbody>\n    <tr>\n      <th>0</th>\n      <td>0</td>\n      <td>35</td>\n    </tr>\n    <tr>\n      <th>1</th>\n      <td>1</td>\n      <td>40</td>\n    </tr>\n  </tbody>\n</table>\n</div>"
     },
     "execution_count": 17,
     "metadata": {},
     "output_type": "execute_result"
    }
   ],
   "source": [
    "make_brackets(data_old, 'Age', target_variable).apply(collapse_list)"
   ],
   "metadata": {
    "collapsed": false,
    "ExecuteTime": {
     "end_time": "2024-01-28T20:19:34.943269119Z",
     "start_time": "2024-01-28T20:19:34.898680715Z"
    }
   },
   "id": "be02844e54840375"
  },
  {
   "cell_type": "code",
   "execution_count": 18,
   "outputs": [
    {
     "ename": "NameError",
     "evalue": "name 'data_new' is not defined",
     "output_type": "error",
     "traceback": [
      "\u001B[0;31m---------------------------------------------------------------------------\u001B[0m",
      "\u001B[0;31mNameError\u001B[0m                                 Traceback (most recent call last)",
      "Cell \u001B[0;32mIn[18], line 4\u001B[0m\n\u001B[1;32m      1\u001B[0m \u001B[38;5;28;01mimport\u001B[39;00m \u001B[38;5;21;01mpandas\u001B[39;00m \u001B[38;5;28;01mas\u001B[39;00m \u001B[38;5;21;01mpd\u001B[39;00m\n\u001B[1;32m      3\u001B[0m \u001B[38;5;66;03m# Sample data as a pandas Series\u001B[39;00m\n\u001B[0;32m----> 4\u001B[0m ranges \u001B[38;5;241m=\u001B[39m pd\u001B[38;5;241m.\u001B[39mconcat([make_brackets(data_old, \u001B[38;5;124m'\u001B[39m\u001B[38;5;124mAge\u001B[39m\u001B[38;5;124m'\u001B[39m, target_variable), make_brackets(\u001B[43mdata_new\u001B[49m, \u001B[38;5;124m'\u001B[39m\u001B[38;5;124mAge\u001B[39m\u001B[38;5;124m'\u001B[39m, target_variable)])\u001B[38;5;241m.\u001B[39mapply(collapse_list)\n\u001B[1;32m      6\u001B[0m \u001B[38;5;66;03m# Sort the series by the start value of each tuple\u001B[39;00m\n\u001B[1;32m      7\u001B[0m sorted_data \u001B[38;5;241m=\u001B[39m ranges\u001B[38;5;241m.\u001B[39msort_values()\n",
      "\u001B[0;31mNameError\u001B[0m: name 'data_new' is not defined"
     ]
    }
   ],
   "source": [
    "import pandas as pd\n",
    "\n",
    "# Sample data as a pandas Series\n",
    "ranges = pd.concat([make_brackets(data_old, 'Age', target_variable), make_brackets(data_new, 'Age', target_variable)]).apply(collapse_list)\n",
    "\n",
    "# Sort the series by the start value of each tuple\n",
    "sorted_data = ranges.sort_values()\n",
    "\n",
    "# Initialize variables to store merged ranges\n",
    "merged_ranges = []\n",
    "\n",
    "# Iterate through the tuples and merge overlapping ranges\n",
    "current_start, current_end = sorted_data.iloc[0]\n",
    "\n",
    "for index, value in sorted_data.iteritems():\n",
    "    if value[0] <= current_end:\n",
    "        # Merge overlapping ranges\n",
    "        current_end = max(current_end, value[1])\n",
    "    else:\n",
    "        # Save the merged range and update current start and end\n",
    "        merged_ranges.append((current_start, current_end))\n",
    "        current_start, current_end = value\n",
    "\n",
    "# Save the last merged range\n",
    "merged_ranges.append((current_start, current_end))\n",
    "\n",
    "# Create a new Series with merged ranges\n",
    "result_series = pd.Series(merged_ranges, name='merged_ranges')\n",
    "\n",
    "print(result_series)\n"
   ],
   "metadata": {
    "collapsed": false,
    "ExecuteTime": {
     "end_time": "2024-01-28T20:19:35.192706348Z",
     "start_time": "2024-01-28T20:19:35.182141483Z"
    }
   },
   "id": "b9c3a36316322545"
  },
  {
   "cell_type": "code",
   "execution_count": 18,
   "outputs": [],
   "source": [],
   "metadata": {
    "collapsed": false,
    "ExecuteTime": {
     "end_time": "2024-01-28T20:19:35.381883474Z",
     "start_time": "2024-01-28T20:19:35.372867198Z"
    }
   },
   "id": "26e8e967da12f170"
  },
  {
   "cell_type": "code",
   "execution_count": 19,
   "outputs": [],
   "source": [
    "data = pd.read_csv(utils.get_processed_data_path('netrisk_casco_v1'))"
   ],
   "metadata": {
    "collapsed": false,
    "ExecuteTime": {
     "end_time": "2024-01-28T20:19:37.230350073Z",
     "start_time": "2024-01-28T20:19:37.201194784Z"
    }
   },
   "id": "70256ba23dd3c2b"
  },
  {
   "cell_type": "code",
   "execution_count": 20,
   "outputs": [],
   "source": [
    "price_cols = data.filter(like = '_price').columns.to_list()\n",
    "insurers = [x.replace('_price', '') for x in price_cols]\n",
    "\n",
    "def add_rank(row):\n",
    "    prices = list(zip(insurers, row[price_cols]))\n",
    "    prices = sorted(prices, key=lambda x: float('inf') if str(x[1]) == 'nan' else x[1])\n",
    "    ranks = []\n",
    "    for i, (ins, pr) in enumerate(prices):\n",
    "        if str(pr) != 'nan':\n",
    "            ranks.append((ins, i + 1))\n",
    "        else:\n",
    "            ranks.append((ins, None))\n",
    "    ranks = sorted(ranks, key=lambda x: x[0])\n",
    "    return pd.Series([x[1] for x in ranks])\n",
    "\n",
    "rank_cols = [ins + '_rank' for ins in insurers]\n",
    "data[rank_cols] = data.apply(lambda x: add_rank(x), axis=1)\n"
   ],
   "metadata": {
    "collapsed": false,
    "ExecuteTime": {
     "end_time": "2024-01-28T20:19:39.835202674Z",
     "start_time": "2024-01-28T20:19:37.714712333Z"
    }
   },
   "id": "2582d69b697910e5"
  },
  {
   "cell_type": "code",
   "execution_count": 21,
   "outputs": [
    {
     "data": {
      "text/plain": "      ALFA_rank  ALLIANZ_rank  GENERALI_rank  GENERTEL_rank  GROUPAMA_rank  \\\n0           6.0           9.0            5.0            NaN            3.0   \n1           3.0           8.0           10.0            NaN            2.0   \n2           7.0           9.0           10.0            NaN            6.0   \n3           6.0           9.0            4.0            NaN           11.0   \n4           6.0          10.0            7.0            NaN            3.0   \n...         ...           ...            ...            ...            ...   \n5190        7.0           4.0            5.0            NaN            3.0   \n5191        3.0           8.0           10.0            NaN           11.0   \n5192        3.0           9.0            5.0            NaN            7.0   \n5193        6.0           3.0            9.0            NaN            4.0   \n5194        6.0          11.0            4.0            NaN           10.0   \n\n      K&AMP;H_rank  KÖBE_rank  MAGYAR_rank  SIGNAL_rank  UNION_rank  \\\n0              8.0        2.0          NaN          NaN         1.0   \n1              4.0        5.0          6.0         11.0         1.0   \n2              8.0        3.0          2.0         11.0         5.0   \n3              8.0        3.0          2.0         10.0         1.0   \n4              9.0        1.0          2.0          8.0         5.0   \n...            ...        ...          ...          ...         ...   \n5190           9.0        1.0          NaN          NaN         2.0   \n5191           6.0        2.0          9.0          4.0         1.0   \n5192           8.0        1.0          4.0          NaN         2.0   \n5193           8.0        1.0          NaN          5.0         2.0   \n5194           7.0        3.0          8.0          5.0         2.0   \n\n      UNIQA_rank  WÁBERER_rank  \n0            4.0           7.0  \n1            9.0           7.0  \n2            1.0           4.0  \n3            7.0           5.0  \n4           11.0           4.0  \n...          ...           ...  \n5190         6.0           8.0  \n5191         7.0           5.0  \n5192         6.0           NaN  \n5193         7.0           NaN  \n5194         9.0           1.0  \n\n[5195 rows x 12 columns]",
      "text/html": "<div>\n<style scoped>\n    .dataframe tbody tr th:only-of-type {\n        vertical-align: middle;\n    }\n\n    .dataframe tbody tr th {\n        vertical-align: top;\n    }\n\n    .dataframe thead th {\n        text-align: right;\n    }\n</style>\n<table border=\"1\" class=\"dataframe\">\n  <thead>\n    <tr style=\"text-align: right;\">\n      <th></th>\n      <th>ALFA_rank</th>\n      <th>ALLIANZ_rank</th>\n      <th>GENERALI_rank</th>\n      <th>GENERTEL_rank</th>\n      <th>GROUPAMA_rank</th>\n      <th>K&amp;AMP;H_rank</th>\n      <th>KÖBE_rank</th>\n      <th>MAGYAR_rank</th>\n      <th>SIGNAL_rank</th>\n      <th>UNION_rank</th>\n      <th>UNIQA_rank</th>\n      <th>WÁBERER_rank</th>\n    </tr>\n  </thead>\n  <tbody>\n    <tr>\n      <th>0</th>\n      <td>6.0</td>\n      <td>9.0</td>\n      <td>5.0</td>\n      <td>NaN</td>\n      <td>3.0</td>\n      <td>8.0</td>\n      <td>2.0</td>\n      <td>NaN</td>\n      <td>NaN</td>\n      <td>1.0</td>\n      <td>4.0</td>\n      <td>7.0</td>\n    </tr>\n    <tr>\n      <th>1</th>\n      <td>3.0</td>\n      <td>8.0</td>\n      <td>10.0</td>\n      <td>NaN</td>\n      <td>2.0</td>\n      <td>4.0</td>\n      <td>5.0</td>\n      <td>6.0</td>\n      <td>11.0</td>\n      <td>1.0</td>\n      <td>9.0</td>\n      <td>7.0</td>\n    </tr>\n    <tr>\n      <th>2</th>\n      <td>7.0</td>\n      <td>9.0</td>\n      <td>10.0</td>\n      <td>NaN</td>\n      <td>6.0</td>\n      <td>8.0</td>\n      <td>3.0</td>\n      <td>2.0</td>\n      <td>11.0</td>\n      <td>5.0</td>\n      <td>1.0</td>\n      <td>4.0</td>\n    </tr>\n    <tr>\n      <th>3</th>\n      <td>6.0</td>\n      <td>9.0</td>\n      <td>4.0</td>\n      <td>NaN</td>\n      <td>11.0</td>\n      <td>8.0</td>\n      <td>3.0</td>\n      <td>2.0</td>\n      <td>10.0</td>\n      <td>1.0</td>\n      <td>7.0</td>\n      <td>5.0</td>\n    </tr>\n    <tr>\n      <th>4</th>\n      <td>6.0</td>\n      <td>10.0</td>\n      <td>7.0</td>\n      <td>NaN</td>\n      <td>3.0</td>\n      <td>9.0</td>\n      <td>1.0</td>\n      <td>2.0</td>\n      <td>8.0</td>\n      <td>5.0</td>\n      <td>11.0</td>\n      <td>4.0</td>\n    </tr>\n    <tr>\n      <th>...</th>\n      <td>...</td>\n      <td>...</td>\n      <td>...</td>\n      <td>...</td>\n      <td>...</td>\n      <td>...</td>\n      <td>...</td>\n      <td>...</td>\n      <td>...</td>\n      <td>...</td>\n      <td>...</td>\n      <td>...</td>\n    </tr>\n    <tr>\n      <th>5190</th>\n      <td>7.0</td>\n      <td>4.0</td>\n      <td>5.0</td>\n      <td>NaN</td>\n      <td>3.0</td>\n      <td>9.0</td>\n      <td>1.0</td>\n      <td>NaN</td>\n      <td>NaN</td>\n      <td>2.0</td>\n      <td>6.0</td>\n      <td>8.0</td>\n    </tr>\n    <tr>\n      <th>5191</th>\n      <td>3.0</td>\n      <td>8.0</td>\n      <td>10.0</td>\n      <td>NaN</td>\n      <td>11.0</td>\n      <td>6.0</td>\n      <td>2.0</td>\n      <td>9.0</td>\n      <td>4.0</td>\n      <td>1.0</td>\n      <td>7.0</td>\n      <td>5.0</td>\n    </tr>\n    <tr>\n      <th>5192</th>\n      <td>3.0</td>\n      <td>9.0</td>\n      <td>5.0</td>\n      <td>NaN</td>\n      <td>7.0</td>\n      <td>8.0</td>\n      <td>1.0</td>\n      <td>4.0</td>\n      <td>NaN</td>\n      <td>2.0</td>\n      <td>6.0</td>\n      <td>NaN</td>\n    </tr>\n    <tr>\n      <th>5193</th>\n      <td>6.0</td>\n      <td>3.0</td>\n      <td>9.0</td>\n      <td>NaN</td>\n      <td>4.0</td>\n      <td>8.0</td>\n      <td>1.0</td>\n      <td>NaN</td>\n      <td>5.0</td>\n      <td>2.0</td>\n      <td>7.0</td>\n      <td>NaN</td>\n    </tr>\n    <tr>\n      <th>5194</th>\n      <td>6.0</td>\n      <td>11.0</td>\n      <td>4.0</td>\n      <td>NaN</td>\n      <td>10.0</td>\n      <td>7.0</td>\n      <td>3.0</td>\n      <td>8.0</td>\n      <td>5.0</td>\n      <td>2.0</td>\n      <td>9.0</td>\n      <td>1.0</td>\n    </tr>\n  </tbody>\n</table>\n<p>5195 rows × 12 columns</p>\n</div>"
     },
     "execution_count": 21,
     "metadata": {},
     "output_type": "execute_result"
    }
   ],
   "source": [
    "data[rank_cols]"
   ],
   "metadata": {
    "collapsed": false,
    "ExecuteTime": {
     "end_time": "2024-01-28T20:19:39.933163265Z",
     "start_time": "2024-01-28T20:19:39.830027713Z"
    }
   },
   "id": "924dc42f9bcdffe5"
  },
  {
   "cell_type": "code",
   "execution_count": 22,
   "outputs": [],
   "source": [
    "def rank_analysis(profiles):\n",
    "    rank_value_counts = profiles[rank_cols].apply(pd.Series.value_counts)\n",
    "    rank_percentage = rank_value_counts.apply(lambda x : x / x.sum(), axis = 1) * 100\n",
    "    return rank_value_counts, rank_percentage"
   ],
   "metadata": {
    "collapsed": false,
    "ExecuteTime": {
     "end_time": "2024-01-28T20:19:39.934448913Z",
     "start_time": "2024-01-28T20:19:39.886269660Z"
    }
   },
   "id": "8e053e8ad9cf3d82"
  },
  {
   "cell_type": "code",
   "execution_count": 23,
   "outputs": [],
   "source": [
    "rank_value_counts, rank_percentage = rank_analysis(data)"
   ],
   "metadata": {
    "collapsed": false,
    "ExecuteTime": {
     "end_time": "2024-01-28T20:19:39.935367517Z",
     "start_time": "2024-01-28T20:19:39.886500275Z"
    }
   },
   "id": "398aafa3b335e11e"
  },
  {
   "cell_type": "code",
   "execution_count": 24,
   "outputs": [
    {
     "data": {
      "text/plain": "     ALFA_rank  ALLIANZ_rank  GENERALI_rank  GENERTEL_rank  GROUPAMA_rank  \\\n1.0   5.928778      0.404235       1.732435            NaN      11.241578   \n\n     K&AMP;H_rank  KÖBE_rank  MAGYAR_rank  SIGNAL_rank  UNION_rank  \\\n1.0      0.250241  47.661213      6.12127      0.26949   16.053898   \n\n     UNIQA_rank  WÁBERER_rank  \n1.0    3.291627      7.045236  ",
      "text/html": "<div>\n<style scoped>\n    .dataframe tbody tr th:only-of-type {\n        vertical-align: middle;\n    }\n\n    .dataframe tbody tr th {\n        vertical-align: top;\n    }\n\n    .dataframe thead th {\n        text-align: right;\n    }\n</style>\n<table border=\"1\" class=\"dataframe\">\n  <thead>\n    <tr style=\"text-align: right;\">\n      <th></th>\n      <th>ALFA_rank</th>\n      <th>ALLIANZ_rank</th>\n      <th>GENERALI_rank</th>\n      <th>GENERTEL_rank</th>\n      <th>GROUPAMA_rank</th>\n      <th>K&amp;AMP;H_rank</th>\n      <th>KÖBE_rank</th>\n      <th>MAGYAR_rank</th>\n      <th>SIGNAL_rank</th>\n      <th>UNION_rank</th>\n      <th>UNIQA_rank</th>\n      <th>WÁBERER_rank</th>\n    </tr>\n  </thead>\n  <tbody>\n    <tr>\n      <th>1.0</th>\n      <td>5.928778</td>\n      <td>0.404235</td>\n      <td>1.732435</td>\n      <td>NaN</td>\n      <td>11.241578</td>\n      <td>0.250241</td>\n      <td>47.661213</td>\n      <td>6.12127</td>\n      <td>0.26949</td>\n      <td>16.053898</td>\n      <td>3.291627</td>\n      <td>7.045236</td>\n    </tr>\n  </tbody>\n</table>\n</div>"
     },
     "execution_count": 24,
     "metadata": {},
     "output_type": "execute_result"
    }
   ],
   "source": [
    "rank_percentage.iloc[0 : 1]"
   ],
   "metadata": {
    "collapsed": false,
    "ExecuteTime": {
     "end_time": "2024-01-28T20:19:39.936904640Z",
     "start_time": "2024-01-28T20:19:39.886640330Z"
    }
   },
   "id": "7d6f0fcd2d9dc3fb"
  },
  {
   "cell_type": "code",
   "execution_count": 25,
   "outputs": [
    {
     "data": {
      "text/plain": "6.075722384836013"
     },
     "execution_count": 25,
     "metadata": {},
     "output_type": "execute_result"
    }
   ],
   "source": [
    "8000 / data['UNION_price'].mean() * 100"
   ],
   "metadata": {
    "collapsed": false,
    "ExecuteTime": {
     "end_time": "2024-01-28T20:19:40.216944968Z",
     "start_time": "2024-01-28T20:19:40.206323951Z"
    }
   },
   "id": "8ecacc3797e1f1e0"
  },
  {
   "cell_type": "code",
   "execution_count": 26,
   "outputs": [],
   "source": [
    "raw_data_name = 'netrisk_casco_2024_01_27'\n",
    "raw_data_path = utils.get_raw_data_path(raw_data_name)\n",
    "data = pd.read_csv(raw_data_path)"
   ],
   "metadata": {
    "collapsed": false,
    "ExecuteTime": {
     "end_time": "2024-01-28T20:19:41.521939167Z",
     "start_time": "2024-01-28T20:19:41.510254551Z"
    }
   },
   "id": "38b9396ebe5fc077"
  },
  {
   "cell_type": "code",
   "execution_count": 27,
   "outputs": [
    {
     "data": {
      "text/plain": "BonusMalus      B10        B9        B8        B7        B6        B5  \\\nALFA_price      1.0  1.000000  1.000000  1.000000  1.000000  1.000000   \nALLIANZ_price   1.0  1.000000  1.000000  1.000000  1.000000  1.000000   \nGENERALI_price  1.0  1.102566  1.102566  1.102566  1.153845  1.153845   \nGENERTEL_price  1.0  1.046874  1.156254  1.156254  1.156254  1.218753   \nGROUPAMA_price  1.0  1.142989  1.142989  1.142989  1.214345  1.214345   \nK&AMP;H_price   1.0  1.000000  1.000000  1.000000  1.000000  1.000000   \nKÖBE_price      1.0  1.000000  1.000000  1.000000  1.000000  1.000000   \nMAGYAR_price    1.0  1.000000  1.000000  1.000000  1.000000  1.000000   \nSIGNAL_price    1.0  1.000000  1.000000  1.000000  1.000000  1.000000   \nUNION_price     1.0  1.000000  1.050132  1.117884  1.219512  1.321135   \nUNIQA_price     1.0  1.000000  1.003665  1.003665  1.003665  1.158728   \nWÁBERER_price   NaN       NaN       NaN       NaN       NaN       NaN   \n\nBonusMalus            B4        B2        B1        A0        M1        M2  \\\nALFA_price      1.000000  1.000000  1.000000  1.000000  1.000000  1.000000   \nALLIANZ_price   1.000000  1.000000  1.000000  1.000000  1.000000  1.000000   \nGENERALI_price  1.153845  1.153845  1.153845  1.153845  1.153845  1.153845   \nGENERTEL_price  1.218753  1.218753  1.281252  1.281252       NaN       NaN   \nGROUPAMA_price  1.214345  1.285885  1.285885  1.357242  1.357242  1.357242   \nK&AMP;H_price   1.000000  1.000000  1.000000  1.000000  1.000000  1.000000   \nKÖBE_price      1.046961  1.113260  1.226519  1.292818       NaN       NaN   \nMAGYAR_price    1.000000  1.794883  1.794883  1.794883       NaN       NaN   \nSIGNAL_price    1.000000  1.000000  1.000000  1.000000  1.000000  1.000000   \nUNION_price     1.388887  1.388887  1.388887  1.388887  1.388887  1.388887   \nUNIQA_price     1.158728  1.221003  1.221003  1.221003  1.221003  1.221003   \nWÁBERER_price        NaN       NaN       NaN       NaN       NaN       NaN   \n\nBonusMalus            M3        M4  \nALFA_price      1.000000  1.000000  \nALLIANZ_price   1.000000  1.000000  \nGENERALI_price  1.153845  1.153845  \nGENERTEL_price       NaN       NaN  \nGROUPAMA_price  1.357242  1.357242  \nK&AMP;H_price   1.000000  1.000000  \nKÖBE_price           NaN       NaN  \nMAGYAR_price         NaN       NaN  \nSIGNAL_price    1.000000  1.000000  \nUNION_price     1.388887  1.388887  \nUNIQA_price     1.221003  1.221003  \nWÁBERER_price        NaN       NaN  ",
      "text/html": "<div>\n<style scoped>\n    .dataframe tbody tr th:only-of-type {\n        vertical-align: middle;\n    }\n\n    .dataframe tbody tr th {\n        vertical-align: top;\n    }\n\n    .dataframe thead th {\n        text-align: right;\n    }\n</style>\n<table border=\"1\" class=\"dataframe\">\n  <thead>\n    <tr style=\"text-align: right;\">\n      <th>BonusMalus</th>\n      <th>B10</th>\n      <th>B9</th>\n      <th>B8</th>\n      <th>B7</th>\n      <th>B6</th>\n      <th>B5</th>\n      <th>B4</th>\n      <th>B2</th>\n      <th>B1</th>\n      <th>A0</th>\n      <th>M1</th>\n      <th>M2</th>\n      <th>M3</th>\n      <th>M4</th>\n    </tr>\n  </thead>\n  <tbody>\n    <tr>\n      <th>ALFA_price</th>\n      <td>1.0</td>\n      <td>1.000000</td>\n      <td>1.000000</td>\n      <td>1.000000</td>\n      <td>1.000000</td>\n      <td>1.000000</td>\n      <td>1.000000</td>\n      <td>1.000000</td>\n      <td>1.000000</td>\n      <td>1.000000</td>\n      <td>1.000000</td>\n      <td>1.000000</td>\n      <td>1.000000</td>\n      <td>1.000000</td>\n    </tr>\n    <tr>\n      <th>ALLIANZ_price</th>\n      <td>1.0</td>\n      <td>1.000000</td>\n      <td>1.000000</td>\n      <td>1.000000</td>\n      <td>1.000000</td>\n      <td>1.000000</td>\n      <td>1.000000</td>\n      <td>1.000000</td>\n      <td>1.000000</td>\n      <td>1.000000</td>\n      <td>1.000000</td>\n      <td>1.000000</td>\n      <td>1.000000</td>\n      <td>1.000000</td>\n    </tr>\n    <tr>\n      <th>GENERALI_price</th>\n      <td>1.0</td>\n      <td>1.102566</td>\n      <td>1.102566</td>\n      <td>1.102566</td>\n      <td>1.153845</td>\n      <td>1.153845</td>\n      <td>1.153845</td>\n      <td>1.153845</td>\n      <td>1.153845</td>\n      <td>1.153845</td>\n      <td>1.153845</td>\n      <td>1.153845</td>\n      <td>1.153845</td>\n      <td>1.153845</td>\n    </tr>\n    <tr>\n      <th>GENERTEL_price</th>\n      <td>1.0</td>\n      <td>1.046874</td>\n      <td>1.156254</td>\n      <td>1.156254</td>\n      <td>1.156254</td>\n      <td>1.218753</td>\n      <td>1.218753</td>\n      <td>1.218753</td>\n      <td>1.281252</td>\n      <td>1.281252</td>\n      <td>NaN</td>\n      <td>NaN</td>\n      <td>NaN</td>\n      <td>NaN</td>\n    </tr>\n    <tr>\n      <th>GROUPAMA_price</th>\n      <td>1.0</td>\n      <td>1.142989</td>\n      <td>1.142989</td>\n      <td>1.142989</td>\n      <td>1.214345</td>\n      <td>1.214345</td>\n      <td>1.214345</td>\n      <td>1.285885</td>\n      <td>1.285885</td>\n      <td>1.357242</td>\n      <td>1.357242</td>\n      <td>1.357242</td>\n      <td>1.357242</td>\n      <td>1.357242</td>\n    </tr>\n    <tr>\n      <th>K&amp;AMP;H_price</th>\n      <td>1.0</td>\n      <td>1.000000</td>\n      <td>1.000000</td>\n      <td>1.000000</td>\n      <td>1.000000</td>\n      <td>1.000000</td>\n      <td>1.000000</td>\n      <td>1.000000</td>\n      <td>1.000000</td>\n      <td>1.000000</td>\n      <td>1.000000</td>\n      <td>1.000000</td>\n      <td>1.000000</td>\n      <td>1.000000</td>\n    </tr>\n    <tr>\n      <th>KÖBE_price</th>\n      <td>1.0</td>\n      <td>1.000000</td>\n      <td>1.000000</td>\n      <td>1.000000</td>\n      <td>1.000000</td>\n      <td>1.000000</td>\n      <td>1.046961</td>\n      <td>1.113260</td>\n      <td>1.226519</td>\n      <td>1.292818</td>\n      <td>NaN</td>\n      <td>NaN</td>\n      <td>NaN</td>\n      <td>NaN</td>\n    </tr>\n    <tr>\n      <th>MAGYAR_price</th>\n      <td>1.0</td>\n      <td>1.000000</td>\n      <td>1.000000</td>\n      <td>1.000000</td>\n      <td>1.000000</td>\n      <td>1.000000</td>\n      <td>1.000000</td>\n      <td>1.794883</td>\n      <td>1.794883</td>\n      <td>1.794883</td>\n      <td>NaN</td>\n      <td>NaN</td>\n      <td>NaN</td>\n      <td>NaN</td>\n    </tr>\n    <tr>\n      <th>SIGNAL_price</th>\n      <td>1.0</td>\n      <td>1.000000</td>\n      <td>1.000000</td>\n      <td>1.000000</td>\n      <td>1.000000</td>\n      <td>1.000000</td>\n      <td>1.000000</td>\n      <td>1.000000</td>\n      <td>1.000000</td>\n      <td>1.000000</td>\n      <td>1.000000</td>\n      <td>1.000000</td>\n      <td>1.000000</td>\n      <td>1.000000</td>\n    </tr>\n    <tr>\n      <th>UNION_price</th>\n      <td>1.0</td>\n      <td>1.000000</td>\n      <td>1.050132</td>\n      <td>1.117884</td>\n      <td>1.219512</td>\n      <td>1.321135</td>\n      <td>1.388887</td>\n      <td>1.388887</td>\n      <td>1.388887</td>\n      <td>1.388887</td>\n      <td>1.388887</td>\n      <td>1.388887</td>\n      <td>1.388887</td>\n      <td>1.388887</td>\n    </tr>\n    <tr>\n      <th>UNIQA_price</th>\n      <td>1.0</td>\n      <td>1.000000</td>\n      <td>1.003665</td>\n      <td>1.003665</td>\n      <td>1.003665</td>\n      <td>1.158728</td>\n      <td>1.158728</td>\n      <td>1.221003</td>\n      <td>1.221003</td>\n      <td>1.221003</td>\n      <td>1.221003</td>\n      <td>1.221003</td>\n      <td>1.221003</td>\n      <td>1.221003</td>\n    </tr>\n    <tr>\n      <th>WÁBERER_price</th>\n      <td>NaN</td>\n      <td>NaN</td>\n      <td>NaN</td>\n      <td>NaN</td>\n      <td>NaN</td>\n      <td>NaN</td>\n      <td>NaN</td>\n      <td>NaN</td>\n      <td>NaN</td>\n      <td>NaN</td>\n      <td>NaN</td>\n      <td>NaN</td>\n      <td>NaN</td>\n      <td>NaN</td>\n    </tr>\n  </tbody>\n</table>\n</div>"
     },
     "execution_count": 27,
     "metadata": {},
     "output_type": "execute_result"
    }
   ],
   "source": [
    "(data.sort_values('BonusMalusCode').set_index('BonusMalus').filter(like = '_price') / data.sort_values('BonusMalusCode').filter(like = '_price').iloc[0]).T"
   ],
   "metadata": {
    "collapsed": false,
    "ExecuteTime": {
     "end_time": "2024-01-28T20:19:41.998652894Z",
     "start_time": "2024-01-28T20:19:41.968804206Z"
    }
   },
   "id": "3da8665ba7256f73"
  },
  {
   "cell_type": "code",
   "execution_count": 2,
   "outputs": [],
   "source": [
    "def collapse(x):\n",
    "        if max(x) - min(x) + 1 == len(x):\n",
    "            return min(x), max(x)\n",
    "        else:\n",
    "            return x\n",
    "    \n",
    "def load(raw_data_name = 'netrisk_casco_2024_01_28'):\n",
    "    raw_data_path = utils.get_raw_data_path(raw_data_name)\n",
    "    data = pd.read_csv(raw_data_path).sort_values('Age').set_index('Age')\n",
    "    \n",
    "    \n",
    "    x = data.filter(like = '_price') / data.filter(like = '_price').iloc[0]\n",
    "    indexes_dict = {}\n",
    "    for insurer in data.filter(like='_price').columns:\n",
    "        indexes_list = [collapse(list(group_indexes)) for group_indexes in x.groupby(insurer).groups.values()]\n",
    "        indexes_list = sorted(indexes_list, key = lambda x : x[0])\n",
    "        indexes_dict[insurer] = (indexes_list)    \n",
    "    return data, x, indexes_dict"
   ],
   "metadata": {
    "collapsed": false,
    "ExecuteTime": {
     "end_time": "2024-01-30T17:49:59.080597073Z",
     "start_time": "2024-01-30T17:49:59.047221242Z"
    }
   },
   "id": "7ffe026a08f98fb0"
  },
  {
   "cell_type": "code",
   "execution_count": 36,
   "outputs": [],
   "source": [
    "data1, x1, indexes_dict1 = load(raw_data_name = 'netrisk_casco_2024_01_28')"
   ],
   "metadata": {
    "collapsed": false,
    "ExecuteTime": {
     "end_time": "2024-01-29T12:46:11.527688937Z",
     "start_time": "2024-01-29T12:46:11.495791571Z"
    }
   },
   "id": "fb5380f0d5cd4212"
  },
  {
   "cell_type": "code",
   "execution_count": 37,
   "outputs": [
    {
     "data": {
      "text/plain": "     id_case DateCrawled  isRecent CarMake  CarAge  ccm  kw    kg  car_value  \\\nAge                                                                            \n18         2  2024_01_28     False    AUDI       3  999  81  1300  29775.564   \n19        54  2024_01_28     False    AUDI       3  999  81  1300  29775.564   \n20        31  2024_01_28     False    AUDI       3  999  81  1300  29775.564   \n21        53  2024_01_28     False    AUDI       3  999  81  1300  29775.564   \n22         5  2024_01_28     False    AUDI       3  999  81  1300  29775.564   \n..       ...         ...       ...     ...     ...  ...  ..   ...        ...   \n75        29  2024_01_28     False    AUDI       3  999  81  1300  29775.564   \n76         7  2024_01_28     False    AUDI       3  999  81  1300  29775.564   \n77        50  2024_01_28     False    AUDI       3  999  81  1300  29775.564   \n78        26  2024_01_28     False    AUDI       3  999  81  1300  29775.564   \n79         9  2024_01_28     False    AUDI       3  999  81  1300  29775.564   \n\n     CarMakerCategory  ...  GENERALI_price  GENERTEL_price  GROUPAMA_price  \\\nAge                    ...                                                   \n18                  1  ...        430562.0             NaN        193368.0   \n19                  1  ...        430562.0             NaN        193368.0   \n20                  1  ...        430562.0             NaN        193368.0   \n21                  1  ...        430562.0             NaN        193368.0   \n22                  1  ...        430562.0             NaN        193368.0   \n..                ...  ...             ...             ...             ...   \n75                  1  ...        250003.0             NaN        170928.0   \n76                  1  ...        250003.0             NaN        170928.0   \n77                  1  ...        250003.0             NaN        170928.0   \n78                  1  ...        294449.0             NaN        170928.0   \n79                  1  ...        294449.0             NaN        170928.0   \n\n     K&AMP;H_price  KÖBE_price  MAGYAR_price  SIGNAL_price UNION_price  \\\nAge                                                                      \n18        581191.0    212280.0      664806.0      537795.0         NaN   \n19        581191.0    212280.0      664806.0      537795.0         NaN   \n20        581191.0    212280.0      664806.0      537795.0         NaN   \n21        581191.0    212280.0      664806.0      537795.0         NaN   \n22        581191.0    212280.0      664806.0      537795.0         NaN   \n..             ...         ...           ...           ...         ...   \n75        435893.0    110166.0      392840.0      328652.0    226666.0   \n76        435893.0    110166.0      392840.0      328652.0    226666.0   \n77        435893.0    110166.0      392840.0      328652.0    226666.0   \n78        435893.0    110166.0      392840.0      328652.0    226666.0   \n79        435893.0    110166.0      392840.0      328652.0    226666.0   \n\n     UNIQA_price  WÁBERER_price  \nAge                              \n18      338710.0            NaN  \n19      336208.0            NaN  \n20      326952.0            NaN  \n21      315194.0            NaN  \n22      305689.0            NaN  \n..           ...            ...  \n75      290930.0            NaN  \n76      299184.0            NaN  \n77      299184.0            NaN  \n78      299184.0            NaN  \n79      299184.0            NaN  \n\n[62 rows x 43 columns]",
      "text/html": "<div>\n<style scoped>\n    .dataframe tbody tr th:only-of-type {\n        vertical-align: middle;\n    }\n\n    .dataframe tbody tr th {\n        vertical-align: top;\n    }\n\n    .dataframe thead th {\n        text-align: right;\n    }\n</style>\n<table border=\"1\" class=\"dataframe\">\n  <thead>\n    <tr style=\"text-align: right;\">\n      <th></th>\n      <th>id_case</th>\n      <th>DateCrawled</th>\n      <th>isRecent</th>\n      <th>CarMake</th>\n      <th>CarAge</th>\n      <th>ccm</th>\n      <th>kw</th>\n      <th>kg</th>\n      <th>car_value</th>\n      <th>CarMakerCategory</th>\n      <th>...</th>\n      <th>GENERALI_price</th>\n      <th>GENERTEL_price</th>\n      <th>GROUPAMA_price</th>\n      <th>K&amp;AMP;H_price</th>\n      <th>KÖBE_price</th>\n      <th>MAGYAR_price</th>\n      <th>SIGNAL_price</th>\n      <th>UNION_price</th>\n      <th>UNIQA_price</th>\n      <th>WÁBERER_price</th>\n    </tr>\n    <tr>\n      <th>Age</th>\n      <th></th>\n      <th></th>\n      <th></th>\n      <th></th>\n      <th></th>\n      <th></th>\n      <th></th>\n      <th></th>\n      <th></th>\n      <th></th>\n      <th></th>\n      <th></th>\n      <th></th>\n      <th></th>\n      <th></th>\n      <th></th>\n      <th></th>\n      <th></th>\n      <th></th>\n      <th></th>\n      <th></th>\n    </tr>\n  </thead>\n  <tbody>\n    <tr>\n      <th>18</th>\n      <td>2</td>\n      <td>2024_01_28</td>\n      <td>False</td>\n      <td>AUDI</td>\n      <td>3</td>\n      <td>999</td>\n      <td>81</td>\n      <td>1300</td>\n      <td>29775.564</td>\n      <td>1</td>\n      <td>...</td>\n      <td>430562.0</td>\n      <td>NaN</td>\n      <td>193368.0</td>\n      <td>581191.0</td>\n      <td>212280.0</td>\n      <td>664806.0</td>\n      <td>537795.0</td>\n      <td>NaN</td>\n      <td>338710.0</td>\n      <td>NaN</td>\n    </tr>\n    <tr>\n      <th>19</th>\n      <td>54</td>\n      <td>2024_01_28</td>\n      <td>False</td>\n      <td>AUDI</td>\n      <td>3</td>\n      <td>999</td>\n      <td>81</td>\n      <td>1300</td>\n      <td>29775.564</td>\n      <td>1</td>\n      <td>...</td>\n      <td>430562.0</td>\n      <td>NaN</td>\n      <td>193368.0</td>\n      <td>581191.0</td>\n      <td>212280.0</td>\n      <td>664806.0</td>\n      <td>537795.0</td>\n      <td>NaN</td>\n      <td>336208.0</td>\n      <td>NaN</td>\n    </tr>\n    <tr>\n      <th>20</th>\n      <td>31</td>\n      <td>2024_01_28</td>\n      <td>False</td>\n      <td>AUDI</td>\n      <td>3</td>\n      <td>999</td>\n      <td>81</td>\n      <td>1300</td>\n      <td>29775.564</td>\n      <td>1</td>\n      <td>...</td>\n      <td>430562.0</td>\n      <td>NaN</td>\n      <td>193368.0</td>\n      <td>581191.0</td>\n      <td>212280.0</td>\n      <td>664806.0</td>\n      <td>537795.0</td>\n      <td>NaN</td>\n      <td>326952.0</td>\n      <td>NaN</td>\n    </tr>\n    <tr>\n      <th>21</th>\n      <td>53</td>\n      <td>2024_01_28</td>\n      <td>False</td>\n      <td>AUDI</td>\n      <td>3</td>\n      <td>999</td>\n      <td>81</td>\n      <td>1300</td>\n      <td>29775.564</td>\n      <td>1</td>\n      <td>...</td>\n      <td>430562.0</td>\n      <td>NaN</td>\n      <td>193368.0</td>\n      <td>581191.0</td>\n      <td>212280.0</td>\n      <td>664806.0</td>\n      <td>537795.0</td>\n      <td>NaN</td>\n      <td>315194.0</td>\n      <td>NaN</td>\n    </tr>\n    <tr>\n      <th>22</th>\n      <td>5</td>\n      <td>2024_01_28</td>\n      <td>False</td>\n      <td>AUDI</td>\n      <td>3</td>\n      <td>999</td>\n      <td>81</td>\n      <td>1300</td>\n      <td>29775.564</td>\n      <td>1</td>\n      <td>...</td>\n      <td>430562.0</td>\n      <td>NaN</td>\n      <td>193368.0</td>\n      <td>581191.0</td>\n      <td>212280.0</td>\n      <td>664806.0</td>\n      <td>537795.0</td>\n      <td>NaN</td>\n      <td>305689.0</td>\n      <td>NaN</td>\n    </tr>\n    <tr>\n      <th>...</th>\n      <td>...</td>\n      <td>...</td>\n      <td>...</td>\n      <td>...</td>\n      <td>...</td>\n      <td>...</td>\n      <td>...</td>\n      <td>...</td>\n      <td>...</td>\n      <td>...</td>\n      <td>...</td>\n      <td>...</td>\n      <td>...</td>\n      <td>...</td>\n      <td>...</td>\n      <td>...</td>\n      <td>...</td>\n      <td>...</td>\n      <td>...</td>\n      <td>...</td>\n      <td>...</td>\n    </tr>\n    <tr>\n      <th>75</th>\n      <td>29</td>\n      <td>2024_01_28</td>\n      <td>False</td>\n      <td>AUDI</td>\n      <td>3</td>\n      <td>999</td>\n      <td>81</td>\n      <td>1300</td>\n      <td>29775.564</td>\n      <td>1</td>\n      <td>...</td>\n      <td>250003.0</td>\n      <td>NaN</td>\n      <td>170928.0</td>\n      <td>435893.0</td>\n      <td>110166.0</td>\n      <td>392840.0</td>\n      <td>328652.0</td>\n      <td>226666.0</td>\n      <td>290930.0</td>\n      <td>NaN</td>\n    </tr>\n    <tr>\n      <th>76</th>\n      <td>7</td>\n      <td>2024_01_28</td>\n      <td>False</td>\n      <td>AUDI</td>\n      <td>3</td>\n      <td>999</td>\n      <td>81</td>\n      <td>1300</td>\n      <td>29775.564</td>\n      <td>1</td>\n      <td>...</td>\n      <td>250003.0</td>\n      <td>NaN</td>\n      <td>170928.0</td>\n      <td>435893.0</td>\n      <td>110166.0</td>\n      <td>392840.0</td>\n      <td>328652.0</td>\n      <td>226666.0</td>\n      <td>299184.0</td>\n      <td>NaN</td>\n    </tr>\n    <tr>\n      <th>77</th>\n      <td>50</td>\n      <td>2024_01_28</td>\n      <td>False</td>\n      <td>AUDI</td>\n      <td>3</td>\n      <td>999</td>\n      <td>81</td>\n      <td>1300</td>\n      <td>29775.564</td>\n      <td>1</td>\n      <td>...</td>\n      <td>250003.0</td>\n      <td>NaN</td>\n      <td>170928.0</td>\n      <td>435893.0</td>\n      <td>110166.0</td>\n      <td>392840.0</td>\n      <td>328652.0</td>\n      <td>226666.0</td>\n      <td>299184.0</td>\n      <td>NaN</td>\n    </tr>\n    <tr>\n      <th>78</th>\n      <td>26</td>\n      <td>2024_01_28</td>\n      <td>False</td>\n      <td>AUDI</td>\n      <td>3</td>\n      <td>999</td>\n      <td>81</td>\n      <td>1300</td>\n      <td>29775.564</td>\n      <td>1</td>\n      <td>...</td>\n      <td>294449.0</td>\n      <td>NaN</td>\n      <td>170928.0</td>\n      <td>435893.0</td>\n      <td>110166.0</td>\n      <td>392840.0</td>\n      <td>328652.0</td>\n      <td>226666.0</td>\n      <td>299184.0</td>\n      <td>NaN</td>\n    </tr>\n    <tr>\n      <th>79</th>\n      <td>9</td>\n      <td>2024_01_28</td>\n      <td>False</td>\n      <td>AUDI</td>\n      <td>3</td>\n      <td>999</td>\n      <td>81</td>\n      <td>1300</td>\n      <td>29775.564</td>\n      <td>1</td>\n      <td>...</td>\n      <td>294449.0</td>\n      <td>NaN</td>\n      <td>170928.0</td>\n      <td>435893.0</td>\n      <td>110166.0</td>\n      <td>392840.0</td>\n      <td>328652.0</td>\n      <td>226666.0</td>\n      <td>299184.0</td>\n      <td>NaN</td>\n    </tr>\n  </tbody>\n</table>\n<p>62 rows × 43 columns</p>\n</div>"
     },
     "execution_count": 37,
     "metadata": {},
     "output_type": "execute_result"
    }
   ],
   "source": [
    "data1"
   ],
   "metadata": {
    "collapsed": false,
    "ExecuteTime": {
     "end_time": "2024-01-29T12:46:12.011289408Z",
     "start_time": "2024-01-29T12:46:11.999559799Z"
    }
   },
   "id": "ed4d57b4f7676292"
  },
  {
   "cell_type": "code",
   "execution_count": 41,
   "outputs": [],
   "source": [
    "data1, x1, indexes_dict1 = load(raw_data_name = 'netrisk_casco_2024_01_28')\n",
    "data2,  x2, indexes_dict2 = load('netrisk_casco_2024_01_29')\n",
    "data3,  x3, indexes_dict2 = load('netrisk_casco_2024_01_31')\n",
    "data4,  x4, indexes_dict2 = load('netrisk_casco_2024_01_32')\n"
   ],
   "metadata": {
    "collapsed": false,
    "ExecuteTime": {
     "end_time": "2024-01-29T12:47:33.516648046Z",
     "start_time": "2024-01-29T12:47:33.473915429Z"
    }
   },
   "id": "52f1cdae136c0eae"
  },
  {
   "cell_type": "code",
   "execution_count": 43,
   "outputs": [
    {
     "data": {
      "text/plain": "Age\n18    1.211756\n19    1.211756\n20    1.211756\n21    1.211756\n22    1.211756\n        ...   \n75    1.211775\n76    1.211775\n77    1.211775\n78    1.211775\n79    1.211775\nName: ALFA_price, Length: 62, dtype: float64"
     },
     "execution_count": 43,
     "metadata": {},
     "output_type": "execute_result"
    }
   ],
   "source": [
    "data1['ALFA_price'] / data2['ALFA_price']"
   ],
   "metadata": {
    "collapsed": false,
    "ExecuteTime": {
     "end_time": "2024-01-29T12:48:09.886922227Z",
     "start_time": "2024-01-29T12:48:09.839611604Z"
    }
   },
   "id": "b4a32aeeda0ebfa8"
  },
  {
   "cell_type": "code",
   "execution_count": 44,
   "outputs": [
    {
     "data": {
      "text/plain": "Age\n18    1.211786\n19    1.211786\n20    1.211786\n21    1.211786\n22    1.211786\n        ...   \n75    1.211734\n76    1.211734\n77    1.211734\n78    1.211734\n79    1.211734\nName: ALFA_price, Length: 62, dtype: float64"
     },
     "execution_count": 44,
     "metadata": {},
     "output_type": "execute_result"
    }
   ],
   "source": [
    "data3['ALFA_price'] / data4['ALFA_price']"
   ],
   "metadata": {
    "collapsed": false,
    "ExecuteTime": {
     "end_time": "2024-01-29T12:48:17.391880998Z",
     "start_time": "2024-01-29T12:48:17.380129037Z"
    }
   },
   "id": "93d007b206dabecb"
  },
  {
   "cell_type": "code",
   "execution_count": 31,
   "outputs": [
    {
     "name": "stdout",
     "output_type": "stream",
     "text": [
      "ALFA_price [(18, 24), (25, 29), (30, 34), (35, 79)] [(18, 24), (25, 29), (30, 34), [35, 36, 37, 38, 39, 40, 41, 42, 43, 44, 45, 46, 47, 48, 49, 50, 51, 52, 53, 54, 55, 56, 57, 58, 59, 60, 61, 62, 63, 64, 65, 66, 67, 68, 69, 71, 72, 73, 74, 75, 76, 77, 78, 79]]\n",
      "ALLIANZ_price [(18, 19), (20, 22), (23, 29), (30, 30), (31, 39), (40, 43), (44, 59), (60, 69), (70, 72), (73, 79)] [(18, 19), [20, 22], [24, 25, 27, 28, 29], (30, 30), [31, 32, 33, 34, 35, 36, 37, 39], (40, 43), [46, 47, 48, 49, 50, 51, 52, 53, 54, 56, 57, 58, 59], [60, 61, 62, 63, 65, 66, 67, 68, 69], (71, 72), (73, 79)]\n",
      "GENERALI_price [(18, 22), (23, 29), (30, 33), (34, 39), (40, 69), (70, 77), (78, 79)] [(18, 22), (23, 29), (30, 33), (34, 39), (40, 69), (71, 77), (78, 79)]\n",
      "GROUPAMA_price [(18, 25), (26, 30), (31, 35), (36, 40), (41, 45), (46, 50), (51, 55), (56, 60), (61, 65), (66, 70), (71, 79)] [(18, 25), (26, 30), (31, 35), (36, 40), (41, 45), (46, 50), (51, 55), (56, 60), (61, 65), (66, 69), (71, 79)]\n",
      "K&AMP;H_price [(18, 25), (26, 30), (31, 35), (36, 45), (46, 50), (51, 55), (56, 60), (61, 65), (66, 70), (71, 79)] [(18, 25), (26, 30), (31, 35), (36, 45), (46, 50), (51, 55), (56, 60), (61, 65), (66, 69), (71, 79)]\n",
      "KÖBE_price [(18, 25), (26, 35), (36, 50), (51, 79)] [(18, 25), (26, 35), (36, 50), [51, 52, 53, 54, 55, 56, 57, 58, 59, 60, 61, 62, 63, 64, 65, 66, 67, 68, 69, 71, 72, 73, 74, 75, 76, 77, 78, 79]]\n",
      "MAGYAR_price [(18, 23), (24, 29), (30, 49), (50, 65), (66, 79)] []\n",
      "SIGNAL_price [(18, 29), (30, 34), (35, 79)] [(18, 29), [30, 31, 32, 33, 34, 35, 36, 37, 38, 39, 40, 41, 42, 43, 44, 45, 46, 47, 48, 49, 50, 51, 52, 53, 54, 55, 56, 57, 58, 59, 60, 61, 62, 63, 64, 65, 66, 67, 68, 69, 71, 72, 73, 74, 75, 76, 77, 78, 79]]\n",
      "UNIQA_price [(18, 18), (19, 19), (20, 20), (21, 21), (22, 22), (23, 23), (24, 24), (25, 25), (26, 26), (27, 27), (28, 29), [30, 32, 35], (31, 31), (33, 33), (34, 34), (36, 36), (37, 37), (38, 38), (39, 39), (40, 40), (41, 41), (42, 42), (43, 43), (44, 44), (45, 46), (47, 47), (48, 48), (49, 49), (50, 50), (51, 53), (54, 54), (55, 56), (57, 58), (59, 59), (60, 60), (61, 61), [62, 64], (63, 63), (65, 65), (66, 66), (67, 67), (68, 68), (69, 69), (70, 70), (71, 71), (72, 72), (73, 73), (74, 74), (75, 75), (76, 79)] [(18, 18), (19, 19), (20, 20), (21, 21), (22, 22), (23, 23), (24, 24), (25, 25), (26, 26), (27, 27), (28, 29), [30, 32, 35], (31, 31), (33, 33), (34, 34), (36, 36), (37, 37), (38, 38), (39, 39), (40, 40), (41, 41), (42, 42), (43, 43), (44, 44), (45, 46), (47, 47), (48, 48), (49, 49), (50, 50), (51, 53), (54, 54), (55, 56), (57, 58), (59, 59), (60, 60), (61, 61), [62, 64], (63, 63), (65, 65), (66, 66), (67, 67), (68, 68), (69, 69), (71, 71), (72, 72), (73, 73), (74, 74), (75, 75), (76, 79)]\n"
     ]
    }
   ],
   "source": [
    "for insurer in indexes_dict1.keys():\n",
    "    if indexes_dict1[insurer] != indexes_dict2[insurer]:\n",
    "        print(insurer, indexes_dict1[insurer], indexes_dict2[insurer])"
   ],
   "metadata": {
    "collapsed": false,
    "ExecuteTime": {
     "end_time": "2024-01-29T12:42:49.825154504Z",
     "start_time": "2024-01-29T12:42:49.809754549Z"
    }
   },
   "id": "e566ba514d23a11c"
  },
  {
   "cell_type": "code",
   "execution_count": 32,
   "outputs": [
    {
     "data": {
      "text/plain": "     id_case DateCrawled  isRecent CarMake  CarAge  ccm  kw    kg  car_value  \\\nAge                                                                            \n18         2  2024_01_31     False    FIAT       3  875  63  1165    14664.0   \n19        53  2024_01_31     False    FIAT       3  875  63  1165    14664.0   \n20        30  2024_01_31     False    FIAT       3  875  63  1165    14664.0   \n21        52  2024_01_31     False    FIAT       3  875  63  1165    14664.0   \n22         5  2024_01_31     False    FIAT       3  875  63  1165    14664.0   \n..       ...         ...       ...     ...     ...  ...  ..   ...        ...   \n75        28  2024_01_31     False    FIAT       3  875  63  1165    14664.0   \n76         7  2024_01_31     False    FIAT       3  875  63  1165    14664.0   \n77        49  2024_01_31     False    FIAT       3  875  63  1165    14664.0   \n78        25  2024_01_31     False    FIAT       3  875  63  1165    14664.0   \n79         9  2024_01_31     False    FIAT       3  875  63  1165    14664.0   \n\n     CarMakerCategory  ...  GENERALI_price  GENERTEL_price  GROUPAMA_price  \\\nAge                    ...                                                   \n18               0.97  ...        266695.0             NaN        127272.0   \n19               0.97  ...        266695.0             NaN        127272.0   \n20               0.97  ...        266695.0             NaN        127272.0   \n21               0.97  ...        266695.0             NaN        127272.0   \n22               0.97  ...        266695.0             NaN        127272.0   \n..                ...  ...             ...             ...             ...   \n75               0.97  ...        154855.0             NaN        112500.0   \n76               0.97  ...        154855.0             NaN        112500.0   \n77               0.97  ...        154855.0             NaN        112500.0   \n78               0.97  ...        182385.0             NaN        112500.0   \n79               0.97  ...        182385.0             NaN        112500.0   \n\n     K&AMP;H_price  KÖBE_price  MAGYAR_price  SIGNAL_price UNION_price  \\\nAge                                                                      \n18        332546.0    207156.0           NaN      264531.0         NaN   \n19        332546.0    207156.0           NaN      264531.0         NaN   \n20        332546.0    207156.0           NaN      264531.0         NaN   \n21        332546.0    207156.0           NaN      264531.0         NaN   \n22        332546.0    207156.0           NaN      264531.0         NaN   \n..             ...         ...           ...           ...         ...   \n75        249410.0    107604.0           NaN      161658.0     83149.0   \n76        249410.0    107604.0           NaN      161658.0     83149.0   \n77        249410.0    107604.0           NaN      161658.0     83149.0   \n78        249410.0    107604.0           NaN      161658.0     83149.0   \n79        249410.0    107604.0           NaN      161658.0     83149.0   \n\n     UNIQA_price  WÁBERER_price  \nAge                              \n18      205635.0            NaN  \n19      204116.0            NaN  \n20      198497.0            NaN  \n21      191359.0            NaN  \n22      185588.0            NaN  \n..           ...            ...  \n75      176627.0            NaN  \n76      181639.0            NaN  \n77      181639.0            NaN  \n78      181639.0            NaN  \n79      181639.0            NaN  \n\n[61 rows x 43 columns]",
      "text/html": "<div>\n<style scoped>\n    .dataframe tbody tr th:only-of-type {\n        vertical-align: middle;\n    }\n\n    .dataframe tbody tr th {\n        vertical-align: top;\n    }\n\n    .dataframe thead th {\n        text-align: right;\n    }\n</style>\n<table border=\"1\" class=\"dataframe\">\n  <thead>\n    <tr style=\"text-align: right;\">\n      <th></th>\n      <th>id_case</th>\n      <th>DateCrawled</th>\n      <th>isRecent</th>\n      <th>CarMake</th>\n      <th>CarAge</th>\n      <th>ccm</th>\n      <th>kw</th>\n      <th>kg</th>\n      <th>car_value</th>\n      <th>CarMakerCategory</th>\n      <th>...</th>\n      <th>GENERALI_price</th>\n      <th>GENERTEL_price</th>\n      <th>GROUPAMA_price</th>\n      <th>K&amp;AMP;H_price</th>\n      <th>KÖBE_price</th>\n      <th>MAGYAR_price</th>\n      <th>SIGNAL_price</th>\n      <th>UNION_price</th>\n      <th>UNIQA_price</th>\n      <th>WÁBERER_price</th>\n    </tr>\n    <tr>\n      <th>Age</th>\n      <th></th>\n      <th></th>\n      <th></th>\n      <th></th>\n      <th></th>\n      <th></th>\n      <th></th>\n      <th></th>\n      <th></th>\n      <th></th>\n      <th></th>\n      <th></th>\n      <th></th>\n      <th></th>\n      <th></th>\n      <th></th>\n      <th></th>\n      <th></th>\n      <th></th>\n      <th></th>\n      <th></th>\n    </tr>\n  </thead>\n  <tbody>\n    <tr>\n      <th>18</th>\n      <td>2</td>\n      <td>2024_01_31</td>\n      <td>False</td>\n      <td>FIAT</td>\n      <td>3</td>\n      <td>875</td>\n      <td>63</td>\n      <td>1165</td>\n      <td>14664.0</td>\n      <td>0.97</td>\n      <td>...</td>\n      <td>266695.0</td>\n      <td>NaN</td>\n      <td>127272.0</td>\n      <td>332546.0</td>\n      <td>207156.0</td>\n      <td>NaN</td>\n      <td>264531.0</td>\n      <td>NaN</td>\n      <td>205635.0</td>\n      <td>NaN</td>\n    </tr>\n    <tr>\n      <th>19</th>\n      <td>53</td>\n      <td>2024_01_31</td>\n      <td>False</td>\n      <td>FIAT</td>\n      <td>3</td>\n      <td>875</td>\n      <td>63</td>\n      <td>1165</td>\n      <td>14664.0</td>\n      <td>0.97</td>\n      <td>...</td>\n      <td>266695.0</td>\n      <td>NaN</td>\n      <td>127272.0</td>\n      <td>332546.0</td>\n      <td>207156.0</td>\n      <td>NaN</td>\n      <td>264531.0</td>\n      <td>NaN</td>\n      <td>204116.0</td>\n      <td>NaN</td>\n    </tr>\n    <tr>\n      <th>20</th>\n      <td>30</td>\n      <td>2024_01_31</td>\n      <td>False</td>\n      <td>FIAT</td>\n      <td>3</td>\n      <td>875</td>\n      <td>63</td>\n      <td>1165</td>\n      <td>14664.0</td>\n      <td>0.97</td>\n      <td>...</td>\n      <td>266695.0</td>\n      <td>NaN</td>\n      <td>127272.0</td>\n      <td>332546.0</td>\n      <td>207156.0</td>\n      <td>NaN</td>\n      <td>264531.0</td>\n      <td>NaN</td>\n      <td>198497.0</td>\n      <td>NaN</td>\n    </tr>\n    <tr>\n      <th>21</th>\n      <td>52</td>\n      <td>2024_01_31</td>\n      <td>False</td>\n      <td>FIAT</td>\n      <td>3</td>\n      <td>875</td>\n      <td>63</td>\n      <td>1165</td>\n      <td>14664.0</td>\n      <td>0.97</td>\n      <td>...</td>\n      <td>266695.0</td>\n      <td>NaN</td>\n      <td>127272.0</td>\n      <td>332546.0</td>\n      <td>207156.0</td>\n      <td>NaN</td>\n      <td>264531.0</td>\n      <td>NaN</td>\n      <td>191359.0</td>\n      <td>NaN</td>\n    </tr>\n    <tr>\n      <th>22</th>\n      <td>5</td>\n      <td>2024_01_31</td>\n      <td>False</td>\n      <td>FIAT</td>\n      <td>3</td>\n      <td>875</td>\n      <td>63</td>\n      <td>1165</td>\n      <td>14664.0</td>\n      <td>0.97</td>\n      <td>...</td>\n      <td>266695.0</td>\n      <td>NaN</td>\n      <td>127272.0</td>\n      <td>332546.0</td>\n      <td>207156.0</td>\n      <td>NaN</td>\n      <td>264531.0</td>\n      <td>NaN</td>\n      <td>185588.0</td>\n      <td>NaN</td>\n    </tr>\n    <tr>\n      <th>...</th>\n      <td>...</td>\n      <td>...</td>\n      <td>...</td>\n      <td>...</td>\n      <td>...</td>\n      <td>...</td>\n      <td>...</td>\n      <td>...</td>\n      <td>...</td>\n      <td>...</td>\n      <td>...</td>\n      <td>...</td>\n      <td>...</td>\n      <td>...</td>\n      <td>...</td>\n      <td>...</td>\n      <td>...</td>\n      <td>...</td>\n      <td>...</td>\n      <td>...</td>\n      <td>...</td>\n    </tr>\n    <tr>\n      <th>75</th>\n      <td>28</td>\n      <td>2024_01_31</td>\n      <td>False</td>\n      <td>FIAT</td>\n      <td>3</td>\n      <td>875</td>\n      <td>63</td>\n      <td>1165</td>\n      <td>14664.0</td>\n      <td>0.97</td>\n      <td>...</td>\n      <td>154855.0</td>\n      <td>NaN</td>\n      <td>112500.0</td>\n      <td>249410.0</td>\n      <td>107604.0</td>\n      <td>NaN</td>\n      <td>161658.0</td>\n      <td>83149.0</td>\n      <td>176627.0</td>\n      <td>NaN</td>\n    </tr>\n    <tr>\n      <th>76</th>\n      <td>7</td>\n      <td>2024_01_31</td>\n      <td>False</td>\n      <td>FIAT</td>\n      <td>3</td>\n      <td>875</td>\n      <td>63</td>\n      <td>1165</td>\n      <td>14664.0</td>\n      <td>0.97</td>\n      <td>...</td>\n      <td>154855.0</td>\n      <td>NaN</td>\n      <td>112500.0</td>\n      <td>249410.0</td>\n      <td>107604.0</td>\n      <td>NaN</td>\n      <td>161658.0</td>\n      <td>83149.0</td>\n      <td>181639.0</td>\n      <td>NaN</td>\n    </tr>\n    <tr>\n      <th>77</th>\n      <td>49</td>\n      <td>2024_01_31</td>\n      <td>False</td>\n      <td>FIAT</td>\n      <td>3</td>\n      <td>875</td>\n      <td>63</td>\n      <td>1165</td>\n      <td>14664.0</td>\n      <td>0.97</td>\n      <td>...</td>\n      <td>154855.0</td>\n      <td>NaN</td>\n      <td>112500.0</td>\n      <td>249410.0</td>\n      <td>107604.0</td>\n      <td>NaN</td>\n      <td>161658.0</td>\n      <td>83149.0</td>\n      <td>181639.0</td>\n      <td>NaN</td>\n    </tr>\n    <tr>\n      <th>78</th>\n      <td>25</td>\n      <td>2024_01_31</td>\n      <td>False</td>\n      <td>FIAT</td>\n      <td>3</td>\n      <td>875</td>\n      <td>63</td>\n      <td>1165</td>\n      <td>14664.0</td>\n      <td>0.97</td>\n      <td>...</td>\n      <td>182385.0</td>\n      <td>NaN</td>\n      <td>112500.0</td>\n      <td>249410.0</td>\n      <td>107604.0</td>\n      <td>NaN</td>\n      <td>161658.0</td>\n      <td>83149.0</td>\n      <td>181639.0</td>\n      <td>NaN</td>\n    </tr>\n    <tr>\n      <th>79</th>\n      <td>9</td>\n      <td>2024_01_31</td>\n      <td>False</td>\n      <td>FIAT</td>\n      <td>3</td>\n      <td>875</td>\n      <td>63</td>\n      <td>1165</td>\n      <td>14664.0</td>\n      <td>0.97</td>\n      <td>...</td>\n      <td>182385.0</td>\n      <td>NaN</td>\n      <td>112500.0</td>\n      <td>249410.0</td>\n      <td>107604.0</td>\n      <td>NaN</td>\n      <td>161658.0</td>\n      <td>83149.0</td>\n      <td>181639.0</td>\n      <td>NaN</td>\n    </tr>\n  </tbody>\n</table>\n<p>61 rows × 43 columns</p>\n</div>"
     },
     "execution_count": 32,
     "metadata": {},
     "output_type": "execute_result"
    }
   ],
   "source": [
    "data2"
   ],
   "metadata": {
    "collapsed": false,
    "ExecuteTime": {
     "end_time": "2024-01-29T12:42:50.314632597Z",
     "start_time": "2024-01-29T12:42:50.302171189Z"
    }
   },
   "id": "74d2b1e6915d146d"
  },
  {
   "cell_type": "code",
   "execution_count": 40,
   "outputs": [
    {
     "data": {
      "text/plain": "Age\n18    1.211756\n19    1.211756\n20    1.211756\n21    1.211756\n22    1.211756\n        ...   \n75    1.211775\n76    1.211775\n77    1.211775\n78    1.211775\n79    1.211775\nName: ALFA_price, Length: 62, dtype: float64"
     },
     "execution_count": 40,
     "metadata": {},
     "output_type": "execute_result"
    }
   ],
   "source": [
    "data1['ALFA_price'] / data2['ALFA_price']"
   ],
   "metadata": {
    "collapsed": false,
    "ExecuteTime": {
     "end_time": "2024-01-29T12:46:53.620304551Z",
     "start_time": "2024-01-29T12:46:53.574507507Z"
    }
   },
   "id": "b52425afa176e8e"
  },
  {
   "cell_type": "code",
   "execution_count": 25,
   "outputs": [
    {
     "data": {
      "text/plain": "Age\n18    2.233319\n19    2.233319\n20    2.233319\n21         NaN\n22    2.233319\n        ...   \n75    2.233312\n76    2.233312\n77    2.233312\n78    2.233312\n79    2.233312\nName: ALFA_price, Length: 62, dtype: float64"
     },
     "execution_count": 25,
     "metadata": {},
     "output_type": "execute_result"
    }
   ],
   "source": [
    "data1['ALFA_price'] / data2['ALFA_price']"
   ],
   "metadata": {
    "collapsed": false,
    "ExecuteTime": {
     "end_time": "2024-01-29T12:41:49.510991056Z",
     "start_time": "2024-01-29T12:41:49.498506394Z"
    }
   },
   "id": "6646ccd985afc347"
  },
  {
   "cell_type": "code",
   "execution_count": 33,
   "outputs": [
    {
     "data": {
      "text/plain": "Age\n18    0.825249\n19    0.825249\n20    0.825249\n21    0.825249\n22    0.825249\n        ...   \n75    0.825236\n76    0.825236\n77    0.825236\n78    0.825236\n79    0.825236\nName: ALFA_price, Length: 62, dtype: float64"
     },
     "execution_count": 33,
     "metadata": {},
     "output_type": "execute_result"
    }
   ],
   "source": [
    "data2['ALFA_price'] / data1['ALFA_price']"
   ],
   "metadata": {
    "collapsed": false,
    "ExecuteTime": {
     "end_time": "2024-01-29T11:46:01.344842590Z",
     "start_time": "2024-01-29T11:46:01.338787401Z"
    }
   },
   "id": "be90ff242eb3a4b5"
  },
  {
   "cell_type": "code",
   "execution_count": 9,
   "outputs": [
    {
     "data": {
      "text/plain": "{'ALFA_price': [(18, 24),\n  (25, 29),\n  (30, 34),\n  [35,\n   36,\n   37,\n   38,\n   39,\n   40,\n   41,\n   42,\n   43,\n   44,\n   45,\n   46,\n   47,\n   48,\n   49,\n   50,\n   51,\n   52,\n   53,\n   54,\n   55,\n   56,\n   57,\n   58,\n   59,\n   60,\n   61,\n   62,\n   63,\n   64,\n   65,\n   66,\n   67,\n   68,\n   69,\n   71,\n   72,\n   73,\n   74,\n   75,\n   76,\n   77,\n   78,\n   79]],\n 'ALLIANZ_price': [(18, 19),\n  [20, 22],\n  [24, 25, 27, 28, 29],\n  (30, 30),\n  [31, 32, 33, 34, 35, 36, 37, 39],\n  (40, 43),\n  [46, 47, 48, 49, 50, 51, 52, 53, 54, 56, 57, 58, 59],\n  [60, 61, 62, 63, 65, 66, 67, 68, 69],\n  (71, 72),\n  (73, 79)],\n 'GENERALI_price': [(18, 22),\n  (23, 29),\n  (30, 33),\n  (34, 39),\n  (40, 69),\n  (71, 77),\n  (78, 79)],\n 'GENERTEL_price': [],\n 'GROUPAMA_price': [(18, 25),\n  (26, 30),\n  (31, 35),\n  (36, 40),\n  (41, 45),\n  (46, 50),\n  (51, 55),\n  (56, 60),\n  (61, 65),\n  (66, 69),\n  (71, 79)],\n 'K&AMP;H_price': [(18, 25),\n  (26, 30),\n  (31, 35),\n  (36, 45),\n  (46, 50),\n  (51, 55),\n  (56, 60),\n  (61, 65),\n  (66, 69),\n  (71, 79)],\n 'KÖBE_price': [(18, 25),\n  (26, 35),\n  (36, 50),\n  [51,\n   52,\n   53,\n   54,\n   55,\n   56,\n   57,\n   58,\n   59,\n   60,\n   61,\n   62,\n   63,\n   64,\n   65,\n   66,\n   67,\n   68,\n   69,\n   71,\n   72,\n   73,\n   74,\n   75,\n   76,\n   77,\n   78,\n   79]],\n 'MAGYAR_price': [],\n 'SIGNAL_price': [(18, 29),\n  [30,\n   31,\n   32,\n   33,\n   34,\n   35,\n   36,\n   37,\n   38,\n   39,\n   40,\n   41,\n   42,\n   43,\n   44,\n   45,\n   46,\n   47,\n   48,\n   49,\n   50,\n   51,\n   52,\n   53,\n   54,\n   55,\n   56,\n   57,\n   58,\n   59,\n   60,\n   61,\n   62,\n   63,\n   64,\n   65,\n   66,\n   67,\n   68,\n   69,\n   71,\n   72,\n   73,\n   74,\n   75,\n   76,\n   77,\n   78,\n   79]],\n 'UNION_price': [],\n 'UNIQA_price': [(18, 18),\n  (19, 19),\n  (20, 20),\n  (21, 21),\n  (22, 22),\n  (23, 23),\n  (24, 24),\n  (25, 25),\n  (26, 26),\n  (27, 27),\n  (28, 29),\n  [30, 32, 35],\n  (31, 31),\n  (33, 33),\n  (34, 34),\n  (36, 36),\n  (37, 37),\n  (38, 38),\n  (39, 39),\n  (40, 40),\n  (41, 41),\n  (42, 42),\n  (43, 43),\n  (44, 44),\n  (45, 46),\n  (47, 47),\n  (48, 48),\n  (49, 49),\n  (50, 50),\n  (51, 53),\n  (54, 54),\n  (55, 56),\n  (57, 58),\n  (59, 59),\n  (60, 60),\n  (61, 61),\n  [62, 64],\n  (63, 63),\n  (65, 65),\n  (66, 66),\n  (67, 67),\n  (68, 68),\n  (69, 69),\n  (71, 71),\n  (72, 72),\n  (73, 73),\n  (74, 74),\n  (75, 75),\n  (76, 79)],\n 'WÁBERER_price': []}"
     },
     "execution_count": 9,
     "metadata": {},
     "output_type": "execute_result"
    }
   ],
   "source": [
    "indexes_dict"
   ],
   "metadata": {
    "collapsed": false,
    "ExecuteTime": {
     "end_time": "2024-01-29T11:23:48.421792252Z",
     "start_time": "2024-01-29T11:23:48.372624213Z"
    }
   },
   "id": "976b1f8911a239fa"
  },
  {
   "cell_type": "code",
   "execution_count": null,
   "outputs": [],
   "source": [
    "from sklearn.preprocessing import OrdinalEncoder\n",
    "import joblib\n",
    "\n",
    "for insurer in data.filter(like = '_price'):\n",
    "    print(insurer)\n",
    "    encoder = OrdinalEncoder(unknown_value = np.nan, handle_unknown = 'use_encoded_value')\n",
    "    bins = [interval[0] - 1 for interval in indexes_dict[insurer]] + [indexes_dict['ALFA_price'][-1][1]]\n",
    "    encoder.fit_transform(pd.cut(data.reset_index()['Age'], bins = bins).values.reshape(-1, 1))\n",
    "    print(f'{insurer}_Age_cut_encoder.pkl')\n",
    "    print(encoder.categories_)\n",
    "    joblib.dump(encoder, utils.get_encoder_path(f'{insurer}_Age_cut'))"
   ],
   "metadata": {
    "collapsed": false
   },
   "id": "1d96f0e23175356b"
  },
  {
   "cell_type": "code",
   "execution_count": 11,
   "outputs": [],
   "source": [
    "data = pd.read_csv(utils.get_raw_data_path('netrisk_casco_2024_01_33'))"
   ],
   "metadata": {
    "collapsed": false,
    "ExecuteTime": {
     "end_time": "2024-01-31T09:29:21.177094673Z",
     "start_time": "2024-01-31T09:29:21.155864488Z"
    }
   },
   "id": "99ce51be45ba6ba0"
  },
  {
   "cell_type": "code",
   "execution_count": 12,
   "outputs": [
    {
     "data": {
      "text/plain": "GROUPAMA_price\n99108.0      20\n103872.0     60\n108240.0    124\n112608.0     97\n116976.0    125\n121464.0     79\n125832.0     54\n130332.0     53\n139200.0     66\n151776.0     36\nName: PostalCode, dtype: int64"
     },
     "execution_count": 12,
     "metadata": {},
     "output_type": "execute_result"
    }
   ],
   "source": [
    "data = pd.read_csv(utils.get_raw_data_path('netrisk_casco_2024_01_33'))\n",
    "data.sort_values('PostalCode').groupby('GROUPAMA_price')['PostalCode'].agg(list).apply(len)"
   ],
   "metadata": {
    "collapsed": false,
    "ExecuteTime": {
     "end_time": "2024-01-31T09:29:21.899247208Z",
     "start_time": "2024-01-31T09:29:21.885548988Z"
    }
   },
   "id": "65ccb8d2c305b1d6"
  },
  {
   "cell_type": "code",
   "execution_count": 13,
   "outputs": [
    {
     "data": {
      "text/plain": "     id_case DateCrawled  isRecent CarMake  CarAge  ccm  kw    kg  car_value  \\\n0          0  2024_01_33     False    AUDI       3  999  81  1300  29775.564   \n1          1  2024_01_33     False    AUDI       3  999  81  1300  29775.564   \n2          2  2024_01_33     False    AUDI       3  999  81  1300  29775.564   \n3          3  2024_01_33     False    AUDI       3  999  81  1300  29775.564   \n4          4  2024_01_33     False    AUDI       3  999  81  1300  29775.564   \n..       ...         ...       ...     ...     ...  ...  ..   ...        ...   \n712      712  2024_01_33     False    AUDI       3  999  81  1300  29775.564   \n713      713  2024_01_33     False    AUDI       3  999  81  1300  29775.564   \n714      714  2024_01_33     False    AUDI       3  999  81  1300  29775.564   \n715      715  2024_01_33     False    AUDI       3  999  81  1300  29775.564   \n716      716  2024_01_33     False    AUDI       3  999  81  1300  29775.564   \n\n     CarMakerCategory  ...  GENERALI_price  GENERTEL_price  GROUPAMA_price  \\\n0                   1  ...        191322.0             NaN        116976.0   \n1                   1  ...        191322.0             NaN        112608.0   \n2                   1  ...        191322.0             NaN        139200.0   \n3                   1  ...        191322.0             NaN        108240.0   \n4                   1  ...        171183.0             NaN        121464.0   \n..                ...  ...             ...             ...             ...   \n712                 1  ...        171183.0             NaN        108240.0   \n713                 1  ...        231600.0             NaN        139200.0   \n714                 1  ...        181253.0             NaN        116976.0   \n715                 1  ...        191322.0             NaN        116976.0   \n716                 1  ...        157086.0             NaN        112608.0   \n\n     K&AMP;H_price  KÖBE_price  MAGYAR_price  SIGNAL_price  UNION_price  \\\n0         348732.0     88206.0      169979.0      199183.0     177391.0   \n1         348732.0     88206.0      169979.0      199183.0     177391.0   \n2         328601.0     95526.0      151092.0      199183.0     167536.0   \n3         354474.0     90036.0      188865.0      199183.0     177391.0   \n4         339466.0     79056.0      169979.0      199183.0     177391.0   \n..             ...         ...           ...           ...          ...   \n712       331436.0     90036.0      188865.0      199183.0     167536.0   \n713       363376.0    132492.0      226638.0      328652.0     197101.0   \n714       339466.0     79056.0      169979.0      199183.0     177391.0   \n715       348732.0     88206.0      169979.0      199183.0     177391.0   \n716       296951.0     69540.0      188865.0      199183.0     167536.0   \n\n    UNIQA_price  WÁBERER_price  \n0      166140.0            NaN  \n1      180959.0            NaN  \n2      208719.0            NaN  \n3      208719.0            NaN  \n4      194317.0            NaN  \n..          ...            ...  \n712    180959.0            NaN  \n713    254012.0            NaN  \n714    166140.0            NaN  \n715    166140.0            NaN  \n716    166140.0            NaN  \n\n[717 rows x 44 columns]",
      "text/html": "<div>\n<style scoped>\n    .dataframe tbody tr th:only-of-type {\n        vertical-align: middle;\n    }\n\n    .dataframe tbody tr th {\n        vertical-align: top;\n    }\n\n    .dataframe thead th {\n        text-align: right;\n    }\n</style>\n<table border=\"1\" class=\"dataframe\">\n  <thead>\n    <tr style=\"text-align: right;\">\n      <th></th>\n      <th>id_case</th>\n      <th>DateCrawled</th>\n      <th>isRecent</th>\n      <th>CarMake</th>\n      <th>CarAge</th>\n      <th>ccm</th>\n      <th>kw</th>\n      <th>kg</th>\n      <th>car_value</th>\n      <th>CarMakerCategory</th>\n      <th>...</th>\n      <th>GENERALI_price</th>\n      <th>GENERTEL_price</th>\n      <th>GROUPAMA_price</th>\n      <th>K&amp;AMP;H_price</th>\n      <th>KÖBE_price</th>\n      <th>MAGYAR_price</th>\n      <th>SIGNAL_price</th>\n      <th>UNION_price</th>\n      <th>UNIQA_price</th>\n      <th>WÁBERER_price</th>\n    </tr>\n  </thead>\n  <tbody>\n    <tr>\n      <th>0</th>\n      <td>0</td>\n      <td>2024_01_33</td>\n      <td>False</td>\n      <td>AUDI</td>\n      <td>3</td>\n      <td>999</td>\n      <td>81</td>\n      <td>1300</td>\n      <td>29775.564</td>\n      <td>1</td>\n      <td>...</td>\n      <td>191322.0</td>\n      <td>NaN</td>\n      <td>116976.0</td>\n      <td>348732.0</td>\n      <td>88206.0</td>\n      <td>169979.0</td>\n      <td>199183.0</td>\n      <td>177391.0</td>\n      <td>166140.0</td>\n      <td>NaN</td>\n    </tr>\n    <tr>\n      <th>1</th>\n      <td>1</td>\n      <td>2024_01_33</td>\n      <td>False</td>\n      <td>AUDI</td>\n      <td>3</td>\n      <td>999</td>\n      <td>81</td>\n      <td>1300</td>\n      <td>29775.564</td>\n      <td>1</td>\n      <td>...</td>\n      <td>191322.0</td>\n      <td>NaN</td>\n      <td>112608.0</td>\n      <td>348732.0</td>\n      <td>88206.0</td>\n      <td>169979.0</td>\n      <td>199183.0</td>\n      <td>177391.0</td>\n      <td>180959.0</td>\n      <td>NaN</td>\n    </tr>\n    <tr>\n      <th>2</th>\n      <td>2</td>\n      <td>2024_01_33</td>\n      <td>False</td>\n      <td>AUDI</td>\n      <td>3</td>\n      <td>999</td>\n      <td>81</td>\n      <td>1300</td>\n      <td>29775.564</td>\n      <td>1</td>\n      <td>...</td>\n      <td>191322.0</td>\n      <td>NaN</td>\n      <td>139200.0</td>\n      <td>328601.0</td>\n      <td>95526.0</td>\n      <td>151092.0</td>\n      <td>199183.0</td>\n      <td>167536.0</td>\n      <td>208719.0</td>\n      <td>NaN</td>\n    </tr>\n    <tr>\n      <th>3</th>\n      <td>3</td>\n      <td>2024_01_33</td>\n      <td>False</td>\n      <td>AUDI</td>\n      <td>3</td>\n      <td>999</td>\n      <td>81</td>\n      <td>1300</td>\n      <td>29775.564</td>\n      <td>1</td>\n      <td>...</td>\n      <td>191322.0</td>\n      <td>NaN</td>\n      <td>108240.0</td>\n      <td>354474.0</td>\n      <td>90036.0</td>\n      <td>188865.0</td>\n      <td>199183.0</td>\n      <td>177391.0</td>\n      <td>208719.0</td>\n      <td>NaN</td>\n    </tr>\n    <tr>\n      <th>4</th>\n      <td>4</td>\n      <td>2024_01_33</td>\n      <td>False</td>\n      <td>AUDI</td>\n      <td>3</td>\n      <td>999</td>\n      <td>81</td>\n      <td>1300</td>\n      <td>29775.564</td>\n      <td>1</td>\n      <td>...</td>\n      <td>171183.0</td>\n      <td>NaN</td>\n      <td>121464.0</td>\n      <td>339466.0</td>\n      <td>79056.0</td>\n      <td>169979.0</td>\n      <td>199183.0</td>\n      <td>177391.0</td>\n      <td>194317.0</td>\n      <td>NaN</td>\n    </tr>\n    <tr>\n      <th>...</th>\n      <td>...</td>\n      <td>...</td>\n      <td>...</td>\n      <td>...</td>\n      <td>...</td>\n      <td>...</td>\n      <td>...</td>\n      <td>...</td>\n      <td>...</td>\n      <td>...</td>\n      <td>...</td>\n      <td>...</td>\n      <td>...</td>\n      <td>...</td>\n      <td>...</td>\n      <td>...</td>\n      <td>...</td>\n      <td>...</td>\n      <td>...</td>\n      <td>...</td>\n      <td>...</td>\n    </tr>\n    <tr>\n      <th>712</th>\n      <td>712</td>\n      <td>2024_01_33</td>\n      <td>False</td>\n      <td>AUDI</td>\n      <td>3</td>\n      <td>999</td>\n      <td>81</td>\n      <td>1300</td>\n      <td>29775.564</td>\n      <td>1</td>\n      <td>...</td>\n      <td>171183.0</td>\n      <td>NaN</td>\n      <td>108240.0</td>\n      <td>331436.0</td>\n      <td>90036.0</td>\n      <td>188865.0</td>\n      <td>199183.0</td>\n      <td>167536.0</td>\n      <td>180959.0</td>\n      <td>NaN</td>\n    </tr>\n    <tr>\n      <th>713</th>\n      <td>713</td>\n      <td>2024_01_33</td>\n      <td>False</td>\n      <td>AUDI</td>\n      <td>3</td>\n      <td>999</td>\n      <td>81</td>\n      <td>1300</td>\n      <td>29775.564</td>\n      <td>1</td>\n      <td>...</td>\n      <td>231600.0</td>\n      <td>NaN</td>\n      <td>139200.0</td>\n      <td>363376.0</td>\n      <td>132492.0</td>\n      <td>226638.0</td>\n      <td>328652.0</td>\n      <td>197101.0</td>\n      <td>254012.0</td>\n      <td>NaN</td>\n    </tr>\n    <tr>\n      <th>714</th>\n      <td>714</td>\n      <td>2024_01_33</td>\n      <td>False</td>\n      <td>AUDI</td>\n      <td>3</td>\n      <td>999</td>\n      <td>81</td>\n      <td>1300</td>\n      <td>29775.564</td>\n      <td>1</td>\n      <td>...</td>\n      <td>181253.0</td>\n      <td>NaN</td>\n      <td>116976.0</td>\n      <td>339466.0</td>\n      <td>79056.0</td>\n      <td>169979.0</td>\n      <td>199183.0</td>\n      <td>177391.0</td>\n      <td>166140.0</td>\n      <td>NaN</td>\n    </tr>\n    <tr>\n      <th>715</th>\n      <td>715</td>\n      <td>2024_01_33</td>\n      <td>False</td>\n      <td>AUDI</td>\n      <td>3</td>\n      <td>999</td>\n      <td>81</td>\n      <td>1300</td>\n      <td>29775.564</td>\n      <td>1</td>\n      <td>...</td>\n      <td>191322.0</td>\n      <td>NaN</td>\n      <td>116976.0</td>\n      <td>348732.0</td>\n      <td>88206.0</td>\n      <td>169979.0</td>\n      <td>199183.0</td>\n      <td>177391.0</td>\n      <td>166140.0</td>\n      <td>NaN</td>\n    </tr>\n    <tr>\n      <th>716</th>\n      <td>716</td>\n      <td>2024_01_33</td>\n      <td>False</td>\n      <td>AUDI</td>\n      <td>3</td>\n      <td>999</td>\n      <td>81</td>\n      <td>1300</td>\n      <td>29775.564</td>\n      <td>1</td>\n      <td>...</td>\n      <td>157086.0</td>\n      <td>NaN</td>\n      <td>112608.0</td>\n      <td>296951.0</td>\n      <td>69540.0</td>\n      <td>188865.0</td>\n      <td>199183.0</td>\n      <td>167536.0</td>\n      <td>166140.0</td>\n      <td>NaN</td>\n    </tr>\n  </tbody>\n</table>\n<p>717 rows × 44 columns</p>\n</div>"
     },
     "execution_count": 13,
     "metadata": {},
     "output_type": "execute_result"
    }
   ],
   "source": [
    "data"
   ],
   "metadata": {
    "collapsed": false,
    "ExecuteTime": {
     "end_time": "2024-01-31T09:29:22.702606710Z",
     "start_time": "2024-01-31T09:29:22.673451264Z"
    }
   },
   "id": "fa08056d14e90a7"
  },
  {
   "cell_type": "code",
   "execution_count": 8,
   "outputs": [
    {
     "data": {
      "text/plain": "     id_case DateCrawled  isRecent CarMake  CarAge  ccm  kw    kg  car_value  \\\n0          0  2024_01_34     False    FIAT       3  875  63  1165    14664.0   \n1          1  2024_01_34     False    FIAT       3  875  63  1165    14664.0   \n2          2  2024_01_34     False    FIAT       3  875  63  1165    14664.0   \n3          3  2024_01_34     False    FIAT       3  875  63  1165    14664.0   \n4          4  2024_01_34     False    FIAT       3  875  63  1165    14664.0   \n..       ...         ...       ...     ...     ...  ...  ..   ...        ...   \n291      291  2024_01_34     False    FIAT       3  875  63  1165    14664.0   \n292      292  2024_01_34     False    FIAT       3  875  63  1165    14664.0   \n293      293  2024_01_34     False    FIAT       3  875  63  1165    14664.0   \n294      294  2024_01_34     False    FIAT       3  875  63  1165    14664.0   \n295      295  2024_01_34     False    FIAT       3  875  63  1165    14664.0   \n\n     CarMakerCategory  ...  GENERALI_price  GENERTEL_price  GROUPAMA_price  \\\n0                0.97  ...        118507.0             NaN         76992.0   \n1                0.97  ...        118507.0             NaN         71232.0   \n2                0.97  ...        106033.0             NaN         79944.0   \n3                0.97  ...         97301.0             NaN         71232.0   \n4                0.97  ...        106033.0             NaN         71232.0   \n..                ...  ...             ...             ...             ...   \n291              0.97  ...        118507.0             NaN         79944.0   \n292              0.97  ...        118507.0             NaN         71232.0   \n293              0.97  ...        118507.0             NaN         82824.0   \n294              0.97  ...        106033.0             NaN         71232.0   \n295              0.97  ...        143456.0             NaN         91620.0   \n\n     K&AMP;H_price  KÖBE_price  MAGYAR_price  SIGNAL_price  UNION_price  \\\n0         199538.0     88206.0           NaN       97974.0      65073.0   \n1         202823.0     82716.0           NaN       97974.0      65073.0   \n2         194236.0     79056.0           NaN       97974.0      65073.0   \n3         168621.0     82716.0           NaN       97974.0      61458.0   \n4         182967.0     82716.0           NaN       97974.0      65073.0   \n..             ...         ...           ...           ...          ...   \n291       219498.0     82716.0           NaN       97974.0      61458.0   \n292       182967.0     82716.0           NaN       97974.0      65073.0   \n293       175627.0     82716.0           NaN       97974.0      61458.0   \n294       189641.0     82716.0           NaN       97974.0      61458.0   \n295       207917.0    129564.0           NaN      161658.0      72304.0   \n\n    UNIQA_price  WÁBERER_price  \n0      110979.0            NaN  \n1      139421.0            NaN  \n2      129801.0            NaN  \n3      110979.0            NaN  \n4      169675.0            NaN  \n..          ...            ...  \n291    129801.0            NaN  \n292     98431.0            NaN  \n293    169675.0            NaN  \n294    120878.0            NaN  \n295    169675.0            NaN  \n\n[296 rows x 44 columns]",
      "text/html": "<div>\n<style scoped>\n    .dataframe tbody tr th:only-of-type {\n        vertical-align: middle;\n    }\n\n    .dataframe tbody tr th {\n        vertical-align: top;\n    }\n\n    .dataframe thead th {\n        text-align: right;\n    }\n</style>\n<table border=\"1\" class=\"dataframe\">\n  <thead>\n    <tr style=\"text-align: right;\">\n      <th></th>\n      <th>id_case</th>\n      <th>DateCrawled</th>\n      <th>isRecent</th>\n      <th>CarMake</th>\n      <th>CarAge</th>\n      <th>ccm</th>\n      <th>kw</th>\n      <th>kg</th>\n      <th>car_value</th>\n      <th>CarMakerCategory</th>\n      <th>...</th>\n      <th>GENERALI_price</th>\n      <th>GENERTEL_price</th>\n      <th>GROUPAMA_price</th>\n      <th>K&amp;AMP;H_price</th>\n      <th>KÖBE_price</th>\n      <th>MAGYAR_price</th>\n      <th>SIGNAL_price</th>\n      <th>UNION_price</th>\n      <th>UNIQA_price</th>\n      <th>WÁBERER_price</th>\n    </tr>\n  </thead>\n  <tbody>\n    <tr>\n      <th>0</th>\n      <td>0</td>\n      <td>2024_01_34</td>\n      <td>False</td>\n      <td>FIAT</td>\n      <td>3</td>\n      <td>875</td>\n      <td>63</td>\n      <td>1165</td>\n      <td>14664.0</td>\n      <td>0.97</td>\n      <td>...</td>\n      <td>118507.0</td>\n      <td>NaN</td>\n      <td>76992.0</td>\n      <td>199538.0</td>\n      <td>88206.0</td>\n      <td>NaN</td>\n      <td>97974.0</td>\n      <td>65073.0</td>\n      <td>110979.0</td>\n      <td>NaN</td>\n    </tr>\n    <tr>\n      <th>1</th>\n      <td>1</td>\n      <td>2024_01_34</td>\n      <td>False</td>\n      <td>FIAT</td>\n      <td>3</td>\n      <td>875</td>\n      <td>63</td>\n      <td>1165</td>\n      <td>14664.0</td>\n      <td>0.97</td>\n      <td>...</td>\n      <td>118507.0</td>\n      <td>NaN</td>\n      <td>71232.0</td>\n      <td>202823.0</td>\n      <td>82716.0</td>\n      <td>NaN</td>\n      <td>97974.0</td>\n      <td>65073.0</td>\n      <td>139421.0</td>\n      <td>NaN</td>\n    </tr>\n    <tr>\n      <th>2</th>\n      <td>2</td>\n      <td>2024_01_34</td>\n      <td>False</td>\n      <td>FIAT</td>\n      <td>3</td>\n      <td>875</td>\n      <td>63</td>\n      <td>1165</td>\n      <td>14664.0</td>\n      <td>0.97</td>\n      <td>...</td>\n      <td>106033.0</td>\n      <td>NaN</td>\n      <td>79944.0</td>\n      <td>194236.0</td>\n      <td>79056.0</td>\n      <td>NaN</td>\n      <td>97974.0</td>\n      <td>65073.0</td>\n      <td>129801.0</td>\n      <td>NaN</td>\n    </tr>\n    <tr>\n      <th>3</th>\n      <td>3</td>\n      <td>2024_01_34</td>\n      <td>False</td>\n      <td>FIAT</td>\n      <td>3</td>\n      <td>875</td>\n      <td>63</td>\n      <td>1165</td>\n      <td>14664.0</td>\n      <td>0.97</td>\n      <td>...</td>\n      <td>97301.0</td>\n      <td>NaN</td>\n      <td>71232.0</td>\n      <td>168621.0</td>\n      <td>82716.0</td>\n      <td>NaN</td>\n      <td>97974.0</td>\n      <td>61458.0</td>\n      <td>110979.0</td>\n      <td>NaN</td>\n    </tr>\n    <tr>\n      <th>4</th>\n      <td>4</td>\n      <td>2024_01_34</td>\n      <td>False</td>\n      <td>FIAT</td>\n      <td>3</td>\n      <td>875</td>\n      <td>63</td>\n      <td>1165</td>\n      <td>14664.0</td>\n      <td>0.97</td>\n      <td>...</td>\n      <td>106033.0</td>\n      <td>NaN</td>\n      <td>71232.0</td>\n      <td>182967.0</td>\n      <td>82716.0</td>\n      <td>NaN</td>\n      <td>97974.0</td>\n      <td>65073.0</td>\n      <td>169675.0</td>\n      <td>NaN</td>\n    </tr>\n    <tr>\n      <th>...</th>\n      <td>...</td>\n      <td>...</td>\n      <td>...</td>\n      <td>...</td>\n      <td>...</td>\n      <td>...</td>\n      <td>...</td>\n      <td>...</td>\n      <td>...</td>\n      <td>...</td>\n      <td>...</td>\n      <td>...</td>\n      <td>...</td>\n      <td>...</td>\n      <td>...</td>\n      <td>...</td>\n      <td>...</td>\n      <td>...</td>\n      <td>...</td>\n      <td>...</td>\n      <td>...</td>\n    </tr>\n    <tr>\n      <th>291</th>\n      <td>291</td>\n      <td>2024_01_34</td>\n      <td>False</td>\n      <td>FIAT</td>\n      <td>3</td>\n      <td>875</td>\n      <td>63</td>\n      <td>1165</td>\n      <td>14664.0</td>\n      <td>0.97</td>\n      <td>...</td>\n      <td>118507.0</td>\n      <td>NaN</td>\n      <td>79944.0</td>\n      <td>219498.0</td>\n      <td>82716.0</td>\n      <td>NaN</td>\n      <td>97974.0</td>\n      <td>61458.0</td>\n      <td>129801.0</td>\n      <td>NaN</td>\n    </tr>\n    <tr>\n      <th>292</th>\n      <td>292</td>\n      <td>2024_01_34</td>\n      <td>False</td>\n      <td>FIAT</td>\n      <td>3</td>\n      <td>875</td>\n      <td>63</td>\n      <td>1165</td>\n      <td>14664.0</td>\n      <td>0.97</td>\n      <td>...</td>\n      <td>118507.0</td>\n      <td>NaN</td>\n      <td>71232.0</td>\n      <td>182967.0</td>\n      <td>82716.0</td>\n      <td>NaN</td>\n      <td>97974.0</td>\n      <td>65073.0</td>\n      <td>98431.0</td>\n      <td>NaN</td>\n    </tr>\n    <tr>\n      <th>293</th>\n      <td>293</td>\n      <td>2024_01_34</td>\n      <td>False</td>\n      <td>FIAT</td>\n      <td>3</td>\n      <td>875</td>\n      <td>63</td>\n      <td>1165</td>\n      <td>14664.0</td>\n      <td>0.97</td>\n      <td>...</td>\n      <td>118507.0</td>\n      <td>NaN</td>\n      <td>82824.0</td>\n      <td>175627.0</td>\n      <td>82716.0</td>\n      <td>NaN</td>\n      <td>97974.0</td>\n      <td>61458.0</td>\n      <td>169675.0</td>\n      <td>NaN</td>\n    </tr>\n    <tr>\n      <th>294</th>\n      <td>294</td>\n      <td>2024_01_34</td>\n      <td>False</td>\n      <td>FIAT</td>\n      <td>3</td>\n      <td>875</td>\n      <td>63</td>\n      <td>1165</td>\n      <td>14664.0</td>\n      <td>0.97</td>\n      <td>...</td>\n      <td>106033.0</td>\n      <td>NaN</td>\n      <td>71232.0</td>\n      <td>189641.0</td>\n      <td>82716.0</td>\n      <td>NaN</td>\n      <td>97974.0</td>\n      <td>61458.0</td>\n      <td>120878.0</td>\n      <td>NaN</td>\n    </tr>\n    <tr>\n      <th>295</th>\n      <td>295</td>\n      <td>2024_01_34</td>\n      <td>False</td>\n      <td>FIAT</td>\n      <td>3</td>\n      <td>875</td>\n      <td>63</td>\n      <td>1165</td>\n      <td>14664.0</td>\n      <td>0.97</td>\n      <td>...</td>\n      <td>143456.0</td>\n      <td>NaN</td>\n      <td>91620.0</td>\n      <td>207917.0</td>\n      <td>129564.0</td>\n      <td>NaN</td>\n      <td>161658.0</td>\n      <td>72304.0</td>\n      <td>169675.0</td>\n      <td>NaN</td>\n    </tr>\n  </tbody>\n</table>\n<p>296 rows × 44 columns</p>\n</div>"
     },
     "execution_count": 8,
     "metadata": {},
     "output_type": "execute_result"
    }
   ],
   "source": [
    "data"
   ],
   "metadata": {
    "collapsed": false,
    "ExecuteTime": {
     "end_time": "2024-01-31T09:29:04.979916463Z",
     "start_time": "2024-01-31T09:29:04.964494322Z"
    }
   },
   "id": "bb59379a2de9d878"
  },
  {
   "cell_type": "code",
   "execution_count": 28,
   "outputs": [
    {
     "name": "stdout",
     "output_type": "stream",
     "text": [
      "ALLIANZ_price\n",
      "GENERALI_price\n",
      "GENERTEL_price\n",
      "K&AMP;H_price\n",
      "UNIQA_price\n",
      "WÁBERER_price\n"
     ]
    }
   ],
   "source": [
    "data = pd.read_csv(utils.get_raw_data_path('netrisk_casco_2024_01_33'))\n",
    "insurers = data.filter(like = '_price').columns\n",
    "feature = 'PostalCode'\n",
    "\n",
    "cats = []\n",
    "for insurer in insurers:\n",
    "    x = data.sort_values(feature).groupby(insurer)[feature].agg(list).reset_index()\n",
    "    #print(insurer, x[feature].apply(len).values)\n",
    "    if len(x) == 0 or len(x) > 10:\n",
    "        print(insurer)\n",
    "        continue\n",
    "    x[insurer] = x[insurer] / x[insurer].iloc[0]\n",
    "    cats.append(x)\n",
    "    \n",
    "cats = [cat[feature].values.tolist() for cat in cats]"
   ],
   "metadata": {
    "collapsed": false,
    "ExecuteTime": {
     "end_time": "2024-02-08T15:05:43.796375028Z",
     "start_time": "2024-02-08T15:05:43.758440845Z"
    }
   },
   "id": "bc1174dc9fa43088"
  },
  {
   "cell_type": "code",
   "execution_count": 29,
   "outputs": [
    {
     "data": {
      "text/plain": "[[[2065,\n   2066,\n   2067,\n   2091,\n   2421,\n   2422,\n   2424,\n   2426,\n   2431,\n   2433,\n   2451,\n   2454,\n   2457,\n   2458,\n   2459,\n   2462,\n   2463,\n   2465,\n   2471,\n   2473,\n   2475,\n   2476,\n   2481,\n   2483,\n   2484,\n   2490,\n   2509,\n   2517,\n   2519,\n   2521,\n   2523,\n   2531,\n   2532,\n   2534,\n   2536,\n   2541,\n   2643,\n   2651,\n   2659,\n   2687,\n   2831,\n   2836,\n   2837,\n   2851,\n   2870,\n   2896,\n   2898,\n   2899,\n   2900,\n   2903,\n   2911,\n   2921,\n   2941,\n   2942,\n   2943,\n   3013,\n   3014,\n   3015,\n   3016,\n   3021,\n   3023,\n   3032,\n   3035,\n   3036,\n   3047,\n   3060,\n   3063,\n   3070,\n   3121,\n   3170,\n   3182,\n   3212,\n   3214,\n   3231,\n   3245,\n   3246,\n   3250,\n   3261,\n   3281,\n   3292,\n   3324,\n   3326,\n   3346,\n   3350,\n   3351,\n   3356,\n   3358,\n   3372,\n   3384,\n   3385,\n   3388,\n   3390,\n   3396,\n   3397,\n   3399,\n   3418,\n   3432,\n   3433,\n   3434,\n   3450,\n   3458,\n   3551,\n   3553,\n   3555,\n   3561,\n   3562,\n   3564,\n   3565,\n   3571,\n   3572,\n   3574,\n   3599,\n   3630,\n   3663,\n   3671,\n   3711,\n   3712,\n   3713,\n   3715,\n   3718,\n   3720,\n   3733,\n   3744,\n   3752,\n   3780,\n   3792,\n   3794,\n   3800,\n   3849,\n   3860,\n   3881,\n   3895,\n   3900,\n   3903,\n   3909,\n   3910,\n   3915,\n   3922,\n   3925,\n   3931,\n   3963,\n   3971,\n   3973,\n   3974,\n   4064,\n   4066,\n   4069,\n   4075,\n   4087,\n   4090,\n   4110,\n   4125,\n   4130,\n   4133,\n   4138,\n   4145,\n   4161,\n   4171,\n   4172,\n   4173,\n   4177,\n   4181,\n   4183,\n   4211,\n   4212,\n   4231,\n   4233,\n   4234,\n   4241,\n   4243,\n   4254,\n   4262,\n   4263,\n   4264,\n   4271,\n   4272,\n   4274,\n   4275,\n   4281,\n   4286,\n   4287,\n   4311,\n   4324,\n   4326,\n   4334,\n   4335,\n   4352,\n   4355,\n   4356,\n   4361,\n   4363,\n   4371,\n   4372,\n   4374,\n   4405,\n   4434,\n   4450,\n   4455,\n   4456,\n   4461,\n   4464,\n   4465,\n   4482,\n   4483,\n   4484,\n   4485,\n   4492,\n   4495,\n   4501,\n   4511,\n   4516,\n   4523,\n   4524,\n   4531,\n   4544,\n   4551,\n   4552,\n   4553,\n   4555,\n   4558,\n   4561,\n   4562,\n   4564,\n   4621,\n   4623,\n   4625,\n   4642,\n   4644,\n   4722,\n   4731,\n   4751,\n   4761,\n   4762,\n   4765,\n   4800,\n   4821,\n   4823,\n   4900,\n   5051,\n   5052,\n   5054,\n   5055,\n   5071,\n   5081,\n   5083,\n   5085,\n   5091,\n   5121,\n   5122,\n   5123,\n   5130,\n   5136,\n   5137,\n   5142,\n   5143,\n   5211,\n   5231,\n   5235,\n   5241,\n   5321,\n   5322,\n   5331,\n   5420,\n   5435,\n   5440,\n   5451,\n   5462,\n   5465,\n   5500,\n   5502,\n   5510,\n   5516,\n   5520,\n   5525,\n   5527,\n   5534,\n   5553,\n   5561,\n   5622,\n   5624,\n   5661,\n   5662,\n   5667,\n   5711,\n   5712,\n   5726,\n   5741,\n   5742,\n   5746,\n   5800,\n   5820,\n   5830,\n   5920,\n   5931,\n   5932,\n   5940,\n   5946,\n   5948,\n   6032,\n   6033,\n   6034,\n   6035,\n   6041,\n   6065,\n   6066,\n   6070,\n   6077,\n   6078,\n   6080,\n   6085,\n   6086,\n   6087,\n   6090,\n   6098,\n   6114,\n   6120,\n   6131,\n   6133,\n   6221,\n   6230,\n   6237,\n   6239,\n   6320,\n   6326,\n   6328,\n   6344,\n   6346,\n   6347,\n   6351,\n   6353,\n   6421,\n   6422,\n   6423,\n   6430,\n   6440,\n   6449,\n   6453,\n   6456,\n   6503,\n   6521,\n   6522,\n   6527,\n   6622,\n   6630,\n   6635,\n   6647,\n   6758,\n   6760,\n   6762,\n   6763,\n   6764,\n   6772,\n   6775,\n   6781,\n   6782,\n   6783,\n   6786,\n   6787,\n   6792,\n   6793,\n   6794,\n   6795,\n   6821,\n   6913,\n   6921,\n   6922,\n   6931,\n   7000,\n   7003,\n   7013,\n   7017,\n   7020,\n   7025,\n   7044,\n   7054,\n   7056,\n   7081,\n   7084,\n   7090,\n   7095,\n   7130,\n   7131,\n   7132,\n   7133,\n   7140,\n   7143,\n   7144,\n   7173,\n   7191,\n   7261,\n   7349,\n   7355,\n   7370,\n   7451,\n   7516,\n   7530,\n   7561,\n   7562,\n   7694,\n   7695,\n   7696,\n   7720,\n   7741,\n   7754,\n   7759,\n   7761,\n   7763,\n   7773,\n   7800,\n   7811,\n   7815,\n   7827,\n   7831,\n   7838,\n   7900,\n   7940,\n   7960,\n   8043,\n   8052,\n   8053,\n   8056,\n   8066,\n   8081,\n   8083,\n   8093,\n   8095,\n   8111,\n   8124,\n   8125,\n   8127,\n   8130,\n   8132,\n   8135,\n   8136,\n   8142,\n   8143,\n   8151,\n   8154,\n   8156,\n   8315,\n   8372,\n   8380,\n   8621,\n   8623,\n   8630,\n   8638,\n   8640,\n   8651,\n   8653,\n   8660,\n   8693,\n   8713,\n   8719,\n   8790,\n   8840,\n   8866,\n   8868,\n   8960,\n   8992,\n   8999,\n   9071,\n   9073,\n   9081,\n   9082,\n   9086,\n   9090,\n   9099,\n   9100,\n   9121,\n   9142,\n   9144,\n   9151,\n   9153,\n   9154,\n   9155,\n   9167,\n   9172,\n   9181,\n   9222,\n   9224,\n   9225,\n   9228,\n   9241,\n   9317,\n   9343,\n   9421,\n   9423,\n   9431,\n   9444,\n   9495,\n   9545,\n   9653,\n   9721,\n   9735,\n   9737,\n   9751,\n   9761,\n   9791,\n   9798,\n   9915,\n   9970],\n  [2014,\n   2015,\n   2016,\n   2021,\n   2023,\n   2038,\n   2049,\n   2071,\n   2072,\n   2074,\n   2084,\n   2089,\n   2094,\n   2095,\n   2098,\n   2111,\n   2113,\n   2114,\n   2116,\n   2118,\n   2132,\n   2133,\n   2134,\n   2162,\n   2170,\n   2173,\n   2182,\n   2191,\n   2192,\n   2193,\n   2194,\n   2209,\n   2213,\n   2217,\n   2241,\n   2243,\n   2244,\n   2252,\n   2253,\n   2254,\n   2314,\n   2317,\n   2318,\n   2319,\n   2335,\n   2336,\n   2337,\n   2340,\n   2344,\n   2347,\n   2351,\n   2363,\n   2364,\n   2365,\n   2366,\n   2367,\n   2370,\n   2371,\n   2373,\n   2376,\n   2377,\n   2381,\n   2461,\n   2612,\n   2621,\n   2626,\n   2628,\n   2711,\n   2713,\n   2723,\n   2735,\n   2737,\n   2746,\n   2747,\n   2764,\n   2765,\n   2766,\n   2767,\n   2768,\n   2769,\n   3508,\n   3516,\n   3518,\n   3519,\n   3525,\n   3528,\n   3530,\n   3531,\n   3532,\n   3534,\n   3535,\n   4024,\n   4025,\n   4026,\n   4027,\n   4028,\n   4029,\n   6710,\n   6720,\n   6721,\n   6722,\n   6727,\n   6729,\n   6750,\n   6757,\n   7621,\n   7622,\n   7623,\n   7624,\n   7625,\n   7626,\n   7628,\n   7629,\n   7631,\n   7633,\n   7635,\n   7636,\n   7691,\n   7693,\n   9022,\n   9026,\n   9029,\n   9030],\n  [1011,\n   1012,\n   1013,\n   1013,\n   1014,\n   1015,\n   1016,\n   1016,\n   1021,\n   1022,\n   1024,\n   1029,\n   1032,\n   1034,\n   1035,\n   1036,\n   1041,\n   1042,\n   1043,\n   1047,\n   1051,\n   1052,\n   1054,\n   1055,\n   1056,\n   1061,\n   1064,\n   1066,\n   1067,\n   1068,\n   1071,\n   1072,\n   1073,\n   1074,\n   1075,\n   1076,\n   1077,\n   1078,\n   1082,\n   1083,\n   1084,\n   1085,\n   1086,\n   1088,\n   1091,\n   1092,\n   1094,\n   1095,\n   1096,\n   1098,\n   1101,\n   1102,\n   1104,\n   1105,\n   1111,\n   1113,\n   1114,\n   1115,\n   1122,\n   1123,\n   1126,\n   1132,\n   1143,\n   1144,\n   1148,\n   1153,\n   1153,\n   1154,\n   1154,\n   1155,\n   1155,\n   1156,\n   1156,\n   1157,\n   1157,\n   1184,\n   1186,\n   1191,\n   1193,\n   1195,\n   1205,\n   1215,\n   1224,\n   1224,\n   1237,\n   1239,\n   2096,\n   2097,\n   2141,\n   2142,\n   2144,\n   2146,\n   2233]],\n [[2451,\n   2462,\n   2481,\n   2483,\n   2484,\n   2490,\n   5500,\n   5502,\n   5510,\n   5520,\n   5525,\n   5661,\n   5800,\n   5830,\n   5940,\n   7000,\n   7003,\n   8083,\n   8130,\n   8154],\n  [2066,\n   2424,\n   2457,\n   2459,\n   2463,\n   2476,\n   3060,\n   3070,\n   3170,\n   5052,\n   5085,\n   5123,\n   5130,\n   5137,\n   5231,\n   5420,\n   5435,\n   5440,\n   5516,\n   5527,\n   5534,\n   5553,\n   5622,\n   5667,\n   5711,\n   5726,\n   5742,\n   5820,\n   5920,\n   5946,\n   5948,\n   6503,\n   7017,\n   7020,\n   7090,\n   7130,\n   7131,\n   7140,\n   7355,\n   7530,\n   7761,\n   7773,\n   7800,\n   7815,\n   7900,\n   7940,\n   8043,\n   8052,\n   8081,\n   8124,\n   8127,\n   8135,\n   8136,\n   8623,\n   8630,\n   8640,\n   8790,\n   8960,\n   9545,\n   9970],\n  [2065,\n   2067,\n   2091,\n   2421,\n   2422,\n   2426,\n   2431,\n   2433,\n   2454,\n   2458,\n   2465,\n   2471,\n   2473,\n   2475,\n   2651,\n   2687,\n   3021,\n   3047,\n   3063,\n   3121,\n   3250,\n   3390,\n   4025,\n   4026,\n   4027,\n   4028,\n   4029,\n   4233,\n   4326,\n   4355,\n   4450,\n   4461,\n   4484,\n   4485,\n   4501,\n   4564,\n   4765,\n   4800,\n   4900,\n   5055,\n   5071,\n   5122,\n   5142,\n   5211,\n   5241,\n   5321,\n   5322,\n   5331,\n   5465,\n   5561,\n   5624,\n   5662,\n   5712,\n   5741,\n   5746,\n   5931,\n   5932,\n   6041,\n   6070,\n   6080,\n   6090,\n   6120,\n   6230,\n   6237,\n   6320,\n   6430,\n   6440,\n   6449,\n   7013,\n   7054,\n   7056,\n   7081,\n   7084,\n   7132,\n   7143,\n   7173,\n   7261,\n   7349,\n   7370,\n   7516,\n   7561,\n   7562,\n   7695,\n   7696,\n   7720,\n   7741,\n   7754,\n   7759,\n   7763,\n   7811,\n   7827,\n   7831,\n   7838,\n   7960,\n   8056,\n   8066,\n   8093,\n   8095,\n   8111,\n   8125,\n   8132,\n   8142,\n   8143,\n   8151,\n   8156,\n   8380,\n   8621,\n   8638,\n   8653,\n   8660,\n   8693,\n   8713,\n   8719,\n   8840,\n   8866,\n   8868,\n   8992,\n   8999,\n   9653,\n   9735,\n   9737,\n   9751,\n   9791,\n   9915],\n  [2643,\n   2659,\n   3015,\n   3032,\n   3035,\n   3036,\n   3182,\n   3246,\n   3261,\n   3346,\n   3351,\n   3356,\n   3372,\n   3384,\n   3385,\n   3396,\n   3397,\n   3432,\n   3433,\n   3450,\n   3561,\n   3571,\n   3630,\n   3733,\n   3780,\n   3800,\n   3860,\n   3895,\n   3900,\n   4311,\n   4335,\n   4352,\n   4356,\n   4363,\n   4371,\n   4374,\n   4405,\n   4434,\n   4455,\n   4465,\n   4483,\n   4492,\n   4495,\n   4516,\n   4524,\n   4544,\n   4551,\n   4553,\n   4561,\n   4562,\n   4625,\n   4644,\n   4762,\n   4823,\n   5051,\n   5054,\n   5081,\n   5083,\n   5091,\n   5121,\n   5136,\n   5143,\n   5235,\n   5451,\n   5462,\n   6032,\n   6033,\n   6066,\n   6085,\n   6087,\n   6131,\n   6133,\n   6239,\n   6344,\n   6351,\n   6421,\n   6422,\n   6522,\n   6527,\n   6630,\n   6760,\n   6762,\n   6782,\n   7025,\n   7044,\n   7095,\n   7133,\n   7144,\n   7191,\n   7694,\n   8315,\n   8372,\n   8651,\n   9241,\n   9721,\n   9761,\n   9798],\n  [2534,\n   2536,\n   2541,\n   2870,\n   2900,\n   2903,\n   2921,\n   2941,\n   3013,\n   3014,\n   3016,\n   3023,\n   3212,\n   3214,\n   3231,\n   3245,\n   3281,\n   3292,\n   3324,\n   3326,\n   3350,\n   3358,\n   3388,\n   3399,\n   3418,\n   3508,\n   3516,\n   3518,\n   3519,\n   3525,\n   3528,\n   3530,\n   3531,\n   3532,\n   3534,\n   3535,\n   3551,\n   3553,\n   3555,\n   3562,\n   3565,\n   3599,\n   3671,\n   3712,\n   3713,\n   3752,\n   3792,\n   3794,\n   3903,\n   3909,\n   3910,\n   3931,\n   3963,\n   3971,\n   3973,\n   3974,\n   4231,\n   4234,\n   4324,\n   4334,\n   4361,\n   4372,\n   4456,\n   4464,\n   4482,\n   4511,\n   4523,\n   4531,\n   4552,\n   4555,\n   4558,\n   4621,\n   4623,\n   4642,\n   4722,\n   4731,\n   4751,\n   4761,\n   4821,\n   6034,\n   6035,\n   6065,\n   6077,\n   6078,\n   6086,\n   6098,\n   6114,\n   6221,\n   6326,\n   6328,\n   6346,\n   6347,\n   6353,\n   6423,\n   6453,\n   6456,\n   6521,\n   6750,\n   6763,\n   6781,\n   6786,\n   6793,\n   6821,\n   6913,\n   6921,\n   9022,\n   9026,\n   9029,\n   9030,\n   9073,\n   9081,\n   9090,\n   9100,\n   9155,\n   9167,\n   9181,\n   9224,\n   9225,\n   9317,\n   9343,\n   9421,\n   9423,\n   9431,\n   9444,\n   9495],\n  [2509,\n   2896,\n   2899,\n   2911,\n   2943,\n   3434,\n   3458,\n   3564,\n   3572,\n   3574,\n   3663,\n   3711,\n   3715,\n   3718,\n   3720,\n   3744,\n   3849,\n   3915,\n   3922,\n   3925,\n   4087,\n   4090,\n   4130,\n   4138,\n   4181,\n   4183,\n   4243,\n   4254,\n   4281,\n   4287,\n   6622,\n   6635,\n   6647,\n   6710,\n   6720,\n   6721,\n   6722,\n   6727,\n   6729,\n   6757,\n   6758,\n   6764,\n   6772,\n   6775,\n   6783,\n   6787,\n   6792,\n   6794,\n   6795,\n   6922,\n   6931,\n   7451,\n   7621,\n   7622,\n   7623,\n   7624,\n   7625,\n   7626,\n   7628,\n   7629,\n   7631,\n   7633,\n   7635,\n   7636,\n   7691,\n   7693,\n   9071,\n   9082,\n   9086,\n   9099,\n   9121,\n   9142,\n   9144,\n   9151,\n   9153,\n   9154,\n   9172,\n   9222,\n   9228],\n  [1051,\n   1052,\n   1054,\n   1055,\n   1056,\n   1071,\n   1072,\n   1073,\n   1074,\n   1075,\n   1076,\n   1077,\n   1078,\n   2049,\n   2072,\n   2144,\n   2162,\n   2170,\n   2194,\n   2213,\n   2241,\n   2314,\n   2336,\n   2364,\n   2370,\n   2371,\n   2373,\n   2377,\n   2517,\n   2519,\n   2521,\n   2523,\n   2531,\n   2532,\n   2626,\n   2766,\n   2831,\n   2836,\n   2837,\n   2851,\n   2898,\n   2942,\n   4066,\n   4069,\n   4075,\n   4110,\n   4133,\n   4145,\n   4173,\n   4263,\n   4271,\n   4272,\n   4274,\n   4275],\n  [1011,\n   1012,\n   1013,\n   1013,\n   1014,\n   1015,\n   1016,\n   1016,\n   1184,\n   1186,\n   1205,\n   1224,\n   1224,\n   2021,\n   2071,\n   2074,\n   2094,\n   2096,\n   2098,\n   2111,\n   2113,\n   2132,\n   2141,\n   2142,\n   2146,\n   2173,\n   2182,\n   2254,\n   2318,\n   2319,\n   2335,\n   2337,\n   2340,\n   2344,\n   2347,\n   2351,\n   2367,\n   2461,\n   2612,\n   2628,\n   2711,\n   4064,\n   4125,\n   4161,\n   4171,\n   4172,\n   4177,\n   4211,\n   4212,\n   4241,\n   4262,\n   4264,\n   4286],\n  [1082,\n   1083,\n   1084,\n   1085,\n   1086,\n   1088,\n   1122,\n   1123,\n   1126,\n   1143,\n   1144,\n   1148,\n   1153,\n   1153,\n   1154,\n   1154,\n   1155,\n   1155,\n   1156,\n   1156,\n   1157,\n   1157,\n   1237,\n   1239,\n   2014,\n   2015,\n   2016,\n   2023,\n   2038,\n   2084,\n   2089,\n   2095,\n   2097,\n   2114,\n   2116,\n   2118,\n   2133,\n   2134,\n   2191,\n   2192,\n   2193,\n   2209,\n   2217,\n   2233,\n   2243,\n   2244,\n   2252,\n   2253,\n   2317,\n   2363,\n   2365,\n   2366,\n   2376,\n   2381,\n   2621,\n   2713,\n   2723,\n   2735,\n   2737,\n   2746,\n   2747,\n   2764,\n   2765,\n   2767,\n   2768,\n   2769],\n  [1021,\n   1022,\n   1024,\n   1029,\n   1032,\n   1034,\n   1035,\n   1036,\n   1041,\n   1042,\n   1043,\n   1047,\n   1061,\n   1064,\n   1066,\n   1067,\n   1068,\n   1091,\n   1092,\n   1094,\n   1095,\n   1096,\n   1098,\n   1101,\n   1102,\n   1104,\n   1105,\n   1111,\n   1113,\n   1114,\n   1115,\n   1132,\n   1191,\n   1193,\n   1195,\n   1215]],\n [[3013,\n   3014,\n   3015,\n   3016,\n   3021,\n   3023,\n   3032,\n   3035,\n   3036,\n   3212,\n   3214,\n   3231,\n   3245,\n   3246,\n   3250,\n   3261,\n   3281,\n   3292,\n   3324,\n   3326,\n   3346,\n   3350,\n   3351,\n   3356,\n   3358,\n   3372,\n   3384,\n   3385,\n   3388,\n   3390,\n   3396,\n   3397,\n   3399],\n  [6622,\n   6630,\n   6635,\n   6647,\n   6710,\n   6750,\n   6757,\n   6758,\n   6760,\n   6762,\n   6763,\n   6764,\n   6772,\n   6775,\n   6781,\n   6782,\n   6783,\n   6786,\n   6787,\n   6792,\n   6793,\n   6794,\n   6795,\n   6821,\n   6913,\n   6921,\n   6922,\n   6931],\n  [3418,\n   3432,\n   3433,\n   3434,\n   3450,\n   3458,\n   3508,\n   3516,\n   3518,\n   3519,\n   3551,\n   3553,\n   3555,\n   3561,\n   3562,\n   3564,\n   3565,\n   3571,\n   3572,\n   3574,\n   3599,\n   3630,\n   3663,\n   3671,\n   3711,\n   3712,\n   3713,\n   3715,\n   3718,\n   3720,\n   3733,\n   3744,\n   3752,\n   3780,\n   3792,\n   3794,\n   3800,\n   3849,\n   3860,\n   3881,\n   3895,\n   3900,\n   3903,\n   3909,\n   3910,\n   3915,\n   3922,\n   3925,\n   3931,\n   3963,\n   3971,\n   3973,\n   3974],\n  [2067,\n   2509,\n   2517,\n   2519,\n   2521,\n   2523,\n   2531,\n   2532,\n   2534,\n   2536,\n   2541,\n   2831,\n   2836,\n   2837,\n   2851,\n   2870,\n   2896,\n   2898,\n   2899,\n   2900,\n   2903,\n   2911,\n   2921,\n   2941,\n   2942,\n   2943],\n  [6032,\n   6033,\n   6034,\n   6035,\n   6041,\n   6065,\n   6066,\n   6070,\n   6077,\n   6078,\n   6080,\n   6085,\n   6086,\n   6087,\n   6090,\n   6098,\n   6114,\n   6120,\n   6131,\n   6133,\n   6221,\n   6230,\n   6237,\n   6239,\n   6320,\n   6326,\n   6328,\n   6344,\n   6346,\n   6347,\n   6351,\n   6353,\n   6421,\n   6422,\n   6423,\n   6430,\n   6440,\n   6449,\n   6453,\n   6456,\n   6503,\n   6521,\n   6522,\n   6527],\n  [2065,\n   2066,\n   2091,\n   2421,\n   2422,\n   2424,\n   2426,\n   2431,\n   2433,\n   2451,\n   2454,\n   2457,\n   2458,\n   2459,\n   2462,\n   2463,\n   2465,\n   2471,\n   2473,\n   2475,\n   2476,\n   2481,\n   2483,\n   2484,\n   2490,\n   2643,\n   2651,\n   2659,\n   2687,\n   3047,\n   3060,\n   3063,\n   3070,\n   3121,\n   3170,\n   3182,\n   4064,\n   4066,\n   4069,\n   4075,\n   4087,\n   4090,\n   4110,\n   4125,\n   4130,\n   4133,\n   4138,\n   4145,\n   4161,\n   4171,\n   4172,\n   4173,\n   4177,\n   4181,\n   4183,\n   4211,\n   4212,\n   4231,\n   4233,\n   4234,\n   4241,\n   4243,\n   4254,\n   4262,\n   4263,\n   4264,\n   4271,\n   4272,\n   4274,\n   4275,\n   4281,\n   4286,\n   4287,\n   4311,\n   4324,\n   4326,\n   4334,\n   4335,\n   4352,\n   4355,\n   4356,\n   4361,\n   4363,\n   4371,\n   4372,\n   4374,\n   4405,\n   4434,\n   4450,\n   4455,\n   4456,\n   4461,\n   4464,\n   4465,\n   4482,\n   4483,\n   4484,\n   4485,\n   4492,\n   4495,\n   4501,\n   4511,\n   4516,\n   4523,\n   4524,\n   4531,\n   4544,\n   4551,\n   4552,\n   4553,\n   4555,\n   4558,\n   4561,\n   4562,\n   4564,\n   4621,\n   4623,\n   4625,\n   4642,\n   4644,\n   4722,\n   4731,\n   4751,\n   4761,\n   4762,\n   4765,\n   4800,\n   4821,\n   4823,\n   4900,\n   5051,\n   5052,\n   5054,\n   5055,\n   5071,\n   5081,\n   5083,\n   5085,\n   5091,\n   5121,\n   5122,\n   5123,\n   5130,\n   5136,\n   5137,\n   5142,\n   5143,\n   5211,\n   5231,\n   5235,\n   5241,\n   5321,\n   5322,\n   5331,\n   5420,\n   5435,\n   5440,\n   5451,\n   5462,\n   5465,\n   5500,\n   5502,\n   5510,\n   5516,\n   5520,\n   5525,\n   5527,\n   5534,\n   5553,\n   5561,\n   5622,\n   5624,\n   5661,\n   5662,\n   5667,\n   5711,\n   5712,\n   5726,\n   5741,\n   5742,\n   5746,\n   5800,\n   5820,\n   5830,\n   5920,\n   5931,\n   5932,\n   5940,\n   5946,\n   5948,\n   7000,\n   7003,\n   7013,\n   7017,\n   7020,\n   7025,\n   7044,\n   7054,\n   7056,\n   7081,\n   7084,\n   7090,\n   7095,\n   7130,\n   7131,\n   7132,\n   7133,\n   7140,\n   7143,\n   7144,\n   7173,\n   7191,\n   7261,\n   7349,\n   7355,\n   7370,\n   7516,\n   7530,\n   7561,\n   7562,\n   7691,\n   7693,\n   7694,\n   7695,\n   7696,\n   7720,\n   7741,\n   7754,\n   7759,\n   7761,\n   7763,\n   7773,\n   7800,\n   7811,\n   7815,\n   7827,\n   7831,\n   7900,\n   7940,\n   7960,\n   8043,\n   8052,\n   8053,\n   8056,\n   8066,\n   8081,\n   8083,\n   8093,\n   8095,\n   8111,\n   8124,\n   8125,\n   8127,\n   8130,\n   8132,\n   8135,\n   8136,\n   8142,\n   8143,\n   8151,\n   8154,\n   8156,\n   8315,\n   8372,\n   8380,\n   8621,\n   8623,\n   8630,\n   8638,\n   8640,\n   8651,\n   8653,\n   8693,\n   8713,\n   8719,\n   8790,\n   8840,\n   8866,\n   8868,\n   8960,\n   8992,\n   8999,\n   9071,\n   9073,\n   9081,\n   9082,\n   9086,\n   9090,\n   9099,\n   9100,\n   9121,\n   9142,\n   9144,\n   9151,\n   9153,\n   9154,\n   9155,\n   9167,\n   9172,\n   9181,\n   9222,\n   9224,\n   9225,\n   9228,\n   9241,\n   9317,\n   9343,\n   9421,\n   9423,\n   9431,\n   9444,\n   9495,\n   9545,\n   9653,\n   9721,\n   9735,\n   9737,\n   9751,\n   9761,\n   9791,\n   9798,\n   9915,\n   9970],\n  [2711,\n   2713,\n   2723,\n   2735,\n   2737,\n   2746,\n   2747,\n   2764,\n   2765,\n   2766,\n   2767,\n   2768,\n   2769,\n   3525,\n   3528,\n   3530,\n   3531,\n   3532,\n   3534,\n   3535,\n   4024,\n   4025,\n   4026,\n   4027,\n   4028,\n   4029,\n   6720,\n   6721,\n   6722,\n   6727,\n   6729,\n   7451,\n   7621,\n   7622,\n   7623,\n   7624,\n   7625,\n   7626,\n   7628,\n   7629,\n   7631,\n   7633,\n   7635,\n   7636,\n   9022,\n   9026,\n   9029,\n   9030],\n  [2014,\n   2015,\n   2016,\n   2021,\n   2023,\n   2038,\n   2049,\n   2071,\n   2072,\n   2074,\n   2084,\n   2089,\n   2094,\n   2095,\n   2096,\n   2097,\n   2098,\n   2111,\n   2113,\n   2114,\n   2116,\n   2118,\n   2132,\n   2133,\n   2134,\n   2141,\n   2142,\n   2144,\n   2146,\n   2162,\n   2170,\n   2173,\n   2182,\n   2191,\n   2192,\n   2193,\n   2194,\n   2209,\n   2213,\n   2217,\n   2233,\n   2241,\n   2243,\n   2244,\n   2252,\n   2253,\n   2254,\n   2314,\n   2317,\n   2318,\n   2319,\n   2335,\n   2336,\n   2337,\n   2340,\n   2344,\n   2347,\n   2351,\n   2363,\n   2364,\n   2365,\n   2366,\n   2367,\n   2370,\n   2371,\n   2373,\n   2376,\n   2377,\n   2381,\n   2461,\n   2612,\n   2621,\n   2626,\n   2628],\n  [1011,\n   1012,\n   1013,\n   1013,\n   1014,\n   1015,\n   1016,\n   1016,\n   1021,\n   1022,\n   1024,\n   1029,\n   1032,\n   1034,\n   1035,\n   1036,\n   1041,\n   1042,\n   1043,\n   1047,\n   1051,\n   1052,\n   1054,\n   1055,\n   1056,\n   1061,\n   1064,\n   1066,\n   1067,\n   1068,\n   1071,\n   1072,\n   1073,\n   1074,\n   1075,\n   1076,\n   1077,\n   1078,\n   1082,\n   1083,\n   1084,\n   1085,\n   1086,\n   1088,\n   1091,\n   1092,\n   1094,\n   1095,\n   1096,\n   1098,\n   1101,\n   1102,\n   1104,\n   1105,\n   1111,\n   1113,\n   1114,\n   1115,\n   1122,\n   1123,\n   1126,\n   1132,\n   1143,\n   1144,\n   1148,\n   1153,\n   1153,\n   1154,\n   1154,\n   1155,\n   1155,\n   1156,\n   1156,\n   1157,\n   1157,\n   1184,\n   1186,\n   1191,\n   1193,\n   1195,\n   1205,\n   1215,\n   1224,\n   1224,\n   1237,\n   1239]],\n [[2072,\n   2074,\n   2213,\n   2317,\n   2319,\n   2370,\n   2371,\n   2373,\n   2643,\n   2651,\n   2659,\n   2687,\n   2711,\n   2713,\n   2723,\n   2735,\n   2737,\n   2746,\n   2747,\n   2764,\n   2765,\n   2766,\n   2769,\n   3047,\n   3060,\n   3063,\n   3070,\n   3170,\n   3182,\n   6622,\n   6630,\n   6635,\n   6647,\n   6750,\n   6758,\n   6760,\n   6762,\n   6763,\n   6764,\n   6772,\n   6775,\n   6781,\n   6782,\n   6783,\n   6786,\n   6787,\n   6792,\n   6793,\n   6794,\n   6795,\n   6821,\n   6913,\n   6921,\n   6922,\n   6931],\n  [3418,\n   3432,\n   3433,\n   3434,\n   3450,\n   3458,\n   3551,\n   3553,\n   3555,\n   3561,\n   3562,\n   3564,\n   3565,\n   3571,\n   3572,\n   3574,\n   3599,\n   3630,\n   3663,\n   3671,\n   3711,\n   3712,\n   3713,\n   3715,\n   3718,\n   3720,\n   3733,\n   3744,\n   3752,\n   3780,\n   3792,\n   3794,\n   3800,\n   3849,\n   3860,\n   3881,\n   3895,\n   3900,\n   3903,\n   3909,\n   3910,\n   3915,\n   3922,\n   3925,\n   3931,\n   3963,\n   3971,\n   3973,\n   3974,\n   4064,\n   4066,\n   4069,\n   4075,\n   4087,\n   4090,\n   4110,\n   4125,\n   4130,\n   4133,\n   4138,\n   4145,\n   4161,\n   4171,\n   4172,\n   4173,\n   4177,\n   4181,\n   4183,\n   4211,\n   4212,\n   4231,\n   4233,\n   4234,\n   4241,\n   4243,\n   4254,\n   4262,\n   4263,\n   4264,\n   4271,\n   4272,\n   4274,\n   4275,\n   4281,\n   4286,\n   4287,\n   4311,\n   4324,\n   4326,\n   4334,\n   4335,\n   4352,\n   4355,\n   4356,\n   4361,\n   4363,\n   4371,\n   4372,\n   4374,\n   4405,\n   4434,\n   4450,\n   4455,\n   4456,\n   4461,\n   4464,\n   4465,\n   4482,\n   4483,\n   4484,\n   4485,\n   4492,\n   4495,\n   4501,\n   4511,\n   4516,\n   4523,\n   4524,\n   4531,\n   4544,\n   4551,\n   4552,\n   4553,\n   4555,\n   4558,\n   4561,\n   4562,\n   4564,\n   4621,\n   4623,\n   4625,\n   4642,\n   4644,\n   4722,\n   4731,\n   4751,\n   4761,\n   4762,\n   4765,\n   4800,\n   4821,\n   4823,\n   4900,\n   6032,\n   6033,\n   6034,\n   6035,\n   6041,\n   6065,\n   6066,\n   6070,\n   6077,\n   6078,\n   6080,\n   6085,\n   6086,\n   6087,\n   6090,\n   6098,\n   6114,\n   6120,\n   6131,\n   6133,\n   6221,\n   6230,\n   6237,\n   6239,\n   6320,\n   6326,\n   6328,\n   6344,\n   6346,\n   6347,\n   6351,\n   6353,\n   6421,\n   6422,\n   6423,\n   6430,\n   6440,\n   6449,\n   6453,\n   6456,\n   6503,\n   6521,\n   6522,\n   6527,\n   7261,\n   7516,\n   7530,\n   7561,\n   7562,\n   8315,\n   8372,\n   8380,\n   8621,\n   8623,\n   8630,\n   8638,\n   8640,\n   8651,\n   8653,\n   8660,\n   8693,\n   8713,\n   8719,\n   8790,\n   8840,\n   8866,\n   8868,\n   8960,\n   8992,\n   8999,\n   9545,\n   9653,\n   9721,\n   9735,\n   9737,\n   9751,\n   9761,\n   9791,\n   9798,\n   9915,\n   9970],\n  [2021,\n   2023,\n   2049,\n   2065,\n   2066,\n   2067,\n   2162,\n   2170,\n   2173,\n   2182,\n   2191,\n   2192,\n   2193,\n   2194,\n   2209,\n   2217,\n   2337,\n   2340,\n   2344,\n   2347,\n   2351,\n   2363,\n   2364,\n   2365,\n   2366,\n   2367,\n   2421,\n   2422,\n   2424,\n   2426,\n   2431,\n   2433,\n   2451,\n   2454,\n   2457,\n   2458,\n   2459,\n   2462,\n   2463,\n   2465,\n   2471,\n   2473,\n   2475,\n   2476,\n   2481,\n   2483,\n   2484,\n   2490,\n   2509,\n   2517,\n   2519,\n   2521,\n   2523,\n   2531,\n   2532,\n   2534,\n   2536,\n   2541,\n   2767,\n   2768,\n   2831,\n   2836,\n   2837,\n   2851,\n   2870,\n   2896,\n   2898,\n   2899,\n   2900,\n   2903,\n   2911,\n   2921,\n   2941,\n   2942,\n   2943,\n   3013,\n   3014,\n   3015,\n   3016,\n   3021,\n   3023,\n   3032,\n   3035,\n   3036,\n   3121,\n   3212,\n   3214,\n   3231,\n   3245,\n   3246,\n   3250,\n   3261,\n   3281,\n   3292,\n   3324,\n   3326,\n   3346,\n   3350,\n   3351,\n   3356,\n   3358,\n   3372,\n   3384,\n   3385,\n   3388,\n   3390,\n   3396,\n   3397,\n   3399,\n   3508,\n   3516,\n   3518,\n   3519,\n   3525,\n   3528,\n   3530,\n   3531,\n   3532,\n   3534,\n   3535,\n   4024,\n   4025,\n   4026,\n   4027,\n   4028,\n   4029,\n   5051,\n   5052,\n   5054,\n   5055,\n   5071,\n   5081,\n   5083,\n   5085,\n   5091,\n   5121,\n   5122,\n   5123,\n   5130,\n   5136,\n   5137,\n   5142,\n   5143,\n   5211,\n   5231,\n   5235,\n   5241,\n   5321,\n   5322,\n   5331,\n   5420,\n   5435,\n   5440,\n   5451,\n   5462,\n   5465,\n   5500,\n   5502,\n   5510,\n   5516,\n   5520,\n   5525,\n   5527,\n   5534,\n   5553,\n   5561,\n   5622,\n   5624,\n   5661,\n   5662,\n   5667,\n   5711,\n   5712,\n   5726,\n   5741,\n   5742,\n   5746,\n   5800,\n   5820,\n   5830,\n   5920,\n   5931,\n   5932,\n   5940,\n   5946,\n   5948,\n   6710,\n   6720,\n   6721,\n   6722,\n   6727,\n   6729,\n   6757,\n   7000,\n   7003,\n   7013,\n   7017,\n   7020,\n   7025,\n   7044,\n   7054,\n   7056,\n   7081,\n   7084,\n   7090,\n   7095,\n   7130,\n   7131,\n   7132,\n   7133,\n   7140,\n   7143,\n   7144,\n   7173,\n   7191,\n   7349,\n   7355,\n   7370,\n   7451,\n   7694,\n   7695,\n   7696,\n   7741,\n   7754,\n   7759,\n   7761,\n   7763,\n   7773,\n   7800,\n   7811,\n   7815,\n   7827,\n   7831,\n   7838,\n   7900,\n   7940,\n   7960,\n   8043,\n   8052,\n   8053,\n   8056,\n   8066,\n   8081,\n   8083,\n   8093,\n   8095,\n   8111,\n   8124,\n   8125,\n   8127,\n   8130,\n   8132,\n   8135,\n   8136,\n   8142,\n   8143,\n   8151,\n   8154,\n   8156,\n   9022,\n   9026,\n   9029,\n   9030,\n   9071,\n   9073,\n   9081,\n   9082,\n   9086,\n   9090,\n   9099,\n   9100,\n   9121,\n   9142,\n   9144,\n   9151,\n   9153,\n   9154,\n   9155,\n   9167,\n   9172,\n   9181,\n   9222,\n   9224,\n   9225,\n   9228,\n   9241,\n   9317,\n   9343,\n   9421,\n   9423,\n   9431,\n   9444,\n   9495],\n  [1051,\n   1052,\n   1054,\n   1055,\n   1056,\n   1153,\n   1153,\n   1154,\n   1154,\n   1155,\n   1155,\n   1156,\n   1156,\n   1157,\n   1157,\n   1224,\n   1224,\n   1237,\n   1239,\n   2038,\n   2071,\n   2084,\n   2089,\n   2091,\n   2094,\n   2095,\n   2097,\n   2098,\n   2111,\n   2113,\n   2114,\n   2116,\n   2118,\n   2141,\n   2142,\n   2144,\n   2146,\n   2233,\n   2241,\n   2243,\n   2244,\n   2252,\n   2253,\n   2254,\n   2314,\n   2318,\n   2335,\n   2336,\n   2461,\n   2621,\n   7621,\n   7622,\n   7623,\n   7624,\n   7625,\n   7626,\n   7628,\n   7629,\n   7631,\n   7633,\n   7635,\n   7636,\n   7691,\n   7693,\n   7720],\n  [1021,\n   1022,\n   1024,\n   1029,\n   1041,\n   1042,\n   1043,\n   1047,\n   1071,\n   1072,\n   1073,\n   1074,\n   1075,\n   1076,\n   1077,\n   1078,\n   1082,\n   1083,\n   1084,\n   1085,\n   1086,\n   1088,\n   1101,\n   1102,\n   1104,\n   1105,\n   1122,\n   1123,\n   1126,\n   1143,\n   1144,\n   1148,\n   1184,\n   1186,\n   1191,\n   1193,\n   1195,\n   1205,\n   1215,\n   2014,\n   2015,\n   2016,\n   2096,\n   2612,\n   2626,\n   2628],\n  [1011,\n   1012,\n   1013,\n   1013,\n   1014,\n   1015,\n   1016,\n   1016,\n   1032,\n   1034,\n   1035,\n   1036,\n   1061,\n   1064,\n   1066,\n   1067,\n   1068,\n   1091,\n   1092,\n   1094,\n   1095,\n   1096,\n   1098,\n   1111,\n   1113,\n   1114,\n   1115,\n   1132,\n   2132,\n   2133,\n   2134,\n   2376,\n   2377,\n   2381]],\n [[2014,\n   2015,\n   2016,\n   2021,\n   2023,\n   2038,\n   2065,\n   2066,\n   2067,\n   2071,\n   2072,\n   2074,\n   2089,\n   2091,\n   2095,\n   2096,\n   2098,\n   2113,\n   2114,\n   2116,\n   2118,\n   2132,\n   2133,\n   2134,\n   2144,\n   2162,\n   2170,\n   2173,\n   2182,\n   2191,\n   2192,\n   2193,\n   2194,\n   2209,\n   2213,\n   2217,\n   2241,\n   2243,\n   2244,\n   2252,\n   2253,\n   2254,\n   2317,\n   2318,\n   2319,\n   2335,\n   2337,\n   2340,\n   2344,\n   2347,\n   2351,\n   2363,\n   2364,\n   2365,\n   2366,\n   2367,\n   2370,\n   2371,\n   2373,\n   2376,\n   2377,\n   2381,\n   2421,\n   2422,\n   2424,\n   2426,\n   2431,\n   2433,\n   2451,\n   2454,\n   2457,\n   2458,\n   2459,\n   2461,\n   2462,\n   2463,\n   2465,\n   2471,\n   2473,\n   2475,\n   2476,\n   2481,\n   2483,\n   2484,\n   2490,\n   2509,\n   2517,\n   2519,\n   2521,\n   2523,\n   2532,\n   2534,\n   2536,\n   2541,\n   2612,\n   2621,\n   2626,\n   2628,\n   2643,\n   2651,\n   2659,\n   2687,\n   2711,\n   2713,\n   2723,\n   2735,\n   2737,\n   2746,\n   2747,\n   2764,\n   2765,\n   2766,\n   2767,\n   2768,\n   2769,\n   2831,\n   2836,\n   2837,\n   2851,\n   2870,\n   2896,\n   2898,\n   2899,\n   2900,\n   2903,\n   2911,\n   2921,\n   2941,\n   2942,\n   2943,\n   3013,\n   3014,\n   3015,\n   3016,\n   3021,\n   3023,\n   3032,\n   3035,\n   3036,\n   3047,\n   3060,\n   3063,\n   3070,\n   3121,\n   3170,\n   3182,\n   3212,\n   3214,\n   3231,\n   3245,\n   3246,\n   3250,\n   3261,\n   3281,\n   3292,\n   3324,\n   3326,\n   3346,\n   3350,\n   3351,\n   3356,\n   3358,\n   3372,\n   3384,\n   3385,\n   3388,\n   3390,\n   3396,\n   3397,\n   3399,\n   3418,\n   3432,\n   3433,\n   3434,\n   3450,\n   3458,\n   3551,\n   3553,\n   3555,\n   3561,\n   3562,\n   3564,\n   3565,\n   3571,\n   3572,\n   3574,\n   3599,\n   3630,\n   3663,\n   3671,\n   3711,\n   3712,\n   3713,\n   3715,\n   3718,\n   3720,\n   3733,\n   3744,\n   3752,\n   3780,\n   3792,\n   3794,\n   3800,\n   3849,\n   3860,\n   3881,\n   3895,\n   3900,\n   3903,\n   3909,\n   3910,\n   3915,\n   3922,\n   3925,\n   3931,\n   3963,\n   3971,\n   3973,\n   3974,\n   4064,\n   4066,\n   4069,\n   4075,\n   4087,\n   4090,\n   4110,\n   4125,\n   4130,\n   4133,\n   4138,\n   4145,\n   4161,\n   4171,\n   4172,\n   4173,\n   4177,\n   4181,\n   4183,\n   4211,\n   4212,\n   4231,\n   4233,\n   4234,\n   4241,\n   4243,\n   4254,\n   4262,\n   4263,\n   4264,\n   4271,\n   4272,\n   4274,\n   4275,\n   4281,\n   4286,\n   4287,\n   4311,\n   4324,\n   4326,\n   4334,\n   4335,\n   4352,\n   4355,\n   4356,\n   4361,\n   4363,\n   4371,\n   4372,\n   4374,\n   4434,\n   4450,\n   4455,\n   4456,\n   4461,\n   4464,\n   4465,\n   4482,\n   4483,\n   4484,\n   4485,\n   4492,\n   4495,\n   4501,\n   4511,\n   4516,\n   4523,\n   4524,\n   4531,\n   4544,\n   4552,\n   4553,\n   4555,\n   4558,\n   4561,\n   4562,\n   4564,\n   4621,\n   4623,\n   4625,\n   4642,\n   4644,\n   4722,\n   4731,\n   4751,\n   4761,\n   4762,\n   4765,\n   4800,\n   4821,\n   4823,\n   4900,\n   5051,\n   5052,\n   5054,\n   5055,\n   5071,\n   5081,\n   5083,\n   5085,\n   5091,\n   5121,\n   5122,\n   5123,\n   5130,\n   5136,\n   5137,\n   5142,\n   5143,\n   5211,\n   5235,\n   5241,\n   5321,\n   5322,\n   5331,\n   5420,\n   5435,\n   5440,\n   5451,\n   5462,\n   5465,\n   5500,\n   5502,\n   5510,\n   5516,\n   5520,\n   5525,\n   5527,\n   5534,\n   5553,\n   5561,\n   5622,\n   5624,\n   5661,\n   5662,\n   5667,\n   5711,\n   5712,\n   5726,\n   5741,\n   5742,\n   5746,\n   5800,\n   5820,\n   5830,\n   5920,\n   5931,\n   5932,\n   5940,\n   5946,\n   5948,\n   6032,\n   6033,\n   6034,\n   6035,\n   6041,\n   6065,\n   6066,\n   6070,\n   6077,\n   6078,\n   6080,\n   6085,\n   6086,\n   6087,\n   6098,\n   6114,\n   6120,\n   6131,\n   6133,\n   6221,\n   6230,\n   6237,\n   6239,\n   6320,\n   6326,\n   6328,\n   6344,\n   6346,\n   6347,\n   6351,\n   6353,\n   6421,\n   6422,\n   6423,\n   6430,\n   6440,\n   6449,\n   6453,\n   6456,\n   6503,\n   6521,\n   6522,\n   6527,\n   6622,\n   6630,\n   6635,\n   6647,\n   6750,\n   6758,\n   6760,\n   6762,\n   6763,\n   6764,\n   6772,\n   6775,\n   6782,\n   6783,\n   6786,\n   6787,\n   6792,\n   6793,\n   6794,\n   6795,\n   6821,\n   6913,\n   6921,\n   6922,\n   6931,\n   7000,\n   7003,\n   7013,\n   7017,\n   7020,\n   7025,\n   7044,\n   7054,\n   7056,\n   7081,\n   7084,\n   7090,\n   7095,\n   7130,\n   7131,\n   7132,\n   7133,\n   7140,\n   7143,\n   7144,\n   7173,\n   7191,\n   7261,\n   7349,\n   7355,\n   7370,\n   7451,\n   7516,\n   7530,\n   7561,\n   7562,\n   7693,\n   7694,\n   7695,\n   7696,\n   7720,\n   7741,\n   7754,\n   7759,\n   7761,\n   7763,\n   7773,\n   7800,\n   7811,\n   7815,\n   7827,\n   7831,\n   7838,\n   7900,\n   7940,\n   7960,\n   8043,\n   8052,\n   8053,\n   8056,\n   8066,\n   8081,\n   8083,\n   8093,\n   8095,\n   8111,\n   8124,\n   8125,\n   8127,\n   8130,\n   8132,\n   8135,\n   8136,\n   8142,\n   8143,\n   8151,\n   8154,\n   8156,\n   8315,\n   8372,\n   8380,\n   8621,\n   8623,\n   8630,\n   8638,\n   8640,\n   8651,\n   8653,\n   8660,\n   8693,\n   8713,\n   8719,\n   8790,\n   8840,\n   8866,\n   8868,\n   8960,\n   8992,\n   8999,\n   9071,\n   9073,\n   9081,\n   9082,\n   9086,\n   9090,\n   9099,\n   9100,\n   9121,\n   9142,\n   9144,\n   9151,\n   9153,\n   9154,\n   9155,\n   9167,\n   9172,\n   9181,\n   9222,\n   9224,\n   9225,\n   9228,\n   9241,\n   9317,\n   9343,\n   9421,\n   9423,\n   9431,\n   9444,\n   9495,\n   9545,\n   9653,\n   9721,\n   9735,\n   9737,\n   9751,\n   9761,\n   9791,\n   9798,\n   9915,\n   9970],\n  [2049,\n   2084,\n   2094,\n   2097,\n   2111,\n   2141,\n   2142,\n   2146,\n   2233,\n   2314,\n   2336,\n   3508,\n   3516,\n   3518,\n   3519,\n   3525,\n   3528,\n   3530,\n   3531,\n   3532,\n   3534,\n   3535,\n   4024,\n   4025,\n   4026,\n   4027,\n   4028,\n   4029,\n   4405,\n   4551,\n   6710,\n   6720,\n   6721,\n   6722,\n   6727,\n   6729,\n   6757,\n   6781,\n   7621,\n   7622,\n   7623,\n   7624,\n   7625,\n   7626,\n   7628,\n   7629,\n   7631,\n   7633,\n   7635,\n   7636,\n   7691,\n   9022,\n   9026,\n   9029,\n   9030],\n  [1011,\n   1012,\n   1013,\n   1013,\n   1014,\n   1015,\n   1016,\n   1016,\n   1021,\n   1022,\n   1024,\n   1029,\n   1032,\n   1034,\n   1035,\n   1036,\n   1041,\n   1042,\n   1043,\n   1047,\n   1051,\n   1052,\n   1054,\n   1055,\n   1056,\n   1061,\n   1064,\n   1066,\n   1067,\n   1068,\n   1071,\n   1072,\n   1073,\n   1074,\n   1075,\n   1076,\n   1077,\n   1078,\n   1082,\n   1083,\n   1084,\n   1085,\n   1086,\n   1088,\n   1091,\n   1092,\n   1094,\n   1095,\n   1096,\n   1098,\n   1101,\n   1102,\n   1104,\n   1105,\n   1111,\n   1113,\n   1114,\n   1115,\n   1122,\n   1123,\n   1126,\n   1143,\n   1144,\n   1148,\n   1153,\n   1153,\n   1154,\n   1154,\n   1155,\n   1155,\n   1156,\n   1156,\n   1157,\n   1157,\n   1184,\n   1186,\n   1191,\n   1193,\n   1195,\n   1205,\n   1215,\n   1224,\n   1224,\n   1237,\n   1239]],\n [[2016,\n   2021,\n   2023,\n   2038,\n   2065,\n   2066,\n   2067,\n   2072,\n   2074,\n   2091,\n   2095,\n   2097,\n   2098,\n   2113,\n   2114,\n   2116,\n   2118,\n   2133,\n   2134,\n   2162,\n   2170,\n   2173,\n   2182,\n   2191,\n   2192,\n   2193,\n   2194,\n   2209,\n   2213,\n   2217,\n   2241,\n   2243,\n   2244,\n   2252,\n   2253,\n   2254,\n   2317,\n   2318,\n   2319,\n   2336,\n   2337,\n   2340,\n   2344,\n   2347,\n   2351,\n   2363,\n   2364,\n   2365,\n   2366,\n   2367,\n   2370,\n   2371,\n   2373,\n   2376,\n   2377,\n   2381,\n   2421,\n   2422,\n   2424,\n   2426,\n   2431,\n   2433,\n   2451,\n   2454,\n   2457,\n   2458,\n   2459,\n   2462,\n   2463,\n   2465,\n   2471,\n   2473,\n   2475,\n   2476,\n   2481,\n   2483,\n   2484,\n   2490,\n   2509,\n   2517,\n   2519,\n   2521,\n   2523,\n   2531,\n   2532,\n   2534,\n   2536,\n   2541,\n   2612,\n   2621,\n   2626,\n   2628,\n   2643,\n   2651,\n   2659,\n   2687,\n   2711,\n   2713,\n   2723,\n   2735,\n   2737,\n   2746,\n   2747,\n   2764,\n   2765,\n   2766,\n   2767,\n   2768,\n   2769,\n   2831,\n   2836,\n   2837,\n   2851,\n   2870,\n   2896,\n   2898,\n   2899,\n   2900,\n   2903,\n   2911,\n   2921,\n   2941,\n   2942,\n   2943,\n   3013,\n   3014,\n   3015,\n   3016,\n   3021,\n   3023,\n   3032,\n   3035,\n   3036,\n   3047,\n   3060,\n   3063,\n   3070,\n   3121,\n   3170,\n   3182,\n   3212,\n   3214,\n   3231,\n   3245,\n   3246,\n   3250,\n   3261,\n   3281,\n   3292,\n   3324,\n   3326,\n   3346,\n   3350,\n   3351,\n   3356,\n   3358,\n   3372,\n   3384,\n   3385,\n   3388,\n   3390,\n   3396,\n   3397,\n   3399,\n   4024,\n   4025,\n   4026,\n   4027,\n   4028,\n   4029,\n   4064,\n   4066,\n   4069,\n   4075,\n   4087,\n   4090,\n   4110,\n   4125,\n   4130,\n   4133,\n   4138,\n   4145,\n   4161,\n   4171,\n   4172,\n   4173,\n   4177,\n   4181,\n   4183,\n   4211,\n   4212,\n   4241,\n   4243,\n   4254,\n   4262,\n   4263,\n   4264,\n   4271,\n   4272,\n   4274,\n   4275,\n   4281,\n   4286,\n   4287,\n   5051,\n   5052,\n   5054,\n   5055,\n   5071,\n   5081,\n   5083,\n   5085,\n   5091,\n   5121,\n   5122,\n   5123,\n   5130,\n   5136,\n   5137,\n   5142,\n   5143,\n   5211,\n   5231,\n   5235,\n   5241,\n   5321,\n   5322,\n   5331,\n   5420,\n   5435,\n   5440,\n   5451,\n   5462,\n   5465,\n   6622,\n   6630,\n   6635,\n   6647,\n   6710,\n   6720,\n   6721,\n   6722,\n   6727,\n   6729,\n   6750,\n   6757,\n   6758,\n   6760,\n   6762,\n   6763,\n   6764,\n   6772,\n   6775,\n   6781,\n   6782,\n   6783,\n   6786,\n   6787,\n   6792,\n   6793,\n   6794,\n   6795,\n   6821,\n   6913,\n   6921,\n   6922,\n   6931,\n   7000,\n   7003,\n   7013,\n   7017,\n   7020,\n   7025,\n   7044,\n   7054,\n   7056,\n   7081,\n   7084,\n   7090,\n   7095,\n   7130,\n   7131,\n   7132,\n   7133,\n   7140,\n   7143,\n   7144,\n   7173,\n   7191,\n   7349,\n   7355,\n   7370,\n   7720,\n   7741,\n   7754,\n   7759,\n   7761,\n   7763,\n   7773,\n   7800,\n   7811,\n   7815,\n   7827,\n   7831,\n   7838,\n   7900,\n   7940,\n   7960,\n   8043,\n   8052,\n   8053,\n   8056,\n   8066,\n   8081,\n   8083,\n   8093,\n   8095,\n   8111,\n   8124,\n   8125,\n   8127,\n   8130,\n   8132,\n   8135,\n   8136,\n   8142,\n   8143,\n   8151,\n   8154,\n   8156,\n   8315,\n   8372,\n   8380,\n   8790,\n   8866,\n   8868,\n   8960,\n   8992,\n   8999,\n   9022,\n   9026,\n   9029,\n   9030,\n   9071,\n   9073,\n   9081,\n   9082,\n   9086,\n   9090,\n   9099,\n   9100,\n   9121,\n   9142,\n   9144,\n   9151,\n   9153,\n   9154,\n   9155,\n   9167,\n   9172,\n   9181,\n   9222,\n   9224,\n   9225,\n   9228,\n   9241,\n   9317,\n   9343,\n   9545,\n   9653,\n   9721,\n   9735,\n   9737,\n   9751,\n   9761,\n   9791,\n   9798,\n   9915,\n   9970],\n  [3418,\n   3432,\n   3433,\n   3434,\n   3450,\n   3458,\n   3508,\n   3516,\n   3518,\n   3519,\n   3525,\n   3528,\n   3530,\n   3531,\n   3532,\n   3534,\n   3535,\n   3551,\n   3553,\n   3555,\n   3561,\n   3562,\n   3564,\n   3565,\n   3571,\n   3572,\n   3574,\n   3599,\n   3630,\n   3663,\n   3671,\n   3711,\n   3712,\n   3713,\n   3715,\n   3718,\n   3720,\n   3733,\n   3744,\n   3752,\n   3780,\n   3792,\n   3794,\n   3800,\n   3849,\n   3860,\n   3881,\n   3895,\n   3900,\n   3903,\n   3909,\n   3910,\n   3915,\n   3922,\n   3925,\n   3931,\n   3963,\n   3971,\n   3973,\n   3974,\n   4231,\n   4233,\n   4234,\n   4311,\n   4324,\n   4326,\n   4334,\n   4335,\n   4352,\n   4355,\n   4356,\n   4361,\n   4363,\n   4371,\n   4372,\n   4374,\n   4405,\n   4434,\n   4450,\n   4455,\n   4456,\n   4461,\n   4464,\n   4465,\n   4482,\n   4483,\n   4484,\n   4485,\n   4492,\n   4495,\n   4501,\n   4511,\n   4516,\n   4523,\n   4524,\n   4531,\n   4544,\n   4551,\n   4552,\n   4553,\n   4555,\n   4558,\n   4561,\n   4562,\n   4564,\n   4621,\n   4623,\n   4625,\n   4642,\n   4644,\n   4722,\n   4731,\n   4751,\n   4761,\n   4762,\n   4765,\n   4800,\n   4821,\n   4823,\n   4900,\n   5500,\n   5502,\n   5510,\n   5516,\n   5520,\n   5525,\n   5527,\n   5534,\n   5553,\n   5561,\n   5622,\n   5624,\n   5661,\n   5662,\n   5667,\n   5711,\n   5712,\n   5726,\n   5741,\n   5742,\n   5746,\n   5800,\n   5820,\n   5830,\n   5920,\n   5931,\n   5932,\n   5940,\n   5946,\n   5948,\n   6032,\n   6033,\n   6034,\n   6035,\n   6041,\n   6065,\n   6066,\n   6070,\n   6077,\n   6078,\n   6080,\n   6085,\n   6086,\n   6087,\n   6090,\n   6098,\n   6114,\n   6120,\n   6131,\n   6133,\n   6221,\n   6230,\n   6237,\n   6239,\n   6320,\n   6326,\n   6328,\n   6344,\n   6346,\n   6347,\n   6351,\n   6353,\n   6421,\n   6422,\n   6423,\n   6430,\n   6440,\n   6449,\n   6453,\n   6456,\n   6503,\n   6521,\n   6522,\n   6527,\n   7261,\n   7451,\n   7516,\n   7530,\n   7561,\n   7562,\n   8621,\n   8623,\n   8630,\n   8638,\n   8640,\n   8651,\n   8653,\n   8660,\n   8693,\n   8713,\n   8719,\n   8840],\n  [1011,\n   1012,\n   1013,\n   1013,\n   1014,\n   1015,\n   1016,\n   1016,\n   1021,\n   1022,\n   1024,\n   1029,\n   1032,\n   1034,\n   1035,\n   1036,\n   1041,\n   1042,\n   1043,\n   1047,\n   1051,\n   1052,\n   1054,\n   1055,\n   1056,\n   1061,\n   1064,\n   1066,\n   1067,\n   1068,\n   1071,\n   1072,\n   1073,\n   1074,\n   1075,\n   1076,\n   1077,\n   1078,\n   1082,\n   1083,\n   1084,\n   1085,\n   1086,\n   1088,\n   1091,\n   1092,\n   1094,\n   1095,\n   1096,\n   1098,\n   1101,\n   1102,\n   1104,\n   1105,\n   1111,\n   1113,\n   1114,\n   1115,\n   1122,\n   1123,\n   1126,\n   1132,\n   1143,\n   1144,\n   1148,\n   1153,\n   1153,\n   1154,\n   1154,\n   1155,\n   1155,\n   1156,\n   1156,\n   1157,\n   1157,\n   1184,\n   1186,\n   1191,\n   1193,\n   1195,\n   1205,\n   1215,\n   1224,\n   1224,\n   1237,\n   1239,\n   2014,\n   2015,\n   2049,\n   2071,\n   2084,\n   2089,\n   2094,\n   2096,\n   2111,\n   2132,\n   2141,\n   2142,\n   2144,\n   2146,\n   2233,\n   2314,\n   2335,\n   2461,\n   7621,\n   7622,\n   7623,\n   7624,\n   7625,\n   7626,\n   7628,\n   7629,\n   7631,\n   7633,\n   7635,\n   7636,\n   7691,\n   7693,\n   7694,\n   7695,\n   7696,\n   9421,\n   9423,\n   9431,\n   9444,\n   9495]]]"
     },
     "execution_count": 29,
     "metadata": {},
     "output_type": "execute_result"
    }
   ],
   "source": [
    "cats"
   ],
   "metadata": {
    "collapsed": false,
    "ExecuteTime": {
     "end_time": "2024-02-08T15:05:44.841911770Z",
     "start_time": "2024-02-08T15:05:44.802595560Z"
    }
   },
   "id": "ef434a38955b4bf7"
  },
  {
   "cell_type": "code",
   "execution_count": 30,
   "outputs": [
    {
     "data": {
      "text/plain": "[[[2065,\n   2066,\n   2067,\n   2091,\n   2421,\n   2422,\n   2424,\n   2426,\n   2431,\n   2433,\n   2451,\n   2454,\n   2457,\n   2458,\n   2459,\n   2462,\n   2463,\n   2465,\n   2471,\n   2473,\n   2475,\n   2476,\n   2481,\n   2483,\n   2484,\n   2490,\n   2509,\n   2517,\n   2519,\n   2521,\n   2523,\n   2531,\n   2532,\n   2534,\n   2536,\n   2541,\n   2643,\n   2651,\n   2659,\n   2687,\n   2831,\n   2836,\n   2837,\n   2851,\n   2870,\n   2896,\n   2898,\n   2899,\n   2900,\n   2903,\n   2911,\n   2921,\n   2941,\n   2942,\n   2943,\n   3013,\n   3014,\n   3015,\n   3016,\n   3021,\n   3023,\n   3032,\n   3035,\n   3036,\n   3047,\n   3060,\n   3063,\n   3070,\n   3121,\n   3170,\n   3182,\n   3212,\n   3214,\n   3231,\n   3245,\n   3246,\n   3250,\n   3261,\n   3281,\n   3292,\n   3324,\n   3326,\n   3346,\n   3350,\n   3351,\n   3356,\n   3358,\n   3372,\n   3384,\n   3385,\n   3388,\n   3390,\n   3396,\n   3397,\n   3399,\n   3418,\n   3432,\n   3433,\n   3434,\n   3450,\n   3458,\n   3551,\n   3553,\n   3555,\n   3561,\n   3562,\n   3564,\n   3565,\n   3571,\n   3572,\n   3574,\n   3599,\n   3630,\n   3663,\n   3671,\n   3711,\n   3712,\n   3713,\n   3715,\n   3718,\n   3720,\n   3733,\n   3744,\n   3752,\n   3780,\n   3792,\n   3794,\n   3800,\n   3849,\n   3860,\n   3881,\n   3895,\n   3900,\n   3903,\n   3909,\n   3910,\n   3915,\n   3922,\n   3925,\n   3931,\n   3963,\n   3971,\n   3973,\n   3974,\n   4064,\n   4066,\n   4069,\n   4075,\n   4087,\n   4090,\n   4110,\n   4125,\n   4130,\n   4133,\n   4138,\n   4145,\n   4161,\n   4171,\n   4172,\n   4173,\n   4177,\n   4181,\n   4183,\n   4211,\n   4212,\n   4231,\n   4233,\n   4234,\n   4241,\n   4243,\n   4254,\n   4262,\n   4263,\n   4264,\n   4271,\n   4272,\n   4274,\n   4275,\n   4281,\n   4286,\n   4287,\n   4311,\n   4324,\n   4326,\n   4334,\n   4335,\n   4352,\n   4355,\n   4356,\n   4361,\n   4363,\n   4371,\n   4372,\n   4374,\n   4405,\n   4434,\n   4450,\n   4455,\n   4456,\n   4461,\n   4464,\n   4465,\n   4482,\n   4483,\n   4484,\n   4485,\n   4492,\n   4495,\n   4501,\n   4511,\n   4516,\n   4523,\n   4524,\n   4531,\n   4544,\n   4551,\n   4552,\n   4553,\n   4555,\n   4558,\n   4561,\n   4562,\n   4564,\n   4621,\n   4623,\n   4625,\n   4642,\n   4644,\n   4722,\n   4731,\n   4751,\n   4761,\n   4762,\n   4765,\n   4800,\n   4821,\n   4823,\n   4900,\n   5051,\n   5052,\n   5054,\n   5055,\n   5071,\n   5081,\n   5083,\n   5085,\n   5091,\n   5121,\n   5122,\n   5123,\n   5130,\n   5136,\n   5137,\n   5142,\n   5143,\n   5211,\n   5231,\n   5235,\n   5241,\n   5321,\n   5322,\n   5331,\n   5420,\n   5435,\n   5440,\n   5451,\n   5462,\n   5465,\n   5500,\n   5502,\n   5510,\n   5516,\n   5520,\n   5525,\n   5527,\n   5534,\n   5553,\n   5561,\n   5622,\n   5624,\n   5661,\n   5662,\n   5667,\n   5711,\n   5712,\n   5726,\n   5741,\n   5742,\n   5746,\n   5800,\n   5820,\n   5830,\n   5920,\n   5931,\n   5932,\n   5940,\n   5946,\n   5948,\n   6032,\n   6033,\n   6034,\n   6035,\n   6041,\n   6065,\n   6066,\n   6070,\n   6077,\n   6078,\n   6080,\n   6085,\n   6086,\n   6087,\n   6090,\n   6098,\n   6114,\n   6120,\n   6131,\n   6133,\n   6221,\n   6230,\n   6237,\n   6239,\n   6320,\n   6326,\n   6328,\n   6344,\n   6346,\n   6347,\n   6351,\n   6353,\n   6421,\n   6422,\n   6423,\n   6430,\n   6440,\n   6449,\n   6453,\n   6456,\n   6503,\n   6521,\n   6522,\n   6527,\n   6622,\n   6630,\n   6635,\n   6647,\n   6758,\n   6760,\n   6762,\n   6763,\n   6764,\n   6772,\n   6775,\n   6781,\n   6782,\n   6783,\n   6786,\n   6787,\n   6792,\n   6793,\n   6794,\n   6795,\n   6821,\n   6913,\n   6921,\n   6922,\n   6931,\n   7000,\n   7003,\n   7013,\n   7017,\n   7020,\n   7025,\n   7044,\n   7054,\n   7056,\n   7081,\n   7084,\n   7090,\n   7095,\n   7130,\n   7131,\n   7132,\n   7133,\n   7140,\n   7143,\n   7144,\n   7173,\n   7191,\n   7261,\n   7349,\n   7355,\n   7370,\n   7451,\n   7516,\n   7530,\n   7561,\n   7562,\n   7694,\n   7695,\n   7696,\n   7720,\n   7741,\n   7754,\n   7759,\n   7761,\n   7763,\n   7773,\n   7800,\n   7811,\n   7815,\n   7827,\n   7831,\n   7838,\n   7900,\n   7940,\n   7960,\n   8043,\n   8052,\n   8053,\n   8056,\n   8066,\n   8081,\n   8083,\n   8093,\n   8095,\n   8111,\n   8124,\n   8125,\n   8127,\n   8130,\n   8132,\n   8135,\n   8136,\n   8142,\n   8143,\n   8151,\n   8154,\n   8156,\n   8315,\n   8372,\n   8380,\n   8621,\n   8623,\n   8630,\n   8638,\n   8640,\n   8651,\n   8653,\n   8660,\n   8693,\n   8713,\n   8719,\n   8790,\n   8840,\n   8866,\n   8868,\n   8960,\n   8992,\n   8999,\n   9071,\n   9073,\n   9081,\n   9082,\n   9086,\n   9090,\n   9099,\n   9100,\n   9121,\n   9142,\n   9144,\n   9151,\n   9153,\n   9154,\n   9155,\n   9167,\n   9172,\n   9181,\n   9222,\n   9224,\n   9225,\n   9228,\n   9241,\n   9317,\n   9343,\n   9421,\n   9423,\n   9431,\n   9444,\n   9495,\n   9545,\n   9653,\n   9721,\n   9735,\n   9737,\n   9751,\n   9761,\n   9791,\n   9798,\n   9915,\n   9970],\n  [2014,\n   2015,\n   2016,\n   2021,\n   2023,\n   2038,\n   2049,\n   2071,\n   2072,\n   2074,\n   2084,\n   2089,\n   2094,\n   2095,\n   2098,\n   2111,\n   2113,\n   2114,\n   2116,\n   2118,\n   2132,\n   2133,\n   2134,\n   2162,\n   2170,\n   2173,\n   2182,\n   2191,\n   2192,\n   2193,\n   2194,\n   2209,\n   2213,\n   2217,\n   2241,\n   2243,\n   2244,\n   2252,\n   2253,\n   2254,\n   2314,\n   2317,\n   2318,\n   2319,\n   2335,\n   2336,\n   2337,\n   2340,\n   2344,\n   2347,\n   2351,\n   2363,\n   2364,\n   2365,\n   2366,\n   2367,\n   2370,\n   2371,\n   2373,\n   2376,\n   2377,\n   2381,\n   2461,\n   2612,\n   2621,\n   2626,\n   2628,\n   2711,\n   2713,\n   2723,\n   2735,\n   2737,\n   2746,\n   2747,\n   2764,\n   2765,\n   2766,\n   2767,\n   2768,\n   2769,\n   3508,\n   3516,\n   3518,\n   3519,\n   3525,\n   3528,\n   3530,\n   3531,\n   3532,\n   3534,\n   3535,\n   4024,\n   4025,\n   4026,\n   4027,\n   4028,\n   4029,\n   6710,\n   6720,\n   6721,\n   6722,\n   6727,\n   6729,\n   6750,\n   6757,\n   7621,\n   7622,\n   7623,\n   7624,\n   7625,\n   7626,\n   7628,\n   7629,\n   7631,\n   7633,\n   7635,\n   7636,\n   7691,\n   7693,\n   9022,\n   9026,\n   9029,\n   9030],\n  [1011,\n   1012,\n   1013,\n   1013,\n   1014,\n   1015,\n   1016,\n   1016,\n   1021,\n   1022,\n   1024,\n   1029,\n   1032,\n   1034,\n   1035,\n   1036,\n   1041,\n   1042,\n   1043,\n   1047,\n   1051,\n   1052,\n   1054,\n   1055,\n   1056,\n   1061,\n   1064,\n   1066,\n   1067,\n   1068,\n   1071,\n   1072,\n   1073,\n   1074,\n   1075,\n   1076,\n   1077,\n   1078,\n   1082,\n   1083,\n   1084,\n   1085,\n   1086,\n   1088,\n   1091,\n   1092,\n   1094,\n   1095,\n   1096,\n   1098,\n   1101,\n   1102,\n   1104,\n   1105,\n   1111,\n   1113,\n   1114,\n   1115,\n   1122,\n   1123,\n   1126,\n   1132,\n   1143,\n   1144,\n   1148,\n   1153,\n   1153,\n   1154,\n   1154,\n   1155,\n   1155,\n   1156,\n   1156,\n   1157,\n   1157,\n   1184,\n   1186,\n   1191,\n   1193,\n   1195,\n   1205,\n   1215,\n   1224,\n   1224,\n   1237,\n   1239,\n   2096,\n   2097,\n   2141,\n   2142,\n   2144,\n   2146,\n   2233]],\n [[2451,\n   2462,\n   2481,\n   2483,\n   2484,\n   2490,\n   5500,\n   5502,\n   5510,\n   5520,\n   5525,\n   5661,\n   5800,\n   5830,\n   5940,\n   7000,\n   7003,\n   8083,\n   8130,\n   8154],\n  [2066,\n   2424,\n   2457,\n   2459,\n   2463,\n   2476,\n   3060,\n   3070,\n   3170,\n   5052,\n   5085,\n   5123,\n   5130,\n   5137,\n   5231,\n   5420,\n   5435,\n   5440,\n   5516,\n   5527,\n   5534,\n   5553,\n   5622,\n   5667,\n   5711,\n   5726,\n   5742,\n   5820,\n   5920,\n   5946,\n   5948,\n   6503,\n   7017,\n   7020,\n   7090,\n   7130,\n   7131,\n   7140,\n   7355,\n   7530,\n   7761,\n   7773,\n   7800,\n   7815,\n   7900,\n   7940,\n   8043,\n   8052,\n   8081,\n   8124,\n   8127,\n   8135,\n   8136,\n   8623,\n   8630,\n   8640,\n   8790,\n   8960,\n   9545,\n   9970],\n  [2065,\n   2067,\n   2091,\n   2421,\n   2422,\n   2426,\n   2431,\n   2433,\n   2454,\n   2458,\n   2465,\n   2471,\n   2473,\n   2475,\n   2651,\n   2687,\n   3021,\n   3047,\n   3063,\n   3121,\n   3250,\n   3390,\n   4025,\n   4026,\n   4027,\n   4028,\n   4029,\n   4233,\n   4326,\n   4355,\n   4450,\n   4461,\n   4484,\n   4485,\n   4501,\n   4564,\n   4765,\n   4800,\n   4900,\n   5055,\n   5071,\n   5122,\n   5142,\n   5211,\n   5241,\n   5321,\n   5322,\n   5331,\n   5465,\n   5561,\n   5624,\n   5662,\n   5712,\n   5741,\n   5746,\n   5931,\n   5932,\n   6041,\n   6070,\n   6080,\n   6090,\n   6120,\n   6230,\n   6237,\n   6320,\n   6430,\n   6440,\n   6449,\n   7013,\n   7054,\n   7056,\n   7081,\n   7084,\n   7132,\n   7143,\n   7173,\n   7261,\n   7349,\n   7370,\n   7516,\n   7561,\n   7562,\n   7695,\n   7696,\n   7720,\n   7741,\n   7754,\n   7759,\n   7763,\n   7811,\n   7827,\n   7831,\n   7838,\n   7960,\n   8056,\n   8066,\n   8093,\n   8095,\n   8111,\n   8125,\n   8132,\n   8142,\n   8143,\n   8151,\n   8156,\n   8380,\n   8621,\n   8638,\n   8653,\n   8660,\n   8693,\n   8713,\n   8719,\n   8840,\n   8866,\n   8868,\n   8992,\n   8999,\n   9653,\n   9735,\n   9737,\n   9751,\n   9791,\n   9915],\n  [2643,\n   2659,\n   3015,\n   3032,\n   3035,\n   3036,\n   3182,\n   3246,\n   3261,\n   3346,\n   3351,\n   3356,\n   3372,\n   3384,\n   3385,\n   3396,\n   3397,\n   3432,\n   3433,\n   3450,\n   3561,\n   3571,\n   3630,\n   3733,\n   3780,\n   3800,\n   3860,\n   3895,\n   3900,\n   4311,\n   4335,\n   4352,\n   4356,\n   4363,\n   4371,\n   4374,\n   4405,\n   4434,\n   4455,\n   4465,\n   4483,\n   4492,\n   4495,\n   4516,\n   4524,\n   4544,\n   4551,\n   4553,\n   4561,\n   4562,\n   4625,\n   4644,\n   4762,\n   4823,\n   5051,\n   5054,\n   5081,\n   5083,\n   5091,\n   5121,\n   5136,\n   5143,\n   5235,\n   5451,\n   5462,\n   6032,\n   6033,\n   6066,\n   6085,\n   6087,\n   6131,\n   6133,\n   6239,\n   6344,\n   6351,\n   6421,\n   6422,\n   6522,\n   6527,\n   6630,\n   6760,\n   6762,\n   6782,\n   7025,\n   7044,\n   7095,\n   7133,\n   7144,\n   7191,\n   7694,\n   8315,\n   8372,\n   8651,\n   9241,\n   9721,\n   9761,\n   9798],\n  [2534,\n   2536,\n   2541,\n   2870,\n   2900,\n   2903,\n   2921,\n   2941,\n   3013,\n   3014,\n   3016,\n   3023,\n   3212,\n   3214,\n   3231,\n   3245,\n   3281,\n   3292,\n   3324,\n   3326,\n   3350,\n   3358,\n   3388,\n   3399,\n   3418,\n   3508,\n   3516,\n   3518,\n   3519,\n   3525,\n   3528,\n   3530,\n   3531,\n   3532,\n   3534,\n   3535,\n   3551,\n   3553,\n   3555,\n   3562,\n   3565,\n   3599,\n   3671,\n   3712,\n   3713,\n   3752,\n   3792,\n   3794,\n   3903,\n   3909,\n   3910,\n   3931,\n   3963,\n   3971,\n   3973,\n   3974,\n   4231,\n   4234,\n   4324,\n   4334,\n   4361,\n   4372,\n   4456,\n   4464,\n   4482,\n   4511,\n   4523,\n   4531,\n   4552,\n   4555,\n   4558,\n   4621,\n   4623,\n   4642,\n   4722,\n   4731,\n   4751,\n   4761,\n   4821,\n   6034,\n   6035,\n   6065,\n   6077,\n   6078,\n   6086,\n   6098,\n   6114,\n   6221,\n   6326,\n   6328,\n   6346,\n   6347,\n   6353,\n   6423,\n   6453,\n   6456,\n   6521,\n   6750,\n   6763,\n   6781,\n   6786,\n   6793,\n   6821,\n   6913,\n   6921,\n   9022,\n   9026,\n   9029,\n   9030,\n   9073,\n   9081,\n   9090,\n   9100,\n   9155,\n   9167,\n   9181,\n   9224,\n   9225,\n   9317,\n   9343,\n   9421,\n   9423,\n   9431,\n   9444,\n   9495],\n  [2509,\n   2896,\n   2899,\n   2911,\n   2943,\n   3434,\n   3458,\n   3564,\n   3572,\n   3574,\n   3663,\n   3711,\n   3715,\n   3718,\n   3720,\n   3744,\n   3849,\n   3915,\n   3922,\n   3925,\n   4087,\n   4090,\n   4130,\n   4138,\n   4181,\n   4183,\n   4243,\n   4254,\n   4281,\n   4287,\n   6622,\n   6635,\n   6647,\n   6710,\n   6720,\n   6721,\n   6722,\n   6727,\n   6729,\n   6757,\n   6758,\n   6764,\n   6772,\n   6775,\n   6783,\n   6787,\n   6792,\n   6794,\n   6795,\n   6922,\n   6931,\n   7451,\n   7621,\n   7622,\n   7623,\n   7624,\n   7625,\n   7626,\n   7628,\n   7629,\n   7631,\n   7633,\n   7635,\n   7636,\n   7691,\n   7693,\n   9071,\n   9082,\n   9086,\n   9099,\n   9121,\n   9142,\n   9144,\n   9151,\n   9153,\n   9154,\n   9172,\n   9222,\n   9228],\n  [1051,\n   1052,\n   1054,\n   1055,\n   1056,\n   1071,\n   1072,\n   1073,\n   1074,\n   1075,\n   1076,\n   1077,\n   1078,\n   2049,\n   2072,\n   2144,\n   2162,\n   2170,\n   2194,\n   2213,\n   2241,\n   2314,\n   2336,\n   2364,\n   2370,\n   2371,\n   2373,\n   2377,\n   2517,\n   2519,\n   2521,\n   2523,\n   2531,\n   2532,\n   2626,\n   2766,\n   2831,\n   2836,\n   2837,\n   2851,\n   2898,\n   2942,\n   4066,\n   4069,\n   4075,\n   4110,\n   4133,\n   4145,\n   4173,\n   4263,\n   4271,\n   4272,\n   4274,\n   4275],\n  [1011,\n   1012,\n   1013,\n   1013,\n   1014,\n   1015,\n   1016,\n   1016,\n   1184,\n   1186,\n   1205,\n   1224,\n   1224,\n   2021,\n   2071,\n   2074,\n   2094,\n   2096,\n   2098,\n   2111,\n   2113,\n   2132,\n   2141,\n   2142,\n   2146,\n   2173,\n   2182,\n   2254,\n   2318,\n   2319,\n   2335,\n   2337,\n   2340,\n   2344,\n   2347,\n   2351,\n   2367,\n   2461,\n   2612,\n   2628,\n   2711,\n   4064,\n   4125,\n   4161,\n   4171,\n   4172,\n   4177,\n   4211,\n   4212,\n   4241,\n   4262,\n   4264,\n   4286],\n  [1082,\n   1083,\n   1084,\n   1085,\n   1086,\n   1088,\n   1122,\n   1123,\n   1126,\n   1143,\n   1144,\n   1148,\n   1153,\n   1153,\n   1154,\n   1154,\n   1155,\n   1155,\n   1156,\n   1156,\n   1157,\n   1157,\n   1237,\n   1239,\n   2014,\n   2015,\n   2016,\n   2023,\n   2038,\n   2084,\n   2089,\n   2095,\n   2097,\n   2114,\n   2116,\n   2118,\n   2133,\n   2134,\n   2191,\n   2192,\n   2193,\n   2209,\n   2217,\n   2233,\n   2243,\n   2244,\n   2252,\n   2253,\n   2317,\n   2363,\n   2365,\n   2366,\n   2376,\n   2381,\n   2621,\n   2713,\n   2723,\n   2735,\n   2737,\n   2746,\n   2747,\n   2764,\n   2765,\n   2767,\n   2768,\n   2769],\n  [1021,\n   1022,\n   1024,\n   1029,\n   1032,\n   1034,\n   1035,\n   1036,\n   1041,\n   1042,\n   1043,\n   1047,\n   1061,\n   1064,\n   1066,\n   1067,\n   1068,\n   1091,\n   1092,\n   1094,\n   1095,\n   1096,\n   1098,\n   1101,\n   1102,\n   1104,\n   1105,\n   1111,\n   1113,\n   1114,\n   1115,\n   1132,\n   1191,\n   1193,\n   1195,\n   1215]],\n [[3013,\n   3014,\n   3015,\n   3016,\n   3021,\n   3023,\n   3032,\n   3035,\n   3036,\n   3212,\n   3214,\n   3231,\n   3245,\n   3246,\n   3250,\n   3261,\n   3281,\n   3292,\n   3324,\n   3326,\n   3346,\n   3350,\n   3351,\n   3356,\n   3358,\n   3372,\n   3384,\n   3385,\n   3388,\n   3390,\n   3396,\n   3397,\n   3399],\n  [6622,\n   6630,\n   6635,\n   6647,\n   6710,\n   6750,\n   6757,\n   6758,\n   6760,\n   6762,\n   6763,\n   6764,\n   6772,\n   6775,\n   6781,\n   6782,\n   6783,\n   6786,\n   6787,\n   6792,\n   6793,\n   6794,\n   6795,\n   6821,\n   6913,\n   6921,\n   6922,\n   6931],\n  [3418,\n   3432,\n   3433,\n   3434,\n   3450,\n   3458,\n   3508,\n   3516,\n   3518,\n   3519,\n   3551,\n   3553,\n   3555,\n   3561,\n   3562,\n   3564,\n   3565,\n   3571,\n   3572,\n   3574,\n   3599,\n   3630,\n   3663,\n   3671,\n   3711,\n   3712,\n   3713,\n   3715,\n   3718,\n   3720,\n   3733,\n   3744,\n   3752,\n   3780,\n   3792,\n   3794,\n   3800,\n   3849,\n   3860,\n   3881,\n   3895,\n   3900,\n   3903,\n   3909,\n   3910,\n   3915,\n   3922,\n   3925,\n   3931,\n   3963,\n   3971,\n   3973,\n   3974],\n  [2067,\n   2509,\n   2517,\n   2519,\n   2521,\n   2523,\n   2531,\n   2532,\n   2534,\n   2536,\n   2541,\n   2831,\n   2836,\n   2837,\n   2851,\n   2870,\n   2896,\n   2898,\n   2899,\n   2900,\n   2903,\n   2911,\n   2921,\n   2941,\n   2942,\n   2943],\n  [6032,\n   6033,\n   6034,\n   6035,\n   6041,\n   6065,\n   6066,\n   6070,\n   6077,\n   6078,\n   6080,\n   6085,\n   6086,\n   6087,\n   6090,\n   6098,\n   6114,\n   6120,\n   6131,\n   6133,\n   6221,\n   6230,\n   6237,\n   6239,\n   6320,\n   6326,\n   6328,\n   6344,\n   6346,\n   6347,\n   6351,\n   6353,\n   6421,\n   6422,\n   6423,\n   6430,\n   6440,\n   6449,\n   6453,\n   6456,\n   6503,\n   6521,\n   6522,\n   6527],\n  [2065,\n   2066,\n   2091,\n   2421,\n   2422,\n   2424,\n   2426,\n   2431,\n   2433,\n   2451,\n   2454,\n   2457,\n   2458,\n   2459,\n   2462,\n   2463,\n   2465,\n   2471,\n   2473,\n   2475,\n   2476,\n   2481,\n   2483,\n   2484,\n   2490,\n   2643,\n   2651,\n   2659,\n   2687,\n   3047,\n   3060,\n   3063,\n   3070,\n   3121,\n   3170,\n   3182,\n   4064,\n   4066,\n   4069,\n   4075,\n   4087,\n   4090,\n   4110,\n   4125,\n   4130,\n   4133,\n   4138,\n   4145,\n   4161,\n   4171,\n   4172,\n   4173,\n   4177,\n   4181,\n   4183,\n   4211,\n   4212,\n   4231,\n   4233,\n   4234,\n   4241,\n   4243,\n   4254,\n   4262,\n   4263,\n   4264,\n   4271,\n   4272,\n   4274,\n   4275,\n   4281,\n   4286,\n   4287,\n   4311,\n   4324,\n   4326,\n   4334,\n   4335,\n   4352,\n   4355,\n   4356,\n   4361,\n   4363,\n   4371,\n   4372,\n   4374,\n   4405,\n   4434,\n   4450,\n   4455,\n   4456,\n   4461,\n   4464,\n   4465,\n   4482,\n   4483,\n   4484,\n   4485,\n   4492,\n   4495,\n   4501,\n   4511,\n   4516,\n   4523,\n   4524,\n   4531,\n   4544,\n   4551,\n   4552,\n   4553,\n   4555,\n   4558,\n   4561,\n   4562,\n   4564,\n   4621,\n   4623,\n   4625,\n   4642,\n   4644,\n   4722,\n   4731,\n   4751,\n   4761,\n   4762,\n   4765,\n   4800,\n   4821,\n   4823,\n   4900,\n   5051,\n   5052,\n   5054,\n   5055,\n   5071,\n   5081,\n   5083,\n   5085,\n   5091,\n   5121,\n   5122,\n   5123,\n   5130,\n   5136,\n   5137,\n   5142,\n   5143,\n   5211,\n   5231,\n   5235,\n   5241,\n   5321,\n   5322,\n   5331,\n   5420,\n   5435,\n   5440,\n   5451,\n   5462,\n   5465,\n   5500,\n   5502,\n   5510,\n   5516,\n   5520,\n   5525,\n   5527,\n   5534,\n   5553,\n   5561,\n   5622,\n   5624,\n   5661,\n   5662,\n   5667,\n   5711,\n   5712,\n   5726,\n   5741,\n   5742,\n   5746,\n   5800,\n   5820,\n   5830,\n   5920,\n   5931,\n   5932,\n   5940,\n   5946,\n   5948,\n   7000,\n   7003,\n   7013,\n   7017,\n   7020,\n   7025,\n   7044,\n   7054,\n   7056,\n   7081,\n   7084,\n   7090,\n   7095,\n   7130,\n   7131,\n   7132,\n   7133,\n   7140,\n   7143,\n   7144,\n   7173,\n   7191,\n   7261,\n   7349,\n   7355,\n   7370,\n   7516,\n   7530,\n   7561,\n   7562,\n   7691,\n   7693,\n   7694,\n   7695,\n   7696,\n   7720,\n   7741,\n   7754,\n   7759,\n   7761,\n   7763,\n   7773,\n   7800,\n   7811,\n   7815,\n   7827,\n   7831,\n   7900,\n   7940,\n   7960,\n   8043,\n   8052,\n   8053,\n   8056,\n   8066,\n   8081,\n   8083,\n   8093,\n   8095,\n   8111,\n   8124,\n   8125,\n   8127,\n   8130,\n   8132,\n   8135,\n   8136,\n   8142,\n   8143,\n   8151,\n   8154,\n   8156,\n   8315,\n   8372,\n   8380,\n   8621,\n   8623,\n   8630,\n   8638,\n   8640,\n   8651,\n   8653,\n   8693,\n   8713,\n   8719,\n   8790,\n   8840,\n   8866,\n   8868,\n   8960,\n   8992,\n   8999,\n   9071,\n   9073,\n   9081,\n   9082,\n   9086,\n   9090,\n   9099,\n   9100,\n   9121,\n   9142,\n   9144,\n   9151,\n   9153,\n   9154,\n   9155,\n   9167,\n   9172,\n   9181,\n   9222,\n   9224,\n   9225,\n   9228,\n   9241,\n   9317,\n   9343,\n   9421,\n   9423,\n   9431,\n   9444,\n   9495,\n   9545,\n   9653,\n   9721,\n   9735,\n   9737,\n   9751,\n   9761,\n   9791,\n   9798,\n   9915,\n   9970],\n  [2711,\n   2713,\n   2723,\n   2735,\n   2737,\n   2746,\n   2747,\n   2764,\n   2765,\n   2766,\n   2767,\n   2768,\n   2769,\n   3525,\n   3528,\n   3530,\n   3531,\n   3532,\n   3534,\n   3535,\n   4024,\n   4025,\n   4026,\n   4027,\n   4028,\n   4029,\n   6720,\n   6721,\n   6722,\n   6727,\n   6729,\n   7451,\n   7621,\n   7622,\n   7623,\n   7624,\n   7625,\n   7626,\n   7628,\n   7629,\n   7631,\n   7633,\n   7635,\n   7636,\n   9022,\n   9026,\n   9029,\n   9030],\n  [2014,\n   2015,\n   2016,\n   2021,\n   2023,\n   2038,\n   2049,\n   2071,\n   2072,\n   2074,\n   2084,\n   2089,\n   2094,\n   2095,\n   2096,\n   2097,\n   2098,\n   2111,\n   2113,\n   2114,\n   2116,\n   2118,\n   2132,\n   2133,\n   2134,\n   2141,\n   2142,\n   2144,\n   2146,\n   2162,\n   2170,\n   2173,\n   2182,\n   2191,\n   2192,\n   2193,\n   2194,\n   2209,\n   2213,\n   2217,\n   2233,\n   2241,\n   2243,\n   2244,\n   2252,\n   2253,\n   2254,\n   2314,\n   2317,\n   2318,\n   2319,\n   2335,\n   2336,\n   2337,\n   2340,\n   2344,\n   2347,\n   2351,\n   2363,\n   2364,\n   2365,\n   2366,\n   2367,\n   2370,\n   2371,\n   2373,\n   2376,\n   2377,\n   2381,\n   2461,\n   2612,\n   2621,\n   2626,\n   2628],\n  [1011,\n   1012,\n   1013,\n   1013,\n   1014,\n   1015,\n   1016,\n   1016,\n   1021,\n   1022,\n   1024,\n   1029,\n   1032,\n   1034,\n   1035,\n   1036,\n   1041,\n   1042,\n   1043,\n   1047,\n   1051,\n   1052,\n   1054,\n   1055,\n   1056,\n   1061,\n   1064,\n   1066,\n   1067,\n   1068,\n   1071,\n   1072,\n   1073,\n   1074,\n   1075,\n   1076,\n   1077,\n   1078,\n   1082,\n   1083,\n   1084,\n   1085,\n   1086,\n   1088,\n   1091,\n   1092,\n   1094,\n   1095,\n   1096,\n   1098,\n   1101,\n   1102,\n   1104,\n   1105,\n   1111,\n   1113,\n   1114,\n   1115,\n   1122,\n   1123,\n   1126,\n   1132,\n   1143,\n   1144,\n   1148,\n   1153,\n   1153,\n   1154,\n   1154,\n   1155,\n   1155,\n   1156,\n   1156,\n   1157,\n   1157,\n   1184,\n   1186,\n   1191,\n   1193,\n   1195,\n   1205,\n   1215,\n   1224,\n   1224,\n   1237,\n   1239]],\n [[2072,\n   2074,\n   2213,\n   2317,\n   2319,\n   2370,\n   2371,\n   2373,\n   2643,\n   2651,\n   2659,\n   2687,\n   2711,\n   2713,\n   2723,\n   2735,\n   2737,\n   2746,\n   2747,\n   2764,\n   2765,\n   2766,\n   2769,\n   3047,\n   3060,\n   3063,\n   3070,\n   3170,\n   3182,\n   6622,\n   6630,\n   6635,\n   6647,\n   6750,\n   6758,\n   6760,\n   6762,\n   6763,\n   6764,\n   6772,\n   6775,\n   6781,\n   6782,\n   6783,\n   6786,\n   6787,\n   6792,\n   6793,\n   6794,\n   6795,\n   6821,\n   6913,\n   6921,\n   6922,\n   6931],\n  [3418,\n   3432,\n   3433,\n   3434,\n   3450,\n   3458,\n   3551,\n   3553,\n   3555,\n   3561,\n   3562,\n   3564,\n   3565,\n   3571,\n   3572,\n   3574,\n   3599,\n   3630,\n   3663,\n   3671,\n   3711,\n   3712,\n   3713,\n   3715,\n   3718,\n   3720,\n   3733,\n   3744,\n   3752,\n   3780,\n   3792,\n   3794,\n   3800,\n   3849,\n   3860,\n   3881,\n   3895,\n   3900,\n   3903,\n   3909,\n   3910,\n   3915,\n   3922,\n   3925,\n   3931,\n   3963,\n   3971,\n   3973,\n   3974,\n   4064,\n   4066,\n   4069,\n   4075,\n   4087,\n   4090,\n   4110,\n   4125,\n   4130,\n   4133,\n   4138,\n   4145,\n   4161,\n   4171,\n   4172,\n   4173,\n   4177,\n   4181,\n   4183,\n   4211,\n   4212,\n   4231,\n   4233,\n   4234,\n   4241,\n   4243,\n   4254,\n   4262,\n   4263,\n   4264,\n   4271,\n   4272,\n   4274,\n   4275,\n   4281,\n   4286,\n   4287,\n   4311,\n   4324,\n   4326,\n   4334,\n   4335,\n   4352,\n   4355,\n   4356,\n   4361,\n   4363,\n   4371,\n   4372,\n   4374,\n   4405,\n   4434,\n   4450,\n   4455,\n   4456,\n   4461,\n   4464,\n   4465,\n   4482,\n   4483,\n   4484,\n   4485,\n   4492,\n   4495,\n   4501,\n   4511,\n   4516,\n   4523,\n   4524,\n   4531,\n   4544,\n   4551,\n   4552,\n   4553,\n   4555,\n   4558,\n   4561,\n   4562,\n   4564,\n   4621,\n   4623,\n   4625,\n   4642,\n   4644,\n   4722,\n   4731,\n   4751,\n   4761,\n   4762,\n   4765,\n   4800,\n   4821,\n   4823,\n   4900,\n   6032,\n   6033,\n   6034,\n   6035,\n   6041,\n   6065,\n   6066,\n   6070,\n   6077,\n   6078,\n   6080,\n   6085,\n   6086,\n   6087,\n   6090,\n   6098,\n   6114,\n   6120,\n   6131,\n   6133,\n   6221,\n   6230,\n   6237,\n   6239,\n   6320,\n   6326,\n   6328,\n   6344,\n   6346,\n   6347,\n   6351,\n   6353,\n   6421,\n   6422,\n   6423,\n   6430,\n   6440,\n   6449,\n   6453,\n   6456,\n   6503,\n   6521,\n   6522,\n   6527,\n   7261,\n   7516,\n   7530,\n   7561,\n   7562,\n   8315,\n   8372,\n   8380,\n   8621,\n   8623,\n   8630,\n   8638,\n   8640,\n   8651,\n   8653,\n   8660,\n   8693,\n   8713,\n   8719,\n   8790,\n   8840,\n   8866,\n   8868,\n   8960,\n   8992,\n   8999,\n   9545,\n   9653,\n   9721,\n   9735,\n   9737,\n   9751,\n   9761,\n   9791,\n   9798,\n   9915,\n   9970],\n  [2021,\n   2023,\n   2049,\n   2065,\n   2066,\n   2067,\n   2162,\n   2170,\n   2173,\n   2182,\n   2191,\n   2192,\n   2193,\n   2194,\n   2209,\n   2217,\n   2337,\n   2340,\n   2344,\n   2347,\n   2351,\n   2363,\n   2364,\n   2365,\n   2366,\n   2367,\n   2421,\n   2422,\n   2424,\n   2426,\n   2431,\n   2433,\n   2451,\n   2454,\n   2457,\n   2458,\n   2459,\n   2462,\n   2463,\n   2465,\n   2471,\n   2473,\n   2475,\n   2476,\n   2481,\n   2483,\n   2484,\n   2490,\n   2509,\n   2517,\n   2519,\n   2521,\n   2523,\n   2531,\n   2532,\n   2534,\n   2536,\n   2541,\n   2767,\n   2768,\n   2831,\n   2836,\n   2837,\n   2851,\n   2870,\n   2896,\n   2898,\n   2899,\n   2900,\n   2903,\n   2911,\n   2921,\n   2941,\n   2942,\n   2943,\n   3013,\n   3014,\n   3015,\n   3016,\n   3021,\n   3023,\n   3032,\n   3035,\n   3036,\n   3121,\n   3212,\n   3214,\n   3231,\n   3245,\n   3246,\n   3250,\n   3261,\n   3281,\n   3292,\n   3324,\n   3326,\n   3346,\n   3350,\n   3351,\n   3356,\n   3358,\n   3372,\n   3384,\n   3385,\n   3388,\n   3390,\n   3396,\n   3397,\n   3399,\n   3508,\n   3516,\n   3518,\n   3519,\n   3525,\n   3528,\n   3530,\n   3531,\n   3532,\n   3534,\n   3535,\n   4024,\n   4025,\n   4026,\n   4027,\n   4028,\n   4029,\n   5051,\n   5052,\n   5054,\n   5055,\n   5071,\n   5081,\n   5083,\n   5085,\n   5091,\n   5121,\n   5122,\n   5123,\n   5130,\n   5136,\n   5137,\n   5142,\n   5143,\n   5211,\n   5231,\n   5235,\n   5241,\n   5321,\n   5322,\n   5331,\n   5420,\n   5435,\n   5440,\n   5451,\n   5462,\n   5465,\n   5500,\n   5502,\n   5510,\n   5516,\n   5520,\n   5525,\n   5527,\n   5534,\n   5553,\n   5561,\n   5622,\n   5624,\n   5661,\n   5662,\n   5667,\n   5711,\n   5712,\n   5726,\n   5741,\n   5742,\n   5746,\n   5800,\n   5820,\n   5830,\n   5920,\n   5931,\n   5932,\n   5940,\n   5946,\n   5948,\n   6710,\n   6720,\n   6721,\n   6722,\n   6727,\n   6729,\n   6757,\n   7000,\n   7003,\n   7013,\n   7017,\n   7020,\n   7025,\n   7044,\n   7054,\n   7056,\n   7081,\n   7084,\n   7090,\n   7095,\n   7130,\n   7131,\n   7132,\n   7133,\n   7140,\n   7143,\n   7144,\n   7173,\n   7191,\n   7349,\n   7355,\n   7370,\n   7451,\n   7694,\n   7695,\n   7696,\n   7741,\n   7754,\n   7759,\n   7761,\n   7763,\n   7773,\n   7800,\n   7811,\n   7815,\n   7827,\n   7831,\n   7838,\n   7900,\n   7940,\n   7960,\n   8043,\n   8052,\n   8053,\n   8056,\n   8066,\n   8081,\n   8083,\n   8093,\n   8095,\n   8111,\n   8124,\n   8125,\n   8127,\n   8130,\n   8132,\n   8135,\n   8136,\n   8142,\n   8143,\n   8151,\n   8154,\n   8156,\n   9022,\n   9026,\n   9029,\n   9030,\n   9071,\n   9073,\n   9081,\n   9082,\n   9086,\n   9090,\n   9099,\n   9100,\n   9121,\n   9142,\n   9144,\n   9151,\n   9153,\n   9154,\n   9155,\n   9167,\n   9172,\n   9181,\n   9222,\n   9224,\n   9225,\n   9228,\n   9241,\n   9317,\n   9343,\n   9421,\n   9423,\n   9431,\n   9444,\n   9495],\n  [1051,\n   1052,\n   1054,\n   1055,\n   1056,\n   1153,\n   1153,\n   1154,\n   1154,\n   1155,\n   1155,\n   1156,\n   1156,\n   1157,\n   1157,\n   1224,\n   1224,\n   1237,\n   1239,\n   2038,\n   2071,\n   2084,\n   2089,\n   2091,\n   2094,\n   2095,\n   2097,\n   2098,\n   2111,\n   2113,\n   2114,\n   2116,\n   2118,\n   2141,\n   2142,\n   2144,\n   2146,\n   2233,\n   2241,\n   2243,\n   2244,\n   2252,\n   2253,\n   2254,\n   2314,\n   2318,\n   2335,\n   2336,\n   2461,\n   2621,\n   7621,\n   7622,\n   7623,\n   7624,\n   7625,\n   7626,\n   7628,\n   7629,\n   7631,\n   7633,\n   7635,\n   7636,\n   7691,\n   7693,\n   7720],\n  [1021,\n   1022,\n   1024,\n   1029,\n   1041,\n   1042,\n   1043,\n   1047,\n   1071,\n   1072,\n   1073,\n   1074,\n   1075,\n   1076,\n   1077,\n   1078,\n   1082,\n   1083,\n   1084,\n   1085,\n   1086,\n   1088,\n   1101,\n   1102,\n   1104,\n   1105,\n   1122,\n   1123,\n   1126,\n   1143,\n   1144,\n   1148,\n   1184,\n   1186,\n   1191,\n   1193,\n   1195,\n   1205,\n   1215,\n   2014,\n   2015,\n   2016,\n   2096,\n   2612,\n   2626,\n   2628],\n  [1011,\n   1012,\n   1013,\n   1013,\n   1014,\n   1015,\n   1016,\n   1016,\n   1032,\n   1034,\n   1035,\n   1036,\n   1061,\n   1064,\n   1066,\n   1067,\n   1068,\n   1091,\n   1092,\n   1094,\n   1095,\n   1096,\n   1098,\n   1111,\n   1113,\n   1114,\n   1115,\n   1132,\n   2132,\n   2133,\n   2134,\n   2376,\n   2377,\n   2381]],\n [[2014,\n   2015,\n   2016,\n   2021,\n   2023,\n   2038,\n   2065,\n   2066,\n   2067,\n   2071,\n   2072,\n   2074,\n   2089,\n   2091,\n   2095,\n   2096,\n   2098,\n   2113,\n   2114,\n   2116,\n   2118,\n   2132,\n   2133,\n   2134,\n   2144,\n   2162,\n   2170,\n   2173,\n   2182,\n   2191,\n   2192,\n   2193,\n   2194,\n   2209,\n   2213,\n   2217,\n   2241,\n   2243,\n   2244,\n   2252,\n   2253,\n   2254,\n   2317,\n   2318,\n   2319,\n   2335,\n   2337,\n   2340,\n   2344,\n   2347,\n   2351,\n   2363,\n   2364,\n   2365,\n   2366,\n   2367,\n   2370,\n   2371,\n   2373,\n   2376,\n   2377,\n   2381,\n   2421,\n   2422,\n   2424,\n   2426,\n   2431,\n   2433,\n   2451,\n   2454,\n   2457,\n   2458,\n   2459,\n   2461,\n   2462,\n   2463,\n   2465,\n   2471,\n   2473,\n   2475,\n   2476,\n   2481,\n   2483,\n   2484,\n   2490,\n   2509,\n   2517,\n   2519,\n   2521,\n   2523,\n   2532,\n   2534,\n   2536,\n   2541,\n   2612,\n   2621,\n   2626,\n   2628,\n   2643,\n   2651,\n   2659,\n   2687,\n   2711,\n   2713,\n   2723,\n   2735,\n   2737,\n   2746,\n   2747,\n   2764,\n   2765,\n   2766,\n   2767,\n   2768,\n   2769,\n   2831,\n   2836,\n   2837,\n   2851,\n   2870,\n   2896,\n   2898,\n   2899,\n   2900,\n   2903,\n   2911,\n   2921,\n   2941,\n   2942,\n   2943,\n   3013,\n   3014,\n   3015,\n   3016,\n   3021,\n   3023,\n   3032,\n   3035,\n   3036,\n   3047,\n   3060,\n   3063,\n   3070,\n   3121,\n   3170,\n   3182,\n   3212,\n   3214,\n   3231,\n   3245,\n   3246,\n   3250,\n   3261,\n   3281,\n   3292,\n   3324,\n   3326,\n   3346,\n   3350,\n   3351,\n   3356,\n   3358,\n   3372,\n   3384,\n   3385,\n   3388,\n   3390,\n   3396,\n   3397,\n   3399,\n   3418,\n   3432,\n   3433,\n   3434,\n   3450,\n   3458,\n   3551,\n   3553,\n   3555,\n   3561,\n   3562,\n   3564,\n   3565,\n   3571,\n   3572,\n   3574,\n   3599,\n   3630,\n   3663,\n   3671,\n   3711,\n   3712,\n   3713,\n   3715,\n   3718,\n   3720,\n   3733,\n   3744,\n   3752,\n   3780,\n   3792,\n   3794,\n   3800,\n   3849,\n   3860,\n   3881,\n   3895,\n   3900,\n   3903,\n   3909,\n   3910,\n   3915,\n   3922,\n   3925,\n   3931,\n   3963,\n   3971,\n   3973,\n   3974,\n   4064,\n   4066,\n   4069,\n   4075,\n   4087,\n   4090,\n   4110,\n   4125,\n   4130,\n   4133,\n   4138,\n   4145,\n   4161,\n   4171,\n   4172,\n   4173,\n   4177,\n   4181,\n   4183,\n   4211,\n   4212,\n   4231,\n   4233,\n   4234,\n   4241,\n   4243,\n   4254,\n   4262,\n   4263,\n   4264,\n   4271,\n   4272,\n   4274,\n   4275,\n   4281,\n   4286,\n   4287,\n   4311,\n   4324,\n   4326,\n   4334,\n   4335,\n   4352,\n   4355,\n   4356,\n   4361,\n   4363,\n   4371,\n   4372,\n   4374,\n   4434,\n   4450,\n   4455,\n   4456,\n   4461,\n   4464,\n   4465,\n   4482,\n   4483,\n   4484,\n   4485,\n   4492,\n   4495,\n   4501,\n   4511,\n   4516,\n   4523,\n   4524,\n   4531,\n   4544,\n   4552,\n   4553,\n   4555,\n   4558,\n   4561,\n   4562,\n   4564,\n   4621,\n   4623,\n   4625,\n   4642,\n   4644,\n   4722,\n   4731,\n   4751,\n   4761,\n   4762,\n   4765,\n   4800,\n   4821,\n   4823,\n   4900,\n   5051,\n   5052,\n   5054,\n   5055,\n   5071,\n   5081,\n   5083,\n   5085,\n   5091,\n   5121,\n   5122,\n   5123,\n   5130,\n   5136,\n   5137,\n   5142,\n   5143,\n   5211,\n   5235,\n   5241,\n   5321,\n   5322,\n   5331,\n   5420,\n   5435,\n   5440,\n   5451,\n   5462,\n   5465,\n   5500,\n   5502,\n   5510,\n   5516,\n   5520,\n   5525,\n   5527,\n   5534,\n   5553,\n   5561,\n   5622,\n   5624,\n   5661,\n   5662,\n   5667,\n   5711,\n   5712,\n   5726,\n   5741,\n   5742,\n   5746,\n   5800,\n   5820,\n   5830,\n   5920,\n   5931,\n   5932,\n   5940,\n   5946,\n   5948,\n   6032,\n   6033,\n   6034,\n   6035,\n   6041,\n   6065,\n   6066,\n   6070,\n   6077,\n   6078,\n   6080,\n   6085,\n   6086,\n   6087,\n   6098,\n   6114,\n   6120,\n   6131,\n   6133,\n   6221,\n   6230,\n   6237,\n   6239,\n   6320,\n   6326,\n   6328,\n   6344,\n   6346,\n   6347,\n   6351,\n   6353,\n   6421,\n   6422,\n   6423,\n   6430,\n   6440,\n   6449,\n   6453,\n   6456,\n   6503,\n   6521,\n   6522,\n   6527,\n   6622,\n   6630,\n   6635,\n   6647,\n   6750,\n   6758,\n   6760,\n   6762,\n   6763,\n   6764,\n   6772,\n   6775,\n   6782,\n   6783,\n   6786,\n   6787,\n   6792,\n   6793,\n   6794,\n   6795,\n   6821,\n   6913,\n   6921,\n   6922,\n   6931,\n   7000,\n   7003,\n   7013,\n   7017,\n   7020,\n   7025,\n   7044,\n   7054,\n   7056,\n   7081,\n   7084,\n   7090,\n   7095,\n   7130,\n   7131,\n   7132,\n   7133,\n   7140,\n   7143,\n   7144,\n   7173,\n   7191,\n   7261,\n   7349,\n   7355,\n   7370,\n   7451,\n   7516,\n   7530,\n   7561,\n   7562,\n   7693,\n   7694,\n   7695,\n   7696,\n   7720,\n   7741,\n   7754,\n   7759,\n   7761,\n   7763,\n   7773,\n   7800,\n   7811,\n   7815,\n   7827,\n   7831,\n   7838,\n   7900,\n   7940,\n   7960,\n   8043,\n   8052,\n   8053,\n   8056,\n   8066,\n   8081,\n   8083,\n   8093,\n   8095,\n   8111,\n   8124,\n   8125,\n   8127,\n   8130,\n   8132,\n   8135,\n   8136,\n   8142,\n   8143,\n   8151,\n   8154,\n   8156,\n   8315,\n   8372,\n   8380,\n   8621,\n   8623,\n   8630,\n   8638,\n   8640,\n   8651,\n   8653,\n   8660,\n   8693,\n   8713,\n   8719,\n   8790,\n   8840,\n   8866,\n   8868,\n   8960,\n   8992,\n   8999,\n   9071,\n   9073,\n   9081,\n   9082,\n   9086,\n   9090,\n   9099,\n   9100,\n   9121,\n   9142,\n   9144,\n   9151,\n   9153,\n   9154,\n   9155,\n   9167,\n   9172,\n   9181,\n   9222,\n   9224,\n   9225,\n   9228,\n   9241,\n   9317,\n   9343,\n   9421,\n   9423,\n   9431,\n   9444,\n   9495,\n   9545,\n   9653,\n   9721,\n   9735,\n   9737,\n   9751,\n   9761,\n   9791,\n   9798,\n   9915,\n   9970],\n  [2049,\n   2084,\n   2094,\n   2097,\n   2111,\n   2141,\n   2142,\n   2146,\n   2233,\n   2314,\n   2336,\n   3508,\n   3516,\n   3518,\n   3519,\n   3525,\n   3528,\n   3530,\n   3531,\n   3532,\n   3534,\n   3535,\n   4024,\n   4025,\n   4026,\n   4027,\n   4028,\n   4029,\n   4405,\n   4551,\n   6710,\n   6720,\n   6721,\n   6722,\n   6727,\n   6729,\n   6757,\n   6781,\n   7621,\n   7622,\n   7623,\n   7624,\n   7625,\n   7626,\n   7628,\n   7629,\n   7631,\n   7633,\n   7635,\n   7636,\n   7691,\n   9022,\n   9026,\n   9029,\n   9030],\n  [1011,\n   1012,\n   1013,\n   1013,\n   1014,\n   1015,\n   1016,\n   1016,\n   1021,\n   1022,\n   1024,\n   1029,\n   1032,\n   1034,\n   1035,\n   1036,\n   1041,\n   1042,\n   1043,\n   1047,\n   1051,\n   1052,\n   1054,\n   1055,\n   1056,\n   1061,\n   1064,\n   1066,\n   1067,\n   1068,\n   1071,\n   1072,\n   1073,\n   1074,\n   1075,\n   1076,\n   1077,\n   1078,\n   1082,\n   1083,\n   1084,\n   1085,\n   1086,\n   1088,\n   1091,\n   1092,\n   1094,\n   1095,\n   1096,\n   1098,\n   1101,\n   1102,\n   1104,\n   1105,\n   1111,\n   1113,\n   1114,\n   1115,\n   1122,\n   1123,\n   1126,\n   1143,\n   1144,\n   1148,\n   1153,\n   1153,\n   1154,\n   1154,\n   1155,\n   1155,\n   1156,\n   1156,\n   1157,\n   1157,\n   1184,\n   1186,\n   1191,\n   1193,\n   1195,\n   1205,\n   1215,\n   1224,\n   1224,\n   1237,\n   1239]],\n [[2016,\n   2021,\n   2023,\n   2038,\n   2065,\n   2066,\n   2067,\n   2072,\n   2074,\n   2091,\n   2095,\n   2097,\n   2098,\n   2113,\n   2114,\n   2116,\n   2118,\n   2133,\n   2134,\n   2162,\n   2170,\n   2173,\n   2182,\n   2191,\n   2192,\n   2193,\n   2194,\n   2209,\n   2213,\n   2217,\n   2241,\n   2243,\n   2244,\n   2252,\n   2253,\n   2254,\n   2317,\n   2318,\n   2319,\n   2336,\n   2337,\n   2340,\n   2344,\n   2347,\n   2351,\n   2363,\n   2364,\n   2365,\n   2366,\n   2367,\n   2370,\n   2371,\n   2373,\n   2376,\n   2377,\n   2381,\n   2421,\n   2422,\n   2424,\n   2426,\n   2431,\n   2433,\n   2451,\n   2454,\n   2457,\n   2458,\n   2459,\n   2462,\n   2463,\n   2465,\n   2471,\n   2473,\n   2475,\n   2476,\n   2481,\n   2483,\n   2484,\n   2490,\n   2509,\n   2517,\n   2519,\n   2521,\n   2523,\n   2531,\n   2532,\n   2534,\n   2536,\n   2541,\n   2612,\n   2621,\n   2626,\n   2628,\n   2643,\n   2651,\n   2659,\n   2687,\n   2711,\n   2713,\n   2723,\n   2735,\n   2737,\n   2746,\n   2747,\n   2764,\n   2765,\n   2766,\n   2767,\n   2768,\n   2769,\n   2831,\n   2836,\n   2837,\n   2851,\n   2870,\n   2896,\n   2898,\n   2899,\n   2900,\n   2903,\n   2911,\n   2921,\n   2941,\n   2942,\n   2943,\n   3013,\n   3014,\n   3015,\n   3016,\n   3021,\n   3023,\n   3032,\n   3035,\n   3036,\n   3047,\n   3060,\n   3063,\n   3070,\n   3121,\n   3170,\n   3182,\n   3212,\n   3214,\n   3231,\n   3245,\n   3246,\n   3250,\n   3261,\n   3281,\n   3292,\n   3324,\n   3326,\n   3346,\n   3350,\n   3351,\n   3356,\n   3358,\n   3372,\n   3384,\n   3385,\n   3388,\n   3390,\n   3396,\n   3397,\n   3399,\n   4024,\n   4025,\n   4026,\n   4027,\n   4028,\n   4029,\n   4064,\n   4066,\n   4069,\n   4075,\n   4087,\n   4090,\n   4110,\n   4125,\n   4130,\n   4133,\n   4138,\n   4145,\n   4161,\n   4171,\n   4172,\n   4173,\n   4177,\n   4181,\n   4183,\n   4211,\n   4212,\n   4241,\n   4243,\n   4254,\n   4262,\n   4263,\n   4264,\n   4271,\n   4272,\n   4274,\n   4275,\n   4281,\n   4286,\n   4287,\n   5051,\n   5052,\n   5054,\n   5055,\n   5071,\n   5081,\n   5083,\n   5085,\n   5091,\n   5121,\n   5122,\n   5123,\n   5130,\n   5136,\n   5137,\n   5142,\n   5143,\n   5211,\n   5231,\n   5235,\n   5241,\n   5321,\n   5322,\n   5331,\n   5420,\n   5435,\n   5440,\n   5451,\n   5462,\n   5465,\n   6622,\n   6630,\n   6635,\n   6647,\n   6710,\n   6720,\n   6721,\n   6722,\n   6727,\n   6729,\n   6750,\n   6757,\n   6758,\n   6760,\n   6762,\n   6763,\n   6764,\n   6772,\n   6775,\n   6781,\n   6782,\n   6783,\n   6786,\n   6787,\n   6792,\n   6793,\n   6794,\n   6795,\n   6821,\n   6913,\n   6921,\n   6922,\n   6931,\n   7000,\n   7003,\n   7013,\n   7017,\n   7020,\n   7025,\n   7044,\n   7054,\n   7056,\n   7081,\n   7084,\n   7090,\n   7095,\n   7130,\n   7131,\n   7132,\n   7133,\n   7140,\n   7143,\n   7144,\n   7173,\n   7191,\n   7349,\n   7355,\n   7370,\n   7720,\n   7741,\n   7754,\n   7759,\n   7761,\n   7763,\n   7773,\n   7800,\n   7811,\n   7815,\n   7827,\n   7831,\n   7838,\n   7900,\n   7940,\n   7960,\n   8043,\n   8052,\n   8053,\n   8056,\n   8066,\n   8081,\n   8083,\n   8093,\n   8095,\n   8111,\n   8124,\n   8125,\n   8127,\n   8130,\n   8132,\n   8135,\n   8136,\n   8142,\n   8143,\n   8151,\n   8154,\n   8156,\n   8315,\n   8372,\n   8380,\n   8790,\n   8866,\n   8868,\n   8960,\n   8992,\n   8999,\n   9022,\n   9026,\n   9029,\n   9030,\n   9071,\n   9073,\n   9081,\n   9082,\n   9086,\n   9090,\n   9099,\n   9100,\n   9121,\n   9142,\n   9144,\n   9151,\n   9153,\n   9154,\n   9155,\n   9167,\n   9172,\n   9181,\n   9222,\n   9224,\n   9225,\n   9228,\n   9241,\n   9317,\n   9343,\n   9545,\n   9653,\n   9721,\n   9735,\n   9737,\n   9751,\n   9761,\n   9791,\n   9798,\n   9915,\n   9970],\n  [3418,\n   3432,\n   3433,\n   3434,\n   3450,\n   3458,\n   3508,\n   3516,\n   3518,\n   3519,\n   3525,\n   3528,\n   3530,\n   3531,\n   3532,\n   3534,\n   3535,\n   3551,\n   3553,\n   3555,\n   3561,\n   3562,\n   3564,\n   3565,\n   3571,\n   3572,\n   3574,\n   3599,\n   3630,\n   3663,\n   3671,\n   3711,\n   3712,\n   3713,\n   3715,\n   3718,\n   3720,\n   3733,\n   3744,\n   3752,\n   3780,\n   3792,\n   3794,\n   3800,\n   3849,\n   3860,\n   3881,\n   3895,\n   3900,\n   3903,\n   3909,\n   3910,\n   3915,\n   3922,\n   3925,\n   3931,\n   3963,\n   3971,\n   3973,\n   3974,\n   4231,\n   4233,\n   4234,\n   4311,\n   4324,\n   4326,\n   4334,\n   4335,\n   4352,\n   4355,\n   4356,\n   4361,\n   4363,\n   4371,\n   4372,\n   4374,\n   4405,\n   4434,\n   4450,\n   4455,\n   4456,\n   4461,\n   4464,\n   4465,\n   4482,\n   4483,\n   4484,\n   4485,\n   4492,\n   4495,\n   4501,\n   4511,\n   4516,\n   4523,\n   4524,\n   4531,\n   4544,\n   4551,\n   4552,\n   4553,\n   4555,\n   4558,\n   4561,\n   4562,\n   4564,\n   4621,\n   4623,\n   4625,\n   4642,\n   4644,\n   4722,\n   4731,\n   4751,\n   4761,\n   4762,\n   4765,\n   4800,\n   4821,\n   4823,\n   4900,\n   5500,\n   5502,\n   5510,\n   5516,\n   5520,\n   5525,\n   5527,\n   5534,\n   5553,\n   5561,\n   5622,\n   5624,\n   5661,\n   5662,\n   5667,\n   5711,\n   5712,\n   5726,\n   5741,\n   5742,\n   5746,\n   5800,\n   5820,\n   5830,\n   5920,\n   5931,\n   5932,\n   5940,\n   5946,\n   5948,\n   6032,\n   6033,\n   6034,\n   6035,\n   6041,\n   6065,\n   6066,\n   6070,\n   6077,\n   6078,\n   6080,\n   6085,\n   6086,\n   6087,\n   6090,\n   6098,\n   6114,\n   6120,\n   6131,\n   6133,\n   6221,\n   6230,\n   6237,\n   6239,\n   6320,\n   6326,\n   6328,\n   6344,\n   6346,\n   6347,\n   6351,\n   6353,\n   6421,\n   6422,\n   6423,\n   6430,\n   6440,\n   6449,\n   6453,\n   6456,\n   6503,\n   6521,\n   6522,\n   6527,\n   7261,\n   7451,\n   7516,\n   7530,\n   7561,\n   7562,\n   8621,\n   8623,\n   8630,\n   8638,\n   8640,\n   8651,\n   8653,\n   8660,\n   8693,\n   8713,\n   8719,\n   8840],\n  [1011,\n   1012,\n   1013,\n   1013,\n   1014,\n   1015,\n   1016,\n   1016,\n   1021,\n   1022,\n   1024,\n   1029,\n   1032,\n   1034,\n   1035,\n   1036,\n   1041,\n   1042,\n   1043,\n   1047,\n   1051,\n   1052,\n   1054,\n   1055,\n   1056,\n   1061,\n   1064,\n   1066,\n   1067,\n   1068,\n   1071,\n   1072,\n   1073,\n   1074,\n   1075,\n   1076,\n   1077,\n   1078,\n   1082,\n   1083,\n   1084,\n   1085,\n   1086,\n   1088,\n   1091,\n   1092,\n   1094,\n   1095,\n   1096,\n   1098,\n   1101,\n   1102,\n   1104,\n   1105,\n   1111,\n   1113,\n   1114,\n   1115,\n   1122,\n   1123,\n   1126,\n   1132,\n   1143,\n   1144,\n   1148,\n   1153,\n   1153,\n   1154,\n   1154,\n   1155,\n   1155,\n   1156,\n   1156,\n   1157,\n   1157,\n   1184,\n   1186,\n   1191,\n   1193,\n   1195,\n   1205,\n   1215,\n   1224,\n   1224,\n   1237,\n   1239,\n   2014,\n   2015,\n   2049,\n   2071,\n   2084,\n   2089,\n   2094,\n   2096,\n   2111,\n   2132,\n   2141,\n   2142,\n   2144,\n   2146,\n   2233,\n   2314,\n   2335,\n   2461,\n   7621,\n   7622,\n   7623,\n   7624,\n   7625,\n   7626,\n   7628,\n   7629,\n   7631,\n   7633,\n   7635,\n   7636,\n   7691,\n   7693,\n   7694,\n   7695,\n   7696,\n   9421,\n   9423,\n   9431,\n   9444,\n   9495]]]"
     },
     "execution_count": 30,
     "metadata": {},
     "output_type": "execute_result"
    }
   ],
   "source": [
    "cats"
   ],
   "metadata": {
    "collapsed": false,
    "ExecuteTime": {
     "end_time": "2024-02-08T15:05:45.606672385Z",
     "start_time": "2024-02-08T15:05:45.572173824Z"
    }
   },
   "id": "3998f16c2c6abda"
  },
  {
   "cell_type": "code",
   "execution_count": 31,
   "outputs": [],
   "source": [
    "unpacked_cats = []\n",
    "for cat in cats:\n",
    "    for c in sorted(cat):\n",
    "        unpacked_cats.append(c)"
   ],
   "metadata": {
    "collapsed": false,
    "ExecuteTime": {
     "end_time": "2024-02-08T15:05:46.274941036Z",
     "start_time": "2024-02-08T15:05:46.232588789Z"
    }
   },
   "id": "ae4383d1c2908a8d"
  },
  {
   "cell_type": "code",
   "execution_count": 32,
   "outputs": [],
   "source": [
    "unpacked_cats = sorted(unpacked_cats, key = lambda x : (len(x), x[0]))"
   ],
   "metadata": {
    "collapsed": false,
    "ExecuteTime": {
     "end_time": "2024-02-08T15:05:47.131199282Z",
     "start_time": "2024-02-08T15:05:47.090080250Z"
    }
   },
   "id": "d9097822cf3b0254"
  },
  {
   "cell_type": "code",
   "execution_count": 33,
   "outputs": [],
   "source": [
    "def solve_hitting_sets_approx(sets):\n",
    "    \n",
    "    solution = []\n",
    "    covered = len(sets) * [False]\n",
    "    covered_by = len(sets) * [None]\n",
    "    id = 0\n",
    "    \n",
    "    while id < len(sets):\n",
    "        \n",
    "        if covered[id] == True:\n",
    "            id += 1\n",
    "            continue\n",
    "        \n",
    "        sett = sets[id]\n",
    "        element = sett[0]\n",
    "        solution.append(element)\n",
    "        for j in range(len(sets)):\n",
    "            if element in sets[j]:\n",
    "                covered[j] = True\n",
    "                covered_by[j] = element\n",
    "                    \n",
    "        id += 1\n",
    "    \n",
    "     \n",
    "    print(sum(covered) / len(covered))\n",
    "    return covered_by, sorted(solution)\n",
    "    "
   ],
   "metadata": {
    "collapsed": false,
    "ExecuteTime": {
     "end_time": "2024-02-08T15:05:47.327670983Z",
     "start_time": "2024-02-08T15:05:47.285655975Z"
    }
   },
   "id": "d474ed3f95136b0c"
  },
  {
   "cell_type": "code",
   "execution_count": 34,
   "outputs": [
    {
     "data": {
      "text/plain": "[2451,\n 2067,\n 6622,\n 3013,\n 1011,\n 1021,\n 6032,\n 1021,\n 2711,\n 1011,\n 3418,\n 1051,\n 2049,\n 2072,\n 2066,\n 1051,\n 1082,\n 2014,\n 2509,\n 1011,\n 1011,\n 1011,\n 2643,\n 2014,\n 2065,\n 2534,\n 1011,\n 3418,\n 3418,\n 2021,\n 2065,\n 2016,\n 2065,\n 2014]"
     },
     "execution_count": 34,
     "metadata": {},
     "output_type": "execute_result"
    }
   ],
   "source": [
    "[x[0] for x in unpacked_cats]"
   ],
   "metadata": {
    "collapsed": false,
    "ExecuteTime": {
     "end_time": "2024-02-08T15:05:47.513434304Z",
     "start_time": "2024-02-08T15:05:47.480281261Z"
    }
   },
   "id": "bbc849fbc613d7fd"
  },
  {
   "cell_type": "code",
   "execution_count": 35,
   "outputs": [
    {
     "name": "stdout",
     "output_type": "stream",
     "text": [
      "1.0\n"
     ]
    }
   ],
   "source": [
    "x, y = solve_hitting_sets_approx(unpacked_cats)"
   ],
   "metadata": {
    "collapsed": false,
    "ExecuteTime": {
     "end_time": "2024-02-08T15:05:48.205393487Z",
     "start_time": "2024-02-08T15:05:48.169975436Z"
    }
   },
   "id": "5acf8f38ee4d6bec"
  },
  {
   "cell_type": "code",
   "execution_count": 36,
   "outputs": [
    {
     "name": "stdout",
     "output_type": "stream",
     "text": [
      "2451 True\n",
      "2067 True\n",
      "6622 True\n",
      "3013 True\n",
      "1011 True\n",
      "1021 True\n",
      "6032 True\n",
      "1082 True\n",
      "2711 True\n",
      "2711 True\n",
      "3418 True\n",
      "2049 True\n",
      "2049 True\n",
      "2711 True\n",
      "2066 True\n",
      "1051 True\n",
      "1082 True\n",
      "2049 True\n",
      "6622 True\n",
      "1082 True\n",
      "1082 True\n",
      "1082 True\n",
      "6032 True\n",
      "2049 True\n",
      "2067 True\n",
      "3418 True\n",
      "1082 True\n",
      "3418 True\n",
      "3418 True\n",
      "2066 True\n",
      "2066 True\n",
      "2066 True\n",
      "2066 True\n",
      "2066 True\n"
     ]
    }
   ],
   "source": [
    "for i in range(len(unpacked_cats)):\n",
    "    print(x[i], x[i] in unpacked_cats[i])"
   ],
   "metadata": {
    "collapsed": false,
    "ExecuteTime": {
     "end_time": "2024-02-08T15:05:48.825975935Z",
     "start_time": "2024-02-08T15:05:48.784458358Z"
    }
   },
   "id": "7fde1463e49a2b65"
  },
  {
   "cell_type": "code",
   "execution_count": 37,
   "outputs": [
    {
     "data": {
      "text/plain": "13"
     },
     "execution_count": 37,
     "metadata": {},
     "output_type": "execute_result"
    }
   ],
   "source": [
    "len(y)"
   ],
   "metadata": {
    "collapsed": false,
    "ExecuteTime": {
     "end_time": "2024-02-08T15:05:49.788722257Z",
     "start_time": "2024-02-08T15:05:49.751748732Z"
    }
   },
   "id": "cde22961ed6e163"
  },
  {
   "cell_type": "code",
   "execution_count": 39,
   "outputs": [
    {
     "data": {
      "text/plain": "[1011, 1021, 1051, 1082, 2049, 2066, 2067, 2451, 2711, 3013, 3418, 6032, 6622]"
     },
     "execution_count": 39,
     "metadata": {},
     "output_type": "execute_result"
    }
   ],
   "source": [
    "y"
   ],
   "metadata": {
    "collapsed": false,
    "ExecuteTime": {
     "end_time": "2024-02-08T15:05:54.931714606Z",
     "start_time": "2024-02-08T15:05:54.881470722Z"
    }
   },
   "id": "a50a27a4baca8842"
  },
  {
   "cell_type": "code",
   "execution_count": 177,
   "outputs": [
    {
     "data": {
      "text/plain": "Index(['ALFA_price', 'ALLIANZ_price', 'GENERALI_price', 'GENERTEL_price',\n       'GROUPAMA_price', 'K&AMP;H_price', 'KÖBE_price', 'MAGYAR_price',\n       'SIGNAL_price', 'UNION_price', 'UNIQA_price', 'WÁBERER_price'],\n      dtype='object')"
     },
     "execution_count": 177,
     "metadata": {},
     "output_type": "execute_result"
    }
   ],
   "source": [
    "insurers"
   ],
   "metadata": {
    "collapsed": false,
    "ExecuteTime": {
     "end_time": "2024-01-31T12:01:39.727590921Z",
     "start_time": "2024-01-31T12:01:39.685849041Z"
    }
   },
   "id": "7e7e756340b0dd9"
  },
  {
   "cell_type": "code",
   "execution_count": 114,
   "outputs": [],
   "source": [
    "import networkx as nx\n",
    "\n",
    "\n",
    "def hamilton_cycle_from_list(vertices):\n",
    "    G = nx.Graph()\n",
    "    G.add_nodes_from(vertices)\n",
    "    # Add edges to form a cycle\n",
    "    for i in range(len(vertices)):\n",
    "        G.add_edge(vertices[i], vertices[(i + 1) % len(vertices)])\n",
    "    return G\n",
    "\n",
    "vertices = data['PostalCode'].unique().tolist()\n",
    "\n",
    "graph = nx.Graph(vertices = vertices)\n",
    "\n",
    "for category in unpacked_cats:\n",
    "    graph.add_edges_from(nx.complete_graph(category).edges())"
   ],
   "metadata": {
    "collapsed": false,
    "ExecuteTime": {
     "end_time": "2024-01-31T10:32:26.071007768Z",
     "start_time": "2024-01-31T10:32:26.001461412Z"
    }
   },
   "id": "d9f425f2e335f1b6"
  },
  {
   "cell_type": "code",
   "execution_count": 74,
   "outputs": [
    {
     "data": {
      "text/plain": "EdgeView([(2065, 2066), (2065, 9970), (2065, 4485), (2065, 2463), (2065, 9423), (2065, 2067), (2065, 9915), (2065, 8156), (2065, 2049), (2065, 2038), (2065, 1148), (2065, 2071), (2066, 2067), (2066, 2091), (2066, 2421), (2066, 9071), (2066, 2424), (2066, 9970), (2066, 1239), (2066, 2111), (9970, 9915), (9970, 5510), (9970, 9798), (9970, 2735), (9970, 9444), (9970, 9545), (9970, 3418), (9970, 2014), (9970, 2016), (9970, 1036), (9970, 9737), (2067, 2091), (2067, 2831), (2067, 5420), (2067, 2038), (2067, 2072), (2067, 2509), (2067, 2943), (2067, 2162), (2067, 2071), (2067, 1114), (2067, 2116), (2091, 2421), (2091, 2484), (2091, 2074), (2091, 2098), (2091, 2089), (2091, 2094), (2091, 2095), (2091, 2038), (2091, 2097), (2421, 2422), (2421, 8127), (2421, 2367), (2421, 2381), (2421, 2433), (2422, 2424), (2422, 2431), (2422, 2426), (2422, 2366), (2424, 2426), (2424, 7081), (2424, 2457), (2426, 2431), (2426, 2462), (2426, 8790), (2426, 2471), (2431, 2433), (2431, 2454), (2431, 2373), (2433, 2451), (2433, 2433), (2433, 2454), (2433, 2475), (2451, 2454), (2451, 7056), (2451, 8380), (2451, 2462), (2451, 8154), (2451, 2377), (2451, 2457), (2454, 2457), (2454, 2458), (2457, 2458), (2457, 2459), (2457, 2461), (2458, 2459), (2458, 2465), (2459, 2462), (2459, 2483), (2459, 2463), (2459, 2461), (2459, 2465), (2462, 2463), (2462, 2465), (2462, 2481), (2462, 2461), (2463, 2465), (2463, 3013), (2463, 2476), (2463, 2490), (2465, 2471), (2465, 2473), (2471, 2473), (2471, 2476), (2473, 2475), (2473, 2628), (2475, 2476), (2475, 2651), (2475, 2481), (2476, 2481), (2476, 3060), (2476, 2483), (2481, 2483), (2481, 3014), (2481, 2626), (2483, 2484), (2483, 5462), (2484, 2490), (2484, 2523), (2484, 2612), (2490, 2509), (2490, 5440), (2490, 8868), (2490, 3015), (2490, 5500), (2490, 7000), (2490, 2643), (2490, 2532), (2509, 2517), (2509, 6344), (2509, 8623), (2509, 2381), (2509, 2896), (2509, 9228), (2509, 2314), (2509, 4024), (2517, 2519), (2517, 8960), (2517, 2377), (2517, 2162), (2517, 2767), (2519, 2521), (2519, 2371), (2519, 2531), (2521, 2523), (2521, 2532), (2521, 2344), (2523, 2531), (2523, 3013), (2523, 2532), (2523, 2643), (2531, 2532), (2531, 2534), (2531, 4555), (2531, 2900), (2532, 2534), (2532, 2536), (2532, 2626), (2534, 2536), (2534, 4555), (2534, 9495), (2534, 2651), (2536, 2541), (2536, 2659), (2536, 2142), (2541, 2643), (2541, 4524), (2541, 2612), (2541, 2870), (2541, 2831), (2541, 2767), (2541, 2899), (2643, 2651), (2643, 2628), (2643, 2659), (2643, 9798), (2643, 3182), (2643, 2373), (2643, 2764), (2651, 2659), (2651, 3060), (2651, 7940), (2651, 2687), (2659, 2687), (2659, 2737), (2659, 9099), (2659, 3015), (2687, 2831), (2687, 3023), (2687, 2711), (2687, 3021), (2687, 3047), (2687, 2713), (2831, 2836), (2831, 2769), (2831, 2766), (2831, 2768), (2831, 2837), (2836, 2837), (2836, 2851), (2836, 2084), (2836, 2896), (2837, 2851), (2837, 3324), (2837, 4464), (2837, 2870), (2851, 2870), (2851, 2903), (2851, 2898), (2851, 2769), (2851, 2942), (2870, 2896), (2870, 3231), (2870, 7763), (2870, 2900), (2870, 2941), (2896, 2898), (2896, 5321), (2896, 2899), (2896, 4029), (2898, 2899), (2898, 2942), (2898, 2767), (2898, 2903), (2899, 2900), (2899, 2911), (2899, 4281), (2900, 2903), (2900, 2911), (2900, 2921), (2903, 2911), (2903, 3245), (2903, 2921), (2911, 2921), (2911, 2735), (2911, 2941), (2911, 2943), (2911, 3021), (2921, 2941), (2921, 2942), (2921, 7561), (2941, 2942), (2941, 3358), (2941, 5435), (2941, 3326), (2941, 3013), (2941, 2943), (2942, 2943), (2942, 3212), (2942, 4066), (2942, 3346), (2943, 3013), (2943, 3565), (2943, 5465), (2943, 3047), (2943, 3434), (2943, 3016), (3013, 3014), (3013, 3015), (3013, 3023), (3013, 4900), (3013, 3399), (3013, 2711), (3014, 3015), (3014, 3032), (3014, 2737), (3014, 3016), (3014, 2768), (3014, 3047), (3015, 3016), (3015, 3032), (3016, 3021), (3016, 3214), (3016, 3023), (3016, 3261), (3021, 3023), (3021, 3261), (3021, 6781), (3021, 3035), (3021, 3047), (3023, 3032), (3023, 3121), (3023, 3036), (3023, 3212), (3023, 3671), (3032, 3035), (3032, 3508), (3032, 3212), (3035, 3036), (3035, 3070), (3035, 7960), (3035, 3324), (3035, 3350), (3036, 3047), (3036, 3432), (3036, 5123), (3036, 3170), (3036, 3182), (3036, 3212), (3036, 3121), (3036, 2746), (3036, 3060), (3047, 3060), (3047, 3063), (3047, 8992), (3047, 2769), (3060, 3063), (3060, 3170), (3060, 3070), (3063, 3070), (3063, 4087), (3063, 3121), (3063, 3245), (3070, 3121), (3070, 4465), (3070, 3170), (3121, 3170), (3121, 3182), (3121, 3250), (3121, 3212), (3121, 3384), (3121, 9495), (3170, 3182), (3170, 4027), (3170, 3562), (3170, 5052), (3182, 3212), (3182, 3525), (3182, 3399), (3182, 3246), (3182, 4064), (3182, 6622), (3212, 3214), (3212, 3281), (3214, 3231), (3214, 3246), (3231, 3245), (3231, 3250), (3231, 3246), (3245, 3246), (3245, 3397), (3245, 3281), (3245, 3250), (3246, 3250), (3246, 3531), (3246, 3261), (3246, 3356), (3250, 3261), (3250, 3528), (3250, 3390), (3250, 3281), (3261, 3281), (3261, 6781), (3261, 3346), (3261, 3324), (3281, 3292), (3281, 3350), (3292, 3324), (3292, 3396), (3292, 5331), (3292, 3346), (3292, 3385), (3324, 3326), (3324, 3350), (3326, 3346), (3326, 3399), (3326, 3388), (3326, 3350), (3326, 3351), (3346, 3350), (3346, 3351), (3346, 3849), (3346, 3397), (3350, 3351), (3350, 3356), (3350, 3372), (3350, 3358), (3351, 3356), (3351, 3752), (3351, 3358), (3356, 3358), (3356, 3388), (3356, 3372), (3356, 3433), (3358, 3372), (3358, 3384), (3358, 3388), (3358, 3399), (3372, 3384), (3372, 5122), (3372, 5451), (3372, 3396), (3372, 3418), (3384, 3385), (3384, 3396), (3385, 3388), (3385, 3713), (3385, 3390), (3385, 3396), (3388, 3390), (3388, 3418), (3388, 3518), (3388, 3399), (3390, 3396), (3390, 3390), (3390, 3432), (3390, 4025), (3390, 3434), (3396, 3397), (3396, 4064), (3396, 3508), (3397, 3399), (3397, 3555), (3397, 3433), (3397, 3432), (3397, 3630), (3399, 3418), (3399, 3434), (3399, 4231), (3399, 3508), (3399, 4024), (3399, 3432), (3418, 3432), (3418, 3458), (3418, 3519), (3418, 3508), (3418, 3974), (3418, 8840), (3418, 3525), (3432, 3433), (3432, 3434), (3432, 3530), (3433, 3434), (3433, 3718), (3433, 3450), (3433, 3516), (3434, 3450), (3434, 4133), (3434, 3458), (3450, 3458), (3450, 3571), (3450, 5137), (3450, 3508), (3450, 3561), (3458, 3551), (3458, 3564), (3458, 3508), (3458, 3518), (3551, 3553), (3551, 3564), (3551, 3535), (3551, 3519), (3553, 3555), (3553, 3553), (3553, 3561), (3555, 3561), (3555, 3663), (3555, 3562), (3555, 3534), (3555, 3720), (3561, 3562), (3561, 3561), (3561, 3571), (3562, 3564), (3562, 3562), (3562, 3663), (3562, 3565), (3564, 3565), (3564, 3572), (3565, 3571), (3565, 3922), (3565, 3574), (3565, 3599), (3571, 3572), (3571, 3630), (3572, 3574), (3572, 3671), (3574, 3599), (3574, 4130), (3574, 3663), (3574, 3711), (3599, 3630), (3599, 3599), (3599, 3671), (3599, 3519), (3599, 3752), (3630, 3663), (3630, 3895), (3630, 3910), (3630, 3733), (3663, 3671), (3663, 3718), (3663, 3711), (3663, 4110), (3671, 3711), (3671, 3712), (3671, 4241), (3711, 3712), (3711, 3780), (3711, 3715), (3712, 3713), (3712, 3720), (3712, 4461), (3712, 3532), (3713, 3715), (3713, 3720), (3713, 3752), (3715, 3718), (3715, 5091), (3715, 3733), (3718, 3720), (3718, 3800), (3718, 3744), (3718, 3780), (3720, 3733), (3720, 4066), (3720, 3780), (3720, 3744), (3720, 3849), (3733, 3744), (3733, 3881), (3733, 3971), (3733, 3800), (3733, 3780), (3733, 3531), (3744, 3752), (3744, 4138), (3744, 4287), (3744, 3849), (3744, 3895), (3752, 3780), (3752, 3849), (3752, 3794), (3752, 3792), (3752, 3800), (3780, 3792), (3780, 3794), (3780, 3800), (3792, 3794), (3792, 3963), (3792, 3974), (3792, 3860), (3794, 3800), (3794, 4075), (3794, 3881), (3794, 3903), (3794, 3900), (3800, 3849), (3800, 3909), (3800, 3860), (3800, 3910), (3849, 3860), (3849, 3895), (3849, 3915), (3860, 3881), (3860, 3973), (3860, 3963), (3860, 3895), (3881, 3895), (3881, 3903), (3881, 3900), (3881, 4064), (3895, 3900), (3895, 3910), (3895, 3903), (3895, 4133), (3900, 3903), (3900, 6098), (3900, 4064), (3900, 4311), (3903, 3909), (3903, 3971), (3903, 3931), (3909, 3910), (3909, 3915), (3909, 3519), (3909, 3973), (3909, 3922), (3910, 3915), (3910, 3931), (3915, 3922), (3915, 3925), (3915, 3971), (3922, 3925), (3922, 5081), (3925, 3931), (3925, 5123), (3925, 5121), (3925, 4087), (3931, 3963), (3931, 5052), (3931, 3971), (3963, 3971), (3963, 3974), (3963, 3973), (3971, 3973), (3971, 4066), (3971, 4130), (3973, 3974), (3973, 4024), (3974, 4064), (3974, 4026), (3974, 4231), (3974, 4075), (4064, 4066), (4064, 4090), (4064, 4455), (4064, 2711), (4064, 4125), (4064, 4029), (4066, 4069), (4066, 4087), (4069, 4075), (4069, 4461), (4069, 4026), (4069, 4087), (4075, 4087), (4075, 4172), (4075, 4090), (4075, 4110), (4075, 4138), (4087, 4090), (4087, 4231), (4087, 4243), (4087, 4177), (4090, 4110), (4090, 5055), (4090, 4125), (4090, 4130), (4090, 3508), (4090, 4405), (4110, 4125), (4110, 9421), (4110, 4029), (4110, 4130), (4110, 4133), (4125, 4130), (4125, 4125), (4125, 4211), (4125, 4161), (4125, 4275), (4130, 4133), (4130, 4211), (4130, 4138), (4130, 4161), (4133, 4138), (4133, 4145), (4133, 4172), (4138, 4145), (4138, 4274), (4138, 4181), (4145, 4161), (4145, 4173), (4145, 4455), (4161, 4171), (4171, 4172), (4171, 4183), (4171, 4173), (4172, 4173), (4172, 4177), (4172, 4181), (4173, 4177), (4173, 4263), (4173, 4183), (4177, 4181), (4177, 4211), (4181, 4183), (4181, 4212), (4181, 4272), (4183, 4211), (4183, 4241), (4183, 4212), (4183, 4243), (4211, 4212), (4211, 4271), (4211, 4241), (4211, 4231), (4212, 4231), (4212, 5420), (4212, 4241), (4212, 4233), (4231, 4233), (4231, 4234), (4231, 4254), (4233, 4234), (4233, 3535), (4233, 4262), (4233, 4029), (4233, 4326), (4234, 4241), (4234, 4263), (4234, 4254), (4234, 4324), (4234, 4311), (4241, 4243), (4241, 4281), (4241, 4263), (4241, 4262), (4243, 4254), (4243, 8999), (4243, 4271), (4243, 4372), (4254, 4262), (4254, 4482), (4254, 4281), (4262, 4263), (4262, 4286), (4262, 4264), (4263, 4264), (4263, 4272), (4263, 4271), (4264, 4271), (4264, 4324), (4264, 4274), (4264, 4286), (4271, 4272), (4271, 4450), (4271, 4274), (4272, 4274), (4272, 5051), (4272, 4275), (4272, 4311), (4274, 4275), (4274, 4286), (4275, 4281), (4275, 4287), (4275, 1051), (4281, 4286), (4281, 4464), (4281, 4434), (4281, 4287), (4281, 7530), (4286, 4287), (4286, 4361), (4286, 1011), (4286, 4326), (4287, 4311), (4287, 6622), (4287, 4024), (4287, 5051), (4287, 4352), (4311, 4324), (4311, 4311), (4311, 4335), (4324, 4326), (4324, 4372), (4324, 4334), (4326, 4334), (4326, 7370), (4326, 4355), (4334, 4335), (4334, 4562), (4334, 4821), (4334, 4361), (4334, 4363), (4335, 4352), (4335, 4523), (4352, 4355), (4352, 4751), (4352, 4356), (4352, 4558), (4355, 4356), (4355, 4731), (4355, 4450), (4356, 4361), (4356, 4800), (4356, 4363), (4361, 4363), (4361, 4372), (4361, 4371), (4363, 4371), (4363, 4374), (4363, 4434), (4371, 4372), (4371, 4027), (4371, 6763), (4371, 4374), (4372, 4374), (4372, 4450), (4372, 4456), (4372, 4761), (4374, 4405), (4374, 4455), (4374, 4434), (4374, 4561), (4405, 4434), (4405, 3534), (4405, 4485), (4405, 4461), (4405, 4029), (4405, 4551), (4405, 4625), (4434, 4450), (4434, 1041), (4434, 1155), (4434, 4456), (4434, 4455), (4450, 4455), (4450, 4501), (4450, 5052), (4450, 4461), (4455, 4456), (4455, 4511), (4455, 4464), (4455, 4465), (4456, 4461), (4456, 4456), (4456, 4483), (4456, 4464), (4456, 4482), (4461, 4464), (4461, 4465), (4461, 4484), (4464, 4465), (4464, 5051), (4464, 4482), (4465, 4482), (4465, 7516), (4465, 4483), (4482, 4483), (4482, 4484), (4482, 4485), (4482, 4511), (4483, 4484), (4483, 3518), (4483, 7020), (4483, 4492), (4483, 4501), (4484, 4485), (4484, 4531), (4484, 4501), (4485, 4492), (4485, 4501), (4492, 4495), (4492, 4516), (4492, 8840), (4495, 4501), (4495, 4644), (4495, 4823), (4495, 4516), (4501, 4511), (4501, 4552), (4501, 4564), (4511, 4516), (4511, 4523), (4511, 4531), (4511, 4524), (4516, 4523), (4516, 6775), (4516, 4524), (4516, 4551), (4523, 4524), (4523, 4551), (4523, 4531), (4524, 4531), (4524, 4544), (4531, 4544), (4531, 7831), (4531, 5085), (4531, 4552), (4531, 4555), (4544, 4551), (4544, 4544), (4544, 4552), (4551, 4552), (4551, 4553), (4551, 6710), (4551, 4621), (4552, 4553), (4552, 7838), (4552, 4555), (4553, 4555), (4553, 4558), (4553, 4561), (4553, 5121), (4555, 4558), (4555, 4562), (4558, 4561), (4558, 7741), (4558, 4621), (4558, 4731), (4561, 4562), (4561, 4561), (4561, 4800), (4562, 4564), (4562, 4625), (4564, 4621), (4564, 4765), (4564, 4722), (4621, 4623), (4623, 4625), (4623, 4642), (4625, 4642), (4625, 4625), (4625, 4644), (4625, 5211), (4642, 4644), (4642, 4722), (4644, 4722), (4644, 4823), (4644, 4762), (4644, 5051), (4722, 4731), (4722, 4821), (4731, 4751), (4751, 4761), (4751, 4762), (4761, 4762), (4761, 5940), (4761, 6080), (4761, 4821), (4761, 7191), (4762, 4765), (4762, 4762), (4762, 4823), (4765, 4800), (4765, 1237), (4765, 5800), (4765, 4823), (4800, 4821), (4800, 4900), (4821, 4823), (4821, 6034), (4821, 5624), (4823, 4900), (4823, 5051), (4823, 5711), (4900, 5051), (4900, 4900), (4900, 5083), (4900, 5055), (4900, 6032), (4900, 5500), (4900, 5123), (5051, 5052), (5051, 5054), (5051, 5465), (5051, 4029), (5052, 5054), (5052, 5071), (5052, 5055), (5052, 5085), (5054, 5055), (5054, 5121), (5054, 5071), (5054, 5081), (5055, 5071), (5055, 5142), (5055, 5122), (5071, 5081), (5071, 5137), (5071, 5122), (5081, 5083), (5081, 5137), (5083, 5085), (5083, 5211), (5083, 5091), (5085, 5091), (5085, 5085), (5085, 5322), (5085, 5123), (5091, 5121), (5091, 5322), (5091, 5321), (5091, 5130), (5121, 5122), (5121, 5136), (5122, 5123), (5122, 5235), (5122, 5142), (5122, 5143), (5123, 5130), (5123, 5435), (5130, 5136), (5130, 5142), (5130, 5137), (5136, 5137), (5136, 5143), (5136, 6630), (5137, 5142), (5137, 5211), (5137, 5231), (5142, 5143), (5142, 5331), (5142, 5211), (5142, 5322), (5143, 5211), (5143, 5231), (5143, 5235), (5143, 5451), (5211, 5231), (5211, 5465), (5211, 5241), (5211, 5235), (5231, 5235), (5231, 5321), (5231, 5241), (5231, 5420), (5235, 5241), (5235, 6120), (5235, 5451), (5241, 5321), (5241, 5451), (5321, 5322), (5321, 5420), (5321, 5331), (5322, 5331), (5322, 5435), (5322, 5440), (5331, 5420), (5331, 5462), (5331, 5465), (5420, 5435), (5420, 5820), (5435, 5440), (5435, 5462), (5440, 5451), (5440, 7000), (5440, 5465), (5440, 5516), (5440, 5510), (5451, 5462), (5451, 6131), (5451, 5465), (5462, 5465), (5462, 8095), (5462, 5561), (5462, 6032), (5462, 5500), (5465, 5500), (5465, 5561), (5465, 6622), (5465, 5502), (5500, 5502), (5500, 5711), (5500, 9737), (5500, 5948), (5500, 5712), (5502, 5510), (5502, 5525), (5502, 9735), (5502, 5534), (5510, 5516), (5510, 5520), (5516, 5520), (5516, 5527), (5520, 5525), (5520, 5662), (5525, 5527), (5525, 5561), (5525, 5661), (5527, 5534), (5527, 5622), (5527, 9915), (5527, 5561), (5534, 5553), (5534, 5534), (5553, 5561), (5553, 5742), (5553, 9545), (5553, 5661), (5553, 5622), (5553, 5667), (5561, 5622), (5561, 9735), (5561, 5624), (5622, 5624), (5622, 5667), (5622, 5662), (5624, 5661), (5624, 5667), (5624, 5742), (5624, 5662), (5661, 5662), (5661, 5800), (5661, 6086), (5662, 5667), (5662, 5741), (5662, 5712), (5662, 5800), (5667, 5711), (5667, 5712), (5667, 5746), (5711, 5712), (5711, 5931), (5711, 5726), (5711, 6090), (5712, 5726), (5712, 5741), (5726, 5741), (5726, 9761), (5726, 5742), (5741, 5742), (5741, 5746), (5742, 5746), (5742, 5920), (5742, 5932), (5742, 5820), (5742, 6080), (5746, 5800), (5746, 5946), (5746, 5931), (5746, 5920), (5800, 5820), (5800, 1098), (5800, 5830), (5820, 5830), (5820, 6041), (5820, 6090), (5820, 5920), (5820, 6230), (5830, 5920), (5830, 5940), (5830, 5932), (5920, 5931), (5920, 5932), (5920, 5946), (5931, 5932), (5931, 9653), (5931, 5940), (5931, 6041), (5932, 5940), (5932, 9545), (5932, 6033), (5932, 6041), (5940, 5946), (5940, 5948), (5940, 7000), (5946, 5948), (5946, 9721), (5948, 6032), (5948, 6080), (5948, 6503), (5948, 7000), (5948, 6710), (6032, 6033), (6032, 6077), (6032, 6931), (6032, 6034), (6032, 6527), (6033, 6034), (6033, 6035), (6033, 6921), (6033, 6041), (6033, 6066), (6034, 6035), (6034, 6622), (6035, 6041), (6035, 6065), (6041, 6065), (6041, 6090), (6041, 6085), (6041, 6070), (6041, 6066), (6065, 6066), (6065, 6120), (6065, 6077), (6066, 6070), (6066, 6085), (6070, 6077), (6070, 6085), (6070, 7530), (6070, 6080), (6070, 6114), (6077, 6078), (6078, 6080), (6078, 6114), (6078, 6086), (6078, 6120), (6080, 6085), (6080, 6086), (6080, 6090), (6085, 6086), (6085, 6131), (6085, 6440), (6085, 6087), (6086, 6087), (6086, 6320), (6086, 6098), (6086, 6423), (6087, 6090), (6087, 6320), (6087, 6131), (6087, 6098), (6090, 6098), (6090, 6120), (6090, 6782), (6098, 6114), (6098, 6720), (6114, 6120), (6114, 6326), (6114, 6230), (6114, 6221), (6114, 6320), (6120, 6131), (6120, 6133), (6120, 6239), (6120, 6230), (6131, 6133), (6131, 6237), (6133, 6221), (6133, 6239), (6221, 6230), (6221, 6237), (6221, 6326), (6230, 6237), (6230, 6239), (6230, 6320), (6237, 6239), (6237, 6351), (6237, 6346), (6237, 6320), (6239, 6320), (6239, 6347), (6239, 6353), (6239, 6344), (6320, 6326), (6320, 6430), (6320, 6449), (6326, 6328), (6328, 6344), (6328, 6821), (6328, 6346), (6328, 6351), (6344, 6346), (6344, 6347), (6344, 6351), (6346, 6347), (6346, 6422), (6346, 6351), (6347, 6351), (6347, 6353), (6347, 6421), (6347, 6503), (6351, 6353), (6351, 6762), (6351, 6503), (6351, 6421), (6353, 6421), (6353, 6527), (6353, 6635), (6353, 6423), (6421, 6422), (6421, 6453), (6421, 6522), (6422, 6423), (6422, 6522), (6422, 6430), (6423, 6430), (6423, 6453), (6423, 6786), (6430, 6440), (6430, 6449), (6440, 6449), (6440, 6721), (6440, 6453), (6449, 6453), (6449, 6750), (6449, 7013), (6449, 6527), (6453, 6456), (6456, 6503), (6456, 6521), (6503, 6521), (6503, 6622), (6503, 7017), (6503, 6630), (6521, 6522), (6521, 6750), (6522, 6527), (6522, 6622), (6527, 6622), (6527, 6921), (6527, 6630), (6527, 7261), (6527, 6750), (6622, 6630), (6622, 6763), (6622, 6635), (6622, 6931), (6630, 6635), (6630, 6710), (6630, 8630), (6630, 7000), (6630, 6760), (6630, 6647), (6635, 6647), (6635, 3516), (6635, 8083), (6635, 6710), (6647, 6758), (6647, 6795), (6647, 8713), (6647, 6710), (6647, 6750), (6647, 6760), (6758, 6760), (6758, 3528), (6758, 6772), (6758, 6757), (6758, 6764), (6758, 6750), (6758, 6762), (6760, 6762), (6760, 6760), (6760, 6913), (6762, 6763), (6762, 7530), (6762, 6764), (6762, 6782), (6763, 6764), (6763, 7761), (6763, 6772), (6763, 6750), (6763, 6781), (6764, 6772), (6764, 6729), (6764, 8621), (6764, 6775), (6772, 6775), (6772, 6922), (6772, 6795), (6772, 6792), (6775, 6781), (6775, 8840), (6775, 6783), (6775, 6782), (6775, 6750), (6781, 6782), (6781, 6750), (6781, 6786), (6781, 6757), (6781, 7621), (6781, 6783), (6782, 6783), (6782, 6721), (6782, 6722), (6782, 6913), (6782, 7025), (6782, 6787), (6783, 6786), (6783, 7355), (6783, 7815), (6783, 6787), (6783, 7017), (6786, 6787), (6786, 7635), (6786, 6793), (6786, 6795), (6787, 6792), (6787, 7622), (6787, 7095), (6792, 6793), (6792, 7144), (6792, 6794), (6792, 6821), (6793, 6794), (6793, 6821), (6793, 6727), (6794, 6795), (6794, 7144), (6794, 7451), (6794, 7084), (6795, 6821), (6795, 7754), (6795, 6922), (6795, 7827), (6821, 6913), (6821, 6922), (6821, 6921), (6913, 6921), (6913, 6931), (6913, 7622), (6913, 6922), (6921, 6922), (6921, 6931), (6921, 9022), (6921, 7000), (6922, 6931), (6922, 7763), (6922, 7561), (6931, 7000), (6931, 7261), (6931, 7451), (6931, 2072), (6931, 7020), (7000, 7003), (7000, 7044), (7000, 6757), (7003, 7013), (7003, 7025), (7003, 8156), (7003, 8083), (7013, 7017), (7013, 7130), (7013, 8154), (7013, 7054), (7013, 7025), (7017, 7020), (7017, 8043), (7017, 7044), (7020, 7025), (7020, 8093), (7020, 7090), (7020, 7355), (7020, 7516), (7025, 7044), (7025, 8124), (7025, 7056), (7044, 7054), (7044, 7095), (7054, 7056), (7054, 7132), (7054, 7081), (7056, 7081), (7056, 7084), (7056, 7130), (7081, 7084), (7081, 7132), (7084, 7090), (7084, 8052), (7084, 7132), (7090, 7095), (7090, 4025), (7090, 4026), (7090, 7130), (7090, 7144), (7095, 7130), (7095, 7811), (7095, 8866), (7095, 7133), (7095, 7693), (7130, 7131), (7130, 7133), (7131, 7132), (7131, 7561), (7131, 7759), (7131, 7140), (7131, 7133), (7132, 7133), (7132, 8868), (7132, 7143), (7133, 7140), (7133, 8125), (7133, 7144), (7133, 8043), (7140, 7143), (7140, 7827), (7140, 7355), (7140, 4029), (7140, 7831), (7143, 7144), (7143, 4029), (7143, 7694), (7143, 7173), (7144, 7173), (7144, 7191), (7144, 7355), (7173, 7191), (7173, 7261), (7173, 7349), (7191, 7261), (7191, 7800), (7191, 7355), (7191, 7694), (7191, 7349), (7191, 7624), (7261, 7349), (7261, 7261), (7261, 7451), (7261, 8840), (7261, 7516), (7261, 4028), (7349, 7355), (7349, 7349), (7349, 7370), (7349, 7960), (7349, 7562), (7355, 7370), (7355, 7628), (7355, 7827), (7355, 7530), (7370, 7451), (7370, 7516), (7370, 7621), (7370, 7720), (7451, 7516), (7451, 6750), (7451, 8623), (7451, 7754), (7451, 7621), (7451, 6729), (7451, 7694), (7451, 7629), (7516, 7530), (7516, 7960), (7516, 7561), (7516, 8095), (7530, 7561), (7530, 7562), (7530, 7761), (7530, 7625), (7561, 7562), (7561, 7759), (7561, 7720), (7561, 7636), (7562, 7694), (7562, 8719), (7562, 7621), (7562, 7695), (7562, 8621), (7562, 7691), (7562, 8315), (7562, 7693), (7562, 7622), (7694, 7695), (7694, 7691), (7694, 8315), (7694, 7693), (7694, 7631), (7694, 7696), (7695, 7696), (7695, 4024), (7695, 7635), (7695, 7815), (7696, 7720), (7696, 7696), (7696, 7815), (7696, 7741), (7696, 9421), (7720, 7741), (7720, 7693), (7720, 7773), (7720, 7759), (7720, 1051), (7720, 7625), (7720, 7960), (7741, 7754), (7741, 7900), (7741, 7693), (7741, 7811), (7754, 7759), (7754, 8713), (7754, 7761), (7759, 7761), (7759, 7773), (7759, 7763), (7759, 7633), (7759, 8053), (7761, 7763), (7761, 7940), (7761, 7773), (7763, 7773), (7763, 7800), (7763, 7811), (7763, 7693), (7773, 7800), (7773, 7815), (7773, 7831), (7800, 7811), (7800, 7940), (7800, 7815), (7800, 8066), (7811, 7815), (7811, 8866), (7811, 7900), (7811, 7827), (7815, 7827), (7815, 7838), (7815, 7900), (7827, 7831), (7827, 8043), (7827, 9081), (7831, 7838), (7831, 8999), (7831, 8315), (7831, 7900), (7831, 7940), (7838, 7900), (7838, 8992), (7838, 7960), (7838, 8693), (7900, 7940), (7900, 8960), (7900, 8653), (7900, 8640), (7940, 7960), (7940, 8372), (7940, 8043), (7940, 1014), (7960, 8043), (7960, 8621), (7960, 8056), (7960, 1015), (8043, 8052), (8052, 8053), (8052, 8081), (8052, 8056), (8053, 8056), (8053, 8372), (8056, 8066), (8056, 8081), (8066, 8081), (8066, 8093), (8066, 9222), (8081, 8083), (8081, 8142), (8081, 8124), (8083, 8093), (8083, 3516), (8083, 8130), (8093, 8095), (8093, 8790), (8093, 8111), (8095, 8111), (8095, 8124), (8111, 8124), (8111, 8127), (8111, 8125), (8111, 8130), (8124, 8125), (8124, 8130), (8124, 8127), (8125, 8127), (8125, 8132), (8127, 8130), (8127, 8135), (8127, 8132), (8130, 8132), (8130, 8135), (8130, 8154), (8130, 8136), (8132, 8135), (8132, 8136), (8132, 8142), (8135, 8136), (8135, 8156), (8135, 8143), (8136, 8142), (8136, 8143), (8136, 8623), (8142, 8143), (8142, 8380), (8142, 8315), (8143, 8151), (8151, 8154), (8151, 8156), (8154, 8156), (8156, 8315), (8156, 8380), (8156, 9022), (8156, 8866), (8315, 8372), (8315, 8719), (8315, 8999), (8315, 8380), (8372, 8380), (8372, 8630), (8372, 8651), (8372, 8660), (8380, 8621), (8380, 8638), (8380, 8790), (8621, 8623), (8621, 8630), (8621, 8638), (8623, 8630), (8623, 8660), (8630, 8638), (8630, 8640), (8638, 8640), (8638, 8660), (8638, 8693), (8638, 9071), (8638, 8653), (8638, 8651), (8640, 8651), (8640, 6720), (8640, 6757), (8640, 8790), (8640, 9317), (8651, 8653), (8651, 8651), (8651, 8693), (8651, 9241), (8653, 8660), (8653, 8653), (8653, 9022), (8653, 8693), (8653, 8713), (8660, 8693), (8660, 8790), (8660, 8719), (8693, 8713), (8693, 9225), (8713, 8719), (8713, 8868), (8713, 8840), (8719, 8790), (8719, 9086), (8719, 8840), (8790, 8840), (8790, 8960), (8790, 8866), (8790, 8992), (8840, 8866), (8840, 8960), (8866, 8868), (8866, 8960), (8868, 8960), (8868, 8999), (8868, 8992), (8868, 9071), (8960, 8992), (8960, 9545), (8960, 9026), (8992, 8999), (8992, 9081), (8999, 9071), (8999, 9026), (8999, 9653), (8999, 9545), (8999, 9022), (9071, 9073), (9071, 9086), (9071, 9228), (9071, 7693), (9071, 9082), (9071, 9030), (9071, 9421), (9073, 9081), (9073, 9029), (9073, 9030), (9073, 9099), (9073, 9082), (9081, 9082), (9081, 9090), (9081, 9181), (9082, 9086), (9082, 9090), (9082, 9029), (9082, 9151), (9086, 9090), (9086, 9228), (9086, 9100), (9086, 9099), (9090, 9099), (9090, 9121), (9090, 9100), (9099, 9100), (9099, 9121), (9099, 9030), (9099, 9142), (9100, 9121), (9100, 9100), (9100, 9421), (9100, 9155), (9121, 9142), (9121, 9144), (9121, 9151), (9142, 9144), (9142, 9030), (9142, 9154), (9144, 9151), (9144, 9153), (9144, 9154), (9151, 9153), (9151, 9444), (9153, 9154), (9153, 9155), (9153, 9423), (9154, 9155), (9154, 9224), (9154, 9172), (9155, 9167), (9167, 9172), (9167, 9181), (9172, 9181), (9172, 9222), (9172, 9444), (9181, 9222), (9181, 9224), (9222, 9224), (9222, 9225), (9222, 9228), (9222, 9241), (9224, 9225), (9224, 9317), (9224, 9751), (9225, 9228), (9225, 9241), (9225, 9317), (9225, 1011), (9228, 9241), (9228, 1012), (9228, 7691), (9241, 9317), (9241, 9343), (9241, 9721), (9241, 9431), (9317, 9343), (9317, 9030), (9343, 9421), (9343, 9444), (9343, 9431), (9343, 9545), (9421, 9423), (9421, 9495), (9423, 9431), (9423, 9423), (9423, 9735), (9431, 9444), (9431, 9431), (9431, 9495), (9431, 9721), (9444, 9495), (9444, 9653), (9495, 9545), (9495, 9029), (9495, 9022), (9495, 2021), (9495, 1011), (9545, 9653), (9545, 9791), (9653, 9721), (9653, 9737), (9653, 9735), (9653, 9761), (9721, 9735), (9721, 9751), (9721, 9761), (9721, 1021), (9735, 9737), (9737, 9751), (9751, 9761), (9751, 9798), (9751, 9791), (9761, 9791), (9761, 9798), (9761, 9915), (9791, 9798), (9791, 9915), (9791, 1013), (9798, 9915), (9798, 1034), (9915, 2038), (9915, 1035), (2014, 2015), (2014, 9030), (2014, 2014), (2014, 1126), (2014, 2089), (2014, 1239), (2014, 2769), (2014, 2628), (2014, 1215), (2014, 1224), (2014, 2016), (2015, 2016), (2015, 2089), (2015, 7621), (2015, 2461), (2015, 2049), (2015, 1155), (2015, 2074), (9030, 9029), (9030, 9026), (9030, 2711), (9030, 2049), (9030, 9022), (2016, 2021), (2016, 2023), (2016, 2335), (2016, 2096), (2016, 2317), (2021, 2023), (2021, 2133), (2021, 1224), (2021, 2071), (2021, 1193), (2023, 2038), (2023, 2049), (2023, 2071), (2038, 2049), (2038, 2071), (2038, 2765), (2038, 2084), (2038, 1239), (2049, 2071), (2049, 2094), (2049, 2142), (2049, 2364), (2049, 1078), (2049, 2072), (2049, 2084), (2049, 1205), (2049, 2096), (2071, 2072), (2071, 2084), (2071, 2074), (2072, 2074), (2072, 2116), (2072, 2144), (2072, 2114), (2074, 2084), (2074, 2095), (2074, 2319), (2074, 2094), (2074, 2213), (2074, 2089), (2084, 2089), (2084, 2097), (2084, 2094), (2084, 1157), (2089, 2094), (2089, 2336), (2089, 2095), (2089, 1237), (2094, 2095), (2094, 2098), (2094, 2096), (2094, 2097), (2095, 2098), (2095, 2114), (2095, 1011), (2095, 2097), (2095, 2096), (2095, 2142), (2098, 2111), (2098, 2113), (2098, 2096), (2098, 2097), (2098, 2132), (2111, 2113), (2111, 2134), (2111, 2097), (2111, 2132), (2111, 2141), (2111, 2096), (2111, 2133), (2113, 2114), (2113, 2113), (2113, 2132), (2113, 2097), (2113, 2118), (2114, 2116), (2114, 2319), (2114, 2097), (2114, 2170), (2116, 2118), (2116, 2243), (2118, 2132), (2118, 2182), (2118, 2173), (2118, 2133), (2118, 2141), (2118, 2134), (2132, 2133), (2132, 2621), (2132, 2141), (2132, 1132), (2132, 2162), (2133, 2134), (2133, 2182), (2134, 2162), (2134, 2141), (2134, 2191), (2134, 2376), (2134, 2144), (2162, 2170), (2162, 2144), (2162, 2194), (2162, 2146), (2162, 2336), (2170, 2173), (2170, 2364), (2170, 2626), (2170, 2144), (2170, 2233), (2170, 2194), (2173, 2182), (2173, 2381), (2173, 2769), (2173, 2146), (2173, 2191), (2182, 2191), (2182, 2254), (2182, 2192), (2191, 2192), (2191, 2193), (2192, 2193), (2192, 2142), (2192, 2209), (2192, 2194), (2193, 2194), (2193, 2217), (2193, 2209), (2193, 2213), (2194, 2209), (2194, 2241), (2194, 2213), (2209, 2213), (2209, 2217), (2213, 2217), (2213, 2233), (2213, 2213), (2213, 2241), (2213, 2317), (2217, 2241), (2217, 2243), (2217, 2233), (2217, 2337), (2217, 2244), (2241, 2243), (2241, 2373), (2241, 2314), (2241, 2233), (2241, 2318), (2243, 2244), (2243, 2233), (2243, 2252), (2244, 2252), (2244, 2253), (2252, 2253), (2252, 2254), (2253, 2254), (2253, 2317), (2253, 2335), (2254, 2314), (2254, 2317), (2254, 2318), (2254, 2351), (2314, 2317), (2314, 2233), (2314, 2335), (2314, 2336), (2314, 2318), (2314, 1215), (2317, 2318), (2317, 2363), (2317, 2319), (2317, 2337), (2318, 2319), (2318, 2337), (2318, 2335), (2319, 2335), (2319, 2337), (2319, 2370), (2319, 2336), (2319, 2340), (2335, 2336), (2335, 2146), (2335, 2351), (2335, 2337), (2335, 2461), (2335, 2364), (2336, 2337), (2336, 2351), (2336, 2461), (2336, 2364), (2336, 3508), (2336, 2141), (2336, 2371), (2337, 2340), (2337, 2344), (2340, 2344), (2340, 2347), (2344, 2347), (2344, 2363), (2347, 2351), (2347, 2142), (2347, 2233), (2347, 2365), (2347, 2367), (2351, 2363), (2351, 2461), (2351, 2367), (2363, 2364), (2363, 2365), (2363, 2366), (2364, 2365), (2364, 2370), (2364, 2376), (2365, 2366), (2365, 2233), (2365, 2373), (2366, 2367), (2366, 2376), (2367, 2370), (2367, 2367), (2367, 2461), (2370, 2371), (2370, 2377), (2371, 2373), (2371, 2626), (2373, 2376), (2373, 2377), (2376, 2377), (2376, 2723), (2376, 2381), (2377, 2381), (2377, 2628), (2381, 2461), (2381, 2711), (2381, 2621), (2381, 1011), (2461, 2612), (2461, 7621), (2461, 2621), (2612, 2621), (2612, 2612), (2612, 2628), (2612, 2096), (2612, 2626), (2621, 2626), (2621, 2713), (2621, 7621), (2621, 2737), (2626, 2628), (2626, 2766), (2626, 2723), (2628, 2711), (2628, 2144), (2628, 1021), (2711, 2713), (2711, 2735), (2713, 2723), (2713, 2737), (2713, 2767), (2713, 2765), (2723, 2735), (2723, 2765), (2723, 2746), (2735, 2737), (2735, 2764), (2735, 2747), (2737, 2746), (2746, 2747), (2747, 2764), (2747, 2767), (2747, 2765), (2747, 2768), (2764, 2765), (2764, 2768), (2764, 2769), (2765, 2766), (2765, 2767), (2766, 2767), (2766, 2766), (2766, 2769), (2767, 2768), (2768, 2769), (2769, 3508), (2769, 1082), (2769, 3525), (3508, 3516), (3508, 3518), (3516, 3518), (3516, 3525), (3516, 3528), (3518, 3519), (3518, 3532), (3519, 3525), (3519, 3519), (3525, 3528), (3525, 3530), (3525, 3531), (3528, 3530), (3528, 3535), (3530, 3531), (3530, 3532), (3531, 3532), (3531, 3534), (3532, 3534), (3532, 3535), (3534, 3535), (3535, 4024), (4024, 4025), (4024, 4028), (4025, 4026), (4025, 4027), (4026, 4027), (4027, 4028), (4028, 4029), (4029, 6710), (4029, 6720), (6710, 6720), (6710, 6729), (6710, 6750), (6710, 6721), (6720, 6721), (6720, 6727), (6721, 6722), (6722, 6727), (6722, 6750), (6722, 6729), (6727, 6729), (6727, 6757), (6729, 6750), (6729, 6757), (6750, 6757), (6757, 7621), (7621, 7622), (7621, 7623), (7622, 7623), (7622, 7636), (7622, 7633), (7623, 7624), (7623, 7628), (7624, 7625), (7624, 7629), (7624, 7626), (7625, 7626), (7625, 7625), (7626, 7628), (7626, 7626), (7626, 7635), (7628, 7629), (7628, 7633), (7628, 7631), (7629, 7631), (7629, 7633), (7629, 1156), (7631, 7633), (7631, 7635), (7633, 7635), (7633, 7636), (7635, 7636), (7635, 7691), (7636, 7691), (7636, 7693), (7636, 9022), (7691, 7693), (7691, 7691), (7691, 9022), (7693, 9022), (9022, 9026), (9022, 9022), (9022, 9029), (9026, 9029), (9026, 9026), (1011, 1012), (1011, 2233), (1011, 1022), (1011, 1193), (1011, 1239), (1011, 1052), (1012, 1013), (1012, 1082), (1012, 1224), (1012, 1016), (2233, 2146), (1013, 1013), (1013, 1014), (1013, 1184), (1013, 1015), (1013, 1032), (1014, 1015), (1014, 1016), (1014, 1143), (1014, 1067), (1015, 1016), (1015, 1015), (1015, 1029), (1015, 1024), (1016, 1016), (1016, 1021), (1016, 1051), (1016, 1184), (1016, 1032), (1016, 1022), (1021, 1022), (1021, 1034), (1021, 1126), (1021, 1215), (1021, 1029), (1022, 1024), (1022, 1064), (1022, 1051), (1022, 1056), (1024, 1029), (1024, 1056), (1024, 1239), (1024, 1042), (1024, 1092), (1029, 1032), (1029, 1036), (1029, 1055), (1029, 1041), (1032, 1034), (1032, 1035), (1032, 1205), (1032, 1055), (1034, 1035), (1034, 1126), (1034, 1073), (1035, 1036), (1035, 1043), (1036, 1041), (1036, 1061), (1036, 1114), (1041, 1042), (1041, 1043), (1041, 1047), (1042, 1043), (1042, 1091), (1042, 1153), (1042, 1047), (1043, 1047), (1043, 1084), (1043, 1239), (1047, 1051), (1047, 1155), (1047, 1098), (1047, 1061), (1047, 1071), (1051, 1052), (1051, 1064), (1052, 1054), (1054, 1055), (1054, 1056), (1054, 1061), (1055, 1056), (1055, 1061), (1055, 1064), (1055, 1104), (1056, 1061), (1056, 1078), (1056, 1071), (1056, 1153), (1056, 1084), (1061, 1064), (1061, 1066), (1061, 1068), (1064, 1066), (1064, 1096), (1064, 1067), (1066, 1067), (1066, 1072), (1066, 1071), (1067, 1068), (1067, 1075), (1068, 1071), (1068, 1091), (1068, 1072), (1071, 1072), (1071, 1073), (1071, 1076), (1072, 1073), (1072, 1074), (1072, 1094), (1073, 1074), (1073, 1075), (1074, 1075), (1074, 1076), (1074, 1091), (1075, 1076), (1075, 1078), (1075, 1153), (1076, 1077), (1077, 1078), (1077, 1184), (1077, 1082), (1078, 1082), (1078, 1084), (1078, 1085), (1082, 1083), (1083, 1084), (1083, 1085), (1083, 1092), (1084, 1085), (1084, 1113), (1084, 1091), (1084, 1095), (1085, 1086), (1086, 1088), (1088, 1091), (1088, 1092), (1088, 1094), (1088, 1122), (1088, 1101), (1088, 1096), (1091, 1092), (1091, 1102), (1092, 1094), (1092, 1095), (1092, 1122), (1094, 1095), (1094, 1126), (1094, 1098), (1095, 1096), (1095, 1101), (1095, 1113), (1096, 1098), (1096, 1123), (1096, 1122), (1096, 1101), (1098, 1101), (1098, 1104), (1098, 1111), (1098, 1115), (1101, 1102), (1101, 1111), (1101, 1104), (1102, 1104), (1102, 1148), (1102, 1105), (1104, 1105), (1104, 1148), (1104, 1126), (1105, 1111), (1105, 1115), (1105, 1122), (1105, 1148), (1111, 1113), (1111, 1114), (1111, 1132), (1113, 1114), (1113, 1122), (1113, 1144), (1114, 1115), (1114, 1154), (1115, 1122), (1115, 1157), (1115, 1144), (1115, 1132), (1115, 1155), (1122, 1123), (1122, 1239), (1123, 1126), (1123, 1143), (1123, 1132), (1123, 1237), (1126, 1132), (1126, 1143), (1132, 1143), (1132, 1191), (1132, 1186), (1143, 1144), (1143, 1156), (1143, 1195), (1144, 1148), (1144, 1144), (1144, 1153), (1144, 1154), (1148, 1153), (1148, 1157), (1148, 1184), (1153, 1153), (1153, 1154), (1153, 1157), (1154, 1154), (1154, 1155), (1154, 1186), (1154, 1184), (1155, 1155), (1155, 1156), (1156, 1156), (1156, 1157), (1156, 1193), (1156, 1191), (1156, 1215), (1157, 1157), (1157, 1184), (1157, 1195), (1157, 1237), (1157, 1224), (1184, 1186), (1184, 1205), (1186, 1191), (1186, 1205), (1191, 1193), (1193, 1195), (1195, 1205), (1195, 1237), (1195, 1215), (1195, 1224), (1205, 1215), (1205, 1224), (1215, 1224), (1224, 1224), (1224, 1237), (1237, 1239), (1239, 2096), (2096, 2097), (2096, 2096), (2096, 2141), (2097, 2141), (2141, 2142), (2141, 2146), (2142, 2144), (2142, 2146), (2144, 2146)])"
     },
     "execution_count": 74,
     "metadata": {},
     "output_type": "execute_result"
    }
   ],
   "source": [
    "graph.edges()"
   ],
   "metadata": {
    "collapsed": false,
    "ExecuteTime": {
     "end_time": "2024-01-31T10:07:11.449123543Z",
     "start_time": "2024-01-31T10:07:11.448559098Z"
    }
   },
   "id": "3b80a462623c6d8c"
  },
  {
   "cell_type": "code",
   "execution_count": 116,
   "outputs": [
    {
     "ename": "ValueError",
     "evalue": "array is too big; `arr.size * arr.dtype.itemsize` is larger than the maximum possible size.",
     "output_type": "error",
     "traceback": [
      "\u001B[0;31m---------------------------------------------------------------------------\u001B[0m",
      "\u001B[0;31mValueError\u001B[0m                                Traceback (most recent call last)",
      "Cell \u001B[0;32mIn[116], line 6\u001B[0m\n\u001B[1;32m      4\u001B[0m G \u001B[38;5;241m=\u001B[39m dnx\u001B[38;5;241m.\u001B[39mchimera_graph(\u001B[38;5;241m1\u001B[39m, \u001B[38;5;241m1\u001B[39m, \u001B[38;5;241m4\u001B[39m)\n\u001B[1;32m      5\u001B[0m G\u001B[38;5;241m.\u001B[39mremove_node(\u001B[38;5;241m7\u001B[39m)  \u001B[38;5;66;03m# to give a unique solution\u001B[39;00m\n\u001B[0;32m----> 6\u001B[0m \u001B[43mdnx\u001B[49m\u001B[38;5;241;43m.\u001B[39;49m\u001B[43mmin_vertex_cover\u001B[49m\u001B[43m(\u001B[49m\u001B[43mgraph\u001B[49m\u001B[43m,\u001B[49m\u001B[43m \u001B[49m\u001B[43msampler\u001B[49m\u001B[43m,\u001B[49m\u001B[43m \u001B[49m\u001B[43mlagrange\u001B[49m\u001B[38;5;241;43m=\u001B[39;49m\u001B[38;5;241;43m2.0\u001B[39;49m\u001B[43m)\u001B[49m\n",
      "File \u001B[0;32m~/LukaPosao/venv/lib/python3.11/site-packages/dwave_networkx/utils/decorators.py:74\u001B[0m, in \u001B[0;36mbinary_quadratic_model_sampler.<locals>.decorator.<locals>.func\u001B[0;34m(*args, **kwargs)\u001B[0m\n\u001B[1;32m     71\u001B[0m         \u001B[38;5;28;01mraise\u001B[39;00m \u001B[38;5;167;01mTypeError\u001B[39;00m(\u001B[38;5;124m\"\u001B[39m\u001B[38;5;124mexpected sampler to have a \u001B[39m\u001B[38;5;124m'\u001B[39m\u001B[38;5;124msample_ising\u001B[39m\u001B[38;5;124m'\u001B[39m\u001B[38;5;124m method\u001B[39m\u001B[38;5;124m\"\u001B[39m)\n\u001B[1;32m     73\u001B[0m \u001B[38;5;66;03m# now run the function and return the results\u001B[39;00m\n\u001B[0;32m---> 74\u001B[0m \u001B[38;5;28;01mreturn\u001B[39;00m \u001B[43mf\u001B[49m\u001B[43m(\u001B[49m\u001B[38;5;241;43m*\u001B[39;49m\u001B[43mnew_args\u001B[49m\u001B[43m,\u001B[49m\u001B[43m \u001B[49m\u001B[38;5;241;43m*\u001B[39;49m\u001B[38;5;241;43m*\u001B[39;49m\u001B[43mkw\u001B[49m\u001B[43m)\u001B[49m\n",
      "File \u001B[0;32m~/LukaPosao/venv/lib/python3.11/site-packages/dwave_networkx/algorithms/cover.py:152\u001B[0m, in \u001B[0;36mmin_vertex_cover\u001B[0;34m(G, sampler, lagrange, **sampler_args)\u001B[0m\n\u001B[1;32m     82\u001B[0m \u001B[38;5;129m@binary_quadratic_model_sampler\u001B[39m(\u001B[38;5;241m1\u001B[39m)\n\u001B[1;32m     83\u001B[0m \u001B[38;5;28;01mdef\u001B[39;00m \u001B[38;5;21mmin_vertex_cover\u001B[39m(G, sampler\u001B[38;5;241m=\u001B[39m\u001B[38;5;28;01mNone\u001B[39;00m, lagrange\u001B[38;5;241m=\u001B[39m\u001B[38;5;241m2.0\u001B[39m, \u001B[38;5;241m*\u001B[39m\u001B[38;5;241m*\u001B[39msampler_args):\n\u001B[1;32m     84\u001B[0m \u001B[38;5;250m    \u001B[39m\u001B[38;5;124;03m\"\"\"Returns an approximate minimum vertex cover.\u001B[39;00m\n\u001B[1;32m     85\u001B[0m \n\u001B[1;32m     86\u001B[0m \u001B[38;5;124;03m    Defines a QUBO with ground states corresponding to a minimum\u001B[39;00m\n\u001B[0;32m   (...)\u001B[0m\n\u001B[1;32m    150\u001B[0m \n\u001B[1;32m    151\u001B[0m \u001B[38;5;124;03m    \"\"\"\u001B[39;00m\n\u001B[0;32m--> 152\u001B[0m     \u001B[38;5;28;01mreturn\u001B[39;00m \u001B[43mmin_weighted_vertex_cover\u001B[49m\u001B[43m(\u001B[49m\u001B[43mG\u001B[49m\u001B[43m,\u001B[49m\u001B[43m \u001B[49m\u001B[38;5;28;43;01mNone\u001B[39;49;00m\u001B[43m,\u001B[49m\u001B[43m \u001B[49m\u001B[43msampler\u001B[49m\u001B[43m,\u001B[49m\u001B[43m \u001B[49m\u001B[43mlagrange\u001B[49m\u001B[43m,\u001B[49m\u001B[43m \u001B[49m\u001B[38;5;241;43m*\u001B[39;49m\u001B[38;5;241;43m*\u001B[39;49m\u001B[43msampler_args\u001B[49m\u001B[43m)\u001B[49m\n",
      "File \u001B[0;32m~/LukaPosao/venv/lib/python3.11/site-packages/dwave_networkx/utils/decorators.py:74\u001B[0m, in \u001B[0;36mbinary_quadratic_model_sampler.<locals>.decorator.<locals>.func\u001B[0;34m(*args, **kwargs)\u001B[0m\n\u001B[1;32m     71\u001B[0m         \u001B[38;5;28;01mraise\u001B[39;00m \u001B[38;5;167;01mTypeError\u001B[39;00m(\u001B[38;5;124m\"\u001B[39m\u001B[38;5;124mexpected sampler to have a \u001B[39m\u001B[38;5;124m'\u001B[39m\u001B[38;5;124msample_ising\u001B[39m\u001B[38;5;124m'\u001B[39m\u001B[38;5;124m method\u001B[39m\u001B[38;5;124m\"\u001B[39m)\n\u001B[1;32m     73\u001B[0m \u001B[38;5;66;03m# now run the function and return the results\u001B[39;00m\n\u001B[0;32m---> 74\u001B[0m \u001B[38;5;28;01mreturn\u001B[39;00m \u001B[43mf\u001B[49m\u001B[43m(\u001B[49m\u001B[38;5;241;43m*\u001B[39;49m\u001B[43mnew_args\u001B[49m\u001B[43m,\u001B[49m\u001B[43m \u001B[49m\u001B[38;5;241;43m*\u001B[39;49m\u001B[38;5;241;43m*\u001B[39;49m\u001B[43mkw\u001B[49m\u001B[43m)\u001B[49m\n",
      "File \u001B[0;32m~/LukaPosao/venv/lib/python3.11/site-packages/dwave_networkx/algorithms/cover.py:78\u001B[0m, in \u001B[0;36mmin_weighted_vertex_cover\u001B[0;34m(G, weight, sampler, lagrange, **sampler_args)\u001B[0m\n\u001B[1;32m     21\u001B[0m \u001B[38;5;129m@binary_quadratic_model_sampler\u001B[39m(\u001B[38;5;241m2\u001B[39m)\n\u001B[1;32m     22\u001B[0m \u001B[38;5;28;01mdef\u001B[39;00m \u001B[38;5;21mmin_weighted_vertex_cover\u001B[39m(G, weight\u001B[38;5;241m=\u001B[39m\u001B[38;5;28;01mNone\u001B[39;00m, sampler\u001B[38;5;241m=\u001B[39m\u001B[38;5;28;01mNone\u001B[39;00m, lagrange\u001B[38;5;241m=\u001B[39m\u001B[38;5;241m2.0\u001B[39m, \u001B[38;5;241m*\u001B[39m\u001B[38;5;241m*\u001B[39msampler_args):\n\u001B[1;32m     23\u001B[0m \u001B[38;5;250m    \u001B[39m\u001B[38;5;124;03m\"\"\"Returns an approximate minimum weighted vertex cover.\u001B[39;00m\n\u001B[1;32m     24\u001B[0m \n\u001B[1;32m     25\u001B[0m \u001B[38;5;124;03m    Defines a QUBO with ground states corresponding to a minimum weighted\u001B[39;00m\n\u001B[0;32m   (...)\u001B[0m\n\u001B[1;32m     76\u001B[0m \n\u001B[1;32m     77\u001B[0m \u001B[38;5;124;03m    \"\"\"\u001B[39;00m\n\u001B[0;32m---> 78\u001B[0m     indep_nodes \u001B[38;5;241m=\u001B[39m \u001B[38;5;28mset\u001B[39m(\u001B[43mmaximum_weighted_independent_set\u001B[49m\u001B[43m(\u001B[49m\u001B[43mG\u001B[49m\u001B[43m,\u001B[49m\u001B[43m \u001B[49m\u001B[43mweight\u001B[49m\u001B[43m,\u001B[49m\u001B[43m \u001B[49m\u001B[43msampler\u001B[49m\u001B[43m,\u001B[49m\u001B[43m \u001B[49m\u001B[43mlagrange\u001B[49m\u001B[43m,\u001B[49m\u001B[43m \u001B[49m\u001B[38;5;241;43m*\u001B[39;49m\u001B[38;5;241;43m*\u001B[39;49m\u001B[43msampler_args\u001B[49m\u001B[43m)\u001B[49m)\n\u001B[1;32m     79\u001B[0m     \u001B[38;5;28;01mreturn\u001B[39;00m [v \u001B[38;5;28;01mfor\u001B[39;00m v \u001B[38;5;129;01min\u001B[39;00m G \u001B[38;5;28;01mif\u001B[39;00m v \u001B[38;5;129;01mnot\u001B[39;00m \u001B[38;5;129;01min\u001B[39;00m indep_nodes]\n",
      "File \u001B[0;32m~/LukaPosao/venv/lib/python3.11/site-packages/dwave_networkx/utils/decorators.py:74\u001B[0m, in \u001B[0;36mbinary_quadratic_model_sampler.<locals>.decorator.<locals>.func\u001B[0;34m(*args, **kwargs)\u001B[0m\n\u001B[1;32m     71\u001B[0m         \u001B[38;5;28;01mraise\u001B[39;00m \u001B[38;5;167;01mTypeError\u001B[39;00m(\u001B[38;5;124m\"\u001B[39m\u001B[38;5;124mexpected sampler to have a \u001B[39m\u001B[38;5;124m'\u001B[39m\u001B[38;5;124msample_ising\u001B[39m\u001B[38;5;124m'\u001B[39m\u001B[38;5;124m method\u001B[39m\u001B[38;5;124m\"\u001B[39m)\n\u001B[1;32m     73\u001B[0m \u001B[38;5;66;03m# now run the function and return the results\u001B[39;00m\n\u001B[0;32m---> 74\u001B[0m \u001B[38;5;28;01mreturn\u001B[39;00m \u001B[43mf\u001B[49m\u001B[43m(\u001B[49m\u001B[38;5;241;43m*\u001B[39;49m\u001B[43mnew_args\u001B[49m\u001B[43m,\u001B[49m\u001B[43m \u001B[49m\u001B[38;5;241;43m*\u001B[39;49m\u001B[38;5;241;43m*\u001B[39;49m\u001B[43mkw\u001B[49m\u001B[43m)\u001B[49m\n",
      "File \u001B[0;32m~/LukaPosao/venv/lib/python3.11/site-packages/dwave_networkx/algorithms/independent_set.py:90\u001B[0m, in \u001B[0;36mmaximum_weighted_independent_set\u001B[0;34m(G, weight, sampler, lagrange, **sampler_args)\u001B[0m\n\u001B[1;32m     87\u001B[0m Q \u001B[38;5;241m=\u001B[39m maximum_weighted_independent_set_qubo(G, weight, lagrange)\n\u001B[1;32m     89\u001B[0m \u001B[38;5;66;03m# use the sampler to find low energy states\u001B[39;00m\n\u001B[0;32m---> 90\u001B[0m response \u001B[38;5;241m=\u001B[39m \u001B[43msampler\u001B[49m\u001B[38;5;241;43m.\u001B[39;49m\u001B[43msample_qubo\u001B[49m\u001B[43m(\u001B[49m\u001B[43mQ\u001B[49m\u001B[43m,\u001B[49m\u001B[43m \u001B[49m\u001B[38;5;241;43m*\u001B[39;49m\u001B[38;5;241;43m*\u001B[39;49m\u001B[43msampler_args\u001B[49m\u001B[43m)\u001B[49m\n\u001B[1;32m     92\u001B[0m \u001B[38;5;66;03m# we want the lowest energy sample\u001B[39;00m\n\u001B[1;32m     93\u001B[0m sample \u001B[38;5;241m=\u001B[39m \u001B[38;5;28mnext\u001B[39m(\u001B[38;5;28miter\u001B[39m(response))\n",
      "File \u001B[0;32m~/LukaPosao/venv/lib/python3.11/site-packages/dimod/core/sampler.py:291\u001B[0m, in \u001B[0;36mSampler.sample_qubo\u001B[0;34m(self, Q, **parameters)\u001B[0m\n\u001B[1;32m    271\u001B[0m \u001B[38;5;250m\u001B[39m\u001B[38;5;124;03m\"\"\"Sample from a QUBO using the implemented sample method.\u001B[39;00m\n\u001B[1;32m    272\u001B[0m \n\u001B[1;32m    273\u001B[0m \u001B[38;5;124;03mThis method is inherited from the :class:`.Sampler` base class.\u001B[39;00m\n\u001B[0;32m   (...)\u001B[0m\n\u001B[1;32m    288\u001B[0m \n\u001B[1;32m    289\u001B[0m \u001B[38;5;124;03m\"\"\"\u001B[39;00m\n\u001B[1;32m    290\u001B[0m bqm \u001B[38;5;241m=\u001B[39m BinaryQuadraticModel\u001B[38;5;241m.\u001B[39mfrom_qubo(Q)\n\u001B[0;32m--> 291\u001B[0m \u001B[38;5;28;01mreturn\u001B[39;00m \u001B[38;5;28;43mself\u001B[39;49m\u001B[38;5;241;43m.\u001B[39;49m\u001B[43msample\u001B[49m\u001B[43m(\u001B[49m\u001B[43mbqm\u001B[49m\u001B[43m,\u001B[49m\u001B[43m \u001B[49m\u001B[38;5;241;43m*\u001B[39;49m\u001B[38;5;241;43m*\u001B[39;49m\u001B[43mparameters\u001B[49m\u001B[43m)\u001B[49m\n",
      "File \u001B[0;32m~/LukaPosao/venv/lib/python3.11/site-packages/dimod/reference/samplers/exact_solver.py:83\u001B[0m, in \u001B[0;36mExactSolver.sample\u001B[0;34m(self, bqm, **kwargs)\u001B[0m\n\u001B[1;32m     80\u001B[0m \u001B[38;5;28;01mif\u001B[39;00m \u001B[38;5;129;01mnot\u001B[39;00m \u001B[38;5;28mlen\u001B[39m(bqm\u001B[38;5;241m.\u001B[39mvariables):\n\u001B[1;32m     81\u001B[0m     \u001B[38;5;28;01mreturn\u001B[39;00m SampleSet\u001B[38;5;241m.\u001B[39mfrom_samples([], bqm\u001B[38;5;241m.\u001B[39mvartype, energy\u001B[38;5;241m=\u001B[39m[])\n\u001B[0;32m---> 83\u001B[0m samples \u001B[38;5;241m=\u001B[39m \u001B[43m_graycode\u001B[49m\u001B[43m(\u001B[49m\u001B[43mbqm\u001B[49m\u001B[43m)\u001B[49m\n\u001B[1;32m     85\u001B[0m \u001B[38;5;28;01mif\u001B[39;00m bqm\u001B[38;5;241m.\u001B[39mvartype \u001B[38;5;129;01mis\u001B[39;00m Vartype\u001B[38;5;241m.\u001B[39mSPIN:\n\u001B[1;32m     86\u001B[0m     samples \u001B[38;5;241m=\u001B[39m \u001B[38;5;241m2\u001B[39m\u001B[38;5;241m*\u001B[39msamples \u001B[38;5;241m-\u001B[39m \u001B[38;5;241m1\u001B[39m\n",
      "File \u001B[0;32m~/LukaPosao/venv/lib/python3.11/site-packages/dimod/reference/samplers/exact_solver.py:257\u001B[0m, in \u001B[0;36m_graycode\u001B[0;34m(bqm)\u001B[0m\n\u001B[1;32m    255\u001B[0m n \u001B[38;5;241m=\u001B[39m \u001B[38;5;28mlen\u001B[39m(bqm\u001B[38;5;241m.\u001B[39mvariables)\n\u001B[1;32m    256\u001B[0m ns \u001B[38;5;241m=\u001B[39m \u001B[38;5;241m1\u001B[39m \u001B[38;5;241m<<\u001B[39m n\n\u001B[0;32m--> 257\u001B[0m samples \u001B[38;5;241m=\u001B[39m np\u001B[38;5;241m.\u001B[39mempty((ns, n), dtype\u001B[38;5;241m=\u001B[39mnp\u001B[38;5;241m.\u001B[39mint8)\n\u001B[1;32m    259\u001B[0m samples[\u001B[38;5;241m0\u001B[39m, :] \u001B[38;5;241m=\u001B[39m \u001B[38;5;241m0\u001B[39m\n\u001B[1;32m    261\u001B[0m \u001B[38;5;28;01mfor\u001B[39;00m i \u001B[38;5;129;01min\u001B[39;00m \u001B[38;5;28mrange\u001B[39m(\u001B[38;5;241m1\u001B[39m, ns):\n",
      "\u001B[0;31mValueError\u001B[0m: array is too big; `arr.size * arr.dtype.itemsize` is larger than the maximum possible size."
     ]
    }
   ],
   "source": [
    "import dwave_networkx as dnx\n",
    "import dimod\n",
    "sampler = dimod.ExactSolver()  # small testing sampler\n",
    "G = dnx.chimera_graph(1, 1, 4)\n",
    "G.remove_node(7)  # to give a unique solution\n",
    "dnx.min_vertex_cover(graph, sampler, lagrange=2.0)"
   ],
   "metadata": {
    "collapsed": false,
    "ExecuteTime": {
     "end_time": "2024-01-31T10:32:55.000657729Z",
     "start_time": "2024-01-31T10:32:54.935623918Z"
    }
   },
   "id": "8791696c4d58f3b7"
  },
  {
   "cell_type": "code",
   "execution_count": 68,
   "outputs": [
    {
     "data": {
      "text/plain": "<Figure size 640x480 with 1 Axes>",
      "image/png": "[encoded data removed]"
     },
     "metadata": {},
     "output_type": "display_data"
    }
   ],
   "source": [
    "nx.draw(G)"
   ],
   "metadata": {
    "collapsed": false,
    "ExecuteTime": {
     "end_time": "2024-01-31T10:05:20.566621312Z",
     "start_time": "2024-01-31T10:05:20.382638073Z"
    }
   },
   "id": "48f63df878cf485f"
  },
  {
   "cell_type": "code",
   "execution_count": 32,
   "outputs": [
    {
     "name": "stderr",
     "output_type": "stream",
     "text": [
      "/tmp/ipykernel_38726/2476937825.py:1: DtypeWarning: Columns (8) have mixed types. Specify dtype option on import or set low_memory=False.\n",
      "  cars = pd.read_csv(f'{utils.get_others_path(\"netrisk_casco\")}full_trim_list.csv')\n"
     ]
    }
   ],
   "source": [
    "cars = pd.read_csv(f'{utils.get_others_path(\"netrisk_casco\")}full_trim_list.csv')\n",
    "prices = pd.read_csv(f'{utils.get_others_path(\"netrisk_casco\")}price.csv')[['eurotax_code', 'new_price_1_gross']].rename(columns={'new_price_1_gross': 'car_value'})\n",
    "cars = pd.merge(cars, prices, on = 'eurotax_code', how = 'inner')"
   ],
   "metadata": {
    "collapsed": false,
    "ExecuteTime": {
     "end_time": "2024-01-30T18:06:28.170274931Z",
     "start_time": "2024-01-30T18:06:27.597582868Z"
    }
   },
   "id": "b6d999d4715d7b4b"
  },
  {
   "cell_type": "code",
   "execution_count": 33,
   "outputs": [
    {
     "data": {
      "text/plain": "        vehicle_type  production_code product_name  manufacturer_switch_code  \\\n16                10                1       ABARTH                         1   \n23                10                1       ABARTH                         1   \n30                10                1       ABARTH                         1   \n33                10                1       ABARTH                         1   \n44                10                1       ABARTH                         1   \n...              ...              ...          ...                       ...   \n123463            30              285          SWM                       285   \n123464            30              285          SWM                       285   \n123465            30              285          SWM                       285   \n123466            30              220     ENERGICA                       220   \n123467            30              220     ENERGICA                       220   \n\n                         model_series_name_1  model_series_code  \\\n16                                       595               1004   \n23                                       595               1004   \n30                                       595               1004   \n33                                       595               1004   \n44                                      595C               1003   \n...                                      ...                ...   \n123463  Motorkerékpár [126 - 500 ccm között]             285015   \n123464  Motorkerékpár [501 - 900 ccm között]             285020   \n123465  Motorkerékpár [501 - 900 ccm között]             285020   \n123466   Motorkerékpár [ 0 - 125 ccm között]             220010   \n123467   Motorkerékpár [ 0 - 125 ccm között]             220010   \n\n        start_of_production  end_of_production eurotax_code  \\\n16                     2016                NaN     0103B007   \n23                     2016                NaN     0103B003   \n30                     2016                NaN     0103B018   \n33                     2016                NaN     0103B005   \n44                     2016                NaN     0104B009   \n...                     ...                ...          ...   \n123463                 2019                NaN     85300017   \n123464                 2019             2021.0     85300012   \n123465                 2019             2021.0     85300019   \n123466                 2020                NaN     20300001   \n123467                 2020                NaN     20300002   \n\n                           type_name  ...  performance               fuel  \\\n16               1.4 T-Jet 160 PISTA  ...        118.0  Benzin ólommentes   \n23             1.4 T-Jet 165 Turismo  ...        121.0  Benzin ólommentes   \n30      1.4 T-Jet 165 PISTA Dualogic  ...        121.0  Benzin ólommentes   \n33        1.4 T-Jet 180 Competizione  ...        132.0  Benzin ólommentes   \n44                     1.4 T-Jet 145  ...        107.0  Benzin ólommentes   \n...                              ...  ...          ...                ...   \n123463       Grand Milano Outlaw 500  ...         22.0             Benzin   \n123464               Superdual 650 X  ...         40.0             Benzin   \n123465                   Superdual T  ...         40.0             Benzin   \n123466                          EGO+  ...        107.0         Elektromos   \n123467                   Eva Ribelle  ...        107.0         Elektromos   \n\n       number_of_doors  cylinder_capacity  total_weight  \\\n16                   3             1368.0          1385   \n23                   3             1368.0          1385   \n30                   3             1368.0          1385   \n33                   3             1368.0          1385   \n44                   2             1368.0          1385   \n...                ...                ...           ...   \n123463               0              445.0             0   \n123464               0              600.0             0   \n123465               0              600.0             0   \n123466               0                0.0             0   \n123467               0                0.0             0   \n\n        own_crowd_with_driver  number_of_seats  \\\n16                       1035                4   \n23                       1035                4   \n30                       1035                4   \n33                       1035                4   \n44                       1035                4   \n...                       ...              ...   \n123463                    145                0   \n123464                    187                0   \n123465                    187                0   \n123466                      0                0   \n123467                      0                0   \n\n                                                full_name fuel_short  \\\n16                         ABARTH_595_1.4 T-Jet 160 PISTA          O   \n23                       ABARTH_595_1.4 T-Jet 165 Turismo          O   \n30                ABARTH_595_1.4 T-Jet 165 PISTA Dualogic          O   \n33                  ABARTH_595_1.4 T-Jet 180 Competizione          O   \n44                              ABARTH_595C_1.4 T-Jet 145          O   \n...                                                   ...        ...   \n123463  SWM_Motorkerékpár [126 - 500 ccm között]_Grand...          O   \n123464  SWM_Motorkerékpár [501 - 900 ccm között]_Super...          O   \n123465  SWM_Motorkerékpár [501 - 900 ccm között]_Super...          O   \n123466  ENERGICA_Motorkerékpár [ 0 - 125 ccm között]_EGO+          E   \n123467  ENERGICA_Motorkerékpár [ 0 - 125 ccm között]_E...          E   \n\n         car_value  \n16       6480000.0  \n23       6630000.0  \n30       6740000.0  \n33       7530000.0  \n44       6630000.0  \n...            ...  \n123463   1975000.0  \n123464   2670000.0  \n123465   2670000.0  \n123466  10780000.0  \n123467  11475000.0  \n\n[71609 rows x 21 columns]",
      "text/html": "<div>\n<style scoped>\n    .dataframe tbody tr th:only-of-type {\n        vertical-align: middle;\n    }\n\n    .dataframe tbody tr th {\n        vertical-align: top;\n    }\n\n    .dataframe thead th {\n        text-align: right;\n    }\n</style>\n<table border=\"1\" class=\"dataframe\">\n  <thead>\n    <tr style=\"text-align: right;\">\n      <th></th>\n      <th>vehicle_type</th>\n      <th>production_code</th>\n      <th>product_name</th>\n      <th>manufacturer_switch_code</th>\n      <th>model_series_name_1</th>\n      <th>model_series_code</th>\n      <th>start_of_production</th>\n      <th>end_of_production</th>\n      <th>eurotax_code</th>\n      <th>type_name</th>\n      <th>...</th>\n      <th>performance</th>\n      <th>fuel</th>\n      <th>number_of_doors</th>\n      <th>cylinder_capacity</th>\n      <th>total_weight</th>\n      <th>own_crowd_with_driver</th>\n      <th>number_of_seats</th>\n      <th>full_name</th>\n      <th>fuel_short</th>\n      <th>car_value</th>\n    </tr>\n  </thead>\n  <tbody>\n    <tr>\n      <th>16</th>\n      <td>10</td>\n      <td>1</td>\n      <td>ABARTH</td>\n      <td>1</td>\n      <td>595</td>\n      <td>1004</td>\n      <td>2016</td>\n      <td>NaN</td>\n      <td>0103B007</td>\n      <td>1.4 T-Jet 160 PISTA</td>\n      <td>...</td>\n      <td>118.0</td>\n      <td>Benzin ólommentes</td>\n      <td>3</td>\n      <td>1368.0</td>\n      <td>1385</td>\n      <td>1035</td>\n      <td>4</td>\n      <td>ABARTH_595_1.4 T-Jet 160 PISTA</td>\n      <td>O</td>\n      <td>6480000.0</td>\n    </tr>\n    <tr>\n      <th>23</th>\n      <td>10</td>\n      <td>1</td>\n      <td>ABARTH</td>\n      <td>1</td>\n      <td>595</td>\n      <td>1004</td>\n      <td>2016</td>\n      <td>NaN</td>\n      <td>0103B003</td>\n      <td>1.4 T-Jet 165 Turismo</td>\n      <td>...</td>\n      <td>121.0</td>\n      <td>Benzin ólommentes</td>\n      <td>3</td>\n      <td>1368.0</td>\n      <td>1385</td>\n      <td>1035</td>\n      <td>4</td>\n      <td>ABARTH_595_1.4 T-Jet 165 Turismo</td>\n      <td>O</td>\n      <td>6630000.0</td>\n    </tr>\n    <tr>\n      <th>30</th>\n      <td>10</td>\n      <td>1</td>\n      <td>ABARTH</td>\n      <td>1</td>\n      <td>595</td>\n      <td>1004</td>\n      <td>2016</td>\n      <td>NaN</td>\n      <td>0103B018</td>\n      <td>1.4 T-Jet 165 PISTA Dualogic</td>\n      <td>...</td>\n      <td>121.0</td>\n      <td>Benzin ólommentes</td>\n      <td>3</td>\n      <td>1368.0</td>\n      <td>1385</td>\n      <td>1035</td>\n      <td>4</td>\n      <td>ABARTH_595_1.4 T-Jet 165 PISTA Dualogic</td>\n      <td>O</td>\n      <td>6740000.0</td>\n    </tr>\n    <tr>\n      <th>33</th>\n      <td>10</td>\n      <td>1</td>\n      <td>ABARTH</td>\n      <td>1</td>\n      <td>595</td>\n      <td>1004</td>\n      <td>2016</td>\n      <td>NaN</td>\n      <td>0103B005</td>\n      <td>1.4 T-Jet 180 Competizione</td>\n      <td>...</td>\n      <td>132.0</td>\n      <td>Benzin ólommentes</td>\n      <td>3</td>\n      <td>1368.0</td>\n      <td>1385</td>\n      <td>1035</td>\n      <td>4</td>\n      <td>ABARTH_595_1.4 T-Jet 180 Competizione</td>\n      <td>O</td>\n      <td>7530000.0</td>\n    </tr>\n    <tr>\n      <th>44</th>\n      <td>10</td>\n      <td>1</td>\n      <td>ABARTH</td>\n      <td>1</td>\n      <td>595C</td>\n      <td>1003</td>\n      <td>2016</td>\n      <td>NaN</td>\n      <td>0104B009</td>\n      <td>1.4 T-Jet 145</td>\n      <td>...</td>\n      <td>107.0</td>\n      <td>Benzin ólommentes</td>\n      <td>2</td>\n      <td>1368.0</td>\n      <td>1385</td>\n      <td>1035</td>\n      <td>4</td>\n      <td>ABARTH_595C_1.4 T-Jet 145</td>\n      <td>O</td>\n      <td>6630000.0</td>\n    </tr>\n    <tr>\n      <th>...</th>\n      <td>...</td>\n      <td>...</td>\n      <td>...</td>\n      <td>...</td>\n      <td>...</td>\n      <td>...</td>\n      <td>...</td>\n      <td>...</td>\n      <td>...</td>\n      <td>...</td>\n      <td>...</td>\n      <td>...</td>\n      <td>...</td>\n      <td>...</td>\n      <td>...</td>\n      <td>...</td>\n      <td>...</td>\n      <td>...</td>\n      <td>...</td>\n      <td>...</td>\n      <td>...</td>\n    </tr>\n    <tr>\n      <th>123463</th>\n      <td>30</td>\n      <td>285</td>\n      <td>SWM</td>\n      <td>285</td>\n      <td>Motorkerékpár [126 - 500 ccm között]</td>\n      <td>285015</td>\n      <td>2019</td>\n      <td>NaN</td>\n      <td>85300017</td>\n      <td>Grand Milano Outlaw 500</td>\n      <td>...</td>\n      <td>22.0</td>\n      <td>Benzin</td>\n      <td>0</td>\n      <td>445.0</td>\n      <td>0</td>\n      <td>145</td>\n      <td>0</td>\n      <td>SWM_Motorkerékpár [126 - 500 ccm között]_Grand...</td>\n      <td>O</td>\n      <td>1975000.0</td>\n    </tr>\n    <tr>\n      <th>123464</th>\n      <td>30</td>\n      <td>285</td>\n      <td>SWM</td>\n      <td>285</td>\n      <td>Motorkerékpár [501 - 900 ccm között]</td>\n      <td>285020</td>\n      <td>2019</td>\n      <td>2021.0</td>\n      <td>85300012</td>\n      <td>Superdual 650 X</td>\n      <td>...</td>\n      <td>40.0</td>\n      <td>Benzin</td>\n      <td>0</td>\n      <td>600.0</td>\n      <td>0</td>\n      <td>187</td>\n      <td>0</td>\n      <td>SWM_Motorkerékpár [501 - 900 ccm között]_Super...</td>\n      <td>O</td>\n      <td>2670000.0</td>\n    </tr>\n    <tr>\n      <th>123465</th>\n      <td>30</td>\n      <td>285</td>\n      <td>SWM</td>\n      <td>285</td>\n      <td>Motorkerékpár [501 - 900 ccm között]</td>\n      <td>285020</td>\n      <td>2019</td>\n      <td>2021.0</td>\n      <td>85300019</td>\n      <td>Superdual T</td>\n      <td>...</td>\n      <td>40.0</td>\n      <td>Benzin</td>\n      <td>0</td>\n      <td>600.0</td>\n      <td>0</td>\n      <td>187</td>\n      <td>0</td>\n      <td>SWM_Motorkerékpár [501 - 900 ccm között]_Super...</td>\n      <td>O</td>\n      <td>2670000.0</td>\n    </tr>\n    <tr>\n      <th>123466</th>\n      <td>30</td>\n      <td>220</td>\n      <td>ENERGICA</td>\n      <td>220</td>\n      <td>Motorkerékpár [ 0 - 125 ccm között]</td>\n      <td>220010</td>\n      <td>2020</td>\n      <td>NaN</td>\n      <td>20300001</td>\n      <td>EGO+</td>\n      <td>...</td>\n      <td>107.0</td>\n      <td>Elektromos</td>\n      <td>0</td>\n      <td>0.0</td>\n      <td>0</td>\n      <td>0</td>\n      <td>0</td>\n      <td>ENERGICA_Motorkerékpár [ 0 - 125 ccm között]_EGO+</td>\n      <td>E</td>\n      <td>10780000.0</td>\n    </tr>\n    <tr>\n      <th>123467</th>\n      <td>30</td>\n      <td>220</td>\n      <td>ENERGICA</td>\n      <td>220</td>\n      <td>Motorkerékpár [ 0 - 125 ccm között]</td>\n      <td>220010</td>\n      <td>2020</td>\n      <td>NaN</td>\n      <td>20300002</td>\n      <td>Eva Ribelle</td>\n      <td>...</td>\n      <td>107.0</td>\n      <td>Elektromos</td>\n      <td>0</td>\n      <td>0.0</td>\n      <td>0</td>\n      <td>0</td>\n      <td>0</td>\n      <td>ENERGICA_Motorkerékpár [ 0 - 125 ccm között]_E...</td>\n      <td>E</td>\n      <td>11475000.0</td>\n    </tr>\n  </tbody>\n</table>\n<p>71609 rows × 21 columns</p>\n</div>"
     },
     "execution_count": 33,
     "metadata": {},
     "output_type": "execute_result"
    }
   ],
   "source": [
    "cars[cars.duplicated(subset = ['car_value'])]"
   ],
   "metadata": {
    "collapsed": false,
    "ExecuteTime": {
     "end_time": "2024-01-30T18:06:28.805382776Z",
     "start_time": "2024-01-30T18:06:28.724031203Z"
    }
   },
   "id": "3cae3b0cf62246be"
  },
  {
   "cell_type": "code",
   "execution_count": 28,
   "outputs": [
    {
     "data": {
      "text/plain": "        vehicle_type  production_code product_name  manufacturer_switch_code  \\\n0                 10                1       ABARTH                         1   \n1                 10                1       ABARTH                         1   \n2                 10                1       ABARTH                         1   \n3                 10                1       ABARTH                         1   \n4                 10                1       ABARTH                         1   \n...              ...              ...          ...                       ...   \n131263            30              320          RAP                       320   \n131264            30              320          RAP                       320   \n131265            30              320          RAP                       320   \n131266            30              320          RAP                       320   \n131267            30              320          RAP                       320   \n\n             model_series_name_1  model_series_code  start_of_production  \\\n0                            500               1008                 2008   \n1                            500               1008                 2008   \n2                            595               1010                 2008   \n3                            595               1010                 2008   \n4                            595               1010                 2008   \n...                          ...                ...                  ...   \n131263  ATV / Quad / Áruszállító             320090                 2023   \n131264  ATV / Quad / Áruszállító             320090                 2023   \n131265  ATV / Quad / Áruszállító             320090                 2023   \n131266  ATV / Quad / Áruszállító             320090                 2023   \n131267  ATV / Quad / Áruszállító             320090                 2023   \n\n        end_of_production eurotax_code                 type_name  \\\n0                  2016.0     01Z1B001                       1.4   \n1                  2016.0     01Z1B002                       1.4   \n2                  2016.0     01Z2B004         1.4 T-Jet Turismo   \n3                  2016.0     01Z2B001    1.4 T-Jet Turismo Aut.   \n4                  2016.0     01Z2B005    1.4 T-Jet Competizione   \n...                   ...          ...                       ...   \n131263                NaN     12300020             Bange Van Box   \n131264                NaN     12300021  Bange Refrigerated model   \n131265                NaN     12300022             Bange Pick Up   \n131266                NaN     12300023           Oak L2e Van Box   \n131267                NaN     12300024           Oak L5e Van Box   \n\n        model_series_switch_code  performance               fuel  \\\n0                           1008         99.0  Benzin ólommentes   \n1                           1008         99.0  Benzin ólommentes   \n2                           1010        118.0  Benzin ólommentes   \n3                           1010        118.0  Benzin ólommentes   \n4                           1010        118.0  Benzin ólommentes   \n...                          ...          ...                ...   \n131263                    320090          5.0         Elektromos   \n131264                    320090          5.0         Elektromos   \n131265                    320090          5.0         Elektromos   \n131266                    320090          4.0         Elektromos   \n131267                    320090          6.0         Elektromos   \n\n        number_of_doors  cylinder_capacity  total_weight  \\\n0                     3             1368.0          1720   \n1                     3             1368.0          1425   \n2                     3             1368.0          1720   \n3                     3             1368.0          1400   \n4                     3             1368.0          1425   \n...                 ...                ...           ...   \n131263                0                0.0           380   \n131264                0                0.0           380   \n131265                0                0.0           380   \n131266                0                0.0           430   \n131267                0                0.0           550   \n\n        own_crowd_with_driver  number_of_seats  \\\n0                        1035                4   \n1                        1035                4   \n2                        1330                4   \n3                        1045                4   \n4                        1035                4   \n...                       ...              ...   \n131263                    130                0   \n131264                    130                0   \n131265                    130                0   \n131266                    380                0   \n131267                    435                0   \n\n                                                full_name fuel_short  \n0                                          ABARTH_500_1.4          O  \n1                                          ABARTH_500_1.4          O  \n2                            ABARTH_595_1.4 T-Jet Turismo          O  \n3                       ABARTH_595_1.4 T-Jet Turismo Aut.          O  \n4                       ABARTH_595_1.4 T-Jet Competizione          O  \n...                                                   ...        ...  \n131263         RAP_ATV / Quad / Áruszállító_Bange Van Box          E  \n131264  RAP_ATV / Quad / Áruszállító_Bange Refrigerate...          E  \n131265         RAP_ATV / Quad / Áruszállító_Bange Pick Up          E  \n131266       RAP_ATV / Quad / Áruszállító_Oak L2e Van Box          E  \n131267       RAP_ATV / Quad / Áruszállító_Oak L5e Van Box          E  \n\n[131268 rows x 20 columns]",
      "text/html": "<div>\n<style scoped>\n    .dataframe tbody tr th:only-of-type {\n        vertical-align: middle;\n    }\n\n    .dataframe tbody tr th {\n        vertical-align: top;\n    }\n\n    .dataframe thead th {\n        text-align: right;\n    }\n</style>\n<table border=\"1\" class=\"dataframe\">\n  <thead>\n    <tr style=\"text-align: right;\">\n      <th></th>\n      <th>vehicle_type</th>\n      <th>production_code</th>\n      <th>product_name</th>\n      <th>manufacturer_switch_code</th>\n      <th>model_series_name_1</th>\n      <th>model_series_code</th>\n      <th>start_of_production</th>\n      <th>end_of_production</th>\n      <th>eurotax_code</th>\n      <th>type_name</th>\n      <th>model_series_switch_code</th>\n      <th>performance</th>\n      <th>fuel</th>\n      <th>number_of_doors</th>\n      <th>cylinder_capacity</th>\n      <th>total_weight</th>\n      <th>own_crowd_with_driver</th>\n      <th>number_of_seats</th>\n      <th>full_name</th>\n      <th>fuel_short</th>\n    </tr>\n  </thead>\n  <tbody>\n    <tr>\n      <th>0</th>\n      <td>10</td>\n      <td>1</td>\n      <td>ABARTH</td>\n      <td>1</td>\n      <td>500</td>\n      <td>1008</td>\n      <td>2008</td>\n      <td>2016.0</td>\n      <td>01Z1B001</td>\n      <td>1.4</td>\n      <td>1008</td>\n      <td>99.0</td>\n      <td>Benzin ólommentes</td>\n      <td>3</td>\n      <td>1368.0</td>\n      <td>1720</td>\n      <td>1035</td>\n      <td>4</td>\n      <td>ABARTH_500_1.4</td>\n      <td>O</td>\n    </tr>\n    <tr>\n      <th>1</th>\n      <td>10</td>\n      <td>1</td>\n      <td>ABARTH</td>\n      <td>1</td>\n      <td>500</td>\n      <td>1008</td>\n      <td>2008</td>\n      <td>2016.0</td>\n      <td>01Z1B002</td>\n      <td>1.4</td>\n      <td>1008</td>\n      <td>99.0</td>\n      <td>Benzin ólommentes</td>\n      <td>3</td>\n      <td>1368.0</td>\n      <td>1425</td>\n      <td>1035</td>\n      <td>4</td>\n      <td>ABARTH_500_1.4</td>\n      <td>O</td>\n    </tr>\n    <tr>\n      <th>2</th>\n      <td>10</td>\n      <td>1</td>\n      <td>ABARTH</td>\n      <td>1</td>\n      <td>595</td>\n      <td>1010</td>\n      <td>2008</td>\n      <td>2016.0</td>\n      <td>01Z2B004</td>\n      <td>1.4 T-Jet Turismo</td>\n      <td>1010</td>\n      <td>118.0</td>\n      <td>Benzin ólommentes</td>\n      <td>3</td>\n      <td>1368.0</td>\n      <td>1720</td>\n      <td>1330</td>\n      <td>4</td>\n      <td>ABARTH_595_1.4 T-Jet Turismo</td>\n      <td>O</td>\n    </tr>\n    <tr>\n      <th>3</th>\n      <td>10</td>\n      <td>1</td>\n      <td>ABARTH</td>\n      <td>1</td>\n      <td>595</td>\n      <td>1010</td>\n      <td>2008</td>\n      <td>2016.0</td>\n      <td>01Z2B001</td>\n      <td>1.4 T-Jet Turismo Aut.</td>\n      <td>1010</td>\n      <td>118.0</td>\n      <td>Benzin ólommentes</td>\n      <td>3</td>\n      <td>1368.0</td>\n      <td>1400</td>\n      <td>1045</td>\n      <td>4</td>\n      <td>ABARTH_595_1.4 T-Jet Turismo Aut.</td>\n      <td>O</td>\n    </tr>\n    <tr>\n      <th>4</th>\n      <td>10</td>\n      <td>1</td>\n      <td>ABARTH</td>\n      <td>1</td>\n      <td>595</td>\n      <td>1010</td>\n      <td>2008</td>\n      <td>2016.0</td>\n      <td>01Z2B005</td>\n      <td>1.4 T-Jet Competizione</td>\n      <td>1010</td>\n      <td>118.0</td>\n      <td>Benzin ólommentes</td>\n      <td>3</td>\n      <td>1368.0</td>\n      <td>1425</td>\n      <td>1035</td>\n      <td>4</td>\n      <td>ABARTH_595_1.4 T-Jet Competizione</td>\n      <td>O</td>\n    </tr>\n    <tr>\n      <th>...</th>\n      <td>...</td>\n      <td>...</td>\n      <td>...</td>\n      <td>...</td>\n      <td>...</td>\n      <td>...</td>\n      <td>...</td>\n      <td>...</td>\n      <td>...</td>\n      <td>...</td>\n      <td>...</td>\n      <td>...</td>\n      <td>...</td>\n      <td>...</td>\n      <td>...</td>\n      <td>...</td>\n      <td>...</td>\n      <td>...</td>\n      <td>...</td>\n      <td>...</td>\n    </tr>\n    <tr>\n      <th>131263</th>\n      <td>30</td>\n      <td>320</td>\n      <td>RAP</td>\n      <td>320</td>\n      <td>ATV / Quad / Áruszállító</td>\n      <td>320090</td>\n      <td>2023</td>\n      <td>NaN</td>\n      <td>12300020</td>\n      <td>Bange Van Box</td>\n      <td>320090</td>\n      <td>5.0</td>\n      <td>Elektromos</td>\n      <td>0</td>\n      <td>0.0</td>\n      <td>380</td>\n      <td>130</td>\n      <td>0</td>\n      <td>RAP_ATV / Quad / Áruszállító_Bange Van Box</td>\n      <td>E</td>\n    </tr>\n    <tr>\n      <th>131264</th>\n      <td>30</td>\n      <td>320</td>\n      <td>RAP</td>\n      <td>320</td>\n      <td>ATV / Quad / Áruszállító</td>\n      <td>320090</td>\n      <td>2023</td>\n      <td>NaN</td>\n      <td>12300021</td>\n      <td>Bange Refrigerated model</td>\n      <td>320090</td>\n      <td>5.0</td>\n      <td>Elektromos</td>\n      <td>0</td>\n      <td>0.0</td>\n      <td>380</td>\n      <td>130</td>\n      <td>0</td>\n      <td>RAP_ATV / Quad / Áruszállító_Bange Refrigerate...</td>\n      <td>E</td>\n    </tr>\n    <tr>\n      <th>131265</th>\n      <td>30</td>\n      <td>320</td>\n      <td>RAP</td>\n      <td>320</td>\n      <td>ATV / Quad / Áruszállító</td>\n      <td>320090</td>\n      <td>2023</td>\n      <td>NaN</td>\n      <td>12300022</td>\n      <td>Bange Pick Up</td>\n      <td>320090</td>\n      <td>5.0</td>\n      <td>Elektromos</td>\n      <td>0</td>\n      <td>0.0</td>\n      <td>380</td>\n      <td>130</td>\n      <td>0</td>\n      <td>RAP_ATV / Quad / Áruszállító_Bange Pick Up</td>\n      <td>E</td>\n    </tr>\n    <tr>\n      <th>131266</th>\n      <td>30</td>\n      <td>320</td>\n      <td>RAP</td>\n      <td>320</td>\n      <td>ATV / Quad / Áruszállító</td>\n      <td>320090</td>\n      <td>2023</td>\n      <td>NaN</td>\n      <td>12300023</td>\n      <td>Oak L2e Van Box</td>\n      <td>320090</td>\n      <td>4.0</td>\n      <td>Elektromos</td>\n      <td>0</td>\n      <td>0.0</td>\n      <td>430</td>\n      <td>380</td>\n      <td>0</td>\n      <td>RAP_ATV / Quad / Áruszállító_Oak L2e Van Box</td>\n      <td>E</td>\n    </tr>\n    <tr>\n      <th>131267</th>\n      <td>30</td>\n      <td>320</td>\n      <td>RAP</td>\n      <td>320</td>\n      <td>ATV / Quad / Áruszállító</td>\n      <td>320090</td>\n      <td>2023</td>\n      <td>NaN</td>\n      <td>12300024</td>\n      <td>Oak L5e Van Box</td>\n      <td>320090</td>\n      <td>6.0</td>\n      <td>Elektromos</td>\n      <td>0</td>\n      <td>0.0</td>\n      <td>550</td>\n      <td>435</td>\n      <td>0</td>\n      <td>RAP_ATV / Quad / Áruszállító_Oak L5e Van Box</td>\n      <td>E</td>\n    </tr>\n  </tbody>\n</table>\n<p>131268 rows × 20 columns</p>\n</div>"
     },
     "execution_count": 28,
     "metadata": {},
     "output_type": "execute_result"
    }
   ],
   "source": [
    "cars"
   ],
   "metadata": {
    "collapsed": false,
    "ExecuteTime": {
     "end_time": "2024-01-30T18:03:38.946869825Z",
     "start_time": "2024-01-30T18:03:38.921815515Z"
    }
   },
   "id": "8d9fd6ece0fa9e25"
  },
  {
   "cell_type": "code",
   "execution_count": 38,
   "outputs": [
    {
     "data": {
      "text/plain": "      vehicle_type  production_code product_name  manufacturer_switch_code  \\\n864             10                5         AUDI                         5   \n865             10                5         AUDI                         5   \n866             10                5         AUDI                         5   \n867             10                5         AUDI                         5   \n868             10                5         AUDI                         5   \n...            ...              ...          ...                       ...   \n5332            10                5         AUDI                         5   \n5333            10                5         AUDI                         5   \n5334            10                5         AUDI                         5   \n5335            10                5         AUDI                         5   \n5336            10                5         AUDI                         5   \n\n     model_series_name_1  model_series_code  start_of_production  \\\n864         A1 Sportback               5282                 2018   \n865         A1 Sportback               5282                 2018   \n866         A1 Sportback               5282                 2018   \n867         A1 Sportback               5282                 2018   \n868         A1 Sportback               5282                 2018   \n...                  ...                ...                  ...   \n5332    e-tron Sportback               5304                 2020   \n5333    e-tron Sportback               5304                 2020   \n5334    e-tron Sportback               5304                 2020   \n5335    e-tron Sportback               5304                 2020   \n5336    e-tron Sportback               5304                 2020   \n\n      end_of_production eurotax_code                      type_name  ...  \\\n864                 NaN     056EB007                  25 TFSI Basis  ...   \n865                 NaN     056EB014         25 TFSI Basis S-tronic  ...   \n866                 NaN     056EB008               25 TFSI Advanced  ...   \n867                 NaN     056EB015      25 TFSI Advanced S-tronic  ...   \n868                 NaN     056EB009                 25 TFSI S line  ...   \n...                 ...          ...                            ...  ...   \n5332                NaN     0502M005       55 Advanced quattro Aut.  ...   \n5333                NaN     0502M011  55 Advanced Xtra quattro Aut.  ...   \n5334                NaN     0502M006         55 S line quattro Aut.  ...   \n5335                NaN     0502M012    55 S line Xtra quattro Aut.  ...   \n5336                NaN     0502M013              60 S quattro Aut.  ...   \n\n      performance               fuel number_of_doors  cylinder_capacity  \\\n864          70.0  Benzin ólommentes               5              999.0   \n865          70.0  Benzin ólommentes               5              999.0   \n866          70.0  Benzin ólommentes               5              999.0   \n867          70.0  Benzin ólommentes               5              999.0   \n868          70.0  Benzin ólommentes               5              999.0   \n...           ...                ...             ...                ...   \n5332        300.0  Áram (Elektromos)               5                0.0   \n5333        300.0  Áram (Elektromos)               5                0.0   \n5334        300.0  Áram (Elektromos)               5                0.0   \n5335        300.0  Áram (Elektromos)               5                0.0   \n5336        370.0  Áram (Elektromos)               5                0.0   \n\n      total_weight  own_crowd_with_driver  number_of_seats  \\\n864           1630                   1165                5   \n865           1705                   1200                5   \n866           1630                   1165                4   \n867           1705                   1200                5   \n868           1630                   1165                4   \n...            ...                    ...              ...   \n5332          3150                   2555                5   \n5333          3150                   2555                5   \n5334          3150                   2555                5   \n5335          3150                   2555                5   \n5336          3245                   2695                5   \n\n                                              full_name fuel_short   car_value  \n864                     AUDI_A1 Sportback_25 TFSI Basis          O   6500410.0  \n865            AUDI_A1 Sportback_25 TFSI Basis S-tronic          O   7179860.0  \n866                  AUDI_A1 Sportback_25 TFSI Advanced          O   6955070.0  \n867         AUDI_A1 Sportback_25 TFSI Advanced S-tronic          O   7635790.0  \n868                    AUDI_A1 Sportback_25 TFSI S line          O   7372900.0  \n...                                                 ...        ...         ...  \n5332     AUDI_e-tron Sportback_55 Advanced quattro Aut.          E  33403540.0  \n5333  AUDI_e-tron Sportback_55 Advanced Xtra quattro...          E  32066230.0  \n5334       AUDI_e-tron Sportback_55 S line quattro Aut.          E  34085530.0  \n5335  AUDI_e-tron Sportback_55 S line Xtra quattro Aut.          E  32659320.0  \n5336            AUDI_e-tron Sportback_60 S quattro Aut.          E  37130990.0  \n\n[1491 rows x 21 columns]",
      "text/html": "<div>\n<style scoped>\n    .dataframe tbody tr th:only-of-type {\n        vertical-align: middle;\n    }\n\n    .dataframe tbody tr th {\n        vertical-align: top;\n    }\n\n    .dataframe thead th {\n        text-align: right;\n    }\n</style>\n<table border=\"1\" class=\"dataframe\">\n  <thead>\n    <tr style=\"text-align: right;\">\n      <th></th>\n      <th>vehicle_type</th>\n      <th>production_code</th>\n      <th>product_name</th>\n      <th>manufacturer_switch_code</th>\n      <th>model_series_name_1</th>\n      <th>model_series_code</th>\n      <th>start_of_production</th>\n      <th>end_of_production</th>\n      <th>eurotax_code</th>\n      <th>type_name</th>\n      <th>...</th>\n      <th>performance</th>\n      <th>fuel</th>\n      <th>number_of_doors</th>\n      <th>cylinder_capacity</th>\n      <th>total_weight</th>\n      <th>own_crowd_with_driver</th>\n      <th>number_of_seats</th>\n      <th>full_name</th>\n      <th>fuel_short</th>\n      <th>car_value</th>\n    </tr>\n  </thead>\n  <tbody>\n    <tr>\n      <th>864</th>\n      <td>10</td>\n      <td>5</td>\n      <td>AUDI</td>\n      <td>5</td>\n      <td>A1 Sportback</td>\n      <td>5282</td>\n      <td>2018</td>\n      <td>NaN</td>\n      <td>056EB007</td>\n      <td>25 TFSI Basis</td>\n      <td>...</td>\n      <td>70.0</td>\n      <td>Benzin ólommentes</td>\n      <td>5</td>\n      <td>999.0</td>\n      <td>1630</td>\n      <td>1165</td>\n      <td>5</td>\n      <td>AUDI_A1 Sportback_25 TFSI Basis</td>\n      <td>O</td>\n      <td>6500410.0</td>\n    </tr>\n    <tr>\n      <th>865</th>\n      <td>10</td>\n      <td>5</td>\n      <td>AUDI</td>\n      <td>5</td>\n      <td>A1 Sportback</td>\n      <td>5282</td>\n      <td>2018</td>\n      <td>NaN</td>\n      <td>056EB014</td>\n      <td>25 TFSI Basis S-tronic</td>\n      <td>...</td>\n      <td>70.0</td>\n      <td>Benzin ólommentes</td>\n      <td>5</td>\n      <td>999.0</td>\n      <td>1705</td>\n      <td>1200</td>\n      <td>5</td>\n      <td>AUDI_A1 Sportback_25 TFSI Basis S-tronic</td>\n      <td>O</td>\n      <td>7179860.0</td>\n    </tr>\n    <tr>\n      <th>866</th>\n      <td>10</td>\n      <td>5</td>\n      <td>AUDI</td>\n      <td>5</td>\n      <td>A1 Sportback</td>\n      <td>5282</td>\n      <td>2018</td>\n      <td>NaN</td>\n      <td>056EB008</td>\n      <td>25 TFSI Advanced</td>\n      <td>...</td>\n      <td>70.0</td>\n      <td>Benzin ólommentes</td>\n      <td>5</td>\n      <td>999.0</td>\n      <td>1630</td>\n      <td>1165</td>\n      <td>4</td>\n      <td>AUDI_A1 Sportback_25 TFSI Advanced</td>\n      <td>O</td>\n      <td>6955070.0</td>\n    </tr>\n    <tr>\n      <th>867</th>\n      <td>10</td>\n      <td>5</td>\n      <td>AUDI</td>\n      <td>5</td>\n      <td>A1 Sportback</td>\n      <td>5282</td>\n      <td>2018</td>\n      <td>NaN</td>\n      <td>056EB015</td>\n      <td>25 TFSI Advanced S-tronic</td>\n      <td>...</td>\n      <td>70.0</td>\n      <td>Benzin ólommentes</td>\n      <td>5</td>\n      <td>999.0</td>\n      <td>1705</td>\n      <td>1200</td>\n      <td>5</td>\n      <td>AUDI_A1 Sportback_25 TFSI Advanced S-tronic</td>\n      <td>O</td>\n      <td>7635790.0</td>\n    </tr>\n    <tr>\n      <th>868</th>\n      <td>10</td>\n      <td>5</td>\n      <td>AUDI</td>\n      <td>5</td>\n      <td>A1 Sportback</td>\n      <td>5282</td>\n      <td>2018</td>\n      <td>NaN</td>\n      <td>056EB009</td>\n      <td>25 TFSI S line</td>\n      <td>...</td>\n      <td>70.0</td>\n      <td>Benzin ólommentes</td>\n      <td>5</td>\n      <td>999.0</td>\n      <td>1630</td>\n      <td>1165</td>\n      <td>4</td>\n      <td>AUDI_A1 Sportback_25 TFSI S line</td>\n      <td>O</td>\n      <td>7372900.0</td>\n    </tr>\n    <tr>\n      <th>...</th>\n      <td>...</td>\n      <td>...</td>\n      <td>...</td>\n      <td>...</td>\n      <td>...</td>\n      <td>...</td>\n      <td>...</td>\n      <td>...</td>\n      <td>...</td>\n      <td>...</td>\n      <td>...</td>\n      <td>...</td>\n      <td>...</td>\n      <td>...</td>\n      <td>...</td>\n      <td>...</td>\n      <td>...</td>\n      <td>...</td>\n      <td>...</td>\n      <td>...</td>\n      <td>...</td>\n    </tr>\n    <tr>\n      <th>5332</th>\n      <td>10</td>\n      <td>5</td>\n      <td>AUDI</td>\n      <td>5</td>\n      <td>e-tron Sportback</td>\n      <td>5304</td>\n      <td>2020</td>\n      <td>NaN</td>\n      <td>0502M005</td>\n      <td>55 Advanced quattro Aut.</td>\n      <td>...</td>\n      <td>300.0</td>\n      <td>Áram (Elektromos)</td>\n      <td>5</td>\n      <td>0.0</td>\n      <td>3150</td>\n      <td>2555</td>\n      <td>5</td>\n      <td>AUDI_e-tron Sportback_55 Advanced quattro Aut.</td>\n      <td>E</td>\n      <td>33403540.0</td>\n    </tr>\n    <tr>\n      <th>5333</th>\n      <td>10</td>\n      <td>5</td>\n      <td>AUDI</td>\n      <td>5</td>\n      <td>e-tron Sportback</td>\n      <td>5304</td>\n      <td>2020</td>\n      <td>NaN</td>\n      <td>0502M011</td>\n      <td>55 Advanced Xtra quattro Aut.</td>\n      <td>...</td>\n      <td>300.0</td>\n      <td>Áram (Elektromos)</td>\n      <td>5</td>\n      <td>0.0</td>\n      <td>3150</td>\n      <td>2555</td>\n      <td>5</td>\n      <td>AUDI_e-tron Sportback_55 Advanced Xtra quattro...</td>\n      <td>E</td>\n      <td>32066230.0</td>\n    </tr>\n    <tr>\n      <th>5334</th>\n      <td>10</td>\n      <td>5</td>\n      <td>AUDI</td>\n      <td>5</td>\n      <td>e-tron Sportback</td>\n      <td>5304</td>\n      <td>2020</td>\n      <td>NaN</td>\n      <td>0502M006</td>\n      <td>55 S line quattro Aut.</td>\n      <td>...</td>\n      <td>300.0</td>\n      <td>Áram (Elektromos)</td>\n      <td>5</td>\n      <td>0.0</td>\n      <td>3150</td>\n      <td>2555</td>\n      <td>5</td>\n      <td>AUDI_e-tron Sportback_55 S line quattro Aut.</td>\n      <td>E</td>\n      <td>34085530.0</td>\n    </tr>\n    <tr>\n      <th>5335</th>\n      <td>10</td>\n      <td>5</td>\n      <td>AUDI</td>\n      <td>5</td>\n      <td>e-tron Sportback</td>\n      <td>5304</td>\n      <td>2020</td>\n      <td>NaN</td>\n      <td>0502M012</td>\n      <td>55 S line Xtra quattro Aut.</td>\n      <td>...</td>\n      <td>300.0</td>\n      <td>Áram (Elektromos)</td>\n      <td>5</td>\n      <td>0.0</td>\n      <td>3150</td>\n      <td>2555</td>\n      <td>5</td>\n      <td>AUDI_e-tron Sportback_55 S line Xtra quattro Aut.</td>\n      <td>E</td>\n      <td>32659320.0</td>\n    </tr>\n    <tr>\n      <th>5336</th>\n      <td>10</td>\n      <td>5</td>\n      <td>AUDI</td>\n      <td>5</td>\n      <td>e-tron Sportback</td>\n      <td>5304</td>\n      <td>2020</td>\n      <td>NaN</td>\n      <td>0502M013</td>\n      <td>60 S quattro Aut.</td>\n      <td>...</td>\n      <td>370.0</td>\n      <td>Áram (Elektromos)</td>\n      <td>5</td>\n      <td>0.0</td>\n      <td>3245</td>\n      <td>2695</td>\n      <td>5</td>\n      <td>AUDI_e-tron Sportback_60 S quattro Aut.</td>\n      <td>E</td>\n      <td>37130990.0</td>\n    </tr>\n  </tbody>\n</table>\n<p>1491 rows × 21 columns</p>\n</div>"
     },
     "execution_count": 38,
     "metadata": {},
     "output_type": "execute_result"
    }
   ],
   "source": [
    "cars[(cars['product_name'] == 'AUDI') & (cars['start_of_production'] > 2015)]"
   ],
   "metadata": {
    "collapsed": false,
    "ExecuteTime": {
     "end_time": "2024-01-30T18:24:19.844261427Z",
     "start_time": "2024-01-30T18:24:19.808708483Z"
    }
   },
   "id": "4cc7dfd48fdf5ac9"
  },
  {
   "cell_type": "code",
   "execution_count": 52,
   "outputs": [
    {
     "data": {
      "text/plain": "        vehicle_type  production_code product_name  manufacturer_switch_code  \\\n12633             10               17      CITROEN                        17   \n21036             10               30        HONDA                        30   \n21661             10               32      HYUNDAI                        32   \n21668             10               32      HYUNDAI                        32   \n21782             10               32      HYUNDAI                        32   \n22377             10               32      HYUNDAI                        32   \n22445             10               32      HYUNDAI                        32   \n22452             10               32      HYUNDAI                        32   \n22460             10               32      HYUNDAI                        32   \n22484             10               32      HYUNDAI                        32   \n22582             10               32      HYUNDAI                        32   \n22590             10               32      HYUNDAI                        32   \n24827             10               36          KIA                        36   \n24957             10               36          KIA                        36   \n25035             10               36          KIA                        36   \n25100             10               36          KIA                        36   \n25103             10               36          KIA                        36   \n44298             10               62      PEUGEOT                        62   \n46726             10               68      RENAULT                        68   \n48121             10               68      RENAULT                        68   \n48752             10               68      RENAULT                        68   \n99357             40               30        HONDA                        30   \n99691             40               33      HYUNDAI                        33   \n101131            40               36          KIA                        36   \n101138            40               36          KIA                        36   \n101139            40               36          KIA                        36   \n101209            40               36          KIA                        36   \n105285            40               68      RENAULT                        68   \n105361            40               68      RENAULT                        68   \n105874            40               78    SSANGYONG                        78   \n\n       model_series_name_1  model_series_code  start_of_production  \\\n12633              C4 Dies              17204                 2020   \n21036                Civic              30087                 2017   \n21661                Bayon              32136                 2021   \n21668                Bayon              32136                 2021   \n21782            Kona Dies              32134                 2020   \n22377                  i30              32126                 2020   \n22445            i30 Kombi              32128                 2020   \n22452       i30 Kombi Dies              32129                 2020   \n22460         i30 Fastback              32130                 2020   \n22484    i30 Fastback Dies              32131                 2020   \n22582         Ioniq hybrid              32107                 2016   \n22590         Ioniq hybrid              32122                 2019   \n24827                 Ceed              36094                 2018   \n24957                 Ceed              36109                 2021   \n25035                XCeed              36100                 2019   \n25100           XCeed Dies              36101                 2019   \n25103           XCeed Dies              36101                 2019   \n44298                 3008              62196                 2016   \n46726              Clio V.              68282                 2019   \n48121            Mégane IV              68289                 2020   \n48752         Grand Scénic              68271                 2016   \n99357                 HR-V              30018                 2018   \n99691          Tucson Dies              33025                 2018   \n101131            Sportage              36026                 2018   \n101138            Sportage              36026                 2018   \n101139            Sportage              36026                 2018   \n101209       Sportage Dies              36027                 2018   \n105285         Koleos Dies              68007                 2017   \n105361              Kadjar              68008                 2019   \n105874        Korando Dies              78025                 2019   \n\n        end_of_production eurotax_code                        type_name  ...  \\\n12633                 NaN     1758D001            1.5 BlueHDi Feel EAT8  ...   \n21036              2019.0     3056B012             1.5 T Sport Plus CVT  ...   \n21661                 NaN     3277B008         1.0 T-GDI LP Comfort DCT  ...   \n21668                 NaN     3277B013        1.0 T-GDI LP Comfort MHEV  ...   \n21782              2021.0     3281D005        1.6 CRDi MHEV Premium DCT  ...   \n22377                 NaN     3273B013           1.5 T-GDi Comfort MHEV  ...   \n22445                 NaN     3274B027                    1.5 DPi Prime  ...   \n22452              2021.0     3274D007         1.6 CRDi HP Comfort MHEV  ...   \n22460                 NaN     3275B005           1.0 T-GDi Comfort MHEV  ...   \n22484              2021.0     3275D002        1.6 CRDi HP Life MHEV DCT  ...   \n22582              2019.0     3261B004    1.6 GDi Premium Navi Plus DCT  ...   \n22590              2021.0     3262B001              1.6 GDi Comfort DCT  ...   \n24827              2022.0     3683B022                     1.6 T-GDI GT  ...   \n24957                 NaN     3686B022             1.5 T-GDI Fusion DCT  ...   \n25035              2022.0     3685B016           1.4 T-GDI Platinum DCT  ...   \n25100              2022.0     3685D030    1.6 CRDi HP Hybrid X-Gold DCT  ...   \n25103              2022.0     3685D021  1.6 CRDi HP Launch Edition Plus  ...   \n44298              2020.0     6263B021      1.2 PureTech Active EURO6.3  ...   \n46726              2023.0     682KB031      1.6 E-Tech Hybrid R.S. Line  ...   \n48121                 NaN     682NB005                1.3 TCe R.S. Line  ...   \n48752                 NaN     683EB026              1.3 TCe Zen (7 sz.)  ...   \n99357              2021.0     3050F004             1.5 i-VTEC Executive  ...   \n99691              2021.0     3381H007             1.6 CRDi HP Life 4WD  ...   \n101131             2021.0     3641F010         1.6 T-GDI Bronze 4WD DCT  ...   \n101138             2021.0     3641F032             1.6 T-GDI Safety DCT  ...   \n101139             2021.0     3641F030             1.6 T-GDI Safety 4WD  ...   \n101209             2021.0     3641H066            1.6 CRDI HP Gold MY21  ...   \n105285             2019.0     689ED001                  1.6 dCi Zen 4x2  ...   \n105361             2023.0     682JF004              1.3 TCe Intens EDC7  ...   \n105874             2021.0     7839H003                  1.6 e-XDI Style  ...   \n\n        performance               fuel number_of_doors  cylinder_capacity  \\\n12633          96.0             Diesel               5             1499.0   \n21036         134.0  Benzin ólommentes               5             1498.0   \n21661          74.0  Benzin ólommentes               5              998.0   \n21668          74.0  Benzin ólommentes               5              998.0   \n21782         100.0             Diesel               5             1598.0   \n22377         118.0  Benzin ólommentes               5             1482.0   \n22445          81.0  Benzin ólommentes               5             1498.0   \n22452         100.0             Diesel               5             1598.0   \n22460          88.0  Benzin ólommentes               5              998.0   \n22484         100.0             Diesel               5             1598.0   \n22582          77.0  Benzin ólommentes               5             1580.0   \n22590          77.0  Benzin ólommentes               5             1580.0   \n24827         150.0  Benzin ólommentes               5             1591.0   \n24957         117.5  Benzin ólommentes               5             1482.0   \n25035         103.0  Benzin ólommentes               5             1353.0   \n25100         100.0             Diesel               5             1598.0   \n25103         100.0             Diesel               5             1598.0   \n44298          96.0  Benzin ólommentes               5             1198.0   \n46726          67.0  Benzin ólommentes               5             1598.0   \n48121         103.0  Benzin ólommentes               5             1332.0   \n48752         103.0  Benzin ólommentes               5             1332.0   \n99357          96.0  Benzin ólommentes               5             1498.0   \n99691         100.0             Diesel               5             1598.0   \n101131        130.0  Benzin ólommentes               5             1591.0   \n101138        130.0  Benzin ólommentes               5             1591.0   \n101139        130.0  Benzin ólommentes               5             1591.0   \n101209        100.0             Diesel               5             1598.0   \n105285         96.0             Diesel               5             1598.0   \n105361        103.0  Benzin ólommentes               5             1332.0   \n105874        100.0             Diesel               5             1597.0   \n\n        total_weight  own_crowd_with_driver  number_of_seats  \\\n12633           1795                   1324                5   \n21036           1790                   1340                5   \n21661           1660                   1120                5   \n21668           1660                   1120                5   \n21782           1895                   1370                5   \n22377           1830                   1250                5   \n22445           1800                   1206                5   \n22452           1920                   1340                5   \n22460           1820                   1252                5   \n22484           1930                   1365                5   \n22582           1870                   1370                5   \n22590           1870                   1370                5   \n24827           1870                   1496                5   \n24957           1860                   1315                5   \n25035           1860                   1436                5   \n25100           1950                   1397                5   \n25103           1900                   1472                5   \n44298           1910                   1320                5   \n46726           1758                   1238                5   \n48121           1784                   1214                5   \n48752           2229                   1504                7   \n99357           1790                   1241                5   \n99691           2195                   1578                5   \n101131          2200                   1727                5   \n101138          2140                   1667                5   \n101139          2170                   1694                5   \n101209          2120                   1504                5   \n105285          2153                   1540                5   \n105361          1918                   1471                5   \n105874          2110                   1505                5   \n\n                                                full_name fuel_short  \\\n12633               CITROEN_C4 Dies_1.5 BlueHDi Feel EAT8          D   \n21036                    HONDA_Civic_1.5 T Sport Plus CVT          O   \n21661              HYUNDAI_Bayon_1.0 T-GDI LP Comfort DCT          O   \n21668             HYUNDAI_Bayon_1.0 T-GDI LP Comfort MHEV          O   \n21782         HYUNDAI_Kona Dies_1.6 CRDi MHEV Premium DCT          D   \n22377                  HYUNDAI_i30_1.5 T-GDi Comfort MHEV          O   \n22445                     HYUNDAI_i30 Kombi_1.5 DPi Prime          O   \n22452     HYUNDAI_i30 Kombi Dies_1.6 CRDi HP Comfort MHEV          D   \n22460         HYUNDAI_i30 Fastback_1.0 T-GDi Comfort MHEV          O   \n22484   HYUNDAI_i30 Fastback Dies_1.6 CRDi HP Life MHE...          D   \n22582   HYUNDAI_Ioniq hybrid_1.6 GDi Premium Navi Plus...          O   \n22590            HYUNDAI_Ioniq hybrid_1.6 GDi Comfort DCT          O   \n24827                               KIA_Ceed_1.6 T-GDI GT          O   \n24957                       KIA_Ceed_1.5 T-GDI Fusion DCT          O   \n25035                    KIA_XCeed_1.4 T-GDI Platinum DCT          O   \n25100        KIA_XCeed Dies_1.6 CRDi HP Hybrid X-Gold DCT          D   \n25103      KIA_XCeed Dies_1.6 CRDi HP Launch Edition Plus          D   \n44298            PEUGEOT_3008_1.2 PureTech Active EURO6.3          O   \n46726         RENAULT_Clio V._1.6 E-Tech Hybrid R.S. Line          O   \n48121                 RENAULT_Mégane IV_1.3 TCe R.S. Line          O   \n48752            RENAULT_Grand Scénic_1.3 TCe Zen (7 sz.)          O   \n99357                     HONDA_HR-V_1.5 i-VTEC Executive          O   \n99691            HYUNDAI_Tucson Dies_1.6 CRDi HP Life 4WD          D   \n101131              KIA_Sportage_1.6 T-GDI Bronze 4WD DCT          O   \n101138                  KIA_Sportage_1.6 T-GDI Safety DCT          O   \n101139                  KIA_Sportage_1.6 T-GDI Safety 4WD          O   \n101209            KIA_Sportage Dies_1.6 CRDI HP Gold MY21          D   \n105285                RENAULT_Koleos Dies_1.6 dCi Zen 4x2          D   \n105361                 RENAULT_Kadjar_1.3 TCe Intens EDC7          O   \n105874             SSANGYONG_Korando Dies_1.6 e-XDI Style          D   \n\n        car_value  \n12633   8599000.0  \n21036   8599000.0  \n21661   8599000.0  \n21668   8599000.0  \n21782   8599000.0  \n22377   8599000.0  \n22445   8599000.0  \n22452   8599000.0  \n22460   8599000.0  \n22484   8599000.0  \n22582   8599000.0  \n22590   8599000.0  \n24827   8599000.0  \n24957   8599000.0  \n25035   8599000.0  \n25100   8599000.0  \n25103   8599000.0  \n44298   8599000.0  \n46726   8599000.0  \n48121   8599000.0  \n48752   8599000.0  \n99357   8599000.0  \n99691   8599000.0  \n101131  8599000.0  \n101138  8599000.0  \n101139  8599000.0  \n101209  8599000.0  \n105285  8599000.0  \n105361  8599000.0  \n105874  8599000.0  \n\n[30 rows x 21 columns]",
      "text/html": "<div>\n<style scoped>\n    .dataframe tbody tr th:only-of-type {\n        vertical-align: middle;\n    }\n\n    .dataframe tbody tr th {\n        vertical-align: top;\n    }\n\n    .dataframe thead th {\n        text-align: right;\n    }\n</style>\n<table border=\"1\" class=\"dataframe\">\n  <thead>\n    <tr style=\"text-align: right;\">\n      <th></th>\n      <th>vehicle_type</th>\n      <th>production_code</th>\n      <th>product_name</th>\n      <th>manufacturer_switch_code</th>\n      <th>model_series_name_1</th>\n      <th>model_series_code</th>\n      <th>start_of_production</th>\n      <th>end_of_production</th>\n      <th>eurotax_code</th>\n      <th>type_name</th>\n      <th>...</th>\n      <th>performance</th>\n      <th>fuel</th>\n      <th>number_of_doors</th>\n      <th>cylinder_capacity</th>\n      <th>total_weight</th>\n      <th>own_crowd_with_driver</th>\n      <th>number_of_seats</th>\n      <th>full_name</th>\n      <th>fuel_short</th>\n      <th>car_value</th>\n    </tr>\n  </thead>\n  <tbody>\n    <tr>\n      <th>12633</th>\n      <td>10</td>\n      <td>17</td>\n      <td>CITROEN</td>\n      <td>17</td>\n      <td>C4 Dies</td>\n      <td>17204</td>\n      <td>2020</td>\n      <td>NaN</td>\n      <td>1758D001</td>\n      <td>1.5 BlueHDi Feel EAT8</td>\n      <td>...</td>\n      <td>96.0</td>\n      <td>Diesel</td>\n      <td>5</td>\n      <td>1499.0</td>\n      <td>1795</td>\n      <td>1324</td>\n      <td>5</td>\n      <td>CITROEN_C4 Dies_1.5 BlueHDi Feel EAT8</td>\n      <td>D</td>\n      <td>8599000.0</td>\n    </tr>\n    <tr>\n      <th>21036</th>\n      <td>10</td>\n      <td>30</td>\n      <td>HONDA</td>\n      <td>30</td>\n      <td>Civic</td>\n      <td>30087</td>\n      <td>2017</td>\n      <td>2019.0</td>\n      <td>3056B012</td>\n      <td>1.5 T Sport Plus CVT</td>\n      <td>...</td>\n      <td>134.0</td>\n      <td>Benzin ólommentes</td>\n      <td>5</td>\n      <td>1498.0</td>\n      <td>1790</td>\n      <td>1340</td>\n      <td>5</td>\n      <td>HONDA_Civic_1.5 T Sport Plus CVT</td>\n      <td>O</td>\n      <td>8599000.0</td>\n    </tr>\n    <tr>\n      <th>21661</th>\n      <td>10</td>\n      <td>32</td>\n      <td>HYUNDAI</td>\n      <td>32</td>\n      <td>Bayon</td>\n      <td>32136</td>\n      <td>2021</td>\n      <td>NaN</td>\n      <td>3277B008</td>\n      <td>1.0 T-GDI LP Comfort DCT</td>\n      <td>...</td>\n      <td>74.0</td>\n      <td>Benzin ólommentes</td>\n      <td>5</td>\n      <td>998.0</td>\n      <td>1660</td>\n      <td>1120</td>\n      <td>5</td>\n      <td>HYUNDAI_Bayon_1.0 T-GDI LP Comfort DCT</td>\n      <td>O</td>\n      <td>8599000.0</td>\n    </tr>\n    <tr>\n      <th>21668</th>\n      <td>10</td>\n      <td>32</td>\n      <td>HYUNDAI</td>\n      <td>32</td>\n      <td>Bayon</td>\n      <td>32136</td>\n      <td>2021</td>\n      <td>NaN</td>\n      <td>3277B013</td>\n      <td>1.0 T-GDI LP Comfort MHEV</td>\n      <td>...</td>\n      <td>74.0</td>\n      <td>Benzin ólommentes</td>\n      <td>5</td>\n      <td>998.0</td>\n      <td>1660</td>\n      <td>1120</td>\n      <td>5</td>\n      <td>HYUNDAI_Bayon_1.0 T-GDI LP Comfort MHEV</td>\n      <td>O</td>\n      <td>8599000.0</td>\n    </tr>\n    <tr>\n      <th>21782</th>\n      <td>10</td>\n      <td>32</td>\n      <td>HYUNDAI</td>\n      <td>32</td>\n      <td>Kona Dies</td>\n      <td>32134</td>\n      <td>2020</td>\n      <td>2021.0</td>\n      <td>3281D005</td>\n      <td>1.6 CRDi MHEV Premium DCT</td>\n      <td>...</td>\n      <td>100.0</td>\n      <td>Diesel</td>\n      <td>5</td>\n      <td>1598.0</td>\n      <td>1895</td>\n      <td>1370</td>\n      <td>5</td>\n      <td>HYUNDAI_Kona Dies_1.6 CRDi MHEV Premium DCT</td>\n      <td>D</td>\n      <td>8599000.0</td>\n    </tr>\n    <tr>\n      <th>22377</th>\n      <td>10</td>\n      <td>32</td>\n      <td>HYUNDAI</td>\n      <td>32</td>\n      <td>i30</td>\n      <td>32126</td>\n      <td>2020</td>\n      <td>NaN</td>\n      <td>3273B013</td>\n      <td>1.5 T-GDi Comfort MHEV</td>\n      <td>...</td>\n      <td>118.0</td>\n      <td>Benzin ólommentes</td>\n      <td>5</td>\n      <td>1482.0</td>\n      <td>1830</td>\n      <td>1250</td>\n      <td>5</td>\n      <td>HYUNDAI_i30_1.5 T-GDi Comfort MHEV</td>\n      <td>O</td>\n      <td>8599000.0</td>\n    </tr>\n    <tr>\n      <th>22445</th>\n      <td>10</td>\n      <td>32</td>\n      <td>HYUNDAI</td>\n      <td>32</td>\n      <td>i30 Kombi</td>\n      <td>32128</td>\n      <td>2020</td>\n      <td>NaN</td>\n      <td>3274B027</td>\n      <td>1.5 DPi Prime</td>\n      <td>...</td>\n      <td>81.0</td>\n      <td>Benzin ólommentes</td>\n      <td>5</td>\n      <td>1498.0</td>\n      <td>1800</td>\n      <td>1206</td>\n      <td>5</td>\n      <td>HYUNDAI_i30 Kombi_1.5 DPi Prime</td>\n      <td>O</td>\n      <td>8599000.0</td>\n    </tr>\n    <tr>\n      <th>22452</th>\n      <td>10</td>\n      <td>32</td>\n      <td>HYUNDAI</td>\n      <td>32</td>\n      <td>i30 Kombi Dies</td>\n      <td>32129</td>\n      <td>2020</td>\n      <td>2021.0</td>\n      <td>3274D007</td>\n      <td>1.6 CRDi HP Comfort MHEV</td>\n      <td>...</td>\n      <td>100.0</td>\n      <td>Diesel</td>\n      <td>5</td>\n      <td>1598.0</td>\n      <td>1920</td>\n      <td>1340</td>\n      <td>5</td>\n      <td>HYUNDAI_i30 Kombi Dies_1.6 CRDi HP Comfort MHEV</td>\n      <td>D</td>\n      <td>8599000.0</td>\n    </tr>\n    <tr>\n      <th>22460</th>\n      <td>10</td>\n      <td>32</td>\n      <td>HYUNDAI</td>\n      <td>32</td>\n      <td>i30 Fastback</td>\n      <td>32130</td>\n      <td>2020</td>\n      <td>NaN</td>\n      <td>3275B005</td>\n      <td>1.0 T-GDi Comfort MHEV</td>\n      <td>...</td>\n      <td>88.0</td>\n      <td>Benzin ólommentes</td>\n      <td>5</td>\n      <td>998.0</td>\n      <td>1820</td>\n      <td>1252</td>\n      <td>5</td>\n      <td>HYUNDAI_i30 Fastback_1.0 T-GDi Comfort MHEV</td>\n      <td>O</td>\n      <td>8599000.0</td>\n    </tr>\n    <tr>\n      <th>22484</th>\n      <td>10</td>\n      <td>32</td>\n      <td>HYUNDAI</td>\n      <td>32</td>\n      <td>i30 Fastback Dies</td>\n      <td>32131</td>\n      <td>2020</td>\n      <td>2021.0</td>\n      <td>3275D002</td>\n      <td>1.6 CRDi HP Life MHEV DCT</td>\n      <td>...</td>\n      <td>100.0</td>\n      <td>Diesel</td>\n      <td>5</td>\n      <td>1598.0</td>\n      <td>1930</td>\n      <td>1365</td>\n      <td>5</td>\n      <td>HYUNDAI_i30 Fastback Dies_1.6 CRDi HP Life MHE...</td>\n      <td>D</td>\n      <td>8599000.0</td>\n    </tr>\n    <tr>\n      <th>22582</th>\n      <td>10</td>\n      <td>32</td>\n      <td>HYUNDAI</td>\n      <td>32</td>\n      <td>Ioniq hybrid</td>\n      <td>32107</td>\n      <td>2016</td>\n      <td>2019.0</td>\n      <td>3261B004</td>\n      <td>1.6 GDi Premium Navi Plus DCT</td>\n      <td>...</td>\n      <td>77.0</td>\n      <td>Benzin ólommentes</td>\n      <td>5</td>\n      <td>1580.0</td>\n      <td>1870</td>\n      <td>1370</td>\n      <td>5</td>\n      <td>HYUNDAI_Ioniq hybrid_1.6 GDi Premium Navi Plus...</td>\n      <td>O</td>\n      <td>8599000.0</td>\n    </tr>\n    <tr>\n      <th>22590</th>\n      <td>10</td>\n      <td>32</td>\n      <td>HYUNDAI</td>\n      <td>32</td>\n      <td>Ioniq hybrid</td>\n      <td>32122</td>\n      <td>2019</td>\n      <td>2021.0</td>\n      <td>3262B001</td>\n      <td>1.6 GDi Comfort DCT</td>\n      <td>...</td>\n      <td>77.0</td>\n      <td>Benzin ólommentes</td>\n      <td>5</td>\n      <td>1580.0</td>\n      <td>1870</td>\n      <td>1370</td>\n      <td>5</td>\n      <td>HYUNDAI_Ioniq hybrid_1.6 GDi Comfort DCT</td>\n      <td>O</td>\n      <td>8599000.0</td>\n    </tr>\n    <tr>\n      <th>24827</th>\n      <td>10</td>\n      <td>36</td>\n      <td>KIA</td>\n      <td>36</td>\n      <td>Ceed</td>\n      <td>36094</td>\n      <td>2018</td>\n      <td>2022.0</td>\n      <td>3683B022</td>\n      <td>1.6 T-GDI GT</td>\n      <td>...</td>\n      <td>150.0</td>\n      <td>Benzin ólommentes</td>\n      <td>5</td>\n      <td>1591.0</td>\n      <td>1870</td>\n      <td>1496</td>\n      <td>5</td>\n      <td>KIA_Ceed_1.6 T-GDI GT</td>\n      <td>O</td>\n      <td>8599000.0</td>\n    </tr>\n    <tr>\n      <th>24957</th>\n      <td>10</td>\n      <td>36</td>\n      <td>KIA</td>\n      <td>36</td>\n      <td>Ceed</td>\n      <td>36109</td>\n      <td>2021</td>\n      <td>NaN</td>\n      <td>3686B022</td>\n      <td>1.5 T-GDI Fusion DCT</td>\n      <td>...</td>\n      <td>117.5</td>\n      <td>Benzin ólommentes</td>\n      <td>5</td>\n      <td>1482.0</td>\n      <td>1860</td>\n      <td>1315</td>\n      <td>5</td>\n      <td>KIA_Ceed_1.5 T-GDI Fusion DCT</td>\n      <td>O</td>\n      <td>8599000.0</td>\n    </tr>\n    <tr>\n      <th>25035</th>\n      <td>10</td>\n      <td>36</td>\n      <td>KIA</td>\n      <td>36</td>\n      <td>XCeed</td>\n      <td>36100</td>\n      <td>2019</td>\n      <td>2022.0</td>\n      <td>3685B016</td>\n      <td>1.4 T-GDI Platinum DCT</td>\n      <td>...</td>\n      <td>103.0</td>\n      <td>Benzin ólommentes</td>\n      <td>5</td>\n      <td>1353.0</td>\n      <td>1860</td>\n      <td>1436</td>\n      <td>5</td>\n      <td>KIA_XCeed_1.4 T-GDI Platinum DCT</td>\n      <td>O</td>\n      <td>8599000.0</td>\n    </tr>\n    <tr>\n      <th>25100</th>\n      <td>10</td>\n      <td>36</td>\n      <td>KIA</td>\n      <td>36</td>\n      <td>XCeed Dies</td>\n      <td>36101</td>\n      <td>2019</td>\n      <td>2022.0</td>\n      <td>3685D030</td>\n      <td>1.6 CRDi HP Hybrid X-Gold DCT</td>\n      <td>...</td>\n      <td>100.0</td>\n      <td>Diesel</td>\n      <td>5</td>\n      <td>1598.0</td>\n      <td>1950</td>\n      <td>1397</td>\n      <td>5</td>\n      <td>KIA_XCeed Dies_1.6 CRDi HP Hybrid X-Gold DCT</td>\n      <td>D</td>\n      <td>8599000.0</td>\n    </tr>\n    <tr>\n      <th>25103</th>\n      <td>10</td>\n      <td>36</td>\n      <td>KIA</td>\n      <td>36</td>\n      <td>XCeed Dies</td>\n      <td>36101</td>\n      <td>2019</td>\n      <td>2022.0</td>\n      <td>3685D021</td>\n      <td>1.6 CRDi HP Launch Edition Plus</td>\n      <td>...</td>\n      <td>100.0</td>\n      <td>Diesel</td>\n      <td>5</td>\n      <td>1598.0</td>\n      <td>1900</td>\n      <td>1472</td>\n      <td>5</td>\n      <td>KIA_XCeed Dies_1.6 CRDi HP Launch Edition Plus</td>\n      <td>D</td>\n      <td>8599000.0</td>\n    </tr>\n    <tr>\n      <th>44298</th>\n      <td>10</td>\n      <td>62</td>\n      <td>PEUGEOT</td>\n      <td>62</td>\n      <td>3008</td>\n      <td>62196</td>\n      <td>2016</td>\n      <td>2020.0</td>\n      <td>6263B021</td>\n      <td>1.2 PureTech Active EURO6.3</td>\n      <td>...</td>\n      <td>96.0</td>\n      <td>Benzin ólommentes</td>\n      <td>5</td>\n      <td>1198.0</td>\n      <td>1910</td>\n      <td>1320</td>\n      <td>5</td>\n      <td>PEUGEOT_3008_1.2 PureTech Active EURO6.3</td>\n      <td>O</td>\n      <td>8599000.0</td>\n    </tr>\n    <tr>\n      <th>46726</th>\n      <td>10</td>\n      <td>68</td>\n      <td>RENAULT</td>\n      <td>68</td>\n      <td>Clio V.</td>\n      <td>68282</td>\n      <td>2019</td>\n      <td>2023.0</td>\n      <td>682KB031</td>\n      <td>1.6 E-Tech Hybrid R.S. Line</td>\n      <td>...</td>\n      <td>67.0</td>\n      <td>Benzin ólommentes</td>\n      <td>5</td>\n      <td>1598.0</td>\n      <td>1758</td>\n      <td>1238</td>\n      <td>5</td>\n      <td>RENAULT_Clio V._1.6 E-Tech Hybrid R.S. Line</td>\n      <td>O</td>\n      <td>8599000.0</td>\n    </tr>\n    <tr>\n      <th>48121</th>\n      <td>10</td>\n      <td>68</td>\n      <td>RENAULT</td>\n      <td>68</td>\n      <td>Mégane IV</td>\n      <td>68289</td>\n      <td>2020</td>\n      <td>NaN</td>\n      <td>682NB005</td>\n      <td>1.3 TCe R.S. Line</td>\n      <td>...</td>\n      <td>103.0</td>\n      <td>Benzin ólommentes</td>\n      <td>5</td>\n      <td>1332.0</td>\n      <td>1784</td>\n      <td>1214</td>\n      <td>5</td>\n      <td>RENAULT_Mégane IV_1.3 TCe R.S. Line</td>\n      <td>O</td>\n      <td>8599000.0</td>\n    </tr>\n    <tr>\n      <th>48752</th>\n      <td>10</td>\n      <td>68</td>\n      <td>RENAULT</td>\n      <td>68</td>\n      <td>Grand Scénic</td>\n      <td>68271</td>\n      <td>2016</td>\n      <td>NaN</td>\n      <td>683EB026</td>\n      <td>1.3 TCe Zen (7 sz.)</td>\n      <td>...</td>\n      <td>103.0</td>\n      <td>Benzin ólommentes</td>\n      <td>5</td>\n      <td>1332.0</td>\n      <td>2229</td>\n      <td>1504</td>\n      <td>7</td>\n      <td>RENAULT_Grand Scénic_1.3 TCe Zen (7 sz.)</td>\n      <td>O</td>\n      <td>8599000.0</td>\n    </tr>\n    <tr>\n      <th>99357</th>\n      <td>40</td>\n      <td>30</td>\n      <td>HONDA</td>\n      <td>30</td>\n      <td>HR-V</td>\n      <td>30018</td>\n      <td>2018</td>\n      <td>2021.0</td>\n      <td>3050F004</td>\n      <td>1.5 i-VTEC Executive</td>\n      <td>...</td>\n      <td>96.0</td>\n      <td>Benzin ólommentes</td>\n      <td>5</td>\n      <td>1498.0</td>\n      <td>1790</td>\n      <td>1241</td>\n      <td>5</td>\n      <td>HONDA_HR-V_1.5 i-VTEC Executive</td>\n      <td>O</td>\n      <td>8599000.0</td>\n    </tr>\n    <tr>\n      <th>99691</th>\n      <td>40</td>\n      <td>33</td>\n      <td>HYUNDAI</td>\n      <td>33</td>\n      <td>Tucson Dies</td>\n      <td>33025</td>\n      <td>2018</td>\n      <td>2021.0</td>\n      <td>3381H007</td>\n      <td>1.6 CRDi HP Life 4WD</td>\n      <td>...</td>\n      <td>100.0</td>\n      <td>Diesel</td>\n      <td>5</td>\n      <td>1598.0</td>\n      <td>2195</td>\n      <td>1578</td>\n      <td>5</td>\n      <td>HYUNDAI_Tucson Dies_1.6 CRDi HP Life 4WD</td>\n      <td>D</td>\n      <td>8599000.0</td>\n    </tr>\n    <tr>\n      <th>101131</th>\n      <td>40</td>\n      <td>36</td>\n      <td>KIA</td>\n      <td>36</td>\n      <td>Sportage</td>\n      <td>36026</td>\n      <td>2018</td>\n      <td>2021.0</td>\n      <td>3641F010</td>\n      <td>1.6 T-GDI Bronze 4WD DCT</td>\n      <td>...</td>\n      <td>130.0</td>\n      <td>Benzin ólommentes</td>\n      <td>5</td>\n      <td>1591.0</td>\n      <td>2200</td>\n      <td>1727</td>\n      <td>5</td>\n      <td>KIA_Sportage_1.6 T-GDI Bronze 4WD DCT</td>\n      <td>O</td>\n      <td>8599000.0</td>\n    </tr>\n    <tr>\n      <th>101138</th>\n      <td>40</td>\n      <td>36</td>\n      <td>KIA</td>\n      <td>36</td>\n      <td>Sportage</td>\n      <td>36026</td>\n      <td>2018</td>\n      <td>2021.0</td>\n      <td>3641F032</td>\n      <td>1.6 T-GDI Safety DCT</td>\n      <td>...</td>\n      <td>130.0</td>\n      <td>Benzin ólommentes</td>\n      <td>5</td>\n      <td>1591.0</td>\n      <td>2140</td>\n      <td>1667</td>\n      <td>5</td>\n      <td>KIA_Sportage_1.6 T-GDI Safety DCT</td>\n      <td>O</td>\n      <td>8599000.0</td>\n    </tr>\n    <tr>\n      <th>101139</th>\n      <td>40</td>\n      <td>36</td>\n      <td>KIA</td>\n      <td>36</td>\n      <td>Sportage</td>\n      <td>36026</td>\n      <td>2018</td>\n      <td>2021.0</td>\n      <td>3641F030</td>\n      <td>1.6 T-GDI Safety 4WD</td>\n      <td>...</td>\n      <td>130.0</td>\n      <td>Benzin ólommentes</td>\n      <td>5</td>\n      <td>1591.0</td>\n      <td>2170</td>\n      <td>1694</td>\n      <td>5</td>\n      <td>KIA_Sportage_1.6 T-GDI Safety 4WD</td>\n      <td>O</td>\n      <td>8599000.0</td>\n    </tr>\n    <tr>\n      <th>101209</th>\n      <td>40</td>\n      <td>36</td>\n      <td>KIA</td>\n      <td>36</td>\n      <td>Sportage Dies</td>\n      <td>36027</td>\n      <td>2018</td>\n      <td>2021.0</td>\n      <td>3641H066</td>\n      <td>1.6 CRDI HP Gold MY21</td>\n      <td>...</td>\n      <td>100.0</td>\n      <td>Diesel</td>\n      <td>5</td>\n      <td>1598.0</td>\n      <td>2120</td>\n      <td>1504</td>\n      <td>5</td>\n      <td>KIA_Sportage Dies_1.6 CRDI HP Gold MY21</td>\n      <td>D</td>\n      <td>8599000.0</td>\n    </tr>\n    <tr>\n      <th>105285</th>\n      <td>40</td>\n      <td>68</td>\n      <td>RENAULT</td>\n      <td>68</td>\n      <td>Koleos Dies</td>\n      <td>68007</td>\n      <td>2017</td>\n      <td>2019.0</td>\n      <td>689ED001</td>\n      <td>1.6 dCi Zen 4x2</td>\n      <td>...</td>\n      <td>96.0</td>\n      <td>Diesel</td>\n      <td>5</td>\n      <td>1598.0</td>\n      <td>2153</td>\n      <td>1540</td>\n      <td>5</td>\n      <td>RENAULT_Koleos Dies_1.6 dCi Zen 4x2</td>\n      <td>D</td>\n      <td>8599000.0</td>\n    </tr>\n    <tr>\n      <th>105361</th>\n      <td>40</td>\n      <td>68</td>\n      <td>RENAULT</td>\n      <td>68</td>\n      <td>Kadjar</td>\n      <td>68008</td>\n      <td>2019</td>\n      <td>2023.0</td>\n      <td>682JF004</td>\n      <td>1.3 TCe Intens EDC7</td>\n      <td>...</td>\n      <td>103.0</td>\n      <td>Benzin ólommentes</td>\n      <td>5</td>\n      <td>1332.0</td>\n      <td>1918</td>\n      <td>1471</td>\n      <td>5</td>\n      <td>RENAULT_Kadjar_1.3 TCe Intens EDC7</td>\n      <td>O</td>\n      <td>8599000.0</td>\n    </tr>\n    <tr>\n      <th>105874</th>\n      <td>40</td>\n      <td>78</td>\n      <td>SSANGYONG</td>\n      <td>78</td>\n      <td>Korando Dies</td>\n      <td>78025</td>\n      <td>2019</td>\n      <td>2021.0</td>\n      <td>7839H003</td>\n      <td>1.6 e-XDI Style</td>\n      <td>...</td>\n      <td>100.0</td>\n      <td>Diesel</td>\n      <td>5</td>\n      <td>1597.0</td>\n      <td>2110</td>\n      <td>1505</td>\n      <td>5</td>\n      <td>SSANGYONG_Korando Dies_1.6 e-XDI Style</td>\n      <td>D</td>\n      <td>8599000.0</td>\n    </tr>\n  </tbody>\n</table>\n<p>30 rows × 21 columns</p>\n</div>"
     },
     "execution_count": 52,
     "metadata": {},
     "output_type": "execute_result"
    }
   ],
   "source": [
    "cars[(cars['start_of_production'] > 2015) & (cars['car_value'] == 8599000)]"
   ],
   "metadata": {
    "collapsed": false,
    "ExecuteTime": {
     "end_time": "2024-01-30T18:56:54.201846607Z",
     "start_time": "2024-01-30T18:56:54.103447579Z"
    }
   },
   "id": "8db42235104cf7fa"
  },
  {
   "cell_type": "code",
   "execution_count": 43,
   "outputs": [
    {
     "data": {
      "text/plain": "8599000.0     30\n8249000.0     27\n7449000.0     26\n8549000.0     26\n8649000.0     25\n              ..\n17409000.0     1\n16467000.0     1\n15726000.0     1\n18542200.0     1\n14588870.0     1\nName: car_value, Length: 19632, dtype: int64"
     },
     "execution_count": 43,
     "metadata": {},
     "output_type": "execute_result"
    }
   ],
   "source": [
    "cars[cars['start_of_production'] > 2015]['car_value'].value_counts()"
   ],
   "metadata": {
    "collapsed": false,
    "ExecuteTime": {
     "end_time": "2024-01-30T18:26:02.052183755Z",
     "start_time": "2024-01-30T18:26:02.006241519Z"
    }
   },
   "id": "2c344b1802dcaf80"
  },
  {
   "cell_type": "code",
   "execution_count": 3,
   "outputs": [],
   "source": [
    "data = pd.read_csv(utils.get_raw_data_path('netrisk_casco_2024_02_09'))\n",
    "insurers = data.filter(like = '_price').columns\n",
    "feature = 'PostalCode'\n"
   ],
   "metadata": {
    "collapsed": false,
    "ExecuteTime": {
     "end_time": "2024-02-12T09:45:13.999745739Z",
     "start_time": "2024-02-12T09:45:13.952912635Z"
    }
   },
   "id": "379714c69176a0c2"
  },
  {
   "cell_type": "code",
   "execution_count": 5,
   "outputs": [
    {
     "data": {
      "text/plain": "0       9555\n1       7753\n2       2881\n3       6446\n4       4834\n        ... \n2666    6781\n2667    6335\n2668    2943\n2669    7957\n2670    2300\nName: PostalCode, Length: 2671, dtype: int64"
     },
     "execution_count": 5,
     "metadata": {},
     "output_type": "execute_result"
    }
   ],
   "source": [
    "data['PostalCode']"
   ],
   "metadata": {
    "collapsed": false,
    "ExecuteTime": {
     "end_time": "2024-02-12T09:45:22.861429838Z",
     "start_time": "2024-02-12T09:45:22.841778537Z"
    }
   },
   "id": "95424630763c73d"
  },
  {
   "cell_type": "code",
   "execution_count": null,
   "outputs": [],
   "source": [
    "population['']"
   ],
   "metadata": {
    "collapsed": false
   },
   "id": "b3d60d4c5ea54523"
  },
  {
   "cell_type": "code",
   "execution_count": null,
   "outputs": [],
   "source": [],
   "metadata": {
    "collapsed": false
   },
   "id": "db344389d70b7e10"
  },
  {
   "cell_type": "code",
   "execution_count": 13,
   "outputs": [
    {
     "data": {
      "text/plain": "{1028,\n 1036,\n 1088,\n 1103,\n 1529,\n 2001,\n 2002,\n 2003,\n 2012,\n 2019,\n 2026,\n 2031,\n 2032,\n 2033,\n 2035,\n 2036,\n 2041,\n 2042,\n 2043,\n 2044,\n 2046,\n 2047,\n 2052,\n 2061,\n 2063,\n 2082,\n 2087,\n 2098,\n 2099,\n 2101,\n 2102,\n 2103,\n 2105,\n 2118,\n 2121,\n 2122,\n 2123,\n 2152,\n 2153,\n 2167,\n 2201,\n 2202,\n 2221,\n 2222,\n 2242,\n 2301,\n 2311,\n 2312,\n 2313,\n 2331,\n 2332,\n 2337,\n 2341,\n 2342,\n 2343,\n 2371,\n 2372,\n 2374,\n 2401,\n 2402,\n 2403,\n 2404,\n 2405,\n 2406,\n 2407,\n 2408,\n 2421,\n 2425,\n 2427,\n 2441,\n 2442,\n 2443,\n 2444,\n 2452,\n 2453,\n 2482,\n 2485,\n 2501,\n 2503,\n 2511,\n 2512,\n 2537,\n 2542,\n 2544,\n 2601,\n 2602,\n 2603,\n 2636,\n 2661,\n 2662,\n 2683,\n 2701,\n 2702,\n 2703,\n 2704,\n 2738,\n 2751,\n 2752,\n 2761,\n 2801,\n 2802,\n 2803,\n 2804,\n 2805,\n 2806,\n 2807,\n 2808,\n 2809,\n 2841,\n 2842,\n 2891,\n 2892,\n 2893,\n 2894,\n 2901,\n 2902,\n 2904,\n 2921,\n 2922,\n 2932,\n 3001,\n 3002,\n 3003,\n 3022,\n 3024,\n 3061,\n 3062,\n 3065,\n 3071,\n 3072,\n 3078,\n 3082,\n 3101,\n 3103,\n 3104,\n 3107,\n 3109,\n 3110,\n 3137,\n 3141,\n 3144,\n 3146,\n 3147,\n 3179,\n 3187,\n 3201,\n 3202,\n 3221,\n 3232,\n 3233,\n 3234,\n 3244,\n 3272,\n 3275,\n 3301,\n 3302,\n 3303,\n 3304,\n 3305,\n 3338,\n 3342,\n 3354,\n 3392,\n 3393,\n 3401,\n 3402,\n 3425,\n 3435,\n 3441,\n 3500,\n 3502,\n 3503,\n 3504,\n 3505,\n 3506,\n 3507,\n 3509,\n 3510,\n 3511,\n 3513,\n 3514,\n 3515,\n 3523,\n 3540,\n 3541,\n 3542,\n 3543,\n 3544,\n 3545,\n 3546,\n 3547,\n 3548,\n 3549,\n 3579,\n 3581,\n 3582,\n 3585,\n 3601,\n 3602,\n 3603,\n 3604,\n 3606,\n 3607,\n 3608,\n 3621,\n 3625,\n 3651,\n 3661,\n 3662,\n 3672,\n 3701,\n 3702,\n 3703,\n 3705,\n 3725,\n 3727,\n 3761,\n 3783,\n 3817,\n 3854,\n 3861,\n 3867,\n 3868,\n 3871,\n 3898,\n 3901,\n 3902,\n 3911,\n 3923,\n 3941,\n 3944,\n 3945,\n 3953,\n 3981,\n 3988,\n 3998,\n 4000,\n 4001,\n 4003,\n 4004,\n 4005,\n 4006,\n 4007,\n 4008,\n 4009,\n 4010,\n 4011,\n 4012,\n 4013,\n 4015,\n 4017,\n 4021,\n 4022,\n 4040,\n 4041,\n 4042,\n 4043,\n 4044,\n 4045,\n 4046,\n 4047,\n 4048,\n 4049,\n 4067,\n 4077,\n 4081,\n 4085,\n 4086,\n 4090,\n 4095,\n 4101,\n 4131,\n 4151,\n 4152,\n 4155,\n 4162,\n 4175,\n 4201,\n 4202,\n 4221,\n 4246,\n 4253,\n 4254,\n 4261,\n 4283,\n 4285,\n 4301,\n 4321,\n 4401,\n 4402,\n 4403,\n 4404,\n 4406,\n 4407,\n 4410,\n 4411,\n 4412,\n 4413,\n 4431,\n 4432,\n 4433,\n 4444,\n 4446,\n 4447,\n 4456,\n 4462,\n 4472,\n 4481,\n 4486,\n 4487,\n 4512,\n 4601,\n 4603,\n 4701,\n 4702,\n 4744,\n 4753,\n 4801,\n 4803,\n 4804,\n 4901,\n 5001,\n 5002,\n 5003,\n 5004,\n 5005,\n 5006,\n 5007,\n 5008,\n 5009,\n 5072,\n 5094,\n 5095,\n 5101,\n 5102,\n 5131,\n 5151,\n 5152,\n 5201,\n 5213,\n 5242,\n 5301,\n 5302,\n 5308,\n 5311,\n 5323,\n 5341,\n 5349,\n 5351,\n 5401,\n 5403,\n 5404,\n 5421,\n 5431,\n 5432,\n 5441,\n 5449,\n 5461,\n 5472,\n 5473,\n 5501,\n 5521,\n 5526,\n 5541,\n 5601,\n 5602,\n 5603,\n 5604,\n 5605,\n 5631,\n 5642,\n 5664,\n 5666,\n 5701,\n 5702,\n 5703,\n 5721,\n 5722,\n 5752,\n 5801,\n 5802,\n 5901,\n 5902,\n 5903,\n 5905,\n 5906,\n 5908,\n 5909,\n 5911,\n 5947,\n 5949,\n 6001,\n 6002,\n 6003,\n 6004,\n 6005,\n 6006,\n 6007,\n 6008,\n 6010,\n 6044,\n 6061,\n 6062,\n 6063,\n 6067,\n 6093,\n 6094,\n 6095,\n 6101,\n 6102,\n 6201,\n 6301,\n 6327,\n 6346,\n 6401,\n 6402,\n 6454,\n 6501,\n 6502,\n 6601,\n 6602,\n 6603,\n 6611,\n 6613,\n 6641,\n 6642,\n 6648,\n 6700,\n 6701,\n 6702,\n 6703,\n 6704,\n 6705,\n 6706,\n 6707,\n 6708,\n 6709,\n 6712,\n 6713,\n 6717,\n 6718,\n 6719,\n 6723,\n 6740,\n 6741,\n 6742,\n 6743,\n 6744,\n 6745,\n 6746,\n 6747,\n 6748,\n 6801,\n 6802,\n 6803,\n 6804,\n 6805,\n 6806,\n 6808,\n 6811,\n 6901,\n 6902,\n 7001,\n 7002,\n 7016,\n 7018,\n 7021,\n 7027,\n 7031,\n 7032,\n 7042,\n 7053,\n 7055,\n 7092,\n 7101,\n 7102,\n 7103,\n 7151,\n 7153,\n 7162,\n 7187,\n 7201,\n 7202,\n 7203,\n 7257,\n 7259,\n 7277,\n 7286,\n 7301,\n 7302,\n 7303,\n 7305,\n 7306,\n 7309,\n 7354,\n 7386,\n 7401,\n 7402,\n 7403,\n 7404,\n 7405,\n 7406,\n 7407,\n 7408,\n 7409,\n 7461,\n 7501,\n 7521,\n 7522,\n 7531,\n 7534,\n 7571,\n 7572,\n 7600,\n 7601,\n 7602,\n 7603,\n 7604,\n 7605,\n 7606,\n 7607,\n 7608,\n 7609,\n 7610,\n 7611,\n 7612,\n 7613,\n 7614,\n 7615,\n 7616,\n 7617,\n 7618,\n 7619,\n 7620,\n 7642,\n 7643,\n 7644,\n 7645,\n 7646,\n 7647,\n 7648,\n 7650,\n 7701,\n 7702,\n 7722,\n 7729,\n 7758,\n 7767,\n 7801,\n 7802,\n 7821,\n 7825,\n 7835,\n 7849,\n 7850,\n 7901,\n 7911,\n 7923,\n 7924,\n 7931,\n 7938,\n 7952,\n 7956,\n 7965,\n 7980,\n 7986,\n 8001,\n 8002,\n 8003,\n 8004,\n 8005,\n 8006,\n 8007,\n 8008,\n 8011,\n 8020,\n 8054,\n 8061,\n 8062,\n 8066,\n 8084,\n 8100,\n 8101,\n 8102,\n 8103,\n 8104,\n 8105,\n 8109,\n 8128,\n 8131,\n 8139,\n 8141,\n 8153,\n 8155,\n 8161,\n 8162,\n 8163,\n 8164,\n 8171,\n 8172,\n 8173,\n 8174,\n 8175,\n 8181,\n 8182,\n 8183,\n 8184,\n 8191,\n 8192,\n 8193,\n 8194,\n 8195,\n 8196,\n 8200,\n 8201,\n 8202,\n 8204,\n 8205,\n 8206,\n 8207,\n 8220,\n 8221,\n 8222,\n 8223,\n 8225,\n 8226,\n 8227,\n 8228,\n 8229,\n 8230,\n 8231,\n 8232,\n 8233,\n 8235,\n 8236,\n 8237,\n 8241,\n 8242,\n 8243,\n 8244,\n 8245,\n 8246,\n 8247,\n 8248,\n 8250,\n 8251,\n 8252,\n 8253,\n 8254,\n 8255,\n 8256,\n 8257,\n 8258,\n 8261,\n 8262,\n 8263,\n 8264,\n 8265,\n 8271,\n 8272,\n 8273,\n 8274,\n 8275,\n 8281,\n 8282,\n 8283,\n 8284,\n 8285,\n 8286,\n 8291,\n 8292,\n 8293,\n 8294,\n 8295,\n 8296,\n 8297,\n 8300,\n 8301,\n 8302,\n 8303,\n 8308,\n 8311,\n 8312,\n 8315,\n 8317,\n 8318,\n 8319,\n 8321,\n 8330,\n 8331,\n 8343,\n 8344,\n 8345,\n 8346,\n 8347,\n 8348,\n 8349,\n 8351,\n 8352,\n 8361,\n 8362,\n 8363,\n 8364,\n 8369,\n 8381,\n 8400,\n 8401,\n 8403,\n 8404,\n 8408,\n 8409,\n 8411,\n 8412,\n 8413,\n 8414,\n 8415,\n 8416,\n 8417,\n 8418,\n 8419,\n 8420,\n 8422,\n 8423,\n 8424,\n 8425,\n 8426,\n 8427,\n 8428,\n 8429,\n 8430,\n 8435,\n 8436,\n 8437,\n 8440,\n 8441,\n 8442,\n 8443,\n 8444,\n 8445,\n 8446,\n 8447,\n 8448,\n 8449,\n 8451,\n 8452,\n 8454,\n 8455,\n 8456,\n 8457,\n 8458,\n 8460,\n 8461,\n 8468,\n 8469,\n 8471,\n 8473,\n 8474,\n 8475,\n 8476,\n 8477,\n 8478,\n 8479,\n 8481,\n 8482,\n 8483,\n 8484,\n 8485,\n 8491,\n 8492,\n 8493,\n 8494,\n 8495,\n 8496,\n 8497,\n 8500,\n 8501,\n 8502,\n 8503,\n 8505,\n 8510,\n 8511,\n 8512,\n 8513,\n 8514,\n 8515,\n 8516,\n 8517,\n 8518,\n 8521,\n 8522,\n 8523,\n 8531,\n 8532,\n 8533,\n 8534,\n 8541,\n 8542,\n 8543,\n 8544,\n 8545,\n 8551,\n 8552,\n 8553,\n 8554,\n 8555,\n 8556,\n 8557,\n 8558,\n 8561,\n 8562,\n 8563,\n 8564,\n 8565,\n 8571,\n 8572,\n 8581,\n 8582,\n 8591,\n 8592,\n 8593,\n 8594,\n 8595,\n 8596,\n 8597,\n 8598,\n 8601,\n 8602,\n 8603,\n 8604,\n 8609,\n 8611,\n 8631,\n 8634,\n 8641,\n 8642,\n 8643,\n 8644,\n 8651,\n 8657,\n 8665,\n 8701,\n 8709,\n 8715,\n 8752,\n 8755,\n 8768,\n 8769,\n 8781,\n 8783,\n 8786,\n 8787,\n 8789,\n 8795,\n 8801,\n 8802,\n 8803,\n 8804,\n 8808,\n 8809,\n 8823,\n 8833,\n 8871,\n 8873,\n 8884,\n 8901,\n 8902,\n 8903,\n 8904,\n 8905,\n 8906,\n 8907,\n 8908,\n 8909,\n 8916,\n 8922,\n 8926,\n 8927,\n 8928,\n 8929,\n 8933,\n 8941,\n 8942,\n 8961,\n 8966,\n 8967,\n 8974,\n 8988,\n 8989,\n 8990,\n 9000,\n 9001,\n 9002,\n 9003,\n 9004,\n 9005,\n 9006,\n 9007,\n 9008,\n 9009,\n 9010,\n 9013,\n 9018,\n 9020,\n 9030,\n 9040,\n 9064,\n 9088,\n 9182,\n 9183,\n 9201,\n 9202,\n 9203,\n 9227,\n 9242,\n 9301,\n 9324,\n 9331,\n 9332,\n 9339,\n 9401,\n 9402,\n 9403,\n 9404,\n 9405,\n 9406,\n 9407,\n 9408,\n 9409,\n 9433,\n 9434,\n 9438,\n 9494,\n 9501,\n 9502,\n 9503,\n 9513,\n 9514,\n 9532,\n 9533,\n 9534,\n 9541,\n 9556,\n 9601,\n 9602,\n 9608,\n 9609,\n 9612,\n 9625,\n 9642,\n 9654,\n 9675,\n 9683,\n 9701,\n 9702,\n 9703,\n 9704,\n 9705,\n 9706,\n 9707,\n 9708,\n 9709,\n 9710,\n 9719,\n 9731,\n 9732,\n 9758,\n 9765,\n 9798,\n 9801,\n 9901,\n 9911,\n 9955,\n 9963,\n 9971,\n 9981}"
     },
     "execution_count": 13,
     "metadata": {},
     "output_type": "execute_result"
    }
   ],
   "source": [
    "signal_casco_postal_codes = pd.read_excel('../../signal_casco_tariff/input/signal_casco_postal_codes.xlsx')\n",
    "set(signal_casco_postal_codes.iloc[ : , 0]).difference(data['PostalCode'])"
   ],
   "metadata": {
    "collapsed": false,
    "ExecuteTime": {
     "end_time": "2024-02-12T09:48:30.392942705Z",
     "start_time": "2024-02-12T09:48:30.249496940Z"
    }
   },
   "id": "e9a777d9e4a75566"
  },
  {
   "cell_type": "code",
   "execution_count": 14,
   "outputs": [
    {
     "data": {
      "text/plain": "975"
     },
     "execution_count": 14,
     "metadata": {},
     "output_type": "execute_result"
    }
   ],
   "source": [
    "len(set(signal_casco_postal_codes.iloc[ : , 0]).difference(data['PostalCode']))"
   ],
   "metadata": {
    "collapsed": false,
    "ExecuteTime": {
     "end_time": "2024-02-12T09:48:47.519750507Z",
     "start_time": "2024-02-12T09:48:47.484834316Z"
    }
   },
   "id": "b3973a0d39aab201"
  },
  {
   "cell_type": "code",
   "execution_count": 15,
   "outputs": [],
   "source": [
    "postal_codes = pd.read_csv(f'{utils.get_others_path(\"netrisk_casco\")}hungary_postal_codes.csv')['postal_code']\n",
    "population = pd.read_csv(f'{utils.get_others_path(\"netrisk_casco\")}hungary_postal_codes_population.csv').rename(\n",
    "    columns={'PostalCode': 'postal_code',\n",
    "             'Population': 'population'})[['postal_code', 'population']]\n",
    "\n",
    "\n",
    "def to_int(x):\n",
    "    try:\n",
    "        return int(str(x).replace(',', ''))\n",
    "    except Exception as e:\n",
    "        return None\n",
    "\n",
    "\n",
    "population['population'] = population['population'].apply(to_int)\n",
    "population = population.dropna()\n"
   ],
   "metadata": {
    "collapsed": false,
    "ExecuteTime": {
     "end_time": "2024-02-12T09:50:36.700265115Z",
     "start_time": "2024-02-12T09:50:36.598469286Z"
    }
   },
   "id": "ffd5ebbcf48f82c5"
  },
  {
   "cell_type": "code",
   "execution_count": 31,
   "outputs": [
    {
     "data": {
      "text/plain": "2709"
     },
     "execution_count": 31,
     "metadata": {},
     "output_type": "execute_result"
    }
   ],
   "source": [
    "len(set(population['postal_code']).difference(set(data['PostalCode'])))"
   ],
   "metadata": {
    "collapsed": false,
    "ExecuteTime": {
     "end_time": "2024-02-12T09:53:58.040876708Z",
     "start_time": "2024-02-12T09:53:58.015207297Z"
    }
   },
   "id": "4e5e298aadd04d3a"
  },
  {
   "cell_type": "code",
   "execution_count": 33,
   "outputs": [
    {
     "data": {
      "text/plain": "2656"
     },
     "execution_count": 33,
     "metadata": {},
     "output_type": "execute_result"
    }
   ],
   "source": [
    "len(set(data['PostalCode']).difference(set(population['postal_code'])))"
   ],
   "metadata": {
    "collapsed": false,
    "ExecuteTime": {
     "end_time": "2024-02-12T09:54:28.873387634Z",
     "start_time": "2024-02-12T09:54:28.852097491Z"
    }
   },
   "id": "1f376076098baeb0"
  },
  {
   "cell_type": "code",
   "execution_count": 30,
   "outputs": [
    {
     "data": {
      "text/plain": "     postal_code  population\n1           1011      5052.0\n2           1012      2905.0\n3           1013      6066.0\n4           1014      2594.0\n5           1015      3407.0\n...          ...         ...\n3348        9962      1665.0\n3349        9970      8130.0\n3352        9982       512.0\n3353        9983       705.0\n3354        9985       577.0\n\n[2724 rows x 2 columns]",
      "text/html": "<div>\n<style scoped>\n    .dataframe tbody tr th:only-of-type {\n        vertical-align: middle;\n    }\n\n    .dataframe tbody tr th {\n        vertical-align: top;\n    }\n\n    .dataframe thead th {\n        text-align: right;\n    }\n</style>\n<table border=\"1\" class=\"dataframe\">\n  <thead>\n    <tr style=\"text-align: right;\">\n      <th></th>\n      <th>postal_code</th>\n      <th>population</th>\n    </tr>\n  </thead>\n  <tbody>\n    <tr>\n      <th>1</th>\n      <td>1011</td>\n      <td>5052.0</td>\n    </tr>\n    <tr>\n      <th>2</th>\n      <td>1012</td>\n      <td>2905.0</td>\n    </tr>\n    <tr>\n      <th>3</th>\n      <td>1013</td>\n      <td>6066.0</td>\n    </tr>\n    <tr>\n      <th>4</th>\n      <td>1014</td>\n      <td>2594.0</td>\n    </tr>\n    <tr>\n      <th>5</th>\n      <td>1015</td>\n      <td>3407.0</td>\n    </tr>\n    <tr>\n      <th>...</th>\n      <td>...</td>\n      <td>...</td>\n    </tr>\n    <tr>\n      <th>3348</th>\n      <td>9962</td>\n      <td>1665.0</td>\n    </tr>\n    <tr>\n      <th>3349</th>\n      <td>9970</td>\n      <td>8130.0</td>\n    </tr>\n    <tr>\n      <th>3352</th>\n      <td>9982</td>\n      <td>512.0</td>\n    </tr>\n    <tr>\n      <th>3353</th>\n      <td>9983</td>\n      <td>705.0</td>\n    </tr>\n    <tr>\n      <th>3354</th>\n      <td>9985</td>\n      <td>577.0</td>\n    </tr>\n  </tbody>\n</table>\n<p>2724 rows × 2 columns</p>\n</div>"
     },
     "execution_count": 30,
     "metadata": {},
     "output_type": "execute_result"
    }
   ],
   "source": [
    "population"
   ],
   "metadata": {
    "collapsed": false,
    "ExecuteTime": {
     "end_time": "2024-02-12T09:53:50.845859176Z",
     "start_time": "2024-02-12T09:53:50.826020698Z"
    }
   },
   "id": "cea570a54f242d55"
  },
  {
   "cell_type": "code",
   "execution_count": 26,
   "outputs": [
    {
     "data": {
      "text/plain": "Empty DataFrame\nColumns: [postal_code, population]\nIndex: []",
      "text/html": "<div>\n<style scoped>\n    .dataframe tbody tr th:only-of-type {\n        vertical-align: middle;\n    }\n\n    .dataframe tbody tr th {\n        vertical-align: top;\n    }\n\n    .dataframe thead th {\n        text-align: right;\n    }\n</style>\n<table border=\"1\" class=\"dataframe\">\n  <thead>\n    <tr style=\"text-align: right;\">\n      <th></th>\n      <th>postal_code</th>\n      <th>population</th>\n    </tr>\n  </thead>\n  <tbody>\n  </tbody>\n</table>\n</div>"
     },
     "execution_count": 26,
     "metadata": {},
     "output_type": "execute_result"
    }
   ],
   "source": [
    "population[population['population'] == 8313.0]"
   ],
   "metadata": {
    "collapsed": false,
    "ExecuteTime": {
     "end_time": "2024-02-12T09:52:43.436337740Z",
     "start_time": "2024-02-12T09:52:43.406337507Z"
    }
   },
   "id": "7e12e0cc9b897b42"
  },
  {
   "cell_type": "code",
   "execution_count": 48,
   "outputs": [],
   "source": [
    "no_quotes = []\n",
    "for postal_code in sorted(population['postal_code']):\n",
    "    if int(postal_code) not in set(data['PostalCode']):\n",
    "        no_quotes.append(int(postal_code))\n",
    "    "
   ],
   "metadata": {
    "collapsed": false,
    "ExecuteTime": {
     "end_time": "2024-02-12T09:58:05.071465056Z",
     "start_time": "2024-02-12T09:58:04.778494564Z"
    }
   },
   "id": "9ab2a4b342e34db5"
  },
  {
   "cell_type": "code",
   "execution_count": 49,
   "outputs": [
    {
     "data": {
      "text/plain": "[1028,\n 1036,\n 1088,\n 1103,\n 2098,\n 2118,\n 2167,\n 2337,\n 2371,\n 2421,\n 2425,\n 2485,\n 2544,\n 2683,\n 2921,\n 3179,\n 3244,\n 3275,\n 3354,\n 3425,\n 3515,\n 3761,\n 3817,\n 3871,\n 3898,\n 3941,\n 4090,\n 4175,\n 4254,\n 4285,\n 4456,\n 4487,\n 5094,\n 5526,\n 6346,\n 6454,\n 6723,\n 7018,\n 7042,\n 7162,\n 7257,\n 7354,\n 8066,\n 8315,\n 8651,\n 8873,\n 8929,\n 8988,\n 9030,\n 9088,\n 9324,\n 9514,\n 9798]"
     },
     "execution_count": 49,
     "metadata": {},
     "output_type": "execute_result"
    }
   ],
   "source": [
    "no_quotes"
   ],
   "metadata": {
    "collapsed": false,
    "ExecuteTime": {
     "end_time": "2024-02-12T09:58:05.495752650Z",
     "start_time": "2024-02-12T09:58:05.465159726Z"
    }
   },
   "id": "f5334969b2e969e0"
  },
  {
   "cell_type": "code",
   "execution_count": 44,
   "outputs": [],
   "source": [],
   "metadata": {
    "collapsed": false,
    "ExecuteTime": {
     "end_time": "2024-02-12T09:57:25.552419830Z",
     "start_time": "2024-02-12T09:57:25.525148365Z"
    }
   },
   "id": "683450e942475260"
  },
  {
   "cell_type": "code",
   "execution_count": null,
   "outputs": [],
   "source": [],
   "metadata": {
    "collapsed": false
   },
   "id": "6543ea6e40499556"
  }
 ],
 "metadata": {
  "kernelspec": {
   "display_name": "Python 3",
   "language": "python",
   "name": "python3"
  },
  "language_info": {
   "codemirror_mode": {
    "name": "ipython",
    "version": 2
   },
   "file_extension": ".py",
   "mimetype": "text/x-python",
   "name": "python",
   "nbconvert_exporter": "python",
   "pygments_lexer": "ipython2",
   "version": "2.7.6"
  }
 },
 "nbformat": 4,
 "nbformat_minor": 5
}
