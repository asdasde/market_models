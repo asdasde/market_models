{
 "cells": [
  {
   "cell_type": "code",
   "execution_count": 1,
   "id": "initial_id",
   "metadata": {
    "collapsed": true,
    "ExecuteTime": {
     "end_time": "2024-01-03T11:05:51.389826756Z",
     "start_time": "2024-01-03T11:05:50.615993041Z"
    }
   },
   "outputs": [],
   "source": [
    "import datetime\n",
    "import os\n",
    "import sys\n",
    "import pandas as pd\n",
    "import numpy as np\n",
    "import xgboost\n",
    "from sklearn.model_selection import train_test_split\n",
    "import dataframe_image as dfi\n",
    "import seaborn as sns\n",
    "import matplotlib.pyplot as plt\n",
    "from matplotlib.ticker import PercentFormatter\n",
    "\n",
    "\n",
    "notebook_dir = os.path.abspath(os.getcwd())\n",
    "src_path = os.path.join('/home/lerceg/LukaPosao/market_models/', 'src')\n",
    "sys.path.append(src_path)\n",
    "\n",
    "import market_models.src.models.train_model as tm\n",
    "import market_models.src.models.predict_model as pm\n",
    "import market_models.src.utils as utils\n",
    "\n",
    "%load_ext autoreload\n",
    "%autoreload \n",
    "import market_models.src.features.build_features as build_features\n"
   ]
  },
  {
   "cell_type": "code",
   "execution_count": 8,
   "outputs": [],
   "source": [
    "data_name = 'netrisk_casco_2023_11_14__2023_11_20__2023_12_12__2023_12_22__2023_12_28__2023_12_29__2024_01_02'\n",
    "target_variable = 'UNIQA_price'\n",
    "#target_variable = 'GENERALI_price'\n",
    "\n",
    "\n",
    "data_path = utils.get_processed_data_path(data_name)\n",
    "features_path = utils.get_features_path(data_name)\n",
    "\n",
    "data, features = utils.load_data(data_path, features_path, target_variable)\n",
    "\n",
    "postal_code = data.drop_duplicates(['PostalCode'], keep = 'last')[['PostalCode', target_variable]].sort_values('PostalCode')\n",
    "postal_code = postal_code.groupby(target_variable)['PostalCode'].agg(list)"
   ],
   "metadata": {
    "collapsed": false,
    "ExecuteTime": {
     "end_time": "2024-01-03T11:14:03.530407256Z",
     "start_time": "2024-01-03T11:14:03.362181343Z"
    }
   },
   "id": "6e6cd1d9fe88a157"
  },
  {
   "cell_type": "code",
   "execution_count": 9,
   "outputs": [
    {
     "data": {
      "text/plain": "     DateCrawled  isRecent  CarMake  CarAge   ccm  kw    kg  car_value  \\\n0     2023_11_14     False       28       3   998  49   899  15337.400   \n1     2023_11_14     False       20       2   999  92  1280  24388.000   \n2     2023_11_14     False       12       3   999  54   974   6757.400   \n3     2023_11_14     False       23       3   998  49   996   8447.400   \n4     2023_11_14     False       58       3   999  59  1270  11568.336   \n...          ...       ...      ...     ...   ...  ..   ...        ...   \n6005  2024_01_02      True       66       1  1197  85  1390  25532.000   \n6006  2024_01_02      True       66       1  1197  85  1390  25532.000   \n6007  2024_01_02      True       66       1  1197  85  1390  25532.000   \n6008  2024_01_02      True       66       1  1197  85  1390  25532.000   \n6009  2024_01_02      True       66       1  1197  85  1390  25532.000   \n\n      CarMakerCategory  PostalCode  PostalCode2  PostalCode3  Category  \\\n0                 1.00        1016           10          101         9   \n1                 1.00        1016           10          101         9   \n2                 0.97        1016           10          101         9   \n3                 0.97        1016           10          101         9   \n4                 1.00        1016           10          101         9   \n...                ...         ...          ...          ...       ...   \n6005              0.97        4100           41          410         1   \n6006              0.97        2800           28          280         6   \n6007              0.97        1107           11          110         8   \n6008              0.97        5900           59          590         1   \n6009              0.97        2040           20          204         8   \n\n      Longitude  Latitude  Age  LicenseAge  BonusMalus  BonusMalusCode  \\\n0       19.0404   47.4984   40          18         1.0               2   \n1       19.0404   47.4984   49          18         0.0               1   \n2       19.0404   47.4984   27          18         0.0               1   \n3       19.0404   47.4984   57          18         7.0               8   \n4       19.0404   47.4984   43          18         7.0               8   \n...         ...       ...  ...         ...         ...             ...   \n6005    21.5500   47.2167   35          18         0.0               1   \n6006    18.3933   47.5849   35          18         0.0               1   \n6007    19.0404   47.4984   35          18         0.0               1   \n6008    20.6667   46.5667   35          18         0.0               1   \n6009    18.9585   47.4618   35          18         0.0               1   \n\n      UNIQA_price  \n0        115246.0  \n1        203799.0  \n2        150166.0  \n3        141611.0  \n4        162120.0  \n...           ...  \n6005     158230.0  \n6006     135286.0  \n6007     169958.0  \n6008     135286.0  \n6009     192902.0  \n\n[5877 rows x 20 columns]",
      "text/html": "<div>\n<style scoped>\n    .dataframe tbody tr th:only-of-type {\n        vertical-align: middle;\n    }\n\n    .dataframe tbody tr th {\n        vertical-align: top;\n    }\n\n    .dataframe thead th {\n        text-align: right;\n    }\n</style>\n<table border=\"1\" class=\"dataframe\">\n  <thead>\n    <tr style=\"text-align: right;\">\n      <th></th>\n      <th>DateCrawled</th>\n      <th>isRecent</th>\n      <th>CarMake</th>\n      <th>CarAge</th>\n      <th>ccm</th>\n      <th>kw</th>\n      <th>kg</th>\n      <th>car_value</th>\n      <th>CarMakerCategory</th>\n      <th>PostalCode</th>\n      <th>PostalCode2</th>\n      <th>PostalCode3</th>\n      <th>Category</th>\n      <th>Longitude</th>\n      <th>Latitude</th>\n      <th>Age</th>\n      <th>LicenseAge</th>\n      <th>BonusMalus</th>\n      <th>BonusMalusCode</th>\n      <th>UNIQA_price</th>\n    </tr>\n  </thead>\n  <tbody>\n    <tr>\n      <th>0</th>\n      <td>2023_11_14</td>\n      <td>False</td>\n      <td>28</td>\n      <td>3</td>\n      <td>998</td>\n      <td>49</td>\n      <td>899</td>\n      <td>15337.400</td>\n      <td>1.00</td>\n      <td>1016</td>\n      <td>10</td>\n      <td>101</td>\n      <td>9</td>\n      <td>19.0404</td>\n      <td>47.4984</td>\n      <td>40</td>\n      <td>18</td>\n      <td>1.0</td>\n      <td>2</td>\n      <td>115246.0</td>\n    </tr>\n    <tr>\n      <th>1</th>\n      <td>2023_11_14</td>\n      <td>False</td>\n      <td>20</td>\n      <td>2</td>\n      <td>999</td>\n      <td>92</td>\n      <td>1280</td>\n      <td>24388.000</td>\n      <td>1.00</td>\n      <td>1016</td>\n      <td>10</td>\n      <td>101</td>\n      <td>9</td>\n      <td>19.0404</td>\n      <td>47.4984</td>\n      <td>49</td>\n      <td>18</td>\n      <td>0.0</td>\n      <td>1</td>\n      <td>203799.0</td>\n    </tr>\n    <tr>\n      <th>2</th>\n      <td>2023_11_14</td>\n      <td>False</td>\n      <td>12</td>\n      <td>3</td>\n      <td>999</td>\n      <td>54</td>\n      <td>974</td>\n      <td>6757.400</td>\n      <td>0.97</td>\n      <td>1016</td>\n      <td>10</td>\n      <td>101</td>\n      <td>9</td>\n      <td>19.0404</td>\n      <td>47.4984</td>\n      <td>27</td>\n      <td>18</td>\n      <td>0.0</td>\n      <td>1</td>\n      <td>150166.0</td>\n    </tr>\n    <tr>\n      <th>3</th>\n      <td>2023_11_14</td>\n      <td>False</td>\n      <td>23</td>\n      <td>3</td>\n      <td>998</td>\n      <td>49</td>\n      <td>996</td>\n      <td>8447.400</td>\n      <td>0.97</td>\n      <td>1016</td>\n      <td>10</td>\n      <td>101</td>\n      <td>9</td>\n      <td>19.0404</td>\n      <td>47.4984</td>\n      <td>57</td>\n      <td>18</td>\n      <td>7.0</td>\n      <td>8</td>\n      <td>141611.0</td>\n    </tr>\n    <tr>\n      <th>4</th>\n      <td>2023_11_14</td>\n      <td>False</td>\n      <td>58</td>\n      <td>3</td>\n      <td>999</td>\n      <td>59</td>\n      <td>1270</td>\n      <td>11568.336</td>\n      <td>1.00</td>\n      <td>1016</td>\n      <td>10</td>\n      <td>101</td>\n      <td>9</td>\n      <td>19.0404</td>\n      <td>47.4984</td>\n      <td>43</td>\n      <td>18</td>\n      <td>7.0</td>\n      <td>8</td>\n      <td>162120.0</td>\n    </tr>\n    <tr>\n      <th>...</th>\n      <td>...</td>\n      <td>...</td>\n      <td>...</td>\n      <td>...</td>\n      <td>...</td>\n      <td>...</td>\n      <td>...</td>\n      <td>...</td>\n      <td>...</td>\n      <td>...</td>\n      <td>...</td>\n      <td>...</td>\n      <td>...</td>\n      <td>...</td>\n      <td>...</td>\n      <td>...</td>\n      <td>...</td>\n      <td>...</td>\n      <td>...</td>\n      <td>...</td>\n    </tr>\n    <tr>\n      <th>6005</th>\n      <td>2024_01_02</td>\n      <td>True</td>\n      <td>66</td>\n      <td>1</td>\n      <td>1197</td>\n      <td>85</td>\n      <td>1390</td>\n      <td>25532.000</td>\n      <td>0.97</td>\n      <td>4100</td>\n      <td>41</td>\n      <td>410</td>\n      <td>1</td>\n      <td>21.5500</td>\n      <td>47.2167</td>\n      <td>35</td>\n      <td>18</td>\n      <td>0.0</td>\n      <td>1</td>\n      <td>158230.0</td>\n    </tr>\n    <tr>\n      <th>6006</th>\n      <td>2024_01_02</td>\n      <td>True</td>\n      <td>66</td>\n      <td>1</td>\n      <td>1197</td>\n      <td>85</td>\n      <td>1390</td>\n      <td>25532.000</td>\n      <td>0.97</td>\n      <td>2800</td>\n      <td>28</td>\n      <td>280</td>\n      <td>6</td>\n      <td>18.3933</td>\n      <td>47.5849</td>\n      <td>35</td>\n      <td>18</td>\n      <td>0.0</td>\n      <td>1</td>\n      <td>135286.0</td>\n    </tr>\n    <tr>\n      <th>6007</th>\n      <td>2024_01_02</td>\n      <td>True</td>\n      <td>66</td>\n      <td>1</td>\n      <td>1197</td>\n      <td>85</td>\n      <td>1390</td>\n      <td>25532.000</td>\n      <td>0.97</td>\n      <td>1107</td>\n      <td>11</td>\n      <td>110</td>\n      <td>8</td>\n      <td>19.0404</td>\n      <td>47.4984</td>\n      <td>35</td>\n      <td>18</td>\n      <td>0.0</td>\n      <td>1</td>\n      <td>169958.0</td>\n    </tr>\n    <tr>\n      <th>6008</th>\n      <td>2024_01_02</td>\n      <td>True</td>\n      <td>66</td>\n      <td>1</td>\n      <td>1197</td>\n      <td>85</td>\n      <td>1390</td>\n      <td>25532.000</td>\n      <td>0.97</td>\n      <td>5900</td>\n      <td>59</td>\n      <td>590</td>\n      <td>1</td>\n      <td>20.6667</td>\n      <td>46.5667</td>\n      <td>35</td>\n      <td>18</td>\n      <td>0.0</td>\n      <td>1</td>\n      <td>135286.0</td>\n    </tr>\n    <tr>\n      <th>6009</th>\n      <td>2024_01_02</td>\n      <td>True</td>\n      <td>66</td>\n      <td>1</td>\n      <td>1197</td>\n      <td>85</td>\n      <td>1390</td>\n      <td>25532.000</td>\n      <td>0.97</td>\n      <td>2040</td>\n      <td>20</td>\n      <td>204</td>\n      <td>8</td>\n      <td>18.9585</td>\n      <td>47.4618</td>\n      <td>35</td>\n      <td>18</td>\n      <td>0.0</td>\n      <td>1</td>\n      <td>192902.0</td>\n    </tr>\n  </tbody>\n</table>\n<p>5877 rows × 20 columns</p>\n</div>"
     },
     "execution_count": 9,
     "metadata": {},
     "output_type": "execute_result"
    }
   ],
   "source": [
    "data"
   ],
   "metadata": {
    "collapsed": false,
    "ExecuteTime": {
     "end_time": "2024-01-03T11:14:04.127487569Z",
     "start_time": "2024-01-03T11:14:04.046774337Z"
    }
   },
   "id": "fd96aeadb96f00b0"
  },
  {
   "cell_type": "code",
   "execution_count": 4,
   "outputs": [],
   "source": [
    "bonus_malus = data.drop_duplicates('BonusMalus', keep = 'last')[['BonusMalus', target_variable]].sort_values('BonusMalus')"
   ],
   "metadata": {
    "collapsed": false,
    "ExecuteTime": {
     "end_time": "2024-01-03T11:05:52.152448460Z",
     "start_time": "2024-01-03T11:05:52.147760945Z"
    }
   },
   "id": "f0544e0777267134"
  },
  {
   "cell_type": "code",
   "execution_count": 5,
   "outputs": [
    {
     "data": {
      "text/plain": "     BonusMalus  UNIQA_price\n804         0.0     192902.0\n372         1.0     192902.0\n242         2.0     193608.0\n353         3.0     193608.0\n366         4.0     193608.0\n583         5.0     223520.0\n81          6.0     223520.0\n171         7.0     223520.0\n480         8.0     235533.0\n38          9.0     235533.0\n225        10.0     235533.0\n181        11.0     235533.0\n387        12.0     235533.0\n287        13.0     235533.0\n473        14.0     235533.0",
      "text/html": "<div>\n<style scoped>\n    .dataframe tbody tr th:only-of-type {\n        vertical-align: middle;\n    }\n\n    .dataframe tbody tr th {\n        vertical-align: top;\n    }\n\n    .dataframe thead th {\n        text-align: right;\n    }\n</style>\n<table border=\"1\" class=\"dataframe\">\n  <thead>\n    <tr style=\"text-align: right;\">\n      <th></th>\n      <th>BonusMalus</th>\n      <th>UNIQA_price</th>\n    </tr>\n  </thead>\n  <tbody>\n    <tr>\n      <th>804</th>\n      <td>0.0</td>\n      <td>192902.0</td>\n    </tr>\n    <tr>\n      <th>372</th>\n      <td>1.0</td>\n      <td>192902.0</td>\n    </tr>\n    <tr>\n      <th>242</th>\n      <td>2.0</td>\n      <td>193608.0</td>\n    </tr>\n    <tr>\n      <th>353</th>\n      <td>3.0</td>\n      <td>193608.0</td>\n    </tr>\n    <tr>\n      <th>366</th>\n      <td>4.0</td>\n      <td>193608.0</td>\n    </tr>\n    <tr>\n      <th>583</th>\n      <td>5.0</td>\n      <td>223520.0</td>\n    </tr>\n    <tr>\n      <th>81</th>\n      <td>6.0</td>\n      <td>223520.0</td>\n    </tr>\n    <tr>\n      <th>171</th>\n      <td>7.0</td>\n      <td>223520.0</td>\n    </tr>\n    <tr>\n      <th>480</th>\n      <td>8.0</td>\n      <td>235533.0</td>\n    </tr>\n    <tr>\n      <th>38</th>\n      <td>9.0</td>\n      <td>235533.0</td>\n    </tr>\n    <tr>\n      <th>225</th>\n      <td>10.0</td>\n      <td>235533.0</td>\n    </tr>\n    <tr>\n      <th>181</th>\n      <td>11.0</td>\n      <td>235533.0</td>\n    </tr>\n    <tr>\n      <th>387</th>\n      <td>12.0</td>\n      <td>235533.0</td>\n    </tr>\n    <tr>\n      <th>287</th>\n      <td>13.0</td>\n      <td>235533.0</td>\n    </tr>\n    <tr>\n      <th>473</th>\n      <td>14.0</td>\n      <td>235533.0</td>\n    </tr>\n  </tbody>\n</table>\n</div>"
     },
     "execution_count": 5,
     "metadata": {},
     "output_type": "execute_result"
    }
   ],
   "source": [
    "bonus_malus"
   ],
   "metadata": {
    "collapsed": false,
    "ExecuteTime": {
     "end_time": "2024-01-03T11:05:52.856454420Z",
     "start_time": "2024-01-03T11:05:52.852523509Z"
    }
   },
   "id": "163123786cf0c4af"
  },
  {
   "cell_type": "code",
   "execution_count": 6,
   "outputs": [],
   "source": [
    "bonus_malus[target_variable] = bonus_malus[target_variable].iloc[0] / bonus_malus[target_variable]"
   ],
   "metadata": {
    "collapsed": false,
    "ExecuteTime": {
     "end_time": "2024-01-03T11:05:53.718797877Z",
     "start_time": "2024-01-03T11:05:53.711758906Z"
    }
   },
   "id": "409033a1abf7db2f"
  },
  {
   "cell_type": "code",
   "execution_count": 61,
   "outputs": [
    {
     "data": {
      "text/plain": "     BonusMalus  GENERALI_price\n804         0.0        1.000000\n372         1.0        0.793603\n242         2.0        0.793603\n353         3.0        0.793603\n366         4.0        0.758332\n583         5.0        0.758332\n81          6.0        0.758332\n171         7.0        0.758332\n480         8.0        0.758332\n38          9.0        0.758332\n225        10.0        0.758332\n181        11.0        0.758332\n387        12.0        0.758332\n287        13.0        0.758332\n473        14.0        0.758332",
      "text/html": "<div>\n<style scoped>\n    .dataframe tbody tr th:only-of-type {\n        vertical-align: middle;\n    }\n\n    .dataframe tbody tr th {\n        vertical-align: top;\n    }\n\n    .dataframe thead th {\n        text-align: right;\n    }\n</style>\n<table border=\"1\" class=\"dataframe\">\n  <thead>\n    <tr style=\"text-align: right;\">\n      <th></th>\n      <th>BonusMalus</th>\n      <th>GENERALI_price</th>\n    </tr>\n  </thead>\n  <tbody>\n    <tr>\n      <th>804</th>\n      <td>0.0</td>\n      <td>1.000000</td>\n    </tr>\n    <tr>\n      <th>372</th>\n      <td>1.0</td>\n      <td>0.793603</td>\n    </tr>\n    <tr>\n      <th>242</th>\n      <td>2.0</td>\n      <td>0.793603</td>\n    </tr>\n    <tr>\n      <th>353</th>\n      <td>3.0</td>\n      <td>0.793603</td>\n    </tr>\n    <tr>\n      <th>366</th>\n      <td>4.0</td>\n      <td>0.758332</td>\n    </tr>\n    <tr>\n      <th>583</th>\n      <td>5.0</td>\n      <td>0.758332</td>\n    </tr>\n    <tr>\n      <th>81</th>\n      <td>6.0</td>\n      <td>0.758332</td>\n    </tr>\n    <tr>\n      <th>171</th>\n      <td>7.0</td>\n      <td>0.758332</td>\n    </tr>\n    <tr>\n      <th>480</th>\n      <td>8.0</td>\n      <td>0.758332</td>\n    </tr>\n    <tr>\n      <th>38</th>\n      <td>9.0</td>\n      <td>0.758332</td>\n    </tr>\n    <tr>\n      <th>225</th>\n      <td>10.0</td>\n      <td>0.758332</td>\n    </tr>\n    <tr>\n      <th>181</th>\n      <td>11.0</td>\n      <td>0.758332</td>\n    </tr>\n    <tr>\n      <th>387</th>\n      <td>12.0</td>\n      <td>0.758332</td>\n    </tr>\n    <tr>\n      <th>287</th>\n      <td>13.0</td>\n      <td>0.758332</td>\n    </tr>\n    <tr>\n      <th>473</th>\n      <td>14.0</td>\n      <td>0.758332</td>\n    </tr>\n  </tbody>\n</table>\n</div>"
     },
     "execution_count": 61,
     "metadata": {},
     "output_type": "execute_result"
    }
   ],
   "source": [
    "bonus_malus"
   ],
   "metadata": {
    "collapsed": false,
    "ExecuteTime": {
     "end_time": "2024-01-03T08:57:52.583964648Z",
     "start_time": "2024-01-03T08:57:52.533397008Z"
    }
   },
   "id": "7512efe3868d98d0"
  },
  {
   "cell_type": "code",
   "execution_count": 62,
   "outputs": [
    {
     "data": {
      "text/plain": "3"
     },
     "execution_count": 62,
     "metadata": {},
     "output_type": "execute_result"
    }
   ],
   "source": [
    "bonus_malus[target_variable].nunique()"
   ],
   "metadata": {
    "collapsed": false,
    "ExecuteTime": {
     "end_time": "2024-01-03T08:57:52.837588593Z",
     "start_time": "2024-01-03T08:57:52.835729870Z"
    }
   },
   "id": "1ca7996a02d6b2e1"
  },
  {
   "cell_type": "code",
   "execution_count": 67,
   "outputs": [],
   "source": [
    "age = data.drop_duplicates('Age', keep = 'last')[['Age', target_variable]].sort_values('Age')"
   ],
   "metadata": {
    "collapsed": false,
    "ExecuteTime": {
     "end_time": "2024-01-03T08:59:19.626864696Z",
     "start_time": "2024-01-03T08:59:19.579444213Z"
    }
   },
   "id": "28366af52d767c40"
  },
  {
   "cell_type": "code",
   "execution_count": 68,
   "outputs": [],
   "source": [
    "age = age.groupby(target_variable).agg(list).reset_index()"
   ],
   "metadata": {
    "collapsed": false,
    "ExecuteTime": {
     "end_time": "2024-01-03T08:59:19.983154985Z",
     "start_time": "2024-01-03T08:59:19.976790142Z"
    }
   },
   "id": "157303d35b501c6a"
  },
  {
   "cell_type": "code",
   "execution_count": 69,
   "outputs": [],
   "source": [
    "age[target_variable] = age[target_variable] / age[target_variable].iloc[0]"
   ],
   "metadata": {
    "collapsed": false,
    "ExecuteTime": {
     "end_time": "2024-01-03T08:59:24.622394363Z",
     "start_time": "2024-01-03T08:59:24.615137134Z"
    }
   },
   "id": "b0c7d50e76c30793"
  },
  {
   "cell_type": "code",
   "execution_count": 70,
   "outputs": [
    {
     "data": {
      "text/plain": "   GENERALI_price                                                Age\n0        1.000000                                               [35]\n1        1.077178  [40, 42, 44, 46, 48, 50, 52, 54, 56, 58, 60, 6...\n2        1.142860                                       [34, 36, 38]\n3        1.182267                                   [70, 72, 74, 76]\n4        1.313631                                           [30, 32]\n5        1.392448                                               [78]\n6        1.839082                                       [24, 26, 28]\n7        2.036125                                       [18, 20, 22]",
      "text/html": "<div>\n<style scoped>\n    .dataframe tbody tr th:only-of-type {\n        vertical-align: middle;\n    }\n\n    .dataframe tbody tr th {\n        vertical-align: top;\n    }\n\n    .dataframe thead th {\n        text-align: right;\n    }\n</style>\n<table border=\"1\" class=\"dataframe\">\n  <thead>\n    <tr style=\"text-align: right;\">\n      <th></th>\n      <th>GENERALI_price</th>\n      <th>Age</th>\n    </tr>\n  </thead>\n  <tbody>\n    <tr>\n      <th>0</th>\n      <td>1.000000</td>\n      <td>[35]</td>\n    </tr>\n    <tr>\n      <th>1</th>\n      <td>1.077178</td>\n      <td>[40, 42, 44, 46, 48, 50, 52, 54, 56, 58, 60, 6...</td>\n    </tr>\n    <tr>\n      <th>2</th>\n      <td>1.142860</td>\n      <td>[34, 36, 38]</td>\n    </tr>\n    <tr>\n      <th>3</th>\n      <td>1.182267</td>\n      <td>[70, 72, 74, 76]</td>\n    </tr>\n    <tr>\n      <th>4</th>\n      <td>1.313631</td>\n      <td>[30, 32]</td>\n    </tr>\n    <tr>\n      <th>5</th>\n      <td>1.392448</td>\n      <td>[78]</td>\n    </tr>\n    <tr>\n      <th>6</th>\n      <td>1.839082</td>\n      <td>[24, 26, 28]</td>\n    </tr>\n    <tr>\n      <th>7</th>\n      <td>2.036125</td>\n      <td>[18, 20, 22]</td>\n    </tr>\n  </tbody>\n</table>\n</div>"
     },
     "execution_count": 70,
     "metadata": {},
     "output_type": "execute_result"
    }
   ],
   "source": [
    "age"
   ],
   "metadata": {
    "collapsed": false,
    "ExecuteTime": {
     "end_time": "2024-01-03T08:59:27.153689409Z",
     "start_time": "2024-01-03T08:59:27.148241130Z"
    }
   },
   "id": "858276db27ce49e"
  },
  {
   "cell_type": "code",
   "execution_count": 48,
   "outputs": [],
   "source": [
    "car_age = data.drop_duplicates('CarAge', keep = 'last')[['CarAge', target_variable]].sort_values('CarAge')"
   ],
   "metadata": {
    "collapsed": false,
    "ExecuteTime": {
     "end_time": "2024-01-03T08:53:50.710965588Z",
     "start_time": "2024-01-03T08:53:50.695428529Z"
    }
   },
   "id": "5e6cc98953997690"
  },
  {
   "cell_type": "code",
   "execution_count": 49,
   "outputs": [
    {
     "data": {
      "text/plain": "               CarAge\nGENERALI_price       \n96460.0           [4]\n132231.0          [6]\n193357.0          [9]\n221142.0          [2]\n238575.0          [5]\n248212.0          [7]\n331262.0          [1]\n393022.0          [8]\n2066529.0         [3]",
      "text/html": "<div>\n<style scoped>\n    .dataframe tbody tr th:only-of-type {\n        vertical-align: middle;\n    }\n\n    .dataframe tbody tr th {\n        vertical-align: top;\n    }\n\n    .dataframe thead th {\n        text-align: right;\n    }\n</style>\n<table border=\"1\" class=\"dataframe\">\n  <thead>\n    <tr style=\"text-align: right;\">\n      <th></th>\n      <th>CarAge</th>\n    </tr>\n    <tr>\n      <th>GENERALI_price</th>\n      <th></th>\n    </tr>\n  </thead>\n  <tbody>\n    <tr>\n      <th>96460.0</th>\n      <td>[4]</td>\n    </tr>\n    <tr>\n      <th>132231.0</th>\n      <td>[6]</td>\n    </tr>\n    <tr>\n      <th>193357.0</th>\n      <td>[9]</td>\n    </tr>\n    <tr>\n      <th>221142.0</th>\n      <td>[2]</td>\n    </tr>\n    <tr>\n      <th>238575.0</th>\n      <td>[5]</td>\n    </tr>\n    <tr>\n      <th>248212.0</th>\n      <td>[7]</td>\n    </tr>\n    <tr>\n      <th>331262.0</th>\n      <td>[1]</td>\n    </tr>\n    <tr>\n      <th>393022.0</th>\n      <td>[8]</td>\n    </tr>\n    <tr>\n      <th>2066529.0</th>\n      <td>[3]</td>\n    </tr>\n  </tbody>\n</table>\n</div>"
     },
     "execution_count": 49,
     "metadata": {},
     "output_type": "execute_result"
    }
   ],
   "source": [
    "car_age.groupby(target_variable).agg(list)"
   ],
   "metadata": {
    "collapsed": false,
    "ExecuteTime": {
     "end_time": "2024-01-03T08:53:51.267977689Z",
     "start_time": "2024-01-03T08:53:51.255994704Z"
    }
   },
   "id": "736c40994d830cae"
  },
  {
   "cell_type": "code",
   "execution_count": 50,
   "outputs": [],
   "source": [
    "car_model = data.drop_duplicates(['CarAge', 'CarMake'], keep = 'last').sort_values('CarMake')"
   ],
   "metadata": {
    "collapsed": false,
    "ExecuteTime": {
     "end_time": "2024-01-03T08:53:51.968290787Z",
     "start_time": "2024-01-03T08:53:51.927697911Z"
    }
   },
   "id": "8f81dc2ba733bf51"
  },
  {
   "cell_type": "code",
   "execution_count": 51,
   "outputs": [
    {
     "name": "stderr",
     "output_type": "stream",
     "text": [
      "/tmp/ipykernel_4244/1317050974.py:1: FutureWarning: Indexing with multiple keys (implicitly converted to a tuple of keys) will be deprecated, use a list instead.\n",
      "  car_model.groupby(target_variable)[('CarAge', 'CarMake')].agg(list)\n"
     ]
    },
    {
     "data": {
      "text/plain": "                CarAge   CarMake\nGENERALI_price                  \n85443.0            [7]      [58]\n86979.0            [7]      [30]\n91675.0            [8]      [19]\n96460.0         [4, 5]  [29, 29]\n101907.0           [7]      [45]\n...                ...       ...\n2066529.0       [2, 3]  [45, 45]\n2562293.0          [8]      [18]\n3359839.0          [3]      [18]\n3497493.0          [6]      [18]\n3551533.0          [2]      [18]\n\n[174 rows x 2 columns]",
      "text/html": "<div>\n<style scoped>\n    .dataframe tbody tr th:only-of-type {\n        vertical-align: middle;\n    }\n\n    .dataframe tbody tr th {\n        vertical-align: top;\n    }\n\n    .dataframe thead th {\n        text-align: right;\n    }\n</style>\n<table border=\"1\" class=\"dataframe\">\n  <thead>\n    <tr style=\"text-align: right;\">\n      <th></th>\n      <th>CarAge</th>\n      <th>CarMake</th>\n    </tr>\n    <tr>\n      <th>GENERALI_price</th>\n      <th></th>\n      <th></th>\n    </tr>\n  </thead>\n  <tbody>\n    <tr>\n      <th>85443.0</th>\n      <td>[7]</td>\n      <td>[58]</td>\n    </tr>\n    <tr>\n      <th>86979.0</th>\n      <td>[7]</td>\n      <td>[30]</td>\n    </tr>\n    <tr>\n      <th>91675.0</th>\n      <td>[8]</td>\n      <td>[19]</td>\n    </tr>\n    <tr>\n      <th>96460.0</th>\n      <td>[4, 5]</td>\n      <td>[29, 29]</td>\n    </tr>\n    <tr>\n      <th>101907.0</th>\n      <td>[7]</td>\n      <td>[45]</td>\n    </tr>\n    <tr>\n      <th>...</th>\n      <td>...</td>\n      <td>...</td>\n    </tr>\n    <tr>\n      <th>2066529.0</th>\n      <td>[2, 3]</td>\n      <td>[45, 45]</td>\n    </tr>\n    <tr>\n      <th>2562293.0</th>\n      <td>[8]</td>\n      <td>[18]</td>\n    </tr>\n    <tr>\n      <th>3359839.0</th>\n      <td>[3]</td>\n      <td>[18]</td>\n    </tr>\n    <tr>\n      <th>3497493.0</th>\n      <td>[6]</td>\n      <td>[18]</td>\n    </tr>\n    <tr>\n      <th>3551533.0</th>\n      <td>[2]</td>\n      <td>[18]</td>\n    </tr>\n  </tbody>\n</table>\n<p>174 rows × 2 columns</p>\n</div>"
     },
     "execution_count": 51,
     "metadata": {},
     "output_type": "execute_result"
    }
   ],
   "source": [
    "car_model.groupby(target_variable)[('CarAge', 'CarMake')].agg(list)"
   ],
   "metadata": {
    "collapsed": false,
    "ExecuteTime": {
     "end_time": "2024-01-03T08:53:52.785043949Z",
     "start_time": "2024-01-03T08:53:52.766825659Z"
    }
   },
   "id": "f3ee8556351c6eef"
  },
  {
   "cell_type": "code",
   "execution_count": 52,
   "outputs": [],
   "source": [
    "postal_code = data.drop_duplicates(['PostalCode'], keep = 'last')[['PostalCode', target_variable]].sort_values('PostalCode')"
   ],
   "metadata": {
    "collapsed": false,
    "ExecuteTime": {
     "end_time": "2024-01-03T08:53:55.563981900Z",
     "start_time": "2024-01-03T08:53:55.559438484Z"
    }
   },
   "id": "23e7ff4b61d0f41f"
  },
  {
   "cell_type": "code",
   "execution_count": 53,
   "outputs": [
    {
     "data": {
      "text/plain": "GENERALI_price\n246081.0    [2060, 2400, 3000, 3580, 6771, 7030, 7100, 715...\n258700.0    [2660, 2700, 3521, 3526, 3527, 3529, 3600, 395...\n268165.0    [2440, 2800, 3300, 3700, 3980, 4200, 4244, 770...\n283939.0    [2840, 3533, 3770, 4002, 5400, 5430, 5540, 600...\n299714.0    [2500, 2510, 2740, 2750, 2760, 2890, 3100, 403...\n315488.0           [2117, 2120, 2200, 2225, 2230, 2721, 2730]\n331262.0    [2030, 2040, 2045, 2119, 2143, 2151, 2220, 233...\n340727.0    [1033, 1046, 1048, 1103, 1106, 1108, 1141, 114...\n347037.0    [2013, 2051, 2083, 2092, 2100, 2112, 2131, 230...\n362811.0    [1025, 1031, 1037, 1044, 1045, 1087, 1097, 110...\n378586.0    [1026, 1062, 1089, 1118, 1121, 1124, 1125, 114...\n410134.0                             [1028, 1038, 1039, 1135]\n436830.0                                               [1011]\nName: PostalCode, dtype: object"
     },
     "execution_count": 53,
     "metadata": {},
     "output_type": "execute_result"
    }
   ],
   "source": [
    "postal_code.groupby(target_variable)['PostalCode'].agg(list)"
   ],
   "metadata": {
    "collapsed": false,
    "ExecuteTime": {
     "end_time": "2024-01-03T08:53:56.419270666Z",
     "start_time": "2024-01-03T08:53:56.412722688Z"
    }
   },
   "id": "1656ce1ed940d7e1"
  },
  {
   "cell_type": "code",
   "execution_count": null,
   "outputs": [],
   "source": [],
   "metadata": {
    "collapsed": false
   },
   "id": "e79f4704b195f736"
  }
 ],
 "metadata": {
  "kernelspec": {
   "display_name": "Python 3",
   "language": "python",
   "name": "python3"
  },
  "language_info": {
   "codemirror_mode": {
    "name": "ipython",
    "version": 2
   },
   "file_extension": ".py",
   "mimetype": "text/x-python",
   "name": "python",
   "nbconvert_exporter": "python",
   "pygments_lexer": "ipython2",
   "version": "2.7.6"
  }
 },
 "nbformat": 4,
 "nbformat_minor": 5
}
